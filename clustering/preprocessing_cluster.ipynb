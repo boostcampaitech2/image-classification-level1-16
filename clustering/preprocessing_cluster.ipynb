{
 "cells": [
  {
   "cell_type": "code",
   "execution_count": 2,
   "id": "f0919131-f486-42c7-b9f1-d057a47b976e",
   "metadata": {},
   "outputs": [],
   "source": [
    "import os\n",
    "import pandas as pd\n",
    "import numpy as np\n",
    "from torch.utils.data import Dataset"
   ]
  },
  {
   "cell_type": "code",
   "execution_count": 3,
   "id": "cc305a77-9ab7-4f07-965c-c22e9e50e13c",
   "metadata": {},
   "outputs": [],
   "source": [
    "train_data_path = '/opt/ml/code/df/train/df_train_20.csv'\n",
    "valid_data_path = '/opt/ml/code/df/valid/df_valid_20.csv'\n",
    "df_train = pd.read_csv(train_data_path)\n",
    "df_valid = pd.read_csv(valid_data_path)"
   ]
  },
  {
   "cell_type": "code",
   "execution_count": 28,
   "id": "327ee2f0-453e-4ab4-b7cc-e613c3d05058",
   "metadata": {},
   "outputs": [],
   "source": [
    "def expand_mask(df):\n",
    "\n",
    "    masks = ['normal', 'incorrect', 'mask1', 'mask2', 'mask3', 'mask4', 'mask5']\n",
    "    d = {f:[] for f in masks}\n",
    "    for _, row in df.iterrows():\n",
    "        files = os.listdir(os.path.join('/opt/ml/input/data/train/images', row.path))\n",
    "        for field in d:\n",
    "            for file in files:\n",
    "                if file.startswith(field):\n",
    "                    d[field].append(os.path.join('/opt/ml/input/data/train/images', row.path, file))\n",
    "                    break\n",
    "            else:\n",
    "                raise FileNotFoundError\n",
    "    for f in d:\n",
    "        df[f] = d[f]\n",
    "    \n",
    "    return df"
   ]
  },
  {
   "cell_type": "code",
   "execution_count": 4,
   "id": "d6dc959e-295d-4a2a-80c7-e2ab97d6fd2c",
   "metadata": {},
   "outputs": [],
   "source": [
    "def generate_mask_field(df):\n",
    "    \n",
    "    def _get_extension(row):\n",
    "        for f in os.listdir(os.path.join('/opt/ml/input/data/train/images', row.path)):\n",
    "            if f.startswith(row['mask']):\n",
    "                return os.path.join('/opt/ml/input/data/train/images', row.path, f)\n",
    "        raise FileNotFoundError\n",
    "\n",
    "    mask_map = {'incorrect_mask': 1, 'mask1': 0, 'mask2': 0, 'mask3': 0,\n",
    "                'mask4': 0, 'mask5': 0, 'normal': 2}   \n",
    "\n",
    "    df['gender'] = df['gender'].map({'male':0, 'female':1})\n",
    "    df['id'] = list(range(len(df)))\n",
    "    df['mask'] = [['incorrect_mask', 'mask1', 'mask2', 'mask3', 'mask4', 'mask5', 'normal'] for _ in range(len(df))]\n",
    "                    \n",
    "    df = df.explode('mask')\n",
    "    df['path'] = df.apply(_get_extension, axis=1)\n",
    "    df['mask'] = df['mask'].map(mask_map)\n",
    "\n",
    "    return df"
   ]
  },
  {
   "cell_type": "code",
   "execution_count": 5,
   "id": "1af71df0-8349-4b3f-b3a5-58530eeaaa81",
   "metadata": {},
   "outputs": [],
   "source": [
    "df_key = generate_mask_field(df_train)"
   ]
  },
  {
   "cell_type": "code",
   "execution_count": 7,
   "id": "350b2f13-82ee-43a3-ad9b-5494430aaad8",
   "metadata": {},
   "outputs": [],
   "source": [
    "df_key.to_csv('../df/df_key_cluster.csv', index=False)"
   ]
  },
  {
   "cell_type": "code",
   "execution_count": 30,
   "id": "148ed704-197b-4fcf-83f7-2dfab165ac69",
   "metadata": {},
   "outputs": [],
   "source": [
    "df_train = expand_mask(df_train)"
   ]
  },
  {
   "cell_type": "code",
   "execution_count": 31,
   "id": "568b26a9-4448-43be-ab19-8ebfb0069146",
   "metadata": {},
   "outputs": [],
   "source": [
    "df_valid = generate_mask_field(df_valid)"
   ]
  },
  {
   "cell_type": "code",
   "execution_count": 32,
   "id": "10324e70-96fb-41ac-93f7-7bf6a9cdef99",
   "metadata": {},
   "outputs": [],
   "source": [
    "df_train.to_csv('../df/df_train_cluster.csv', index=False)\n",
    "df_valid.to_csv('../df/df_valid_cluster.csv', index=False)"
   ]
  }
 ],
 "metadata": {
  "kernelspec": {
   "display_name": "pytorch",
   "language": "python",
   "name": "pytorch"
  },
  "language_info": {
   "codemirror_mode": {
    "name": "ipython",
    "version": 3
   },
   "file_extension": ".py",
   "mimetype": "text/x-python",
   "name": "python",
   "nbconvert_exporter": "python",
   "pygments_lexer": "ipython3",
   "version": "3.9.6"
  }
 },
 "nbformat": 4,
 "nbformat_minor": 5
}

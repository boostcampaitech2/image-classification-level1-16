{
 "cells": [
  {
   "cell_type": "code",
   "execution_count": 1,
   "id": "7996b754-3951-46d9-ac17-2288a59718d3",
   "metadata": {},
   "outputs": [],
   "source": [
    "import sys\n",
    "sys.path.append('/opt/ml/code')\n",
    "\n",
    "import random\n",
    "\n",
    "import numpy as np\n",
    "import pandas as pd\n",
    "import matplotlib.pyplot as plt\n",
    "\n",
    "from my_modules.transform import get_transform\n",
    "from my_modules.dataset import TrainDataset, EvalDataset\n",
    "from my_modules.trainer import Trainer\n",
    "from my_modules.loss import LabelSmoothing\n",
    "\n",
    "import torch\n",
    "import torch.nn as nn\n",
    "import torch.optim as optim\n",
    "from torch.utils.data import DataLoader\n",
    "from torchvision import models\n",
    "\n",
    "from efficientnet_pytorch import EfficientNet"
   ]
  },
  {
   "cell_type": "code",
   "execution_count": 2,
   "id": "4530c32d-f8a3-492c-bf37-9b1da4b70778",
   "metadata": {},
   "outputs": [],
   "source": [
    "## seeds\n",
    "\n",
    "random_seed = 42\n",
    "\n",
    "torch.manual_seed(random_seed)\n",
    "torch.backends.cudnn.deterministic = True\n",
    "torch.backends.cudnn.benchmark = False\n",
    "np.random.seed(random_seed)\n",
    "random.seed(random_seed)"
   ]
  },
  {
   "cell_type": "code",
   "execution_count": 3,
   "id": "dc4ce54d-ecc0-460a-b6b1-3b8107507726",
   "metadata": {},
   "outputs": [],
   "source": [
    "## hyperparameters\n",
    "\n",
    "model_name = 'efficientnet-b0' #'tf_efficientnetv2_b3' # 'efficientnet-b0'\n",
    "device = 'cuda'\n",
    "batch_size = 64\n",
    "target = 'age'\n",
    "fold = 3\n",
    "\n",
    "df_train_path = f'df/fold/df_train_fold2_{fold}.csv'\n",
    "df_valid_path = f'df/fold/df_valid_fold2_{fold}.csv'\n",
    "df_test_path = '/opt/ml/input/data/eval/info.csv'\n",
    "\n",
    "df_train = pd.read_csv(df_train_path)\n",
    "df_valid = pd.read_csv(df_valid_path)\n",
    "df_test = pd.read_csv(df_test_path)"
   ]
  },
  {
   "cell_type": "code",
   "execution_count": null,
   "id": "332da5ee-f218-417c-b255-0ced378ede10",
   "metadata": {},
   "outputs": [],
   "source": [
    "bins = [0, 29, 58, 100]\n",
    "labels = [0, 1, 2]\n",
    "df_valid['age'] = pd.cut(df_valid['age_real'], bins=bins, labels=labels)"
   ]
  },
  {
   "cell_type": "code",
   "execution_count": 4,
   "id": "5f1dde66-20b4-4919-8664-cb492e36ff9e",
   "metadata": {},
   "outputs": [
    {
     "name": "stdout",
     "output_type": "stream",
     "text": [
      "224\n"
     ]
    }
   ],
   "source": [
    "input_size = EfficientNet.get_image_size(model_name)\n",
    "print(input_size)"
   ]
  },
  {
   "cell_type": "code",
   "execution_count": 5,
   "id": "f9030df0-9fcd-4d12-8306-4b828952a56b",
   "metadata": {},
   "outputs": [],
   "source": [
    "## transform\n",
    "\n",
    "transform_valid = get_transform(augment=False, crop=350, resize=input_size, cutout=None)"
   ]
  },
  {
   "cell_type": "code",
   "execution_count": 6,
   "id": "5fdc9923-a57c-4eb5-8f20-493ccea36164",
   "metadata": {},
   "outputs": [],
   "source": [
    "## prepare dataset\n",
    "\n",
    "#v#alid_dataset = TrainDataset(df=df_test, transform=transform_valid, target=target)\n",
    "valid_dataset = EvalDataset(df=df_test, transform=transform_valid)"
   ]
  },
  {
   "cell_type": "code",
   "execution_count": 7,
   "id": "d31b51ae-c253-478d-a2a1-2c673a6ad4fe",
   "metadata": {},
   "outputs": [],
   "source": [
    "## prepare dataloader\n",
    "\n",
    "dataloader = DataLoader(valid_dataset, batch_size=batch_size, num_workers=3, drop_last=False, shuffle=False)"
   ]
  },
  {
   "cell_type": "code",
   "execution_count": 8,
   "id": "f6d52762-416a-414b-b9df-65b1c55d84a9",
   "metadata": {},
   "outputs": [
    {
     "name": "stdout",
     "output_type": "stream",
     "text": [
      "Loaded pretrained weights for efficientnet-b0\n",
      "efficientnet-b0 ready\n"
     ]
    }
   ],
   "source": [
    "## prepare model\n",
    "\n",
    "if model_name.startswith('efficientnet'):\n",
    "    model = EfficientNet.from_pretrained(model_name, num_classes=2 if target=='gender' else 3)\n",
    "elif model_name.startswith('tf'):\n",
    "    import timm\n",
    "    model = timm.create_model('tf_efficientnetv2_b3', pretrained=True, num_classes=2 if target=='gender' else 3)\n",
    "else:\n",
    "    model = models.resnet18(pretrained=True)\n",
    "    model.fc = nn.Linear(model.fc.in_features, len(train_dataset.classes))\n",
    "    \n",
    "model.to(device)\n",
    "print(model_name, 'ready')"
   ]
  },
  {
   "cell_type": "code",
   "execution_count": null,
   "id": "56ec6b85-d8be-4b23-91a4-9db6abdeef08",
   "metadata": {},
   "outputs": [],
   "source": [
    "# check input train batch\n",
    "\n",
    "from my_modules.utils import imshow\n",
    "batch = next(iter(dataloader))\n",
    "imshow(batch[0])\n",
    "print(batch[1])"
   ]
  },
  {
   "cell_type": "markdown",
   "id": "a295c4fc-4288-4144-93e9-21e291038455",
   "metadata": {},
   "source": [
    "## Test"
   ]
  },
  {
   "cell_type": "code",
   "execution_count": null,
   "id": "eaf284b6-4a53-4583-a28c-3b75a0acfd19",
   "metadata": {},
   "outputs": [],
   "source": [
    "model.load_state_dict(torch.load(f'/opt/ml/code/save/gender_pseudo/fold3.pt'))\n",
    "model.eval()\n",
    "print('ready')"
   ]
  },
  {
   "cell_type": "code",
   "execution_count": null,
   "id": "fb5030a4-82cb-404a-9db1-69db51493035",
   "metadata": {},
   "outputs": [],
   "source": [
    "from sklearn.metrics import plot_confusion_matrix\n",
    "from sklearn.metrics import confusion_matrix\n",
    "from sklearn.metrics import f1_score, accuracy_score\n",
    "from tqdm import tqdm\n",
    "\n",
    "model.eval()\n",
    "y_true = []\n",
    "y_pred = []\n",
    "wrong = []\n",
    "cnt = 0\n",
    "\n",
    "for inputs, labels in tqdm(dataloader):\n",
    "    inputs = inputs.to(device)\n",
    "    labels = labels.to(device)\n",
    "\n",
    "    with torch.no_grad():\n",
    "        outputs = model(inputs)\n",
    "        _, preds = torch.max(outputs, 1)\n",
    "        y_true.extend(labels.tolist())\n",
    "        y_pred.extend(preds.tolist())\n",
    "        \n",
    "        for p, t, inp in zip(preds, labels, inputs):\n",
    "            if p.item() != t.item():\n",
    "                wrong.append((inp.cpu().numpy(), p.item(), t.item(), cnt))\n",
    "            cnt += 1\n",
    "\n",
    "mtx = confusion_matrix(y_true, y_pred)\n",
    "print(mtx)\n",
    "\n",
    "acc = accuracy_score(y_true, y_pred)\n",
    "f1 = f1_score(y_true, y_pred, average='macro')\n",
    "print(f'acc:{acc:.4f}, f1:{f1:.4f}')"
   ]
  },
  {
   "cell_type": "code",
   "execution_count": null,
   "id": "ca672df0-c82b-4a07-913f-74801dfb292e",
   "metadata": {},
   "outputs": [],
   "source": [
    "import pickle\n",
    "\n",
    "d = {'y_true':y_true, 'y_pred':y_pred}\n",
    "\n",
    "with open('pkl/result.pkl', 'wb') as f:\n",
    "    pickle.dump(d, f)"
   ]
  },
  {
   "cell_type": "code",
   "execution_count": null,
   "id": "1c54fc1a-7e17-4b8f-b089-f596baa71718",
   "metadata": {},
   "outputs": [],
   "source": [
    "label_ = list(range(2 if target=='gender' else 3))\n",
    "\n",
    "fig, ax = plt.subplots(figsize=(4,4))\n",
    "im = ax.imshow(mtx, cmap='Blues', vmax=100, vmin=-20)\n",
    "\n",
    "ax.set_xticks(np.arange(len(label_)))\n",
    "ax.set_yticks(np.arange(len(label_)))\n",
    "# ... and label them with the respective list entries\n",
    "ax.set_xticklabels(label_)\n",
    "ax.set_yticklabels(label_)\n",
    "\n",
    "# Rotate the tick labels and set their alignment.\n",
    "plt.setp(ax.get_xticklabels(), rotation=45, ha=\"right\",\n",
    "         rotation_mode=\"anchor\")\n",
    "\n",
    "# Loop over data dimensions and create text annotations.\n",
    "for i in range(len(label_)):\n",
    "    for j in range(len(label_)):\n",
    "        if mtx[i, j]:\n",
    "            text = ax.text(j, i, mtx[i, j],\n",
    "                           ha=\"center\", va=\"center\", color=\"w\", size=10)\n",
    "ax.set_xlabel('Prediction')\n",
    "ax.set_ylabel('True Label')\n",
    "ax.set_title(\"Confusion mtx\")\n",
    "fig.tight_layout()\n",
    "plt.show()"
   ]
  },
  {
   "cell_type": "code",
   "execution_count": null,
   "id": "e029d90d-cb67-4e77-9484-091c7e35a3c1",
   "metadata": {},
   "outputs": [],
   "source": [
    "label_d = {\n",
    "    'age' : ['< 30', '30~59', ' 60 <='],\n",
    "    'gender' : ['Male','Female'],\n",
    "    'mask' : ['Mask', 'Incorrect', 'Normal']\n",
    "}\n",
    "\n",
    "iterator = iter(wrong)\n",
    "\n",
    "label = label_d[target]\n",
    "mean = np.array([0.485, 0.456, 0.406])\n",
    "std = np.array([0.229, 0.224, 0.225])"
   ]
  },
  {
   "cell_type": "code",
   "execution_count": null,
   "id": "f075c3d9-0b2c-4b47-87c7-fe9ae73ed049",
   "metadata": {},
   "outputs": [],
   "source": [
    "fig, axes = plt.subplots(2, 2, figsize=(8,8))\n",
    "for ax in axes.flatten():\n",
    "    try:\n",
    "        img, p, t, idx = next(iterator)\n",
    "    except:\n",
    "        continue\n",
    "    img = img.transpose((1, 2, 0))\n",
    "    img = std * img + mean\n",
    "    img = np.clip(img, 0, 1)\n",
    "    ax.imshow(img)\n",
    "    ax.axis('off')\n",
    "    ax.set_title(f'{idx}\\nt : {label[t]}\\np : {label[p]}')\n",
    "plt.show()"
   ]
  },
  {
   "cell_type": "code",
   "execution_count": null,
   "id": "311a45a8-5175-4fb8-81bf-b16a92004dbd",
   "metadata": {},
   "outputs": [],
   "source": [
    "df_valid.iloc[538]"
   ]
  },
  {
   "cell_type": "code",
   "execution_count": null,
   "id": "d79fd6e8-4e95-4d2a-99d9-3eee07d50333",
   "metadata": {},
   "outputs": [],
   "source": [
    "model.load_state_dict(torch.load(f'/opt/ml/code/save/age_labeled/epoch_011.pt'))\n",
    "model.eval()\n",
    "print('ready')"
   ]
  },
  {
   "cell_type": "code",
   "execution_count": 30,
   "id": "5942b0ae-09ab-4fe4-8357-632df380c176",
   "metadata": {},
   "outputs": [
    {
     "name": "stdout",
     "output_type": "stream",
     "text": [
      "starting fold3...\n"
     ]
    },
    {
     "name": "stderr",
     "output_type": "stream",
     "text": [
      "100%|██████████| 197/197 [00:24<00:00,  7.98it/s]"
     ]
    },
    {
     "name": "stdout",
     "output_type": "stream",
     "text": [
      "finished fold3!\n"
     ]
    },
    {
     "name": "stderr",
     "output_type": "stream",
     "text": [
      "\n"
     ]
    }
   ],
   "source": [
    "import torch.nn.functional as F\n",
    "from tqdm import tqdm\n",
    "\n",
    "model.eval()\n",
    "\n",
    "with torch.no_grad():\n",
    "\n",
    "    probs = []\n",
    "    preds = []\n",
    "\n",
    "    model.load_state_dict(torch.load('/opt/ml/code/save/final/epoch_005.pt'))\n",
    "    print(f'starting fold{fold}...')\n",
    "\n",
    "    for inputs in tqdm(dataloader):\n",
    "\n",
    "        inputs = inputs.to(device)\n",
    "        outputs = model(inputs)\n",
    "\n",
    "        _, pred = torch.max(outputs, 1)\n",
    "        prob = F.softmax(outputs, dim=-1)\n",
    "\n",
    "        preds.append(pred.cpu().numpy())\n",
    "        probs.append(prob.cpu().numpy())\n",
    "\n",
    "    print(f'finished fold{fold}!')\n",
    "    "
   ]
  },
  {
   "cell_type": "code",
   "execution_count": 31,
   "id": "ece1a987-3bd3-4184-acd9-07d53b05accc",
   "metadata": {},
   "outputs": [],
   "source": [
    "preds = np.concatenate(preds)"
   ]
  },
  {
   "cell_type": "code",
   "execution_count": 32,
   "id": "842b163d-8958-45d7-85c1-666b94e0b4e6",
   "metadata": {},
   "outputs": [
    {
     "data": {
      "text/plain": [
       "array([5372, 3333, 3895])"
      ]
     },
     "execution_count": 32,
     "metadata": {},
     "output_type": "execute_result"
    }
   ],
   "source": [
    "np.bincount(preds)"
   ]
  },
  {
   "cell_type": "code",
   "execution_count": 33,
   "id": "663b2aae-80b8-4c27-8131-51f7413bf81a",
   "metadata": {},
   "outputs": [],
   "source": [
    "import pickle\n",
    "with open(f'pkl/final5.pkl', 'wb') as f:\n",
    "    pickle.dump(preds, f)"
   ]
  },
  {
   "cell_type": "code",
   "execution_count": null,
   "id": "b694dcc8-0309-4bc6-8a0e-0d501ec919d0",
   "metadata": {},
   "outputs": [],
   "source": [
    "import pickle\n",
    "with open(f'pkl/gender_ensemble_soft.pkl', 'rb') as f:\n",
    "    original = pickle.load(f)"
   ]
  },
  {
   "cell_type": "code",
   "execution_count": null,
   "id": "3f163c7f-443a-4321-8761-8e26321b73b8",
   "metadata": {},
   "outputs": [],
   "source": [
    "df_pseudo = df_test.copy()\n",
    "df_pseudo['path'] = '/opt/ml/input/data/eval/images/' + df_pseudo['ImageID']\n",
    "df_pseudo['age'] = preds"
   ]
  },
  {
   "cell_type": "code",
   "execution_count": null,
   "id": "ee471f58-3777-46bf-ba6e-5bfe9558a61a",
   "metadata": {},
   "outputs": [],
   "source": [
    "df_pseudo = df_pseudo.iloc[disagree].copy()"
   ]
  },
  {
   "cell_type": "code",
   "execution_count": null,
   "id": "4f6e6436-70d5-4e45-a045-24c053767551",
   "metadata": {},
   "outputs": [],
   "source": [
    "df_pseudo.age.value_counts()"
   ]
  },
  {
   "cell_type": "code",
   "execution_count": null,
   "id": "e71a099a-2177-4d38-86be-335d6d955aab",
   "metadata": {},
   "outputs": [],
   "source": [
    "from PIL import Image\n",
    "import os"
   ]
  },
  {
   "cell_type": "code",
   "execution_count": null,
   "id": "476e019b-58fc-46b2-bb6b-b75457f7552c",
   "metadata": {},
   "outputs": [],
   "source": [
    "import pickle\n",
    "with open(f'pkl/ensembled_age5.pkl', 'rb') as f:\n",
    "    best = pickle.load(f)\n",
    "\n",
    "jh = pd.read_csv('/opt/ml/code/agesample2(0.00006).csv').ans\n",
    "    "
   ]
  },
  {
   "cell_type": "code",
   "execution_count": null,
   "id": "04e620c6-0179-4ee9-b7da-865f45accfd4",
   "metadata": {},
   "outputs": [],
   "source": [
    "disagree = []\n",
    "\n",
    "for i in range(len(df_test)):\n",
    "    if best[i] != jh[i]:\n",
    "        disagree.append(i)"
   ]
  },
  {
   "cell_type": "code",
   "execution_count": null,
   "id": "f3e8e715-1269-4d02-8344-accc47e0f7d8",
   "metadata": {},
   "outputs": [],
   "source": [
    "i = -1\n",
    "gender=['young', 'middle', 'old']"
   ]
  },
  {
   "cell_type": "code",
   "execution_count": null,
   "id": "c52c6b3e-b0e4-480c-94cd-bc41d4b60ca9",
   "metadata": {},
   "outputs": [],
   "source": [
    "i += 1\n",
    "idx = disagree[i]\n",
    "print(f'{i+1}/{len(disagree)}  original : {gender[best[idx]]}, jk : {gender[jh[idx]]}')\n",
    "img = Image.open(os.path.join('/opt/ml/input/data/eval/images', df_test.iloc[idx]['ImageID']))\n",
    "img"
   ]
  },
  {
   "cell_type": "code",
   "execution_count": null,
   "id": "9fcd993d-a051-4177-9167-4524d880ede4",
   "metadata": {},
   "outputs": [],
   "source": []
  }
 ],
 "metadata": {
  "kernelspec": {
   "display_name": "pytorch",
   "language": "python",
   "name": "pytorch"
  },
  "language_info": {
   "codemirror_mode": {
    "name": "ipython",
    "version": 3
   },
   "file_extension": ".py",
   "mimetype": "text/x-python",
   "name": "python",
   "nbconvert_exporter": "python",
   "pygments_lexer": "ipython3",
   "version": "3.9.6"
  }
 },
 "nbformat": 4,
 "nbformat_minor": 5
}

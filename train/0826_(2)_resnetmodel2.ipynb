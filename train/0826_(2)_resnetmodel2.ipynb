{
 "cells": [
  {
   "cell_type": "markdown",
   "id": "about-heavy",
   "metadata": {},
   "source": [
    "## 0. Libarary 불러오기 및 경로설정"
   ]
  },
  {
   "cell_type": "code",
   "execution_count": 6,
   "id": "cubic-scoop",
   "metadata": {},
   "outputs": [],
   "source": [
    "import os\n",
    "import pandas as pd\n",
    "from PIL import Image\n",
    "import numpy as np\n",
    "\n",
    "import torch\n",
    "import torch.nn as nn\n",
    "import torch.nn.functional as F\n",
    "from torch.utils.data import Dataset, DataLoader\n",
    "import torch.optim as optim\n",
    "\n",
    "from torchvision import models\n",
    "from torchvision import transforms\n",
    "from torchvision.transforms import Resize, ToTensor, Normalize, CenterCrop"
   ]
  },
  {
   "cell_type": "code",
   "execution_count": 7,
   "id": "built-elevation",
   "metadata": {},
   "outputs": [],
   "source": [
    "train_dir = '/opt/ml/input/data/train'"
   ]
  },
  {
   "cell_type": "markdown",
   "id": "domestic-channels",
   "metadata": {},
   "source": [
    "## 2. Train Dataset 정의"
   ]
  },
  {
   "cell_type": "code",
   "execution_count": 8,
   "id": "extensive-north",
   "metadata": {},
   "outputs": [],
   "source": [
    "class TrainDataset(Dataset):\n",
    "    def __init__(self,img_paths,labels,trans_dict,val=False):\n",
    "        self.img_paths = img_paths\n",
    "        self.labels = labels\n",
    "        self.trans_dict = trans_dict\n",
    "        self.val = val\n",
    "        \n",
    "    def __getitem__(self,index):\n",
    "        image = Image.open(self.img_paths[index])\n",
    "        label = self.labels[index]\n",
    "        if self.trans_dict:\n",
    "            if self.val:\n",
    "                image = self.trans_dict['val'](image)\n",
    "            elif label in [0,1,3,4]:\n",
    "                image = self.trans_dict['train1'](image)\n",
    "            else:\n",
    "                image = self.trans_dict['train2'](image)\n",
    "        \n",
    "        return image,label\n",
    "\n",
    "    def __len__(self):\n",
    "        return len(self.img_paths)"
   ]
  },
  {
   "cell_type": "markdown",
   "id": "2d3523a8-fd54-4e27-a35c-429222c5bdf9",
   "metadata": {},
   "source": [
    "sample 이미지 살펴보고 transform 결정"
   ]
  },
  {
   "cell_type": "code",
   "execution_count": 9,
   "id": "c3042739-b200-4095-a362-5f0f785ead8b",
   "metadata": {},
   "outputs": [],
   "source": [
    "#hyperparam 정의\n",
    "num_epoch = 15\n",
    "num_classes = 18\n",
    "batch_size = 64\n",
    "val_split = 0.2\n",
    "random_seed= 48\n",
    "shuffle_dataset = True"
   ]
  },
  {
   "cell_type": "code",
   "execution_count": 10,
   "id": "2291b2c0-c1bc-4636-90b3-ef49038d4ea7",
   "metadata": {},
   "outputs": [],
   "source": [
    "#hyperparam 정의\n",
    "num_epoch = 15\n",
    "num_classes = 18\n",
    "batch_size = 16\n",
    "val_split = 0.2\n",
    "random_seed= 48\n",
    "shuffle_dataset = True"
   ]
  },
  {
   "cell_type": "code",
   "execution_count": 11,
   "id": "coral-shade",
   "metadata": {},
   "outputs": [
    {
     "name": "stdout",
     "output_type": "stream",
     "text": [
      "15120 3780 18900\n"
     ]
    }
   ],
   "source": [
    "# meta 데이터와 이미지 경로를 불러옵니다.\n",
    "train_info = pd.read_csv(os.path.join(train_dir, 'train3.csv'))\n",
    "image_paths = train_info['path']\n",
    "labels = train_info['category']\n",
    "\n",
    "#transform 정의\n",
    "data_transform = {\n",
    "    'train1': transforms.Compose([\n",
    "                CenterCrop(300),  \n",
    "                Resize((224, 224)),\n",
    "                transforms.RandomHorizontalFlip(p=0.5),\n",
    "                ToTensor(),\n",
    "                Normalize(mean=(0.5, 0.5, 0.5), std=(0.2, 0.2, 0.2)),\n",
    "            ]),\n",
    "    'train2': transforms.Compose([\n",
    "                    CenterCrop(300),  \n",
    "                    Resize((224, 224)),\n",
    "                    transforms.RandomHorizontalFlip(p=0.5),\n",
    "                    transforms.RandomApply(transforms=[transforms.ColorJitter(brightness=0.5)],p=0.5),\n",
    "                    #transforms.RandomApply(transforms=[transforms.Pad(padding=5, fill=0, padding_mode='constant')],p=0.5),\n",
    "                    transforms.RandomApply(transforms=[transforms.RandomPerspective(distortion_scale=0.2, p=0.5)],p=0.5),\n",
    "                    ToTensor(),\n",
    "                    Normalize(mean=(0.5, 0.5, 0.5), std=(0.2, 0.2, 0.2))\n",
    "                ]),\n",
    "    'val': transforms.Compose([\n",
    "                Resize((224, 224), Image.BILINEAR),\n",
    "                ToTensor(),\n",
    "                Normalize(mean=(0.5, 0.5, 0.5), std=(0.2, 0.2, 0.2)),\n",
    "            ])\n",
    "}\n",
    "\n",
    "#train val split\n",
    "dataset_size = len(labels)\n",
    "indices = list(range(dataset_size))\n",
    "split = int(np.floor(val_split * dataset_size))\n",
    "if shuffle_dataset :\n",
    "    np.random.seed(random_seed)\n",
    "    np.random.shuffle(indices)\n",
    "train_indices, val_indices = indices[split:], indices[:split]\n",
    "\n",
    "train_dataset = TrainDataset(list(image_paths[train_indices]),list(labels[train_indices]),data_transform)\n",
    "val_dataset = TrainDataset(list(image_paths[val_indices]),list(labels[val_indices]),data_transform,val=True)\n",
    "\n",
    "train_dataloader = DataLoader(\n",
    "    train_dataset,\n",
    "    batch_size=batch_size,\n",
    "    shuffle=False,\n",
    "    drop_last=True\n",
    ")\n",
    "val_dataloader = DataLoader(\n",
    "    val_dataset,\n",
    "    batch_size=4,\n",
    "    shuffle=False,\n",
    "    drop_last=True\n",
    ")\n",
    "print(len(train_dataset),len(val_dataset),dataset_size)"
   ]
  },
  {
   "cell_type": "markdown",
   "id": "32ff532e-c680-4aee-9301-28425805f5de",
   "metadata": {},
   "source": [
    "## 4. Model 정의"
   ]
  },
  {
   "cell_type": "code",
   "execution_count": 12,
   "id": "8d543439-c9df-4957-8244-4c6268caf593",
   "metadata": {},
   "outputs": [],
   "source": [
    "from custom_models import ResnetModel2 as MyModel"
   ]
  },
  {
   "cell_type": "markdown",
   "id": "5f3b009e-dfcd-4087-9af9-66aba10397e9",
   "metadata": {},
   "source": [
    "## 5. Train"
   ]
  },
  {
   "cell_type": "code",
   "execution_count": 14,
   "id": "d6c840ac-d036-4633-9ccb-efe94f5ccd49",
   "metadata": {},
   "outputs": [
    {
     "name": "stderr",
     "output_type": "stream",
     "text": [
      "  0%|          | 0/15 [00:00<?, ?it/s]"
     ]
    },
    {
     "name": "stdout",
     "output_type": "stream",
     "text": [
      "[1,  100] train_loss: 2.284, train_acc:0.296, train_f1:4.213\n",
      "[1,  200] train_loss: 1.763, train_acc:0.467, train_f1:6.416\n",
      "[1,  300] train_loss: 1.509, train_acc:0.548, train_f1:7.650\n",
      "[1,  400] train_loss: 1.378, train_acc:0.585, train_f1:8.177\n",
      "[1,  500] train_loss: 1.250, train_acc:0.614, train_f1:8.318\n",
      "[1,  600] train_loss: 1.144, train_acc:0.649, train_f1:8.548\n",
      "[1,  700] train_loss: 1.144, train_acc:0.637, train_f1:8.568\n",
      "[1,  800] train_loss: 1.120, train_acc:0.646, train_f1:8.197\n",
      "[1,  900] train_loss: 1.015, train_acc:0.676, train_f1:8.326\n"
     ]
    },
    {
     "name": "stderr",
     "output_type": "stream",
     "text": [
      "  7%|▋         | 1/15 [05:46<1:20:44, 346.02s/it]"
     ]
    },
    {
     "name": "stdout",
     "output_type": "stream",
     "text": [
      "epoch [1] valid_loss: 0.993, valid_acc:0.683, valid_f1:7.321\n",
      "[2,  100] train_loss: 1.017, train_acc:0.667, train_f1:8.514\n",
      "[2,  200] train_loss: 0.923, train_acc:0.693, train_f1:8.548\n",
      "[2,  300] train_loss: 0.916, train_acc:0.699, train_f1:8.504\n",
      "[2,  400] train_loss: 0.946, train_acc:0.692, train_f1:8.465\n",
      "[2,  500] train_loss: 0.909, train_acc:0.712, train_f1:8.697\n",
      "[2,  600] train_loss: 0.895, train_acc:0.711, train_f1:8.745\n",
      "[2,  700] train_loss: 0.937, train_acc:0.685, train_f1:8.662\n",
      "[2,  800] train_loss: 0.878, train_acc:0.713, train_f1:8.394\n",
      "[2,  900] train_loss: 0.859, train_acc:0.716, train_f1:8.490\n"
     ]
    },
    {
     "name": "stderr",
     "output_type": "stream",
     "text": [
      " 13%|█▎        | 2/15 [10:53<1:12:27, 334.41s/it]"
     ]
    },
    {
     "name": "stdout",
     "output_type": "stream",
     "text": [
      "epoch [2] valid_loss: 0.842, valid_acc:0.716, valid_f1:7.470\n",
      "[3,  100] train_loss: 0.905, train_acc:0.712, train_f1:8.675\n",
      "[3,  200] train_loss: 0.824, train_acc:0.725, train_f1:8.574\n",
      "[3,  300] train_loss: 0.789, train_acc:0.741, train_f1:8.541\n",
      "[3,  400] train_loss: 0.884, train_acc:0.704, train_f1:8.526\n",
      "[3,  500] train_loss: 0.827, train_acc:0.726, train_f1:8.747\n",
      "[3,  600] train_loss: 0.827, train_acc:0.722, train_f1:8.811\n",
      "[3,  700] train_loss: 0.850, train_acc:0.703, train_f1:8.703\n",
      "[3,  800] train_loss: 0.867, train_acc:0.704, train_f1:8.356\n",
      "[3,  900] train_loss: 0.872, train_acc:0.705, train_f1:8.513\n"
     ]
    },
    {
     "name": "stderr",
     "output_type": "stream",
     "text": [
      " 20%|██        | 3/15 [16:08<1:05:42, 328.56s/it]"
     ]
    },
    {
     "name": "stdout",
     "output_type": "stream",
     "text": [
      "epoch [3] valid_loss: 0.790, valid_acc:0.731, valid_f1:7.512\n",
      "[4,  100] train_loss: 0.851, train_acc:0.716, train_f1:8.694\n",
      "[4,  200] train_loss: 0.755, train_acc:0.753, train_f1:8.691\n",
      "[4,  300] train_loss: 0.778, train_acc:0.734, train_f1:8.595\n",
      "[4,  400] train_loss: 0.820, train_acc:0.719, train_f1:8.536\n",
      "[4,  500] train_loss: 0.811, train_acc:0.724, train_f1:8.663\n",
      "[4,  600] train_loss: 0.786, train_acc:0.731, train_f1:8.849\n",
      "[4,  700] train_loss: 0.853, train_acc:0.709, train_f1:8.718\n",
      "[4,  800] train_loss: 0.839, train_acc:0.704, train_f1:8.349\n",
      "[4,  900] train_loss: 0.839, train_acc:0.721, train_f1:8.554\n"
     ]
    },
    {
     "name": "stderr",
     "output_type": "stream",
     "text": [
      " 27%|██▋       | 4/15 [21:40<1:00:26, 329.67s/it]"
     ]
    },
    {
     "name": "stdout",
     "output_type": "stream",
     "text": [
      "epoch [4] valid_loss: 0.789, valid_acc:0.730, valid_f1:7.420\n",
      "[5,  100] train_loss: 0.809, train_acc:0.726, train_f1:8.724\n",
      "[5,  200] train_loss: 0.760, train_acc:0.754, train_f1:8.650\n",
      "[5,  300] train_loss: 0.755, train_acc:0.744, train_f1:8.616\n",
      "[5,  400] train_loss: 0.794, train_acc:0.723, train_f1:8.605\n",
      "[5,  500] train_loss: 0.791, train_acc:0.748, train_f1:8.781\n",
      "[5,  600] train_loss: 0.790, train_acc:0.741, train_f1:8.803\n",
      "[5,  700] train_loss: 0.814, train_acc:0.717, train_f1:8.809\n",
      "[5,  800] train_loss: 0.817, train_acc:0.725, train_f1:8.355\n",
      "[5,  900] train_loss: 0.784, train_acc:0.734, train_f1:8.560\n"
     ]
    },
    {
     "name": "stderr",
     "output_type": "stream",
     "text": [
      " 33%|███▎      | 5/15 [26:43<53:35, 321.56s/it]  "
     ]
    },
    {
     "name": "stdout",
     "output_type": "stream",
     "text": [
      "epoch [5] valid_loss: 0.766, valid_acc:0.730, valid_f1:7.375\n",
      "[6,  100] train_loss: 0.776, train_acc:0.734, train_f1:8.773\n",
      "[6,  200] train_loss: 0.711, train_acc:0.756, train_f1:8.673\n",
      "[6,  300] train_loss: 0.745, train_acc:0.748, train_f1:8.658\n",
      "[6,  400] train_loss: 0.761, train_acc:0.739, train_f1:8.624\n",
      "[6,  500] train_loss: 0.732, train_acc:0.749, train_f1:8.743\n",
      "[6,  600] train_loss: 0.717, train_acc:0.759, train_f1:8.822\n",
      "[6,  700] train_loss: 0.793, train_acc:0.726, train_f1:8.784\n",
      "[6,  800] train_loss: 0.795, train_acc:0.724, train_f1:8.398\n",
      "[6,  900] train_loss: 0.740, train_acc:0.756, train_f1:8.649\n"
     ]
    },
    {
     "name": "stderr",
     "output_type": "stream",
     "text": [
      " 40%|████      | 6/15 [32:12<48:35, 323.96s/it]"
     ]
    },
    {
     "name": "stdout",
     "output_type": "stream",
     "text": [
      "epoch [6] valid_loss: 0.729, valid_acc:0.746, valid_f1:7.496\n",
      "[7,  100] train_loss: 0.807, train_acc:0.723, train_f1:8.733\n",
      "[7,  200] train_loss: 0.678, train_acc:0.767, train_f1:8.663\n",
      "[7,  300] train_loss: 0.763, train_acc:0.741, train_f1:8.573\n",
      "[7,  400] train_loss: 0.796, train_acc:0.730, train_f1:8.572\n",
      "[7,  500] train_loss: 0.753, train_acc:0.743, train_f1:8.776\n",
      "[7,  600] train_loss: 0.762, train_acc:0.736, train_f1:8.801\n",
      "[7,  700] train_loss: 0.772, train_acc:0.741, train_f1:8.774\n",
      "[7,  800] train_loss: 0.774, train_acc:0.736, train_f1:8.377\n",
      "[7,  900] train_loss: 0.742, train_acc:0.746, train_f1:8.582\n"
     ]
    },
    {
     "name": "stderr",
     "output_type": "stream",
     "text": [
      " 47%|████▋     | 7/15 [37:46<43:35, 326.94s/it]"
     ]
    },
    {
     "name": "stdout",
     "output_type": "stream",
     "text": [
      "epoch [7] valid_loss: 0.740, valid_acc:0.746, valid_f1:7.495\n",
      "[8,  100] train_loss: 0.780, train_acc:0.735, train_f1:8.719\n",
      "[8,  200] train_loss: 0.719, train_acc:0.749, train_f1:8.647\n",
      "[8,  300] train_loss: 0.739, train_acc:0.741, train_f1:8.585\n",
      "[8,  400] train_loss: 0.774, train_acc:0.732, train_f1:8.602\n",
      "[8,  500] train_loss: 0.738, train_acc:0.748, train_f1:8.762\n",
      "[8,  600] train_loss: 0.756, train_acc:0.752, train_f1:8.812\n",
      "[8,  700] train_loss: 0.751, train_acc:0.734, train_f1:8.769\n",
      "[8,  800] train_loss: 0.779, train_acc:0.724, train_f1:8.405\n",
      "[8,  900] train_loss: 0.721, train_acc:0.757, train_f1:8.615\n"
     ]
    },
    {
     "name": "stderr",
     "output_type": "stream",
     "text": [
      " 53%|█████▎    | 8/15 [40:32<32:29, 278.55s/it]"
     ]
    },
    {
     "name": "stdout",
     "output_type": "stream",
     "text": [
      "epoch [8] valid_loss: 0.733, valid_acc:0.749, valid_f1:7.519\n",
      "[9,  100] train_loss: 0.788, train_acc:0.731, train_f1:8.733\n",
      "[9,  200] train_loss: 0.680, train_acc:0.769, train_f1:8.707\n",
      "[9,  300] train_loss: 0.725, train_acc:0.743, train_f1:8.577\n",
      "[9,  400] train_loss: 0.748, train_acc:0.749, train_f1:8.626\n",
      "[9,  500] train_loss: 0.724, train_acc:0.752, train_f1:8.791\n",
      "[9,  600] train_loss: 0.737, train_acc:0.756, train_f1:8.900\n",
      "[9,  700] train_loss: 0.772, train_acc:0.746, train_f1:8.830\n",
      "[9,  800] train_loss: 0.774, train_acc:0.728, train_f1:8.371\n",
      "[9,  900] train_loss: 0.732, train_acc:0.746, train_f1:8.582\n"
     ]
    },
    {
     "name": "stderr",
     "output_type": "stream",
     "text": [
      " 60%|██████    | 9/15 [42:47<23:33, 235.64s/it]"
     ]
    },
    {
     "name": "stdout",
     "output_type": "stream",
     "text": [
      "epoch [9] valid_loss: 0.729, valid_acc:0.751, valid_f1:7.573\n",
      "[10,  100] train_loss: 0.753, train_acc:0.739, train_f1:8.776\n",
      "[10,  200] train_loss: 0.679, train_acc:0.778, train_f1:8.706\n",
      "[10,  300] train_loss: 0.700, train_acc:0.750, train_f1:8.641\n",
      "[10,  400] train_loss: 0.761, train_acc:0.744, train_f1:8.677\n",
      "[10,  500] train_loss: 0.729, train_acc:0.762, train_f1:8.813\n",
      "[10,  600] train_loss: 0.727, train_acc:0.760, train_f1:8.796\n",
      "[10,  700] train_loss: 0.736, train_acc:0.752, train_f1:8.848\n",
      "[10,  800] train_loss: 0.798, train_acc:0.722, train_f1:8.316\n",
      "[10,  900] train_loss: 0.721, train_acc:0.755, train_f1:8.572\n"
     ]
    },
    {
     "name": "stderr",
     "output_type": "stream",
     "text": [
      " 67%|██████▋   | 10/15 [44:55<16:56, 203.34s/it]"
     ]
    },
    {
     "name": "stdout",
     "output_type": "stream",
     "text": [
      "epoch [10] valid_loss: 0.726, valid_acc:0.752, valid_f1:7.550\n",
      "[11,  100] train_loss: 0.748, train_acc:0.741, train_f1:8.773\n",
      "[11,  200] train_loss: 0.671, train_acc:0.776, train_f1:8.692\n",
      "[11,  300] train_loss: 0.714, train_acc:0.751, train_f1:8.665\n",
      "[11,  400] train_loss: 0.725, train_acc:0.749, train_f1:8.587\n",
      "[11,  500] train_loss: 0.730, train_acc:0.762, train_f1:8.814\n",
      "[11,  600] train_loss: 0.732, train_acc:0.752, train_f1:8.790\n",
      "[11,  700] train_loss: 0.755, train_acc:0.741, train_f1:8.796\n",
      "[11,  800] train_loss: 0.783, train_acc:0.719, train_f1:8.398\n",
      "[11,  900] train_loss: 0.739, train_acc:0.759, train_f1:8.603\n"
     ]
    },
    {
     "name": "stderr",
     "output_type": "stream",
     "text": [
      " 73%|███████▎  | 11/15 [47:15<12:17, 184.42s/it]"
     ]
    },
    {
     "name": "stdout",
     "output_type": "stream",
     "text": [
      "epoch [11] valid_loss: 0.708, valid_acc:0.759, valid_f1:7.565\n",
      "[12,  100] train_loss: 0.790, train_acc:0.732, train_f1:8.715\n",
      "[12,  200] train_loss: 0.699, train_acc:0.764, train_f1:8.710\n",
      "[12,  300] train_loss: 0.703, train_acc:0.750, train_f1:8.622\n",
      "[12,  400] train_loss: 0.751, train_acc:0.740, train_f1:8.626\n",
      "[12,  500] train_loss: 0.733, train_acc:0.753, train_f1:8.845\n",
      "[12,  600] train_loss: 0.723, train_acc:0.754, train_f1:8.811\n",
      "[12,  700] train_loss: 0.732, train_acc:0.736, train_f1:8.813\n",
      "[12,  800] train_loss: 0.771, train_acc:0.722, train_f1:8.406\n",
      "[12,  900] train_loss: 0.712, train_acc:0.752, train_f1:8.637\n"
     ]
    },
    {
     "name": "stderr",
     "output_type": "stream",
     "text": [
      " 80%|████████  | 12/15 [49:31<08:29, 169.76s/it]"
     ]
    },
    {
     "name": "stdout",
     "output_type": "stream",
     "text": [
      "epoch [12] valid_loss: 0.713, valid_acc:0.753, valid_f1:7.562\n",
      "[13,  100] train_loss: 0.761, train_acc:0.738, train_f1:8.797\n",
      "[13,  200] train_loss: 0.696, train_acc:0.769, train_f1:8.722\n",
      "[13,  300] train_loss: 0.695, train_acc:0.768, train_f1:8.625\n",
      "[13,  400] train_loss: 0.746, train_acc:0.743, train_f1:8.600\n",
      "[13,  500] train_loss: 0.696, train_acc:0.764, train_f1:8.814\n",
      "[13,  600] train_loss: 0.716, train_acc:0.764, train_f1:8.837\n",
      "[13,  700] train_loss: 0.735, train_acc:0.750, train_f1:8.855\n",
      "[13,  800] train_loss: 0.762, train_acc:0.735, train_f1:8.393\n",
      "[13,  900] train_loss: 0.709, train_acc:0.756, train_f1:8.605\n"
     ]
    },
    {
     "name": "stderr",
     "output_type": "stream",
     "text": [
      " 87%|████████▋ | 13/15 [51:51<05:21, 160.87s/it]"
     ]
    },
    {
     "name": "stdout",
     "output_type": "stream",
     "text": [
      "epoch [13] valid_loss: 0.726, valid_acc:0.751, valid_f1:7.495\n",
      "[14,  100] train_loss: 0.753, train_acc:0.747, train_f1:8.794\n",
      "[14,  200] train_loss: 0.684, train_acc:0.781, train_f1:8.710\n",
      "[14,  300] train_loss: 0.691, train_acc:0.767, train_f1:8.577\n",
      "[14,  400] train_loss: 0.721, train_acc:0.758, train_f1:8.598\n",
      "[14,  500] train_loss: 0.732, train_acc:0.762, train_f1:8.774\n",
      "[14,  600] train_loss: 0.729, train_acc:0.741, train_f1:8.836\n",
      "[14,  700] train_loss: 0.751, train_acc:0.748, train_f1:8.788\n",
      "[14,  800] train_loss: 0.796, train_acc:0.732, train_f1:8.457\n",
      "[14,  900] train_loss: 0.733, train_acc:0.754, train_f1:8.642\n"
     ]
    },
    {
     "name": "stderr",
     "output_type": "stream",
     "text": [
      " 93%|█████████▎| 14/15 [53:54<02:29, 149.40s/it]"
     ]
    },
    {
     "name": "stdout",
     "output_type": "stream",
     "text": [
      "epoch [14] valid_loss: 0.709, valid_acc:0.757, valid_f1:7.603\n",
      "[15,  100] train_loss: 0.734, train_acc:0.740, train_f1:8.797\n",
      "[15,  200] train_loss: 0.683, train_acc:0.769, train_f1:8.684\n",
      "[15,  300] train_loss: 0.723, train_acc:0.749, train_f1:8.638\n",
      "[15,  400] train_loss: 0.722, train_acc:0.756, train_f1:8.620\n",
      "[15,  500] train_loss: 0.718, train_acc:0.759, train_f1:8.840\n",
      "[15,  600] train_loss: 0.716, train_acc:0.759, train_f1:8.813\n",
      "[15,  700] train_loss: 0.743, train_acc:0.744, train_f1:8.823\n",
      "[15,  800] train_loss: 0.749, train_acc:0.738, train_f1:8.405\n",
      "[15,  900] train_loss: 0.728, train_acc:0.749, train_f1:8.606\n"
     ]
    },
    {
     "name": "stderr",
     "output_type": "stream",
     "text": [
      "100%|██████████| 15/15 [56:04<00:00, 224.31s/it]"
     ]
    },
    {
     "name": "stdout",
     "output_type": "stream",
     "text": [
      "epoch [15] valid_loss: 0.737, valid_acc:0.742, valid_f1:7.565\n",
      "training finished\n"
     ]
    },
    {
     "name": "stderr",
     "output_type": "stream",
     "text": [
      "\n"
     ]
    }
   ],
   "source": [
    "from sklearn.metrics import f1_score\n",
    "import numpy as np\n",
    "from loss import f1_loss\n",
    "\n",
    "# 모델을 정의\n",
    "device = torch.device(\"cuda\" if torch.cuda.is_available() else \"cpu\")\n",
    "model = MyModel(num_classes=num_classes).to(device)\n",
    "\n",
    "\n",
    "#loss function, optimizer 정의\n",
    "criterion = nn.CrossEntropyLoss()\n",
    "optimizer = optim.SGD(model.parameters(),lr=0.001,momentum=0.9)\n",
    "\n",
    "#모델 학습\n",
    "from tqdm import tqdm\n",
    "right_count = [0 for _ in range(num_classes)]\n",
    "wrong_count = [0 for _ in range(num_classes)]\n",
    "\n",
    "for epoch in tqdm(range(num_epoch)):\n",
    "    #train\n",
    "    model.train()\n",
    "    cur_loss,cur_acc,cur_f1 = 0.0,0.0,0.0\n",
    "    for i,data in enumerate(train_dataloader):\n",
    "        images,labels = data\n",
    "        images,labels = images.to(device),labels.to(device)\n",
    "        \n",
    "        optimizer.zero_grad()\n",
    "        model_output = model(images)\n",
    "        loss = criterion(model_output,labels)\n",
    "        loss.backward()\n",
    "        optimizer.step()\n",
    "        \n",
    "        cur_loss += loss.item()\n",
    "        \n",
    "        predict = model_output.argmax(dim=-1)\n",
    "        cur_acc += torch.sum(labels==predict)\n",
    "        \n",
    "        f1 = f1_loss(labels,model_output)\n",
    "        cur_f1 += f1\n",
    "                \n",
    "        for k in range(batch_size):\n",
    "            if predict[k]==labels[k]: right_count[labels[k]]+=1\n",
    "            else: wrong_count[labels[k]]+=1\n",
    "        \n",
    "        if i%100==99:\n",
    "            print('[%d,%5d] train_loss: %.3f, train_acc:%.3f, train_f1:%.3f'% (epoch+1,i+1,cur_loss/100,cur_acc/1600,cur_f1/100))\n",
    "            cur_loss,cur_acc,cur_f1 = 0.0,0.0,0.0\n",
    "        \n",
    "    #eval\n",
    "    model.eval()\n",
    "    valid_loss,valid_acc,valid_f1=0.0,0.0,0.0\n",
    "    for i,data in enumerate(val_dataloader):\n",
    "        images,labels = data\n",
    "        images,labels = images.to(device),labels.to(device)\n",
    "        \n",
    "        model_output = model(images)\n",
    "        #print(model_output,labels)\n",
    "        loss = criterion(model_output,labels)\n",
    "        valid_loss += loss.item()\n",
    "        \n",
    "        predict = model_output.argmax(dim=-1)\n",
    "        valid_acc += torch.sum(labels==predict)\n",
    "        \n",
    "        f1 = f1_loss(labels,model_output)\n",
    "        valid_f1 += f1\n",
    "        \n",
    "    print('epoch [%d] valid_loss: %.3f, valid_acc:%.3f, valid_f1:%.3f'% (epoch+1,valid_loss/(i+1),valid_acc/(4*(i+1)),valid_f1/(i+1)))\n",
    "\n",
    "print('training finished')"
   ]
  },
  {
   "cell_type": "code",
   "execution_count": 17,
   "id": "7df1f6f6-44a8-4881-afee-35b66738b667",
   "metadata": {},
   "outputs": [],
   "source": [
    "torch.save(model,'../models/0826_2_model.pth')"
   ]
  },
  {
   "cell_type": "code",
   "execution_count": 18,
   "id": "b11ccd08-3008-417c-9776-9b728ce32790",
   "metadata": {},
   "outputs": [
    {
     "name": "stdout",
     "output_type": "stream",
     "text": [
      "[27442, 17138, 1944, 36831, 38144, 2512, 4090, 2554, 107, 5699, 4901, 194, 5245, 3364, 114, 7222, 7611, 201]\n"
     ]
    }
   ],
   "source": [
    "print(right_count)"
   ]
  },
  {
   "cell_type": "code",
   "execution_count": 19,
   "id": "dbb33052-9ac7-4a4d-972f-68c3e0cc6dda",
   "metadata": {},
   "outputs": [
    {
     "name": "stdout",
     "output_type": "stream",
     "text": [
      "[5633, 7627, 3126, 7314, 10366, 4088, 2450, 2396, 853, 3031, 5104, 1021, 1280, 1631, 891, 1433, 2214, 1029]\n"
     ]
    }
   ],
   "source": [
    "print(wrong_count)"
   ]
  },
  {
   "cell_type": "code",
   "execution_count": null,
   "id": "ceb86f4d-ca39-4a68-b3f3-82c04fc9824c",
   "metadata": {},
   "outputs": [],
   "source": []
  }
 ],
 "metadata": {
  "kernelspec": {
   "display_name": "Python 3 (ipykernel)",
   "language": "python",
   "name": "python3"
  },
  "language_info": {
   "codemirror_mode": {
    "name": "ipython",
    "version": 3
   },
   "file_extension": ".py",
   "mimetype": "text/x-python",
   "name": "python",
   "nbconvert_exporter": "python",
   "pygments_lexer": "ipython3",
   "version": "3.8.5"
  }
 },
 "nbformat": 4,
 "nbformat_minor": 5
}

{
 "cells": [
  {
   "cell_type": "markdown",
   "id": "a3a95bf5-d98b-4f1c-a3fd-aa7060229d96",
   "metadata": {},
   "source": [
    "0826_(1) 에서 valid patience를 추가하고 train:val 을 85:15 로 함"
   ]
  },
  {
   "cell_type": "markdown",
   "id": "about-heavy",
   "metadata": {
    "tags": []
   },
   "source": [
    "## 0. Libarary 불러오기 및 경로설정"
   ]
  },
  {
   "cell_type": "code",
   "execution_count": 1,
   "id": "cubic-scoop",
   "metadata": {},
   "outputs": [],
   "source": [
    "import os\n",
    "import pandas as pd\n",
    "from PIL import Image\n",
    "import numpy as np\n",
    "\n",
    "import torch\n",
    "import torch.nn as nn\n",
    "import torch.nn.functional as F\n",
    "from torch.utils.data import Dataset, DataLoader\n",
    "import torch.optim as optim\n",
    "\n",
    "from torchvision import models\n",
    "from torchvision import transforms\n",
    "from torchvision.transforms import Resize, ToTensor, Normalize, CenterCrop"
   ]
  },
  {
   "cell_type": "code",
   "execution_count": 2,
   "id": "built-elevation",
   "metadata": {},
   "outputs": [],
   "source": [
    "train_dir = '/opt/ml/input/data/train'"
   ]
  },
  {
   "cell_type": "markdown",
   "id": "domestic-channels",
   "metadata": {},
   "source": [
    "## 2. Train Dataset 정의"
   ]
  },
  {
   "cell_type": "code",
   "execution_count": 3,
   "id": "extensive-north",
   "metadata": {},
   "outputs": [],
   "source": [
    "class TrainDataset(Dataset):\n",
    "    def __init__(self,img_paths,labels,trans_dict,val=False):\n",
    "        self.img_paths = img_paths\n",
    "        self.labels = labels\n",
    "        self.trans_dict = trans_dict\n",
    "        self.val = val\n",
    "        \n",
    "    def __getitem__(self,index):\n",
    "        image = Image.open(self.img_paths[index])\n",
    "        label = self.labels[index]\n",
    "        if self.trans_dict:\n",
    "            if self.val:\n",
    "                image = self.trans_dict['val'](image)\n",
    "            elif label in [0,1,3,4]:\n",
    "                image = self.trans_dict['train1'](image)\n",
    "            else:\n",
    "                image = self.trans_dict['train2'](image)\n",
    "        \n",
    "        return image,label\n",
    "\n",
    "    def __len__(self):\n",
    "        return len(self.img_paths)"
   ]
  },
  {
   "cell_type": "markdown",
   "id": "2d3523a8-fd54-4e27-a35c-429222c5bdf9",
   "metadata": {},
   "source": [
    "sample 이미지 살펴보고 transform 결정"
   ]
  },
  {
   "cell_type": "code",
   "execution_count": 12,
   "id": "c3042739-b200-4095-a362-5f0f785ead8b",
   "metadata": {},
   "outputs": [],
   "source": [
    "#hyperparam 정의\n",
    "num_epoch = 20\n",
    "num_classes = 18\n",
    "batch_size = 64\n",
    "val_split = 0.2\n",
    "random_seed= 48\n",
    "shuffle_dataset = True"
   ]
  },
  {
   "cell_type": "code",
   "execution_count": 7,
   "id": "coral-shade",
   "metadata": {},
   "outputs": [
    {
     "name": "stdout",
     "output_type": "stream",
     "text": [
      "16065 2835\n"
     ]
    }
   ],
   "source": [
    "# meta 데이터와 이미지 경로를 불러옵니다.\n",
    "train_info = pd.read_csv(os.path.join(train_dir, 'train_15.csv'))\n",
    "train_imgpaths = train_info['path']\n",
    "train_labels = train_info['category']\n",
    "\n",
    "val_info = pd.read_csv(os.path.join(train_dir, 'valid_15.csv'))\n",
    "val_imgpaths = val_info['path']\n",
    "val_labels = val_info['category']\n",
    "\n",
    "#transform 정의\n",
    "data_transform = {\n",
    "    'train1': transforms.Compose([\n",
    "                CenterCrop(300),  \n",
    "                Resize((224, 224)),\n",
    "                transforms.RandomHorizontalFlip(p=0.5),\n",
    "                ToTensor(),\n",
    "                Normalize(mean=(0.5, 0.5, 0.5), std=(0.2, 0.2, 0.2)),\n",
    "            ]),\n",
    "    'train2': transforms.Compose([\n",
    "                    CenterCrop(300),  \n",
    "                    Resize((224, 224)),\n",
    "                    transforms.RandomHorizontalFlip(p=0.5),\n",
    "                    transforms.RandomApply(transforms=[transforms.ColorJitter(brightness=0.5)],p=0.5),\n",
    "                    #transforms.RandomApply(transforms=[transforms.Pad(padding=5, fill=0, padding_mode='constant')],p=0.5),\n",
    "                    transforms.RandomApply(transforms=[transforms.RandomPerspective(distortion_scale=0.2, p=0.5)],p=0.5),\n",
    "                    ToTensor(),\n",
    "                    Normalize(mean=(0.5, 0.5, 0.5), std=(0.2, 0.2, 0.2))\n",
    "                ]),\n",
    "    'val': transforms.Compose([\n",
    "                Resize((224, 224), Image.BILINEAR),\n",
    "                ToTensor(),\n",
    "                Normalize(mean=(0.5, 0.5, 0.5), std=(0.2, 0.2, 0.2)),\n",
    "            ])\n",
    "}\n",
    "\n",
    "#train val split\n",
    "'''\n",
    "dataset_size = len(labels)\n",
    "indices = list(range(dataset_size))\n",
    "split = int(np.floor(val_split * dataset_size))\n",
    "if shuffle_dataset :\n",
    "    np.random.seed(random_seed)\n",
    "    np.random.shuffle(indices)\n",
    "train_indices, val_indices = indices[split:], indices[:split]\n",
    "'''\n",
    "train_dataset = TrainDataset(train_imgpaths,train_labels,data_transform)\n",
    "val_dataset = TrainDataset(val_imgpaths,val_labels,data_transform,val=True)\n",
    "\n",
    "train_dataloader = DataLoader(\n",
    "    train_dataset,\n",
    "    batch_size=batch_size,\n",
    "    shuffle=False,\n",
    "    drop_last=True\n",
    ")\n",
    "val_dataloader = DataLoader(\n",
    "    val_dataset,\n",
    "    batch_size=16,\n",
    "    shuffle=False,\n",
    "    drop_last=True\n",
    ")\n",
    "print(len(train_dataset),len(val_dataset))"
   ]
  },
  {
   "cell_type": "markdown",
   "id": "32ff532e-c680-4aee-9301-28425805f5de",
   "metadata": {},
   "source": [
    "## 4. Model 정의"
   ]
  },
  {
   "cell_type": "code",
   "execution_count": 8,
   "id": "8d543439-c9df-4957-8244-4c6268caf593",
   "metadata": {},
   "outputs": [],
   "source": [
    "from custom_models import ResnetModel as MyModel"
   ]
  },
  {
   "cell_type": "markdown",
   "id": "5f3b009e-dfcd-4087-9af9-66aba10397e9",
   "metadata": {},
   "source": [
    "## 5. Train"
   ]
  },
  {
   "cell_type": "code",
   "execution_count": 17,
   "id": "d6c840ac-d036-4633-9ccb-efe94f5ccd49",
   "metadata": {},
   "outputs": [
    {
     "name": "stderr",
     "output_type": "stream",
     "text": [
      "  0%|          | 0/20 [00:00<?, ?it/s]"
     ]
    },
    {
     "name": "stdout",
     "output_type": "stream",
     "text": [
      "[1,  100] train_loss: 2.057, train_acc:0.353, train_f1:5.807\n",
      "[1,  200] train_loss: 1.496, train_acc:0.529, train_f1:8.129\n"
     ]
    },
    {
     "name": "stderr",
     "output_type": "stream",
     "text": [
      "  5%|▌         | 1/20 [02:12<41:50, 132.11s/it]"
     ]
    },
    {
     "name": "stdout",
     "output_type": "stream",
     "text": [
      "epoch [1] valid_loss: 1.350, valid_acc:0.147, valid_f1:7.132\n",
      "[2,  100] train_loss: 1.213, train_acc:0.627, train_f1:8.678\n",
      "[2,  200] train_loss: 1.132, train_acc:0.647, train_f1:8.774\n"
     ]
    },
    {
     "name": "stderr",
     "output_type": "stream",
     "text": [
      " 10%|█         | 2/20 [04:27<39:55, 133.06s/it]"
     ]
    },
    {
     "name": "stdout",
     "output_type": "stream",
     "text": [
      "epoch [2] valid_loss: 1.147, valid_acc:0.160, valid_f1:7.367\n",
      "[3,  100] train_loss: 1.055, train_acc:0.665, train_f1:8.823\n",
      "[3,  200] train_loss: 1.012, train_acc:0.677, train_f1:8.900\n"
     ]
    },
    {
     "name": "stderr",
     "output_type": "stream",
     "text": [
      " 15%|█▌        | 3/20 [06:40<37:44, 133.20s/it]"
     ]
    },
    {
     "name": "stdout",
     "output_type": "stream",
     "text": [
      "epoch [3] valid_loss: 1.051, valid_acc:0.166, valid_f1:7.443\n",
      "[4,  100] train_loss: 0.948, train_acc:0.700, train_f1:8.896\n",
      "[4,  200] train_loss: 0.940, train_acc:0.702, train_f1:8.946\n"
     ]
    },
    {
     "name": "stderr",
     "output_type": "stream",
     "text": [
      " 20%|██        | 4/20 [08:50<35:15, 132.25s/it]"
     ]
    },
    {
     "name": "stdout",
     "output_type": "stream",
     "text": [
      "epoch [4] valid_loss: 0.999, valid_acc:0.171, valid_f1:7.498\n",
      "[5,  100] train_loss: 0.892, train_acc:0.711, train_f1:8.925\n",
      "[5,  200] train_loss: 0.882, train_acc:0.713, train_f1:8.967\n"
     ]
    },
    {
     "name": "stderr",
     "output_type": "stream",
     "text": [
      " 25%|██▌       | 5/20 [11:01<32:56, 131.76s/it]"
     ]
    },
    {
     "name": "stdout",
     "output_type": "stream",
     "text": [
      "epoch [5] valid_loss: 0.965, valid_acc:0.172, valid_f1:7.515\n",
      "[6,  100] train_loss: 0.861, train_acc:0.720, train_f1:8.950\n",
      "[6,  200] train_loss: 0.865, train_acc:0.719, train_f1:8.989\n"
     ]
    },
    {
     "name": "stderr",
     "output_type": "stream",
     "text": [
      " 30%|███       | 6/20 [12:59<29:46, 127.63s/it]"
     ]
    },
    {
     "name": "stdout",
     "output_type": "stream",
     "text": [
      "epoch [6] valid_loss: 0.943, valid_acc:0.173, valid_f1:7.509\n",
      "[7,  100] train_loss: 0.831, train_acc:0.726, train_f1:8.958\n",
      "[7,  200] train_loss: 0.834, train_acc:0.729, train_f1:8.998\n"
     ]
    },
    {
     "name": "stderr",
     "output_type": "stream",
     "text": [
      " 35%|███▌      | 7/20 [14:53<26:44, 123.46s/it]"
     ]
    },
    {
     "name": "stdout",
     "output_type": "stream",
     "text": [
      "epoch [7] valid_loss: 0.929, valid_acc:0.173, valid_f1:7.566\n",
      "[8,  100] train_loss: 0.807, train_acc:0.729, train_f1:8.979\n",
      "[8,  200] train_loss: 0.808, train_acc:0.742, train_f1:9.030\n"
     ]
    },
    {
     "name": "stderr",
     "output_type": "stream",
     "text": [
      " 40%|████      | 8/20 [17:02<25:03, 125.27s/it]"
     ]
    },
    {
     "name": "stdout",
     "output_type": "stream",
     "text": [
      "epoch [8] valid_loss: 0.910, valid_acc:0.174, valid_f1:7.559\n",
      "[9,  100] train_loss: 0.789, train_acc:0.735, train_f1:8.999\n",
      "[9,  200] train_loss: 0.798, train_acc:0.741, train_f1:9.029\n"
     ]
    },
    {
     "name": "stderr",
     "output_type": "stream",
     "text": [
      " 45%|████▌     | 9/20 [19:07<22:55, 125.07s/it]"
     ]
    },
    {
     "name": "stdout",
     "output_type": "stream",
     "text": [
      "epoch [9] valid_loss: 0.906, valid_acc:0.174, valid_f1:7.561\n",
      "[10,  100] train_loss: 0.779, train_acc:0.730, train_f1:8.993\n",
      "[10,  200] train_loss: 0.776, train_acc:0.745, train_f1:9.051\n"
     ]
    },
    {
     "name": "stderr",
     "output_type": "stream",
     "text": [
      " 50%|█████     | 10/20 [21:20<21:15, 127.51s/it]"
     ]
    },
    {
     "name": "stdout",
     "output_type": "stream",
     "text": [
      "epoch [10] valid_loss: 0.895, valid_acc:0.174, valid_f1:7.560\n",
      "[11,  100] train_loss: 0.765, train_acc:0.745, train_f1:9.018\n",
      "[11,  200] train_loss: 0.765, train_acc:0.744, train_f1:9.041\n"
     ]
    },
    {
     "name": "stderr",
     "output_type": "stream",
     "text": [
      " 55%|█████▌    | 11/20 [23:33<19:22, 129.13s/it]"
     ]
    },
    {
     "name": "stdout",
     "output_type": "stream",
     "text": [
      "epoch [11] valid_loss: 0.885, valid_acc:0.175, valid_f1:7.576\n",
      "[12,  100] train_loss: 0.749, train_acc:0.745, train_f1:9.013\n",
      "[12,  200] train_loss: 0.762, train_acc:0.749, train_f1:9.047\n"
     ]
    },
    {
     "name": "stderr",
     "output_type": "stream",
     "text": [
      " 60%|██████    | 12/20 [25:47<17:24, 130.57s/it]"
     ]
    },
    {
     "name": "stdout",
     "output_type": "stream",
     "text": [
      "epoch [12] valid_loss: 0.886, valid_acc:0.176, valid_f1:7.602\n",
      "[13,  100] train_loss: 0.747, train_acc:0.743, train_f1:9.019\n",
      "[13,  200] train_loss: 0.754, train_acc:0.746, train_f1:9.034\n"
     ]
    },
    {
     "name": "stderr",
     "output_type": "stream",
     "text": [
      " 65%|██████▌   | 13/20 [27:52<15:01, 128.86s/it]"
     ]
    },
    {
     "name": "stdout",
     "output_type": "stream",
     "text": [
      "epoch [13] valid_loss: 0.879, valid_acc:0.175, valid_f1:7.578\n",
      "[14,  100] train_loss: 0.739, train_acc:0.749, train_f1:9.025\n",
      "[14,  200] train_loss: 0.742, train_acc:0.751, train_f1:9.054\n"
     ]
    },
    {
     "name": "stderr",
     "output_type": "stream",
     "text": [
      " 70%|███████   | 14/20 [29:56<12:45, 127.51s/it]"
     ]
    },
    {
     "name": "stdout",
     "output_type": "stream",
     "text": [
      "epoch [14] valid_loss: 0.871, valid_acc:0.176, valid_f1:7.621\n",
      "[15,  100] train_loss: 0.722, train_acc:0.752, train_f1:9.032\n",
      "[15,  200] train_loss: 0.736, train_acc:0.751, train_f1:9.043\n"
     ]
    },
    {
     "name": "stderr",
     "output_type": "stream",
     "text": [
      " 75%|███████▌  | 15/20 [32:05<10:40, 128.03s/it]"
     ]
    },
    {
     "name": "stdout",
     "output_type": "stream",
     "text": [
      "epoch [15] valid_loss: 0.864, valid_acc:0.176, valid_f1:7.586\n",
      "[16,  100] train_loss: 0.725, train_acc:0.750, train_f1:9.047\n",
      "[16,  200] train_loss: 0.730, train_acc:0.758, train_f1:9.070\n"
     ]
    },
    {
     "name": "stderr",
     "output_type": "stream",
     "text": [
      " 80%|████████  | 16/20 [34:12<08:30, 127.70s/it]"
     ]
    },
    {
     "name": "stdout",
     "output_type": "stream",
     "text": [
      "epoch [16] valid_loss: 0.864, valid_acc:0.176, valid_f1:7.622\n",
      "[17,  100] train_loss: 0.719, train_acc:0.755, train_f1:9.044\n",
      "[17,  200] train_loss: 0.732, train_acc:0.750, train_f1:9.050\n"
     ]
    },
    {
     "name": "stderr",
     "output_type": "stream",
     "text": [
      " 85%|████████▌ | 17/20 [36:25<06:27, 129.13s/it]"
     ]
    },
    {
     "name": "stdout",
     "output_type": "stream",
     "text": [
      "epoch [17] valid_loss: 0.858, valid_acc:0.177, valid_f1:7.605\n",
      "[18,  100] train_loss: 0.708, train_acc:0.755, train_f1:9.044\n",
      "[18,  200] train_loss: 0.726, train_acc:0.755, train_f1:9.081\n"
     ]
    },
    {
     "name": "stderr",
     "output_type": "stream",
     "text": [
      " 90%|█████████ | 18/20 [38:38<04:20, 130.48s/it]"
     ]
    },
    {
     "name": "stdout",
     "output_type": "stream",
     "text": [
      "epoch [18] valid_loss: 0.854, valid_acc:0.178, valid_f1:7.633\n",
      "[19,  100] train_loss: 0.706, train_acc:0.751, train_f1:9.053\n",
      "[19,  200] train_loss: 0.732, train_acc:0.749, train_f1:9.051\n"
     ]
    },
    {
     "name": "stderr",
     "output_type": "stream",
     "text": [
      " 95%|█████████▌| 19/20 [40:55<02:12, 132.27s/it]"
     ]
    },
    {
     "name": "stdout",
     "output_type": "stream",
     "text": [
      "epoch [19] valid_loss: 0.855, valid_acc:0.176, valid_f1:7.626\n",
      "[20,  100] train_loss: 0.701, train_acc:0.757, train_f1:9.032\n",
      "[20,  200] train_loss: 0.727, train_acc:0.753, train_f1:9.080\n"
     ]
    },
    {
     "name": "stderr",
     "output_type": "stream",
     "text": [
      "100%|██████████| 20/20 [42:56<00:00, 128.83s/it]"
     ]
    },
    {
     "name": "stdout",
     "output_type": "stream",
     "text": [
      "epoch [20] valid_loss: 0.854, valid_acc:0.177, valid_f1:7.614\n",
      "training finished\n"
     ]
    },
    {
     "name": "stderr",
     "output_type": "stream",
     "text": [
      "\n"
     ]
    }
   ],
   "source": [
    "from sklearn.metrics import f1_score\n",
    "import numpy as np\n",
    "from loss import f1_loss\n",
    "\n",
    "# 모델을 정의\n",
    "device = torch.device(\"cuda\" if torch.cuda.is_available() else \"cpu\")\n",
    "model = MyModel(num_classes=num_classes).to(device)\n",
    "\n",
    "#loss function, optimizer 정의\n",
    "criterion = nn.CrossEntropyLoss()\n",
    "optimizer = optim.SGD(model.parameters(),lr=0.001,momentum=0.9)\n",
    "\n",
    "#모델 학습\n",
    "from tqdm import tqdm\n",
    "right_count = [0 for _ in range(num_classes)]\n",
    "wrong_count = [0 for _ in range(num_classes)]\n",
    "\n",
    "temp_valid_f1=0.0; patience=0\n",
    "\n",
    "for epoch in tqdm(range(num_epoch)):\n",
    "    #train\n",
    "    model.train()\n",
    "    cur_loss,cur_acc,cur_f1 = 0.0,0.0,0.0\n",
    "    for i,data in enumerate(train_dataloader):\n",
    "        images,labels = data\n",
    "        images,labels = images.to(device),labels.to(device)\n",
    "        \n",
    "        optimizer.zero_grad()\n",
    "        model_output = model(images)\n",
    "        loss = criterion(model_output,labels)\n",
    "        loss.backward()\n",
    "        optimizer.step()\n",
    "        \n",
    "        cur_loss += loss.item()\n",
    "        \n",
    "        predict = model_output.argmax(dim=-1)\n",
    "        cur_acc += torch.sum(labels==predict)\n",
    "        \n",
    "        f1 = f1_loss(labels,model_output)\n",
    "        cur_f1 += f1\n",
    "                \n",
    "        #for k in range(batch_size):\n",
    "        #    if predict[k]==labels[k]: right_count[labels[k]]+=1\n",
    "        #    else: wrong_count[labels[k]]+=1\n",
    "        \n",
    "        if i%100==99:\n",
    "            print('[%d,%5d] train_loss: %.3f, train_acc:%.3f, train_f1:%.3f'% (epoch+1,i+1,cur_loss/100,cur_acc/(batch_size*100),cur_f1/100))\n",
    "            cur_loss,cur_acc,cur_f1 = 0.0,0.0,0.0\n",
    "        \n",
    "    #eval\n",
    "    model.eval()\n",
    "    valid_loss,valid_acc,valid_f1=0.0,0.0,0.0\n",
    "    for i,data in enumerate(val_dataloader):\n",
    "        images,labels = data\n",
    "        images,labels = images.to(device),labels.to(device)\n",
    "        \n",
    "        model_output = model(images)\n",
    "        #print(model_output,labels)\n",
    "        loss = criterion(model_output,labels)\n",
    "        valid_loss += loss.item()\n",
    "        \n",
    "        predict = model_output.argmax(dim=-1)\n",
    "        valid_acc += torch.sum(labels==predict)\n",
    "        \n",
    "        f1 = f1_loss(labels,model_output)\n",
    "        valid_f1 += f1\n",
    "    print('epoch [%d] valid_loss: %.3f, valid_acc:%.3f, valid_f1:%.3f'% (epoch+1,valid_loss/(i+1),valid_acc/(16*(i+1)),valid_f1/(i+1)))\n",
    "    patience = patience+1 if valid_f1 < temp_valid_f1 else 0\n",
    "    if patience>=3: \n",
    "        torch.save(model,'..models/0826_4_model.pth')\n",
    "        break\n",
    "    temp_valid_f1 = valid_f1\n",
    "    \n",
    "print('training finished')"
   ]
  },
  {
   "cell_type": "code",
   "execution_count": 20,
   "id": "7df1f6f6-44a8-4881-afee-35b66738b667",
   "metadata": {},
   "outputs": [],
   "source": [
    "torch.save(model,'../models/0826_4_model.pth')"
   ]
  },
  {
   "cell_type": "code",
   "execution_count": 18,
   "id": "b11ccd08-3008-417c-9776-9b728ce32790",
   "metadata": {},
   "outputs": [
    {
     "name": "stdout",
     "output_type": "stream",
     "text": [
      "[0, 0, 0, 0, 0, 0, 0, 0, 0, 0, 0, 0, 0, 0, 0, 0, 0, 0]\n"
     ]
    }
   ],
   "source": [
    "print(right_count)"
   ]
  },
  {
   "cell_type": "code",
   "execution_count": 19,
   "id": "dbb33052-9ac7-4a4d-972f-68c3e0cc6dda",
   "metadata": {},
   "outputs": [
    {
     "name": "stdout",
     "output_type": "stream",
     "text": [
      "[0, 0, 0, 0, 0, 0, 0, 0, 0, 0, 0, 0, 0, 0, 0, 0, 0, 0]\n"
     ]
    }
   ],
   "source": [
    "print(wrong_count)"
   ]
  },
  {
   "cell_type": "code",
   "execution_count": null,
   "id": "ceb86f4d-ca39-4a68-b3f3-82c04fc9824c",
   "metadata": {},
   "outputs": [],
   "source": []
  }
 ],
 "metadata": {
  "kernelspec": {
   "display_name": "Python 3 (ipykernel)",
   "language": "python",
   "name": "python3"
  },
  "language_info": {
   "codemirror_mode": {
    "name": "ipython",
    "version": 3
   },
   "file_extension": ".py",
   "mimetype": "text/x-python",
   "name": "python",
   "nbconvert_exporter": "python",
   "pygments_lexer": "ipython3",
   "version": "3.8.5"
  }
 },
 "nbformat": 4,
 "nbformat_minor": 5
}

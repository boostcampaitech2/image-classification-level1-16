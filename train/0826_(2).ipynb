{
 "cells": [
  {
   "cell_type": "markdown",
   "id": "about-heavy",
   "metadata": {},
   "source": [
    "## 0. Libarary 불러오기 및 경로설정"
   ]
  },
  {
   "cell_type": "code",
   "execution_count": 6,
   "id": "cubic-scoop",
   "metadata": {},
   "outputs": [],
   "source": [
    "import os\n",
    "import pandas as pd\n",
    "from PIL import Image\n",
    "import numpy as np\n",
    "\n",
    "import torch\n",
    "import torch.nn as nn\n",
    "import torch.nn.functional as F\n",
    "from torch.utils.data import Dataset, DataLoader\n",
    "import torch.optim as optim\n",
    "\n",
    "from torchvision import models\n",
    "from torchvision import transforms\n",
    "from torchvision.transforms import Resize, ToTensor, Normalize, CenterCrop"
   ]
  },
  {
   "cell_type": "code",
   "execution_count": 7,
   "id": "built-elevation",
   "metadata": {},
   "outputs": [],
   "source": [
    "train_dir = '/opt/ml/input/data/train'"
   ]
  },
  {
   "cell_type": "markdown",
   "id": "domestic-channels",
   "metadata": {},
   "source": [
    "## 2. Train Dataset 정의"
   ]
  },
  {
   "cell_type": "code",
   "execution_count": 8,
   "id": "extensive-north",
   "metadata": {},
   "outputs": [],
   "source": [
    "class TrainDataset(Dataset):\n",
    "    def __init__(self,img_paths,labels,trans_dict,val=False):\n",
    "        self.img_paths = img_paths\n",
    "        self.labels = labels\n",
    "        self.trans_dict = trans_dict\n",
    "        self.val = val\n",
    "        \n",
    "    def __getitem__(self,index):\n",
    "        image = Image.open(self.img_paths[index])\n",
    "        label = self.labels[index]\n",
    "        if self.trans_dict:\n",
    "            if self.val:\n",
    "                image = self.trans_dict['val'](image)\n",
    "            elif label in [0,1,3,4]:\n",
    "                image = self.trans_dict['train1'](image)\n",
    "            else:\n",
    "                image = self.trans_dict['train2'](image)\n",
    "        \n",
    "        return image,label\n",
    "\n",
    "    def __len__(self):\n",
    "        return len(self.img_paths)"
   ]
  },
  {
   "cell_type": "markdown",
   "id": "2d3523a8-fd54-4e27-a35c-429222c5bdf9",
   "metadata": {},
   "source": [
    "sample 이미지 살펴보고 transform 결정"
   ]
  },
  {
   "cell_type": "code",
   "execution_count": 9,
   "id": "c3042739-b200-4095-a362-5f0f785ead8b",
   "metadata": {},
   "outputs": [],
   "source": [
    "#hyperparam 정의\n",
    "num_epoch = 15\n",
    "num_classes = 18\n",
    "batch_size = 16\n",
    "val_split = 0.2\n",
    "random_seed= 48\n",
    "shuffle_dataset = True"
   ]
  },
  {
   "cell_type": "code",
   "execution_count": 10,
   "id": "2291b2c0-c1bc-4636-90b3-ef49038d4ea7",
   "metadata": {},
   "outputs": [],
   "source": [
    "#hyperparam 정의\n",
    "num_epoch = 15\n",
    "num_classes = 18\n",
    "batch_size = 16\n",
    "val_split = 0.2\n",
    "random_seed= 48\n",
    "shuffle_dataset = True"
   ]
  },
  {
   "cell_type": "code",
   "execution_count": 11,
   "id": "coral-shade",
   "metadata": {},
   "outputs": [
    {
     "name": "stdout",
     "output_type": "stream",
     "text": [
      "15120 3780 18900\n"
     ]
    }
   ],
   "source": [
    "# meta 데이터와 이미지 경로를 불러옵니다.\n",
    "train_info = pd.read_csv(os.path.join(train_dir, 'train3.csv'))\n",
    "image_paths = train_info['path']\n",
    "labels = train_info['category']\n",
    "\n",
    "#transform 정의\n",
    "data_transform = {\n",
    "    'train1': transforms.Compose([\n",
    "                CenterCrop(300),  \n",
    "                Resize((224, 224)),\n",
    "                transforms.RandomHorizontalFlip(p=0.5),\n",
    "                ToTensor(),\n",
    "                Normalize(mean=(0.5, 0.5, 0.5), std=(0.2, 0.2, 0.2)),\n",
    "            ]),\n",
    "    'train2': transforms.Compose([\n",
    "                    CenterCrop(300),  \n",
    "                    Resize((224, 224)),\n",
    "                    transforms.RandomHorizontalFlip(p=0.5),\n",
    "                    transforms.RandomApply(transforms=[transforms.ColorJitter(brightness=0.5)],p=0.5),\n",
    "                    #transforms.RandomApply(transforms=[transforms.Pad(padding=5, fill=0, padding_mode='constant')],p=0.5),\n",
    "                    transforms.RandomApply(transforms=[transforms.RandomPerspective(distortion_scale=0.2, p=0.5)],p=0.5),\n",
    "                    ToTensor(),\n",
    "                    Normalize(mean=(0.5, 0.5, 0.5), std=(0.2, 0.2, 0.2))\n",
    "                ]),\n",
    "    'val': transforms.Compose([\n",
    "                Resize((224, 224), Image.BILINEAR),\n",
    "                ToTensor(),\n",
    "                Normalize(mean=(0.5, 0.5, 0.5), std=(0.2, 0.2, 0.2)),\n",
    "            ])\n",
    "}\n",
    "\n",
    "#train val split\n",
    "dataset_size = len(labels)\n",
    "indices = list(range(dataset_size))\n",
    "split = int(np.floor(val_split * dataset_size))\n",
    "if shuffle_dataset :\n",
    "    np.random.seed(random_seed)\n",
    "    np.random.shuffle(indices)\n",
    "train_indices, val_indices = indices[split:], indices[:split]\n",
    "\n",
    "train_dataset = TrainDataset(list(image_paths[train_indices]),list(labels[train_indices]),data_transform)\n",
    "val_dataset = TrainDataset(list(image_paths[val_indices]),list(labels[val_indices]),data_transform,val=True)\n",
    "\n",
    "train_dataloader = DataLoader(\n",
    "    train_dataset,\n",
    "    batch_size=batch_size,\n",
    "    shuffle=False,\n",
    "    drop_last=True\n",
    ")\n",
    "val_dataloader = DataLoader(\n",
    "    val_dataset,\n",
    "    batch_size=4,\n",
    "    shuffle=False,\n",
    "    drop_last=True\n",
    ")\n",
    "print(len(train_dataset),len(val_dataset),dataset_size)"
   ]
  },
  {
   "cell_type": "markdown",
   "id": "32ff532e-c680-4aee-9301-28425805f5de",
   "metadata": {},
   "source": [
    "## 4. Model 정의"
   ]
  },
  {
   "cell_type": "code",
   "execution_count": 12,
   "id": "8d543439-c9df-4957-8244-4c6268caf593",
   "metadata": {},
   "outputs": [],
   "source": [
    "from custom_models import ResnetModel2 as MyModel"
   ]
  },
  {
   "cell_type": "markdown",
   "id": "5f3b009e-dfcd-4087-9af9-66aba10397e9",
   "metadata": {},
   "source": [
    "## 5. Train"
   ]
  },
  {
   "cell_type": "code",
   "execution_count": null,
   "id": "d6c840ac-d036-4633-9ccb-efe94f5ccd49",
   "metadata": {},
   "outputs": [
    {
     "name": "stderr",
     "output_type": "stream",
     "text": [
      "  0%|          | 0/15 [00:00<?, ?it/s]"
     ]
    },
    {
     "name": "stdout",
     "output_type": "stream",
     "text": [
      "[1,  100] train_loss: 2.284, train_acc:0.296, train_f1:4.213\n",
      "[1,  200] train_loss: 1.763, train_acc:0.467, train_f1:6.416\n",
      "[1,  300] train_loss: 1.509, train_acc:0.548, train_f1:7.650\n",
      "[1,  400] train_loss: 1.378, train_acc:0.585, train_f1:8.177\n",
      "[1,  500] train_loss: 1.250, train_acc:0.614, train_f1:8.318\n",
      "[1,  600] train_loss: 1.144, train_acc:0.649, train_f1:8.548\n",
      "[1,  700] train_loss: 1.144, train_acc:0.637, train_f1:8.568\n",
      "[1,  800] train_loss: 1.120, train_acc:0.646, train_f1:8.197\n"
     ]
    }
   ],
   "source": [
    "from sklearn.metrics import f1_score\n",
    "import numpy as np\n",
    "from loss import f1_loss\n",
    "\n",
    "# 모델을 정의\n",
    "device = torch.device(\"cuda\" if torch.cuda.is_available() else \"cpu\")\n",
    "model = MyModel(num_classes=num_classes).to(device)\n",
    "\n",
    "\n",
    "#loss function, optimizer 정의\n",
    "criterion = nn.CrossEntropyLoss()\n",
    "optimizer = optim.SGD(model.parameters(),lr=0.001,momentum=0.9)\n",
    "\n",
    "#모델 학습\n",
    "from tqdm import tqdm\n",
    "right_count = [0 for _ in range(num_classes)]\n",
    "wrong_count = [0 for _ in range(num_classes)]\n",
    "\n",
    "for epoch in tqdm(range(num_epoch)):\n",
    "    #train\n",
    "    model.train()\n",
    "    cur_loss,cur_acc,cur_f1 = 0.0,0.0,0.0\n",
    "    for i,data in enumerate(train_dataloader):\n",
    "        images,labels = data\n",
    "        images,labels = images.to(device),labels.to(device)\n",
    "        \n",
    "        optimizer.zero_grad()\n",
    "        model_output = model(images)\n",
    "        loss = criterion(model_output,labels)\n",
    "        loss.backward()\n",
    "        optimizer.step()\n",
    "        \n",
    "        cur_loss += loss.item()\n",
    "        \n",
    "        predict = model_output.argmax(dim=-1)\n",
    "        cur_acc += torch.sum(labels==predict)\n",
    "        \n",
    "        f1 = f1_loss(labels,model_output)\n",
    "        cur_f1 += f1\n",
    "                \n",
    "        for k in range(batch_size):\n",
    "            if predict[k]==labels[k]: right_count[labels[k]]+=1\n",
    "            else: wrong_count[labels[k]]+=1\n",
    "        \n",
    "        if i%100==99:\n",
    "            print('[%d,%5d] train_loss: %.3f, train_acc:%.3f, train_f1:%.3f'% (epoch+1,i+1,cur_loss/100,cur_acc/1600,cur_f1/100))\n",
    "            cur_loss,cur_acc,cur_f1 = 0.0,0.0,0.0\n",
    "        \n",
    "    #eval\n",
    "    model.eval()\n",
    "    valid_loss,valid_acc,valid_f1=0.0,0.0,0.0\n",
    "    for i,data in enumerate(val_dataloader):\n",
    "        images,labels = data\n",
    "        images,labels = images.to(device),labels.to(device)\n",
    "        \n",
    "        model_output = model(images)\n",
    "        #print(model_output,labels)\n",
    "        loss = criterion(model_output,labels)\n",
    "        valid_loss += loss.item()\n",
    "        \n",
    "        predict = model_output.argmax(dim=-1)\n",
    "        valid_acc += torch.sum(labels==predict)\n",
    "        \n",
    "        f1 = f1_loss(labels,model_output)\n",
    "        valid_f1 += f1\n",
    "        \n",
    "    print('epoch [%d] valid_loss: %.3f, valid_acc:%.3f, valid_f1:%.3f'% (epoch+1,valid_loss/(i+1),valid_acc/(4*(i+1)),valid_f1/(i+1)))\n",
    "\n",
    "print('training finished')"
   ]
  },
  {
   "cell_type": "code",
   "execution_count": null,
   "id": "7df1f6f6-44a8-4881-afee-35b66738b667",
   "metadata": {},
   "outputs": [],
   "source": [
    "torch.save(model,'models/0826_2_model.pth')"
   ]
  },
  {
   "cell_type": "code",
   "execution_count": null,
   "id": "b11ccd08-3008-417c-9776-9b728ce32790",
   "metadata": {},
   "outputs": [],
   "source": [
    "print(right_count)"
   ]
  },
  {
   "cell_type": "code",
   "execution_count": null,
   "id": "dbb33052-9ac7-4a4d-972f-68c3e0cc6dda",
   "metadata": {},
   "outputs": [],
   "source": [
    "print(wrong_count)"
   ]
  },
  {
   "cell_type": "code",
   "execution_count": null,
   "id": "ceb86f4d-ca39-4a68-b3f3-82c04fc9824c",
   "metadata": {},
   "outputs": [],
   "source": []
  }
 ],
 "metadata": {
  "kernelspec": {
   "display_name": "Python 3 (ipykernel)",
   "language": "python",
   "name": "python3"
  },
  "language_info": {
   "codemirror_mode": {
    "name": "ipython",
    "version": 3
   },
   "file_extension": ".py",
   "mimetype": "text/x-python",
   "name": "python",
   "nbconvert_exporter": "python",
   "pygments_lexer": "ipython3",
   "version": "3.8.5"
  }
 },
 "nbformat": 4,
 "nbformat_minor": 5
}

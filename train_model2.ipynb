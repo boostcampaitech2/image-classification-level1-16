{
 "cells": [
  {
   "cell_type": "code",
   "execution_count": 18,
   "id": "7996b754-3951-46d9-ac17-2288a59718d3",
   "metadata": {},
   "outputs": [],
   "source": [
    "import sys\n",
    "sys.path.append('/opt/ml/code')\n",
    "\n",
    "import random\n",
    "\n",
    "import numpy as np\n",
    "import pandas as pd\n",
    "import matplotlib.pyplot as plt\n",
    "\n",
    "from my_modules.transform import get_transform\n",
    "from my_modules.dataset import TrainDataset, EvalDataset\n",
    "from my_modules.trainer import Trainer\n",
    "from my_modules.loss import LabelSmoothing\n",
    "\n",
    "import torch\n",
    "import torch.nn as nn\n",
    "import torch.optim as optim\n",
    "from torch.utils.data import DataLoader , ConcatDataset\n",
    "from torchvision import models\n",
    "\n",
    "from efficientnet_pytorch import EfficientNet"
   ]
  },
  {
   "cell_type": "code",
   "execution_count": 19,
   "id": "dc4ce54d-ecc0-460a-b6b1-3b8107507726",
   "metadata": {},
   "outputs": [],
   "source": [
    "## hyperparameters\n",
    "\n",
    "model_name = 'efficientnet-b0'\n",
    "device = 'cuda'\n",
    "batch_size = 64\n",
    "lr = 0.00006\n",
    "num_epoch = 50\n",
    "target = 'age'\n",
    "fold = 1\n",
    "\n",
    "df_train_path = f'df/fold/df_train_age_{fold}.csv'\n",
    "df_valid_path = f'df/fold/df_valid_age_{fold}.csv'\n",
    "\n",
    "# df_train_path = f'df/fold/df_train_fold{fold}.csv'\n",
    "# df_valid_path = f'df/fold/df_valid_fold{fold}.csv'\n",
    "#df_test_path = '/opt/ml/input/data/eval/info.csv'\n",
    "\n",
    "df_filtered = pd.read_csv('df/final.csv')\n",
    "df_filtered['path'] = '/opt/ml/input/data/eval/images/' + df_filtered['ImageID']\n",
    "\n",
    "df_train = pd.read_csv(df_train_path)\n",
    "df_valid = pd.read_csv(df_valid_path)\n",
    "df_train = pd.concat([df_train, df_valid, df_filtered])\n",
    "#df_test = pd.read_csv(df_test_path)"
   ]
  },
  {
   "cell_type": "code",
   "execution_count": 26,
   "id": "ffcfe6eb-b6e6-4538-bac8-93f5d8550b8f",
   "metadata": {},
   "outputs": [
    {
     "data": {
      "text/plain": [
       "0    14320\n",
       "1    12216\n",
       "2     4964\n",
       "Name: age, dtype: int64"
      ]
     },
     "execution_count": 26,
     "metadata": {},
     "output_type": "execute_result"
    }
   ],
   "source": [
    "df_train.age.value_counts()"
   ]
  },
  {
   "cell_type": "code",
   "execution_count": 20,
   "id": "fdd17cd9-e63a-410f-b1d1-ebf7f0144f67",
   "metadata": {},
   "outputs": [],
   "source": [
    "df_valid = df_filtered"
   ]
  },
  {
   "cell_type": "code",
   "execution_count": 21,
   "id": "82acc335-f10a-49ce-a863-8620254bbe05",
   "metadata": {},
   "outputs": [
    {
     "data": {
      "text/plain": [
       "0    14320\n",
       "1    12216\n",
       "2     4964\n",
       "Name: age, dtype: int64"
      ]
     },
     "execution_count": 21,
     "metadata": {},
     "output_type": "execute_result"
    }
   ],
   "source": [
    "df_train['age'].value_counts()"
   ]
  },
  {
   "cell_type": "code",
   "execution_count": 4,
   "id": "618a057b-cc38-4b2d-8dee-ce833c1349d4",
   "metadata": {},
   "outputs": [],
   "source": [
    "# import pickle\n",
    "# df_valid = pd.read_csv('/opt/ml/input/data/eval/info.csv')\n",
    "# with open('pkl/ensembled_age5.pkl', 'rb') as f:\n",
    "#     df_valid['age'] = pickle.load(f)\n",
    "# df_valid['path'] = '/opt/ml/input/data/eval/images/' + df_valid['ImageID']\n",
    "#df_valid = pd.read_csv('df/df_pseudo.csv')"
   ]
  },
  {
   "cell_type": "code",
   "execution_count": 27,
   "id": "4530c32d-f8a3-492c-bf37-9b1da4b70778",
   "metadata": {},
   "outputs": [],
   "source": [
    "## seeds\n",
    "\n",
    "random_seed = fold\n",
    "\n",
    "torch.manual_seed(random_seed)\n",
    "torch.backends.cudnn.deterministic = True\n",
    "torch.backends.cudnn.benchmark = False\n",
    "np.random.seed(random_seed)\n",
    "random.seed(random_seed)"
   ]
  },
  {
   "cell_type": "code",
   "execution_count": 6,
   "id": "8e981180-bb66-4e29-8779-0c0133057abe",
   "metadata": {},
   "outputs": [],
   "source": [
    "# bins = [0, 29, 58, 100]\n",
    "# labels = [0, 1, 2]\n",
    "# df_train['age'] = pd.cut(df_train['age_real'], bins=bins, labels=labels)\n",
    "# df_valid['age'] = pd.cut(df_valid['age_real'], bins=bins, labels=labels)"
   ]
  },
  {
   "cell_type": "code",
   "execution_count": 28,
   "id": "59102896-5704-431e-a7e8-3f73de492de2",
   "metadata": {},
   "outputs": [
    {
     "name": "stdout",
     "output_type": "stream",
     "text": [
      "224\n"
     ]
    }
   ],
   "source": [
    "input_size = EfficientNet.get_image_size(model_name)\n",
    "print(input_size)"
   ]
  },
  {
   "cell_type": "code",
   "execution_count": 29,
   "id": "f9030df0-9fcd-4d12-8306-4b828952a56b",
   "metadata": {},
   "outputs": [],
   "source": [
    "## transform\n",
    "\n",
    "transform_train = get_transform(augment=True, crop=350, resize=input_size, cutout=100)\n",
    "transform_valid = get_transform(augment=False, crop=350, resize=input_size, cutout=None)"
   ]
  },
  {
   "cell_type": "code",
   "execution_count": 30,
   "id": "5fdc9923-a57c-4eb5-8f20-493ccea36164",
   "metadata": {},
   "outputs": [],
   "source": [
    "## prepare dataset\n",
    "\n",
    "train_dataset = TrainDataset(df=df_train, transform=transform_train, target=target)\n",
    "valid_dataset = TrainDataset(df=df_valid, transform=transform_valid, target=target)"
   ]
  },
  {
   "cell_type": "code",
   "execution_count": null,
   "id": "c609bbc9-d94e-486a-b1d4-8af4eefa82c4",
   "metadata": {},
   "outputs": [],
   "source": [
    "# # if using external dataset\n",
    "\n",
    "# df_ff_path = f'df/fold/df_ff{fold}.csv'\n",
    "# df_ff = pd.read_csv(df_ff_path)\n",
    "#transform_ff = get_transform(augment=True, crop=400, resize=input_size, cutout=100)\n",
    "# ff_dataset = TrainDataset(df=df_ff, transform=transform_ff, target=target)\n",
    "\n",
    "# df_mega_path = 'df/df_megaasian_2000.csv'\n",
    "# df_mega = pd.read_csv(df_mega_path)\n",
    "# transform_mega = get_transform(augment=True, crop=224, resize=224, cutout=100)\n",
    "# mega_dataset = TrainDataset(df=df_mega, transform=transform_mega, target=target)\n",
    "\n",
    "# df_train = pd.concat([df_mega, df_train])\n",
    "# train_dataset = ConcatDataset([mega_dataset, train_dataset])"
   ]
  },
  {
   "cell_type": "code",
   "execution_count": 31,
   "id": "4bbd6554-31d9-44d5-9aea-e73fac2b3592",
   "metadata": {},
   "outputs": [
    {
     "name": "stdout",
     "output_type": "stream",
     "text": [
      "count : [14320 12216  4964]\n"
     ]
    }
   ],
   "source": [
    "## prepare sampler\n",
    "\n",
    "from torch.utils.data.sampler import WeightedRandomSampler\n",
    "\n",
    "weight = df_train[target].value_counts().sort_index().to_numpy()\n",
    "print('count :', weight)\n",
    "weight = 1. / weight\n",
    "samples_weight = np.array([weight[t] for t in df_train[target]])\n",
    "samples_weight = torch.from_numpy(samples_weight)\n",
    "sampler = WeightedRandomSampler(samples_weight.type('torch.DoubleTensor'), len(samples_weight)//4)"
   ]
  },
  {
   "cell_type": "code",
   "execution_count": 32,
   "id": "d31b51ae-c253-478d-a2a1-2c673a6ad4fe",
   "metadata": {},
   "outputs": [],
   "source": [
    "## prepare dataloader\n",
    "\n",
    "dataloaders = {\n",
    "                'train' : DataLoader(train_dataset, batch_size=batch_size, num_workers=3, drop_last=True, sampler=sampler),\n",
    "                'valid' : DataLoader(valid_dataset, batch_size=batch_size, num_workers=3, drop_last=False, shuffle=False),\n",
    "              }"
   ]
  },
  {
   "cell_type": "code",
   "execution_count": null,
   "id": "56ec6b85-d8be-4b23-91a4-9db6abdeef08",
   "metadata": {},
   "outputs": [],
   "source": [
    "# check input train batch\n",
    "\n",
    "from my_modules.utils import imshow\n",
    "batch = next(iter(dataloaders['train']))\n",
    "imshow(batch[0])\n",
    "print(batch[1])"
   ]
  },
  {
   "cell_type": "code",
   "execution_count": 33,
   "id": "f6d52762-416a-414b-b9df-65b1c55d84a9",
   "metadata": {},
   "outputs": [
    {
     "name": "stdout",
     "output_type": "stream",
     "text": [
      "Loaded pretrained weights for efficientnet-b0\n",
      "efficientnet-b0 ready\n"
     ]
    }
   ],
   "source": [
    "## prepare model\n",
    "\n",
    "if model_name.startswith('efficientnet'):\n",
    "    model = EfficientNet.from_pretrained(model_name, num_classes=2 if target=='gender' else 3)\n",
    "elif model_name.startswith('tf'):\n",
    "    import timm\n",
    "    model = timm.create_model('tf_efficientnetv2_b3', pretrained=True, num_classes=2 if target=='gender' else 3)\n",
    "else:\n",
    "    model = models.resnet18(pretrained=True)\n",
    "    model.fc = nn.Linear(model.fc.in_features, len(train_dataset.classes))\n",
    "    \n",
    "model.to(device)\n",
    "print(model_name, 'ready')"
   ]
  },
  {
   "cell_type": "code",
   "execution_count": 34,
   "id": "c059f364-7d17-4a16-ba17-79a2e387bce4",
   "metadata": {},
   "outputs": [],
   "source": [
    "criterion = LabelSmoothing(0.05)\n",
    "optimizer = optim.Adam(model.parameters(), lr=lr)\n",
    "lr_scheduler = None #optim.lr_scheduler.MultiStepLR(optimizer, milestones=[5, 10, 15], gamma = 0.2)"
   ]
  },
  {
   "cell_type": "markdown",
   "id": "7f72af9d-da9b-4ef9-b6cc-0d4ab85c685c",
   "metadata": {},
   "source": [
    "## Train"
   ]
  },
  {
   "cell_type": "code",
   "execution_count": 35,
   "id": "a51e00a5-6372-454e-bb6f-336cdba0a172",
   "metadata": {},
   "outputs": [],
   "source": [
    "trainer = Trainer('/opt/ml/code/save')"
   ]
  },
  {
   "cell_type": "code",
   "execution_count": 16,
   "id": "6ec43c8e-ec7d-4346-8a24-5d13ea71d958",
   "metadata": {},
   "outputs": [],
   "source": [
    "# ## resume\n",
    "# # model.load_state_dict(torch.load('/opt/ml/code/save/label/effnet_test018.pt'))\n",
    "\n",
    "# # change lr manually:\n",
    "# for g in optimizer.param_groups:\n",
    "#     g['lr'] = 0.00001"
   ]
  },
  {
   "cell_type": "code",
   "execution_count": 36,
   "id": "b17cd26e-04c3-47af-ab0b-7b20a22ea6d6",
   "metadata": {},
   "outputs": [
    {
     "name": "stdout",
     "output_type": "stream",
     "text": [
      "Epoch 1/50\n",
      "----------\n"
     ]
    },
    {
     "name": "stderr",
     "output_type": "stream",
     "text": [
      "100%|██████████| 123/123 [00:34<00:00,  3.56it/s]\n"
     ]
    },
    {
     "name": "stdout",
     "output_type": "stream",
     "text": [
      "train Epoch: 1 Loss: 0.7244 Acc: 0.7395 F1: 0.733283801402398\n"
     ]
    },
    {
     "name": "stderr",
     "output_type": "stream",
     "text": [
      "100%|██████████| 197/197 [00:24<00:00,  7.96it/s]\n"
     ]
    },
    {
     "name": "stdout",
     "output_type": "stream",
     "text": [
      "valid Epoch: 1 Loss: 0.3779 Acc: 0.9112 F1: 0.8990579366648889\n",
      "\n",
      "Epoch 2/50\n",
      "----------\n"
     ]
    },
    {
     "name": "stderr",
     "output_type": "stream",
     "text": [
      "100%|██████████| 123/123 [00:34<00:00,  3.55it/s]\n"
     ]
    },
    {
     "name": "stdout",
     "output_type": "stream",
     "text": [
      "train Epoch: 2 Loss: 0.4560 Acc: 0.8575 F1: 0.856191109452242\n"
     ]
    },
    {
     "name": "stderr",
     "output_type": "stream",
     "text": [
      "100%|██████████| 197/197 [00:24<00:00,  7.93it/s]\n"
     ]
    },
    {
     "name": "stdout",
     "output_type": "stream",
     "text": [
      "valid Epoch: 2 Loss: 0.2962 Acc: 0.9482 F1: 0.9407019808784428\n",
      "\n",
      "Epoch 3/50\n",
      "----------\n"
     ]
    },
    {
     "name": "stderr",
     "output_type": "stream",
     "text": [
      "100%|██████████| 123/123 [00:34<00:00,  3.59it/s]\n"
     ]
    },
    {
     "name": "stdout",
     "output_type": "stream",
     "text": [
      "train Epoch: 3 Loss: 0.4210 Acc: 0.8761 F1: 0.875314816340245\n"
     ]
    },
    {
     "name": "stderr",
     "output_type": "stream",
     "text": [
      "100%|██████████| 197/197 [00:24<00:00,  7.96it/s]\n"
     ]
    },
    {
     "name": "stdout",
     "output_type": "stream",
     "text": [
      "valid Epoch: 3 Loss: 0.2801 Acc: 0.9547 F1: 0.9477942022341925\n",
      "\n",
      "Epoch 4/50\n",
      "----------\n"
     ]
    },
    {
     "name": "stderr",
     "output_type": "stream",
     "text": [
      "100%|██████████| 123/123 [00:34<00:00,  3.60it/s]\n"
     ]
    },
    {
     "name": "stdout",
     "output_type": "stream",
     "text": [
      "train Epoch: 4 Loss: 0.3898 Acc: 0.8906 F1: 0.8897775297635713\n"
     ]
    },
    {
     "name": "stderr",
     "output_type": "stream",
     "text": [
      "100%|██████████| 197/197 [00:24<00:00,  7.93it/s]\n"
     ]
    },
    {
     "name": "stdout",
     "output_type": "stream",
     "text": [
      "valid Epoch: 4 Loss: 0.2776 Acc: 0.9483 F1: 0.939777334271338\n",
      "\n",
      "Epoch 5/50\n",
      "----------\n"
     ]
    },
    {
     "name": "stderr",
     "output_type": "stream",
     "text": [
      "100%|██████████| 123/123 [00:34<00:00,  3.56it/s]\n"
     ]
    },
    {
     "name": "stdout",
     "output_type": "stream",
     "text": [
      "train Epoch: 5 Loss: 0.3716 Acc: 0.8999 F1: 0.8999315082139244\n"
     ]
    },
    {
     "name": "stderr",
     "output_type": "stream",
     "text": [
      "100%|██████████| 197/197 [00:24<00:00,  7.95it/s]\n"
     ]
    },
    {
     "name": "stdout",
     "output_type": "stream",
     "text": [
      "valid Epoch: 5 Loss: 0.2492 Acc: 0.9673 F1: 0.9622724269864472\n",
      "\n",
      "Epoch 6/50\n",
      "----------\n"
     ]
    },
    {
     "name": "stderr",
     "output_type": "stream",
     "text": [
      "100%|██████████| 123/123 [00:35<00:00,  3.49it/s]\n"
     ]
    },
    {
     "name": "stdout",
     "output_type": "stream",
     "text": [
      "train Epoch: 6 Loss: 0.3511 Acc: 0.9136 F1: 0.9137987236128837\n"
     ]
    },
    {
     "name": "stderr",
     "output_type": "stream",
     "text": [
      "100%|██████████| 197/197 [00:25<00:00,  7.79it/s]\n"
     ]
    },
    {
     "name": "stdout",
     "output_type": "stream",
     "text": [
      "valid Epoch: 6 Loss: 0.2327 Acc: 0.9766 F1: 0.9731852647079888\n",
      "\n",
      "Epoch 7/50\n",
      "----------\n"
     ]
    },
    {
     "name": "stderr",
     "output_type": "stream",
     "text": [
      "100%|██████████| 123/123 [00:34<00:00,  3.57it/s]\n"
     ]
    },
    {
     "name": "stdout",
     "output_type": "stream",
     "text": [
      "train Epoch: 7 Loss: 0.3370 Acc: 0.9195 F1: 0.9196022382497085\n"
     ]
    },
    {
     "name": "stderr",
     "output_type": "stream",
     "text": [
      "100%|██████████| 197/197 [00:25<00:00,  7.81it/s]\n"
     ]
    },
    {
     "name": "stdout",
     "output_type": "stream",
     "text": [
      "valid Epoch: 7 Loss: 0.2361 Acc: 0.9737 F1: 0.9696565027388523\n",
      "\n",
      "Epoch 8/50\n",
      "----------\n"
     ]
    },
    {
     "name": "stderr",
     "output_type": "stream",
     "text": [
      "100%|██████████| 123/123 [00:35<00:00,  3.51it/s]\n"
     ]
    },
    {
     "name": "stdout",
     "output_type": "stream",
     "text": [
      "train Epoch: 8 Loss: 0.3335 Acc: 0.9215 F1: 0.9220755092246304\n"
     ]
    },
    {
     "name": "stderr",
     "output_type": "stream",
     "text": [
      "100%|██████████| 197/197 [00:25<00:00,  7.78it/s]\n"
     ]
    },
    {
     "name": "stdout",
     "output_type": "stream",
     "text": [
      "valid Epoch: 8 Loss: 0.2246 Acc: 0.9784 F1: 0.9750512293653445\n",
      "\n",
      "Epoch 9/50\n",
      "----------\n"
     ]
    },
    {
     "name": "stderr",
     "output_type": "stream",
     "text": [
      "100%|██████████| 123/123 [00:35<00:00,  3.51it/s]\n"
     ]
    },
    {
     "name": "stdout",
     "output_type": "stream",
     "text": [
      "train Epoch: 9 Loss: 0.3139 Acc: 0.9320 F1: 0.9317845330915867\n"
     ]
    },
    {
     "name": "stderr",
     "output_type": "stream",
     "text": [
      "100%|██████████| 197/197 [00:25<00:00,  7.87it/s]\n"
     ]
    },
    {
     "name": "stdout",
     "output_type": "stream",
     "text": [
      "valid Epoch: 9 Loss: 0.2159 Acc: 0.9834 F1: 0.9809149015548427\n",
      "\n",
      "Epoch 10/50\n",
      "----------\n"
     ]
    },
    {
     "name": "stderr",
     "output_type": "stream",
     "text": [
      "100%|██████████| 123/123 [00:34<00:00,  3.60it/s]\n"
     ]
    },
    {
     "name": "stdout",
     "output_type": "stream",
     "text": [
      "train Epoch: 10 Loss: 0.3069 Acc: 0.9342 F1: 0.9340849357985994\n"
     ]
    },
    {
     "name": "stderr",
     "output_type": "stream",
     "text": [
      "100%|██████████| 197/197 [00:24<00:00,  7.97it/s]\n"
     ]
    },
    {
     "name": "stdout",
     "output_type": "stream",
     "text": [
      "valid Epoch: 10 Loss: 0.2151 Acc: 0.9826 F1: 0.9799279646877878\n",
      "\n",
      "Epoch 11/50\n",
      "----------\n"
     ]
    },
    {
     "name": "stderr",
     "output_type": "stream",
     "text": [
      "100%|██████████| 123/123 [00:34<00:00,  3.55it/s]\n"
     ]
    },
    {
     "name": "stdout",
     "output_type": "stream",
     "text": [
      "train Epoch: 11 Loss: 0.3110 Acc: 0.9334 F1: 0.9332593011751108\n"
     ]
    },
    {
     "name": "stderr",
     "output_type": "stream",
     "text": [
      "100%|██████████| 197/197 [00:24<00:00,  7.97it/s]\n"
     ]
    },
    {
     "name": "stdout",
     "output_type": "stream",
     "text": [
      "valid Epoch: 11 Loss: 0.2140 Acc: 0.9860 F1: 0.9838482584663887\n",
      "\n",
      "Epoch 12/50\n",
      "----------\n"
     ]
    },
    {
     "name": "stderr",
     "output_type": "stream",
     "text": [
      "100%|██████████| 123/123 [00:35<00:00,  3.49it/s]\n"
     ]
    },
    {
     "name": "stdout",
     "output_type": "stream",
     "text": [
      "train Epoch: 12 Loss: 0.3030 Acc: 0.9353 F1: 0.9348514490074437\n"
     ]
    },
    {
     "name": "stderr",
     "output_type": "stream",
     "text": [
      "100%|██████████| 197/197 [00:24<00:00,  7.97it/s]\n"
     ]
    },
    {
     "name": "stdout",
     "output_type": "stream",
     "text": [
      "valid Epoch: 12 Loss: 0.2199 Acc: 0.9796 F1: 0.9764209612248567\n",
      "\n",
      "Epoch 13/50\n",
      "----------\n"
     ]
    },
    {
     "name": "stderr",
     "output_type": "stream",
     "text": [
      "100%|██████████| 123/123 [00:34<00:00,  3.54it/s]\n"
     ]
    },
    {
     "name": "stdout",
     "output_type": "stream",
     "text": [
      "train Epoch: 13 Loss: 0.2915 Acc: 0.9447 F1: 0.9447363198851962\n"
     ]
    },
    {
     "name": "stderr",
     "output_type": "stream",
     "text": [
      " 18%|█▊        | 36/197 [00:04<00:22,  7.28it/s]\n"
     ]
    },
    {
     "ename": "KeyboardInterrupt",
     "evalue": "",
     "output_type": "error",
     "traceback": [
      "\u001b[0;31m---------------------------------------------------------------------------\u001b[0m",
      "\u001b[0;31mKeyboardInterrupt\u001b[0m                         Traceback (most recent call last)",
      "\u001b[0;32m<ipython-input-36-4c9a7b534453>\u001b[0m in \u001b[0;36m<module>\u001b[0;34m\u001b[0m\n\u001b[0;32m----> 1\u001b[0;31m trainer.train(model, dataloaders, criterion, optimizer, device, num_epochs=num_epoch, scheduler=lr_scheduler,\n\u001b[0m\u001b[1;32m      2\u001b[0m               sub_dir='final', save_name='epoch_')\n",
      "\u001b[0;32m~/code/my_modules/trainer.py\u001b[0m in \u001b[0;36mtrain\u001b[0;34m(self, model, dataloaders, criterion, optimizer, device, num_epochs, scheduler, save_name, sub_dir)\u001b[0m\n\u001b[1;32m     33\u001b[0m                 \u001b[0my_true\u001b[0m\u001b[0;34m,\u001b[0m \u001b[0my_pred\u001b[0m \u001b[0;34m=\u001b[0m \u001b[0;34m[\u001b[0m\u001b[0;34m]\u001b[0m\u001b[0;34m,\u001b[0m \u001b[0;34m[\u001b[0m\u001b[0;34m]\u001b[0m\u001b[0;34m\u001b[0m\u001b[0;34m\u001b[0m\u001b[0m\n\u001b[1;32m     34\u001b[0m \u001b[0;34m\u001b[0m\u001b[0m\n\u001b[0;32m---> 35\u001b[0;31m                 \u001b[0;32mfor\u001b[0m \u001b[0minputs\u001b[0m\u001b[0;34m,\u001b[0m \u001b[0mlabels\u001b[0m \u001b[0;32min\u001b[0m \u001b[0mtqdm\u001b[0m\u001b[0;34m(\u001b[0m\u001b[0mdataloaders\u001b[0m\u001b[0;34m[\u001b[0m\u001b[0mphase\u001b[0m\u001b[0;34m]\u001b[0m\u001b[0;34m)\u001b[0m\u001b[0;34m:\u001b[0m\u001b[0;34m\u001b[0m\u001b[0;34m\u001b[0m\u001b[0m\n\u001b[0m\u001b[1;32m     36\u001b[0m                     \u001b[0minputs\u001b[0m \u001b[0;34m=\u001b[0m \u001b[0minputs\u001b[0m\u001b[0;34m.\u001b[0m\u001b[0mto\u001b[0m\u001b[0;34m(\u001b[0m\u001b[0mdevice\u001b[0m\u001b[0;34m)\u001b[0m\u001b[0;34m\u001b[0m\u001b[0;34m\u001b[0m\u001b[0m\n\u001b[1;32m     37\u001b[0m                     \u001b[0mlabels\u001b[0m \u001b[0;34m=\u001b[0m \u001b[0mlabels\u001b[0m\u001b[0;34m.\u001b[0m\u001b[0mto\u001b[0m\u001b[0;34m(\u001b[0m\u001b[0mdevice\u001b[0m\u001b[0;34m)\u001b[0m\u001b[0;34m\u001b[0m\u001b[0;34m\u001b[0m\u001b[0m\n",
      "\u001b[0;32m~/anaconda3/envs/pytorch/lib/python3.9/site-packages/tqdm/std.py\u001b[0m in \u001b[0;36m__iter__\u001b[0;34m(self)\u001b[0m\n\u001b[1;32m   1183\u001b[0m \u001b[0;34m\u001b[0m\u001b[0m\n\u001b[1;32m   1184\u001b[0m         \u001b[0;32mtry\u001b[0m\u001b[0;34m:\u001b[0m\u001b[0;34m\u001b[0m\u001b[0;34m\u001b[0m\u001b[0m\n\u001b[0;32m-> 1185\u001b[0;31m             \u001b[0;32mfor\u001b[0m \u001b[0mobj\u001b[0m \u001b[0;32min\u001b[0m \u001b[0miterable\u001b[0m\u001b[0;34m:\u001b[0m\u001b[0;34m\u001b[0m\u001b[0;34m\u001b[0m\u001b[0m\n\u001b[0m\u001b[1;32m   1186\u001b[0m                 \u001b[0;32myield\u001b[0m \u001b[0mobj\u001b[0m\u001b[0;34m\u001b[0m\u001b[0;34m\u001b[0m\u001b[0m\n\u001b[1;32m   1187\u001b[0m                 \u001b[0;31m# Update and possibly print the progressbar.\u001b[0m\u001b[0;34m\u001b[0m\u001b[0;34m\u001b[0m\u001b[0;34m\u001b[0m\u001b[0m\n",
      "\u001b[0;32m~/anaconda3/envs/pytorch/lib/python3.9/site-packages/torch/utils/data/dataloader.py\u001b[0m in \u001b[0;36m__next__\u001b[0;34m(self)\u001b[0m\n\u001b[1;32m    519\u001b[0m             \u001b[0;32mif\u001b[0m \u001b[0mself\u001b[0m\u001b[0;34m.\u001b[0m\u001b[0m_sampler_iter\u001b[0m \u001b[0;32mis\u001b[0m \u001b[0;32mNone\u001b[0m\u001b[0;34m:\u001b[0m\u001b[0;34m\u001b[0m\u001b[0;34m\u001b[0m\u001b[0m\n\u001b[1;32m    520\u001b[0m                 \u001b[0mself\u001b[0m\u001b[0;34m.\u001b[0m\u001b[0m_reset\u001b[0m\u001b[0;34m(\u001b[0m\u001b[0;34m)\u001b[0m\u001b[0;34m\u001b[0m\u001b[0;34m\u001b[0m\u001b[0m\n\u001b[0;32m--> 521\u001b[0;31m             \u001b[0mdata\u001b[0m \u001b[0;34m=\u001b[0m \u001b[0mself\u001b[0m\u001b[0;34m.\u001b[0m\u001b[0m_next_data\u001b[0m\u001b[0;34m(\u001b[0m\u001b[0;34m)\u001b[0m\u001b[0;34m\u001b[0m\u001b[0;34m\u001b[0m\u001b[0m\n\u001b[0m\u001b[1;32m    522\u001b[0m             \u001b[0mself\u001b[0m\u001b[0;34m.\u001b[0m\u001b[0m_num_yielded\u001b[0m \u001b[0;34m+=\u001b[0m \u001b[0;36m1\u001b[0m\u001b[0;34m\u001b[0m\u001b[0;34m\u001b[0m\u001b[0m\n\u001b[1;32m    523\u001b[0m             \u001b[0;32mif\u001b[0m \u001b[0mself\u001b[0m\u001b[0;34m.\u001b[0m\u001b[0m_dataset_kind\u001b[0m \u001b[0;34m==\u001b[0m \u001b[0m_DatasetKind\u001b[0m\u001b[0;34m.\u001b[0m\u001b[0mIterable\u001b[0m \u001b[0;32mand\u001b[0m\u001b[0;31m \u001b[0m\u001b[0;31m\\\u001b[0m\u001b[0;34m\u001b[0m\u001b[0;34m\u001b[0m\u001b[0m\n",
      "\u001b[0;32m~/anaconda3/envs/pytorch/lib/python3.9/site-packages/torch/utils/data/dataloader.py\u001b[0m in \u001b[0;36m_next_data\u001b[0;34m(self)\u001b[0m\n\u001b[1;32m   1184\u001b[0m \u001b[0;34m\u001b[0m\u001b[0m\n\u001b[1;32m   1185\u001b[0m             \u001b[0;32massert\u001b[0m \u001b[0;32mnot\u001b[0m \u001b[0mself\u001b[0m\u001b[0;34m.\u001b[0m\u001b[0m_shutdown\u001b[0m \u001b[0;32mand\u001b[0m \u001b[0mself\u001b[0m\u001b[0;34m.\u001b[0m\u001b[0m_tasks_outstanding\u001b[0m \u001b[0;34m>\u001b[0m \u001b[0;36m0\u001b[0m\u001b[0;34m\u001b[0m\u001b[0;34m\u001b[0m\u001b[0m\n\u001b[0;32m-> 1186\u001b[0;31m             \u001b[0midx\u001b[0m\u001b[0;34m,\u001b[0m \u001b[0mdata\u001b[0m \u001b[0;34m=\u001b[0m \u001b[0mself\u001b[0m\u001b[0;34m.\u001b[0m\u001b[0m_get_data\u001b[0m\u001b[0;34m(\u001b[0m\u001b[0;34m)\u001b[0m\u001b[0;34m\u001b[0m\u001b[0;34m\u001b[0m\u001b[0m\n\u001b[0m\u001b[1;32m   1187\u001b[0m             \u001b[0mself\u001b[0m\u001b[0;34m.\u001b[0m\u001b[0m_tasks_outstanding\u001b[0m \u001b[0;34m-=\u001b[0m \u001b[0;36m1\u001b[0m\u001b[0;34m\u001b[0m\u001b[0;34m\u001b[0m\u001b[0m\n\u001b[1;32m   1188\u001b[0m             \u001b[0;32mif\u001b[0m \u001b[0mself\u001b[0m\u001b[0;34m.\u001b[0m\u001b[0m_dataset_kind\u001b[0m \u001b[0;34m==\u001b[0m \u001b[0m_DatasetKind\u001b[0m\u001b[0;34m.\u001b[0m\u001b[0mIterable\u001b[0m\u001b[0;34m:\u001b[0m\u001b[0;34m\u001b[0m\u001b[0;34m\u001b[0m\u001b[0m\n",
      "\u001b[0;32m~/anaconda3/envs/pytorch/lib/python3.9/site-packages/torch/utils/data/dataloader.py\u001b[0m in \u001b[0;36m_get_data\u001b[0;34m(self)\u001b[0m\n\u001b[1;32m   1150\u001b[0m         \u001b[0;32melse\u001b[0m\u001b[0;34m:\u001b[0m\u001b[0;34m\u001b[0m\u001b[0;34m\u001b[0m\u001b[0m\n\u001b[1;32m   1151\u001b[0m             \u001b[0;32mwhile\u001b[0m \u001b[0;32mTrue\u001b[0m\u001b[0;34m:\u001b[0m\u001b[0;34m\u001b[0m\u001b[0;34m\u001b[0m\u001b[0m\n\u001b[0;32m-> 1152\u001b[0;31m                 \u001b[0msuccess\u001b[0m\u001b[0;34m,\u001b[0m \u001b[0mdata\u001b[0m \u001b[0;34m=\u001b[0m \u001b[0mself\u001b[0m\u001b[0;34m.\u001b[0m\u001b[0m_try_get_data\u001b[0m\u001b[0;34m(\u001b[0m\u001b[0;34m)\u001b[0m\u001b[0;34m\u001b[0m\u001b[0;34m\u001b[0m\u001b[0m\n\u001b[0m\u001b[1;32m   1153\u001b[0m                 \u001b[0;32mif\u001b[0m \u001b[0msuccess\u001b[0m\u001b[0;34m:\u001b[0m\u001b[0;34m\u001b[0m\u001b[0;34m\u001b[0m\u001b[0m\n\u001b[1;32m   1154\u001b[0m                     \u001b[0;32mreturn\u001b[0m \u001b[0mdata\u001b[0m\u001b[0;34m\u001b[0m\u001b[0;34m\u001b[0m\u001b[0m\n",
      "\u001b[0;32m~/anaconda3/envs/pytorch/lib/python3.9/site-packages/torch/utils/data/dataloader.py\u001b[0m in \u001b[0;36m_try_get_data\u001b[0;34m(self, timeout)\u001b[0m\n\u001b[1;32m    988\u001b[0m         \u001b[0;31m#   (bool: whether successfully get data, any: data if successful else None)\u001b[0m\u001b[0;34m\u001b[0m\u001b[0;34m\u001b[0m\u001b[0;34m\u001b[0m\u001b[0m\n\u001b[1;32m    989\u001b[0m         \u001b[0;32mtry\u001b[0m\u001b[0;34m:\u001b[0m\u001b[0;34m\u001b[0m\u001b[0;34m\u001b[0m\u001b[0m\n\u001b[0;32m--> 990\u001b[0;31m             \u001b[0mdata\u001b[0m \u001b[0;34m=\u001b[0m \u001b[0mself\u001b[0m\u001b[0;34m.\u001b[0m\u001b[0m_data_queue\u001b[0m\u001b[0;34m.\u001b[0m\u001b[0mget\u001b[0m\u001b[0;34m(\u001b[0m\u001b[0mtimeout\u001b[0m\u001b[0;34m=\u001b[0m\u001b[0mtimeout\u001b[0m\u001b[0;34m)\u001b[0m\u001b[0;34m\u001b[0m\u001b[0;34m\u001b[0m\u001b[0m\n\u001b[0m\u001b[1;32m    991\u001b[0m             \u001b[0;32mreturn\u001b[0m \u001b[0;34m(\u001b[0m\u001b[0;32mTrue\u001b[0m\u001b[0;34m,\u001b[0m \u001b[0mdata\u001b[0m\u001b[0;34m)\u001b[0m\u001b[0;34m\u001b[0m\u001b[0;34m\u001b[0m\u001b[0m\n\u001b[1;32m    992\u001b[0m         \u001b[0;32mexcept\u001b[0m \u001b[0mException\u001b[0m \u001b[0;32mas\u001b[0m \u001b[0me\u001b[0m\u001b[0;34m:\u001b[0m\u001b[0;34m\u001b[0m\u001b[0;34m\u001b[0m\u001b[0m\n",
      "\u001b[0;32m~/anaconda3/envs/pytorch/lib/python3.9/multiprocessing/queues.py\u001b[0m in \u001b[0;36mget\u001b[0;34m(self, block, timeout)\u001b[0m\n\u001b[1;32m    111\u001b[0m                 \u001b[0;32mif\u001b[0m \u001b[0mblock\u001b[0m\u001b[0;34m:\u001b[0m\u001b[0;34m\u001b[0m\u001b[0;34m\u001b[0m\u001b[0m\n\u001b[1;32m    112\u001b[0m                     \u001b[0mtimeout\u001b[0m \u001b[0;34m=\u001b[0m \u001b[0mdeadline\u001b[0m \u001b[0;34m-\u001b[0m \u001b[0mtime\u001b[0m\u001b[0;34m.\u001b[0m\u001b[0mmonotonic\u001b[0m\u001b[0;34m(\u001b[0m\u001b[0;34m)\u001b[0m\u001b[0;34m\u001b[0m\u001b[0;34m\u001b[0m\u001b[0m\n\u001b[0;32m--> 113\u001b[0;31m                     \u001b[0;32mif\u001b[0m \u001b[0;32mnot\u001b[0m \u001b[0mself\u001b[0m\u001b[0;34m.\u001b[0m\u001b[0m_poll\u001b[0m\u001b[0;34m(\u001b[0m\u001b[0mtimeout\u001b[0m\u001b[0;34m)\u001b[0m\u001b[0;34m:\u001b[0m\u001b[0;34m\u001b[0m\u001b[0;34m\u001b[0m\u001b[0m\n\u001b[0m\u001b[1;32m    114\u001b[0m                         \u001b[0;32mraise\u001b[0m \u001b[0mEmpty\u001b[0m\u001b[0;34m\u001b[0m\u001b[0;34m\u001b[0m\u001b[0m\n\u001b[1;32m    115\u001b[0m                 \u001b[0;32melif\u001b[0m \u001b[0;32mnot\u001b[0m \u001b[0mself\u001b[0m\u001b[0;34m.\u001b[0m\u001b[0m_poll\u001b[0m\u001b[0;34m(\u001b[0m\u001b[0;34m)\u001b[0m\u001b[0;34m:\u001b[0m\u001b[0;34m\u001b[0m\u001b[0;34m\u001b[0m\u001b[0m\n",
      "\u001b[0;32m~/anaconda3/envs/pytorch/lib/python3.9/multiprocessing/connection.py\u001b[0m in \u001b[0;36mpoll\u001b[0;34m(self, timeout)\u001b[0m\n\u001b[1;32m    260\u001b[0m         \u001b[0mself\u001b[0m\u001b[0;34m.\u001b[0m\u001b[0m_check_closed\u001b[0m\u001b[0;34m(\u001b[0m\u001b[0;34m)\u001b[0m\u001b[0;34m\u001b[0m\u001b[0;34m\u001b[0m\u001b[0m\n\u001b[1;32m    261\u001b[0m         \u001b[0mself\u001b[0m\u001b[0;34m.\u001b[0m\u001b[0m_check_readable\u001b[0m\u001b[0;34m(\u001b[0m\u001b[0;34m)\u001b[0m\u001b[0;34m\u001b[0m\u001b[0;34m\u001b[0m\u001b[0m\n\u001b[0;32m--> 262\u001b[0;31m         \u001b[0;32mreturn\u001b[0m \u001b[0mself\u001b[0m\u001b[0;34m.\u001b[0m\u001b[0m_poll\u001b[0m\u001b[0;34m(\u001b[0m\u001b[0mtimeout\u001b[0m\u001b[0;34m)\u001b[0m\u001b[0;34m\u001b[0m\u001b[0;34m\u001b[0m\u001b[0m\n\u001b[0m\u001b[1;32m    263\u001b[0m \u001b[0;34m\u001b[0m\u001b[0m\n\u001b[1;32m    264\u001b[0m     \u001b[0;32mdef\u001b[0m \u001b[0m__enter__\u001b[0m\u001b[0;34m(\u001b[0m\u001b[0mself\u001b[0m\u001b[0;34m)\u001b[0m\u001b[0;34m:\u001b[0m\u001b[0;34m\u001b[0m\u001b[0;34m\u001b[0m\u001b[0m\n",
      "\u001b[0;32m~/anaconda3/envs/pytorch/lib/python3.9/multiprocessing/connection.py\u001b[0m in \u001b[0;36m_poll\u001b[0;34m(self, timeout)\u001b[0m\n\u001b[1;32m    427\u001b[0m \u001b[0;34m\u001b[0m\u001b[0m\n\u001b[1;32m    428\u001b[0m     \u001b[0;32mdef\u001b[0m \u001b[0m_poll\u001b[0m\u001b[0;34m(\u001b[0m\u001b[0mself\u001b[0m\u001b[0;34m,\u001b[0m \u001b[0mtimeout\u001b[0m\u001b[0;34m)\u001b[0m\u001b[0;34m:\u001b[0m\u001b[0;34m\u001b[0m\u001b[0;34m\u001b[0m\u001b[0m\n\u001b[0;32m--> 429\u001b[0;31m         \u001b[0mr\u001b[0m \u001b[0;34m=\u001b[0m \u001b[0mwait\u001b[0m\u001b[0;34m(\u001b[0m\u001b[0;34m[\u001b[0m\u001b[0mself\u001b[0m\u001b[0;34m]\u001b[0m\u001b[0;34m,\u001b[0m \u001b[0mtimeout\u001b[0m\u001b[0;34m)\u001b[0m\u001b[0;34m\u001b[0m\u001b[0;34m\u001b[0m\u001b[0m\n\u001b[0m\u001b[1;32m    430\u001b[0m         \u001b[0;32mreturn\u001b[0m \u001b[0mbool\u001b[0m\u001b[0;34m(\u001b[0m\u001b[0mr\u001b[0m\u001b[0;34m)\u001b[0m\u001b[0;34m\u001b[0m\u001b[0;34m\u001b[0m\u001b[0m\n\u001b[1;32m    431\u001b[0m \u001b[0;34m\u001b[0m\u001b[0m\n",
      "\u001b[0;32m~/anaconda3/envs/pytorch/lib/python3.9/multiprocessing/connection.py\u001b[0m in \u001b[0;36mwait\u001b[0;34m(object_list, timeout)\u001b[0m\n\u001b[1;32m    934\u001b[0m \u001b[0;34m\u001b[0m\u001b[0m\n\u001b[1;32m    935\u001b[0m             \u001b[0;32mwhile\u001b[0m \u001b[0;32mTrue\u001b[0m\u001b[0;34m:\u001b[0m\u001b[0;34m\u001b[0m\u001b[0;34m\u001b[0m\u001b[0m\n\u001b[0;32m--> 936\u001b[0;31m                 \u001b[0mready\u001b[0m \u001b[0;34m=\u001b[0m \u001b[0mselector\u001b[0m\u001b[0;34m.\u001b[0m\u001b[0mselect\u001b[0m\u001b[0;34m(\u001b[0m\u001b[0mtimeout\u001b[0m\u001b[0;34m)\u001b[0m\u001b[0;34m\u001b[0m\u001b[0;34m\u001b[0m\u001b[0m\n\u001b[0m\u001b[1;32m    937\u001b[0m                 \u001b[0;32mif\u001b[0m \u001b[0mready\u001b[0m\u001b[0;34m:\u001b[0m\u001b[0;34m\u001b[0m\u001b[0;34m\u001b[0m\u001b[0m\n\u001b[1;32m    938\u001b[0m                     \u001b[0;32mreturn\u001b[0m \u001b[0;34m[\u001b[0m\u001b[0mkey\u001b[0m\u001b[0;34m.\u001b[0m\u001b[0mfileobj\u001b[0m \u001b[0;32mfor\u001b[0m \u001b[0;34m(\u001b[0m\u001b[0mkey\u001b[0m\u001b[0;34m,\u001b[0m \u001b[0mevents\u001b[0m\u001b[0;34m)\u001b[0m \u001b[0;32min\u001b[0m \u001b[0mready\u001b[0m\u001b[0;34m]\u001b[0m\u001b[0;34m\u001b[0m\u001b[0;34m\u001b[0m\u001b[0m\n",
      "\u001b[0;32m~/anaconda3/envs/pytorch/lib/python3.9/selectors.py\u001b[0m in \u001b[0;36mselect\u001b[0;34m(self, timeout)\u001b[0m\n\u001b[1;32m    414\u001b[0m         \u001b[0mready\u001b[0m \u001b[0;34m=\u001b[0m \u001b[0;34m[\u001b[0m\u001b[0;34m]\u001b[0m\u001b[0;34m\u001b[0m\u001b[0;34m\u001b[0m\u001b[0m\n\u001b[1;32m    415\u001b[0m         \u001b[0;32mtry\u001b[0m\u001b[0;34m:\u001b[0m\u001b[0;34m\u001b[0m\u001b[0;34m\u001b[0m\u001b[0m\n\u001b[0;32m--> 416\u001b[0;31m             \u001b[0mfd_event_list\u001b[0m \u001b[0;34m=\u001b[0m \u001b[0mself\u001b[0m\u001b[0;34m.\u001b[0m\u001b[0m_selector\u001b[0m\u001b[0;34m.\u001b[0m\u001b[0mpoll\u001b[0m\u001b[0;34m(\u001b[0m\u001b[0mtimeout\u001b[0m\u001b[0;34m)\u001b[0m\u001b[0;34m\u001b[0m\u001b[0;34m\u001b[0m\u001b[0m\n\u001b[0m\u001b[1;32m    417\u001b[0m         \u001b[0;32mexcept\u001b[0m \u001b[0mInterruptedError\u001b[0m\u001b[0;34m:\u001b[0m\u001b[0;34m\u001b[0m\u001b[0;34m\u001b[0m\u001b[0m\n\u001b[1;32m    418\u001b[0m             \u001b[0;32mreturn\u001b[0m \u001b[0mready\u001b[0m\u001b[0;34m\u001b[0m\u001b[0;34m\u001b[0m\u001b[0m\n",
      "\u001b[0;31mKeyboardInterrupt\u001b[0m: "
     ]
    }
   ],
   "source": [
    "trainer.train(model, dataloaders, criterion, optimizer, device, num_epochs=num_epoch, scheduler=lr_scheduler,\n",
    "              sub_dir='final', save_name='epoch_')"
   ]
  },
  {
   "cell_type": "markdown",
   "id": "fe922df6-52a1-423e-99ee-d16d396b5d65",
   "metadata": {},
   "source": [
    "## Logs"
   ]
  },
  {
   "cell_type": "code",
   "execution_count": null,
   "id": "ea412ade-6207-4429-bbd3-f503110f288a",
   "metadata": {},
   "outputs": [],
   "source": [
    "# age filtered\n",
    "\n",
    "valid Epoch: 8 Loss: 0.3474 Acc: 0.9214 F1: 0.8446122302339095\n"
   ]
  },
  {
   "cell_type": "code",
   "execution_count": null,
   "id": "8e7ee7ec-fe90-4f35-8493-f0236258df9f",
   "metadata": {},
   "outputs": [],
   "source": [
    "# gender filtered\n",
    "fold1: valid Epoch: 18 Loss: 0.1294 Acc: 0.9957 F1: 0.9954831964152352\n",
    "fold2: valid Epoch: 14 Loss: 0.1368 Acc: 0.9919 F1: 0.9914669674571703\n",
    "fold3: valid Epoch: 26 Loss: 0.1528 Acc: 0.9863 F1: 0.9856506850222073"
   ]
  },
  {
   "cell_type": "code",
   "execution_count": null,
   "id": "fe7d86a0-4ce0-4f8a-b55d-b1d3d35cb9e6",
   "metadata": {},
   "outputs": [],
   "source": [
    "# mask filtered\n",
    "fold1: valid Epoch: 1 Loss: 0.1763 Acc: 0.9983 F1: 0.9971124847823342\n",
    "fold2: valid Epoch: 13 Loss: 0.1766 Acc: 0.9989 F1: 0.9984395851005393\n",
    "fold3: valid Epoch: 19 Loss: 0.1734 Acc: 0.9992 F1: 0.9988874048105277"
   ]
  },
  {
   "cell_type": "markdown",
   "id": "c6d21b83-0cbc-4799-bdd7-d0b008e6071b",
   "metadata": {},
   "source": [
    "기본 설정\n",
    "\n",
    "```\n",
    "model_name = 'efficientnet-b0'\n",
    "batch_size = 64\n",
    "lr = 0.00006\n",
    "split = 20\n",
    "transform_train = get_transform(augment=True, crop=350, resize=224, cutout=100)\n",
    "transform_valid = get_transform(augment=False, crop=350, resize=224, cutout=None)\n",
    "sampler size = 1/4\n",
    "```"
   ]
  },
  {
   "cell_type": "code",
   "execution_count": null,
   "id": "e2f4207b-7df3-42f0-ad37-e4dd7a9f3420",
   "metadata": {},
   "outputs": [],
   "source": [
    "fold1 : valid Epoch: 4 Loss: 0.3962 Acc: 0.8862 F1: 0.821721722503823\n",
    "fold2 : valid Epoch: 40 Loss: 0.4248 Acc: 0.9093 F1: 0.8422249509480482\n",
    "fold3 : valid Epoch: 11 Loss: 0.3709 Acc: 0.9132 F1: 0.8585660098591014\n",
    "fold4 : valid Epoch: 23 Loss: 0.4540 Acc: 0.8907 F1: 0.8095942352403456\n",
    "fold5 :"
   ]
  },
  {
   "cell_type": "code",
   "execution_count": null,
   "id": "ffd092bc-66c5-48e8-ac7a-dc883817993f",
   "metadata": {},
   "outputs": [],
   "source": [
    "fold1 : valid Epoch: 5 Loss: 0.4595 Acc: 0.8489 F1: 0.8031238726415671\n",
    "fold2 : valid Epoch: 6 Loss: 0.4431 Acc: 0.8548 F1: 0.8012658188332825\n",
    "fold3 : valid Epoch: 10 Loss: 0.4506 Acc: 0.8553 F1: 0.8058200704748169\n",
    "fold4 : valid Epoch: 9 Loss: 0.4908 Acc: 0.8450 F1: 0.7906665769542832\n",
    "fold5 : valid Epoch: 7 Loss: 0.4672 Acc: 0.8320 F1: 0.7799060662626397"
   ]
  },
  {
   "cell_type": "markdown",
   "id": "b7a8bcb2-f56b-48f4-88ed-3c5bbd75068d",
   "metadata": {},
   "source": [
    "#age\n",
    "\n",
    "fold1: valid Epoch: 17 Loss: 0.4579 Acc: 0.8815 F1: 0.8027899336626833\n",
    "fold2: 2 Loss: 0.3948 Acc: 0.8873 F1: 0.7839202809114848\n",
    "fold3: valid Epoch: 15 Loss: 0.4004 Acc: 0.8926 F1: 0.8191606755937846\n",
    "fold4: valid Epoch: 11 Loss: 0.5041 Acc: 0.8847 F1: 0.7889797678502543\n",
    "fold5: valid Epoch: 4 Loss: 0.4097 Acc: 0.8878 F1: 0.7903932227018299"
   ]
  },
  {
   "cell_type": "markdown",
   "id": "bab31fdb-90cf-44f5-8a18-9d9ddcefca96",
   "metadata": {},
   "source": [
    "#mask\n",
    "\n",
    "fold1 : valid Epoch: 25 Loss: 0.1786 Acc: 0.9987 F1: 0.9981495185578444\n",
    "fold2 : valid Epoch: 24 Loss: 0.1767 Acc: 0.9989 F1: 0.9980246913580246\n",
    "fold3 : valid Epoch: 15 Loss: 0.1744 Acc: 0.9995 F1: 0.9992581597278271\n",
    "fold4 : valid Epoch: 17 Loss: 0.1720 Acc: 0.9997 F1: 0.9996299037115689\n",
    "fold5: valid Epoch: 40 Loss: 0.1749 Acc: 0.9989 F1: 0.9985185185185186"
   ]
  },
  {
   "cell_type": "markdown",
   "id": "f9451dcb-b3d3-4883-a49a-94e4363a6dd5",
   "metadata": {},
   "source": [
    "## Gender folds\n",
    "```python\n",
    "model_name = 'efficientnet-b3'\n",
    "batch_size = 64\n",
    "optimizer = Adam\n",
    "lr = 0.00006\n",
    "transform_train = get_transform(augment=True, crop=350, resize=300, cutout=100)\n",
    "transform_valid = get_transform(augment=False, crop=350, resize=300, cutout=None)\n",
    "```\n",
    "\n",
    "|Fold|Epoch|valid Loss|Acc|F1|\n",
    "|----|-----|----------|---|--|\n",
    "|1|23|0.1251|0.9979|0.9978|\n",
    "|2|21|0.1265|0.9976|0.9975|\n",
    "|3|14|0.1366|0.9934|0.9930|\n",
    "|4|?|0.1392|0.9918|0.9914|\n",
    "|5|?|0.1366|0.9929|0.9925|"
   ]
  },
  {
   "cell_type": "code",
   "execution_count": null,
   "id": "19f6b59d-703e-453e-b7b2-2a8b78263eb6",
   "metadata": {},
   "outputs": [],
   "source": [
    "valid Epoch: 5 Loss: 0.1823 Acc: 0.9979 F1: 0.9967814699501073"
   ]
  },
  {
   "cell_type": "markdown",
   "id": "ad0df665-1dc8-4708-a21b-43d890fcd6de",
   "metadata": {
    "tags": []
   },
   "source": [
    "## Age Log\n",
    "\n",
    "1. tf_eff b3 + ff:  \n",
    "    - epoch23)  \n",
    "      - train Loss: 0.2512 Acc: 0.9638 F1: 0.963731509280305\n",
    "      - valid Loss: 0.4652 Acc: 0.9042 F1: 0.7983025945957932\n",
    "\n",
    "2. tf_eff b3 + mega:  \n",
    "    - epoch14)  \n",
    "      - train Loss: 0.2475 Acc: 0.9683 F1: 0.9683685312363205\n",
    "      - valid Loss: 0.4115 Acc: 0.9106 F1: 0.8063435215039828"
   ]
  },
  {
   "cell_type": "markdown",
   "id": "4d7af387-2de6-47cb-89ad-2cf8eac7c831",
   "metadata": {
    "tags": []
   },
   "source": [
    "## Gender Experiment Logs"
   ]
  },
  {
   "cell_type": "markdown",
   "id": "19eb2b1d-9d0f-4704-8893-34e7c951a019",
   "metadata": {},
   "source": [
    "2. tf effb3 0.0003->0.00006\n",
    "   epoch 17)\n",
    "      - train Loss: 0.1367 Acc: 0.9912 F1: 0.9911960535284283\n",
    "      - valid Loss: 0.1314 Acc: 0.9944 F1: 0.9941665702144545\n",
    "\n",
    "2. ff, AdamW(wd=0.0001) lr 0.00006 --> 0.00001\n",
    "   epoch ?)\n",
    "      - train Loss: 0.1550 Acc: 0.9821 F1: 0.9821238701547585\n",
    "      - valid Loss: 0.1367 Acc: 0.9913 F1: 0.9908242378118639\n",
    "\n",
    "valid Loss: 0.1367 Acc: 0.9913 F1: 0.9908242378118639\n",
    "    \n"
   ]
  },
  {
   "cell_type": "markdown",
   "id": "f710171e-db05-4e5b-8fc2-2e5230a02c9f",
   "metadata": {
    "tags": []
   },
   "source": [
    "## Mask Experiment Logs\n",
    "\n",
    "---\n",
    "\n",
    "1. model=eff b0, optimizer=Adam, lr=0.00006, bs=64, augment=randaug+cutout, inputsize=224, loss_fn=LS(0.05), split 20%\n",
    "    * epoch 21)\n",
    "      - train Loss: 0.2192 Acc: 0.9767 F1: 0.9766713917541754\n",
    "      - valid Loss: 0.1739 Acc: 0.9989 F1: 0.9985207090460696\n",
    "        "
   ]
  },
  {
   "cell_type": "markdown",
   "id": "3b96fd83-6ed3-425b-a166-1767d9ef8a6b",
   "metadata": {
    "jp-MarkdownHeadingCollapsed": true,
    "tags": []
   },
   "source": [
    "## Age & Gender Experiment Logs\n",
    "\n",
    "---\n",
    "\n",
    "### loss function test\n",
    "\n",
    "---\n",
    "\n",
    "1. eff b0, lr=0.00006, bs=64, randaug+cutout, inputsize=224, loss_fn=CE, WeightedSampler, split 25%, optimizer=Adam\n",
    "   * epoch 18)\n",
    "     - train Loss: 0.0991 Acc: 0.9655 F1: 0.9654261306812848\n",
    "     - valid Loss: 0.0980 Acc: 0.9778 F1: 0.9772288369633227  \n",
    "  * before first patience\n",
    "\n",
    "---\n",
    "\n",
    "2. eff b0, lr=0.00006, bs=64, randaug+cutout, inputsize=224, loss_fn=LS(0.05), WeightedSampler, split 25%, optimizer=Adam\n",
    "    * epoch 21)\n",
    "     - train Loss: 0.3310 Acc: 0.9638 F1: 0.963728513759618\n",
    "     - valid Loss: 0.3071 Acc: 0.9786 F1: 0.9791634664746235 \n",
    "\n",
    "---\n",
    "\n",
    "3. eff b0, lr=0.00006, bs=64, randaug+cutout, inputsize=224, loss_fn=F1_Loss, split 25%, optimizer=Adam\n",
    "   * epoch 13)\n",
    "     - train Loss: 0.0710 Acc: 0.9584 F1: 0.9476713834498373\n",
    "     - valid Loss: 0.0403 Acc: 0.9765 F1: 0.9748789208889367\n",
    "   * epoch 3)\n",
    "     - train Loss: 0.0594 Acc: 0.9655 F1: 0.9555452013464937\n",
    "     - valid Loss: 0.0369 Acc: 0.9782 F1: 0.9776768545260203\n",
    "\n",
    "---\n",
    "\n",
    "### split ratio test\n",
    "\n",
    "---\n",
    "\n",
    "4. model=eff b0, optimizer=Adam, lr=0.00006, bs=64, augment=randaug+cutout, inputsize=224, loss_fn=LS(0.05), split 15%\n",
    "    * epoch 21)\n",
    "      - train Loss: 0.3381 Acc: 0.9597 F1: 0.9597144587078792\n",
    "      - valid Loss: 0.2948 Acc: 0.9852 F1: 0.982564296238198\n",
    "      \n",
    "---\n",
    "\n",
    "5. model=eff b0, optimizer=Adam, lr=0.00006, bs=64, augment=randaug+cutout, inputsize=224, loss_fn=LS(0.05), split 20%\n",
    "    * epoch 27)\n",
    "      - train Loss: 0.3211 Acc: 0.9668 F1: 0.9668728849468181\n",
    "      - valid Loss: 0.2878 Acc: 0.9854 F1: 0.9842203787970396\n",
    "      \n",
    "---\n",
    "\n",
    "6. model=eff b0, optimizer=Adam, lr=0.00006, bs=64, augment=randaug+cutout, inputsize=224, loss_fn=LS(0.05), split 25%\n",
    "    * epoch 22)\n",
    "      - train Loss: 0.3321 Acc: 0.9639 F1: 0.9638739223128628\n",
    "      - valid Loss: 0.2910 Acc: 0.9829 F1: 0.9792575649184908\n",
    "      \n",
    "---\n",
    "\n",
    "7. model=eff b0, optimizer=Adam, lr=0.00006, bs=64, augment=randaug+cutout, inputsize=224, loss_fn=LS(0.05), split 30%\n",
    "    * epoch 29)\n",
    "      - train Loss: 0.3171 Acc: 0.9686 F1: 0.9685813478405522\n",
    "      - valid Loss: 0.3047 Acc: 0.9772 F1: 0.9764751322879572"
   ]
  },
  {
   "cell_type": "markdown",
   "id": "a295c4fc-4288-4144-93e9-21e291038455",
   "metadata": {},
   "source": [
    "## Debug"
   ]
  },
  {
   "cell_type": "code",
   "execution_count": null,
   "id": "eaf284b6-4a53-4583-a28c-3b75a0acfd19",
   "metadata": {},
   "outputs": [],
   "source": [
    "model.load_state_dict(torch.load('/opt/ml/code/save/gender/best_20_log2.pt'))\n",
    "model.eval()\n",
    "print('ready')"
   ]
  },
  {
   "cell_type": "code",
   "execution_count": null,
   "id": "fb5030a4-82cb-404a-9db1-69db51493035",
   "metadata": {},
   "outputs": [],
   "source": [
    "from sklearn.metrics import plot_confusion_matrix\n",
    "from sklearn.metrics import confusion_matrix\n",
    "\n",
    "model.eval()\n",
    "y_true = []\n",
    "y_pred = []\n",
    "wrong = []\n",
    "for inputs, labels in dataloaders['valid']:\n",
    "    inputs = inputs.to(device)\n",
    "    labels = labels.to(device)\n",
    "\n",
    "    with torch.no_grad():\n",
    "        outputs = model(inputs)\n",
    "        _, preds = torch.max(outputs, 1)\n",
    "        y_true.extend(labels.tolist())\n",
    "        y_pred.extend(preds.tolist())\n",
    "        \n",
    "        for p, t, inp in zip(preds, labels, inputs):\n",
    "            if p.item() != t.item():\n",
    "                wrong.append((inp.cpu().numpy(), p.item(), t.item()))\n",
    "\n",
    "mtx = confusion_matrix(y_true, y_pred)\n",
    "print(mtx)\n"
   ]
  },
  {
   "cell_type": "code",
   "execution_count": null,
   "id": "ca672df0-c82b-4a07-913f-74801dfb292e",
   "metadata": {},
   "outputs": [],
   "source": [
    "d = {y_true:y_true, 'y_pred'\n",
    "\n",
    "with open('pred.pkl', 'wb') as f:\n",
    "    pickle.dump(list, f)"
   ]
  },
  {
   "cell_type": "code",
   "execution_count": null,
   "id": "1c54fc1a-7e17-4b8f-b089-f596baa71718",
   "metadata": {},
   "outputs": [],
   "source": [
    "label_ = list(range(6))\n",
    "\n",
    "fig, ax = plt.subplots(figsize=(8,8))\n",
    "im = ax.imshow(mtx, cmap='Blues', vmax=100, vmin=-20)\n",
    "\n",
    "ax.set_xticks(np.arange(len(label_)))\n",
    "ax.set_yticks(np.arange(len(label_)))\n",
    "# ... and label them with the respective list entries\n",
    "ax.set_xticklabels(label_)\n",
    "ax.set_yticklabels(label_)\n",
    "\n",
    "# Rotate the tick labels and set their alignment.\n",
    "plt.setp(ax.get_xticklabels(), rotation=45, ha=\"right\",\n",
    "         rotation_mode=\"anchor\")\n",
    "\n",
    "# Loop over data dimensions and create text annotations.\n",
    "for i in range(len(label_)):\n",
    "    for j in range(len(label_)):\n",
    "        if mtx[i, j]:\n",
    "            text = ax.text(j, i, mtx[i, j],\n",
    "                           ha=\"center\", va=\"center\", color=\"w\", size=10)\n",
    "ax.set_xlabel('Prediction')\n",
    "ax.set_ylabel('True Label')\n",
    "ax.set_title(\"Confusion mtx\")\n",
    "fig.tight_layout()\n",
    "plt.show()"
   ]
  },
  {
   "cell_type": "code",
   "execution_count": null,
   "id": "e029d90d-cb67-4e77-9484-091c7e35a3c1",
   "metadata": {},
   "outputs": [],
   "source": [
    "iterator = iter(wrong)\n",
    "\n",
    "label = [\"Male with mask\", \"Female with Mask\", \"Male incorrect mask\", \"Female no mask\", \"Male incorrect mask\", \"Female no mask\"]\n",
    "mean = np.array([0.485, 0.456, 0.406])\n",
    "std = np.array([0.229, 0.224, 0.225])"
   ]
  },
  {
   "cell_type": "code",
   "execution_count": null,
   "id": "f075c3d9-0b2c-4b47-87c7-fe9ae73ed049",
   "metadata": {},
   "outputs": [],
   "source": [
    "fig, axes = plt.subplots(2, 2, figsize=(10,10))\n",
    "for ax in axes.flatten():\n",
    "    img, p, t = next(iterator)\n",
    "    img = img.transpose((1, 2, 0))\n",
    "    img = std * img + mean\n",
    "    img = np.clip(img, 0, 1)\n",
    "    ax.imshow(img)\n",
    "    ax.axis('off')\n",
    "    ax.set_title(f't : {label[t]}\\np : {label[p]}')\n",
    "plt.show()"
   ]
  }
 ],
 "metadata": {
  "kernelspec": {
   "display_name": "pytorch",
   "language": "python",
   "name": "pytorch"
  },
  "language_info": {
   "codemirror_mode": {
    "name": "ipython",
    "version": 3
   },
   "file_extension": ".py",
   "mimetype": "text/x-python",
   "name": "python",
   "nbconvert_exporter": "python",
   "pygments_lexer": "ipython3",
   "version": "3.9.6"
  }
 },
 "nbformat": 4,
 "nbformat_minor": 5
}

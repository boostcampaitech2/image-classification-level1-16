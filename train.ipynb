{
 "cells": [
  {
   "cell_type": "code",
   "execution_count": 1,
   "id": "7996b754-3951-46d9-ac17-2288a59718d3",
   "metadata": {},
   "outputs": [],
   "source": [
    "import numpy as np\n",
    "import pandas as pd\n",
    "\n",
    "from dataset import get_dataset\n",
    "from trainer import Trainer\n",
    "from inference import create_label, sum_label\n",
    "\n",
    "import torch\n",
    "import torch.nn as nn\n",
    "import torch.optim as optim\n",
    "from torch.utils.data import DataLoader\n",
    "from torchvision import models"
   ]
  },
  {
   "cell_type": "code",
   "execution_count": 2,
   "id": "dc4ce54d-ecc0-460a-b6b1-3b8107507726",
   "metadata": {},
   "outputs": [],
   "source": [
    "## hyperparameters\n",
    "lr = 0.00001\n",
    "batch_size = 64\n",
    "num_epoch = 30\n",
    "target = 'label'"
   ]
  },
  {
   "cell_type": "code",
   "execution_count": 3,
   "id": "5fdc9923-a57c-4eb5-8f20-493ccea36164",
   "metadata": {},
   "outputs": [],
   "source": [
    "## prepare dataset\n",
    "\n",
    "#df_train = pd.read_csv('df_all.csv')\n",
    "df_train = pd.read_csv('df_train.csv')\n",
    "df_valid = pd.read_csv('df_valid.csv')\n",
    "df_test = pd.read_csv('/opt/ml/input/data/eval/info.csv')\n",
    "\n",
    "train_dataset, valid_dataset, test_dataset = get_dataset(df_train, df_valid, df_test, target=target)"
   ]
  },
  {
   "cell_type": "code",
   "execution_count": 4,
   "id": "4bbd6554-31d9-44d5-9aea-e73fac2b3592",
   "metadata": {},
   "outputs": [
    {
     "name": "stdout",
     "output_type": "stream",
     "text": [
      "count : [2060 1175  670 2745 2510  965  412  235  134  549  502  193  412  235\n",
      "  134  549  502  193]\n"
     ]
    }
   ],
   "source": [
    "target = train_dataset.target\n",
    "weight = df_train[target].value_counts().sort_index().to_numpy()\n",
    "print('count :', weight)\n",
    "weight = 1. / weight\n",
    "samples_weight = np.array([weight[t] for t in df_train[target]])\n",
    "samples_weight = torch.from_numpy(samples_weight)"
   ]
  },
  {
   "cell_type": "code",
   "execution_count": 5,
   "id": "2075e104-7bd4-4e9e-a509-72a873aff309",
   "metadata": {},
   "outputs": [],
   "source": [
    "from torch.utils.data.sampler import WeightedRandomSampler\n",
    "sampler = WeightedRandomSampler(samples_weight.type('torch.DoubleTensor'), len(samples_weight)//2)"
   ]
  },
  {
   "cell_type": "code",
   "execution_count": 6,
   "id": "758d37ef-d7aa-4c6d-b925-c4113f9ce2a0",
   "metadata": {},
   "outputs": [],
   "source": [
    "## prepare model (resnet)\n",
    "\n",
    "device = 'cuda'\n",
    "model = models.resnet34(pretrained=True)\n",
    "model.fc = nn.Linear(model.fc.in_features, len(train_dataset.classes))\n",
    "model.to(device)\n",
    "\n",
    "criterion = nn.CrossEntropyLoss()\n",
    "optimizer = optim.Adam(model.parameters(), lr=lr)"
   ]
  },
  {
   "cell_type": "code",
   "execution_count": 7,
   "id": "fe278018-9f2f-45cb-b749-f840f2aaa08b",
   "metadata": {},
   "outputs": [
    {
     "name": "stdout",
     "output_type": "stream",
     "text": [
      "Loaded pretrained weights for efficientnet-b0\n"
     ]
    }
   ],
   "source": [
    "## prepare model (efficient_net)\n",
    "\n",
    "from efficientnet_pytorch import EfficientNet\n",
    "\n",
    "device = 'cuda'\n",
    "model = EfficientNet.from_pretrained('efficientnet-b0', num_classes=len(train_dataset.classes))\n",
    "model.to(device)\n",
    "\n",
    "criterion = nn.CrossEntropyLoss()\n",
    "optimizer = optim.Adam(model.parameters(), lr=lr)"
   ]
  },
  {
   "cell_type": "code",
   "execution_count": 8,
   "id": "d31b51ae-c253-478d-a2a1-2c673a6ad4fe",
   "metadata": {},
   "outputs": [],
   "source": [
    "## prepare Dataloader\n",
    "\n",
    "dataloaders = {'train' : DataLoader(train_dataset, batch_size=batch_size, num_workers=2, drop_last=True, sampler=sampler),\n",
    "               'valid' : DataLoader(valid_dataset, batch_size=batch_size, shuffle=False, num_workers=2, drop_last=False)}\n",
    "test_dataloader = DataLoader(test_dataset, batch_size=batch_size, shuffle=False, num_workers=2, drop_last=False)"
   ]
  },
  {
   "cell_type": "code",
   "execution_count": 9,
   "id": "a51e00a5-6372-454e-bb6f-336cdba0a172",
   "metadata": {},
   "outputs": [],
   "source": [
    "## train\n",
    "\n",
    "trainer = Trainer('/opt/ml/code/save')"
   ]
  },
  {
   "cell_type": "code",
   "execution_count": 12,
   "id": "b17cd26e-04c3-47af-ab0b-7b20a22ea6d6",
   "metadata": {},
   "outputs": [
    {
     "name": "stdout",
     "output_type": "stream",
     "text": [
      "Epoch 1/30\n",
      "----------\n"
     ]
    },
    {
     "name": "stderr",
     "output_type": "stream",
     "text": [
      "100%|██████████| 110/110 [00:43<00:00,  2.55it/s]\n"
     ]
    },
    {
     "name": "stdout",
     "output_type": "stream",
     "text": [
      "train Loss: 0.4358 Acc: 0.8341 F1: 0.8338286175682995\n"
     ]
    },
    {
     "name": "stderr",
     "output_type": "stream",
     "text": [
      "100%|██████████| 74/74 [00:14<00:00,  5.24it/s]\n"
     ]
    },
    {
     "name": "stdout",
     "output_type": "stream",
     "text": [
      "valid Loss: 0.4903 Acc: 0.8197 F1: 0.7724251655415304\n",
      "\n",
      "Epoch 2/30\n",
      "----------\n"
     ]
    },
    {
     "name": "stderr",
     "output_type": "stream",
     "text": [
      "100%|██████████| 110/110 [00:42<00:00,  2.59it/s]\n"
     ]
    },
    {
     "name": "stdout",
     "output_type": "stream",
     "text": [
      "train Loss: 0.4224 Acc: 0.8419 F1: 0.8411750426207241\n"
     ]
    },
    {
     "name": "stderr",
     "output_type": "stream",
     "text": [
      "100%|██████████| 74/74 [00:14<00:00,  5.26it/s]\n"
     ]
    },
    {
     "name": "stdout",
     "output_type": "stream",
     "text": [
      "valid Loss: 0.4947 Acc: 0.8180 F1: 0.770853895555288\n",
      "\n",
      "Epoch 3/30\n",
      "----------\n"
     ]
    },
    {
     "name": "stderr",
     "output_type": "stream",
     "text": [
      "100%|██████████| 110/110 [00:42<00:00,  2.57it/s]\n"
     ]
    },
    {
     "name": "stdout",
     "output_type": "stream",
     "text": [
      "train Loss: 0.4180 Acc: 0.8456 F1: 0.8459032159735026\n"
     ]
    },
    {
     "name": "stderr",
     "output_type": "stream",
     "text": [
      "100%|██████████| 74/74 [00:14<00:00,  5.22it/s]\n"
     ]
    },
    {
     "name": "stdout",
     "output_type": "stream",
     "text": [
      "valid Loss: 0.4979 Acc: 0.8163 F1: 0.7739057708170196\n",
      "\n",
      "Epoch 4/30\n",
      "----------\n"
     ]
    },
    {
     "name": "stderr",
     "output_type": "stream",
     "text": [
      "100%|██████████| 110/110 [00:42<00:00,  2.59it/s]\n"
     ]
    },
    {
     "name": "stdout",
     "output_type": "stream",
     "text": [
      "train Loss: 0.4124 Acc: 0.8449 F1: 0.8452159072180412\n"
     ]
    },
    {
     "name": "stderr",
     "output_type": "stream",
     "text": [
      "100%|██████████| 74/74 [00:14<00:00,  5.26it/s]\n"
     ]
    },
    {
     "name": "stdout",
     "output_type": "stream",
     "text": [
      "valid Loss: 0.4926 Acc: 0.8182 F1: 0.7718690578841324\n",
      "\n",
      "Epoch 5/30\n",
      "----------\n"
     ]
    },
    {
     "name": "stderr",
     "output_type": "stream",
     "text": [
      "100%|██████████| 110/110 [00:42<00:00,  2.59it/s]\n"
     ]
    },
    {
     "name": "stdout",
     "output_type": "stream",
     "text": [
      "train Loss: 0.3976 Acc: 0.8497 F1: 0.8490989166664105\n"
     ]
    },
    {
     "name": "stderr",
     "output_type": "stream",
     "text": [
      "100%|██████████| 74/74 [00:14<00:00,  5.28it/s]\n"
     ]
    },
    {
     "name": "stdout",
     "output_type": "stream",
     "text": [
      "valid Loss: 0.5022 Acc: 0.8161 F1: 0.7719212738058459\n",
      "\n",
      "Epoch 6/30\n",
      "----------\n"
     ]
    },
    {
     "name": "stderr",
     "output_type": "stream",
     "text": [
      "100%|██████████| 110/110 [00:42<00:00,  2.56it/s]\n"
     ]
    },
    {
     "name": "stdout",
     "output_type": "stream",
     "text": [
      "train Loss: 0.3997 Acc: 0.8538 F1: 0.8534969611238985\n"
     ]
    },
    {
     "name": "stderr",
     "output_type": "stream",
     "text": [
      "100%|██████████| 74/74 [00:14<00:00,  5.24it/s]\n"
     ]
    },
    {
     "name": "stdout",
     "output_type": "stream",
     "text": [
      "valid Loss: 0.5034 Acc: 0.8169 F1: 0.7731041513263539\n",
      "\n",
      "Epoch 7/30\n",
      "----------\n"
     ]
    },
    {
     "name": "stderr",
     "output_type": "stream",
     "text": [
      "100%|██████████| 110/110 [00:42<00:00,  2.57it/s]\n"
     ]
    },
    {
     "name": "stdout",
     "output_type": "stream",
     "text": [
      "train Loss: 0.4003 Acc: 0.8527 F1: 0.8516917767068123\n"
     ]
    },
    {
     "name": "stderr",
     "output_type": "stream",
     "text": [
      "100%|██████████| 74/74 [00:14<00:00,  5.19it/s]\n"
     ]
    },
    {
     "name": "stdout",
     "output_type": "stream",
     "text": [
      "valid Loss: 0.4913 Acc: 0.8207 F1: 0.7669707883517787\n",
      "\n",
      "Epoch 8/30\n",
      "----------\n"
     ]
    },
    {
     "name": "stderr",
     "output_type": "stream",
     "text": [
      "100%|██████████| 110/110 [00:42<00:00,  2.56it/s]\n"
     ]
    },
    {
     "name": "stdout",
     "output_type": "stream",
     "text": [
      "train Loss: 0.3958 Acc: 0.8537 F1: 0.853069887404081\n"
     ]
    },
    {
     "name": "stderr",
     "output_type": "stream",
     "text": [
      "100%|██████████| 74/74 [00:14<00:00,  5.25it/s]\n"
     ]
    },
    {
     "name": "stdout",
     "output_type": "stream",
     "text": [
      "valid Loss: 0.4924 Acc: 0.8216 F1: 0.7709017337406551\n",
      "\n",
      "Epoch 9/30\n",
      "----------\n"
     ]
    },
    {
     "name": "stderr",
     "output_type": "stream",
     "text": [
      "100%|██████████| 110/110 [00:42<00:00,  2.59it/s]\n"
     ]
    },
    {
     "name": "stdout",
     "output_type": "stream",
     "text": [
      "train Loss: 0.3809 Acc: 0.8561 F1: 0.8552419674737138\n"
     ]
    },
    {
     "name": "stderr",
     "output_type": "stream",
     "text": [
      "100%|██████████| 74/74 [00:14<00:00,  5.25it/s]\n"
     ]
    },
    {
     "name": "stdout",
     "output_type": "stream",
     "text": [
      "valid Loss: 0.5022 Acc: 0.8188 F1: 0.7702054744689066\n",
      "\n",
      "Epoch 10/30\n",
      "----------\n"
     ]
    },
    {
     "name": "stderr",
     "output_type": "stream",
     "text": [
      "100%|██████████| 110/110 [00:42<00:00,  2.57it/s]\n"
     ]
    },
    {
     "name": "stdout",
     "output_type": "stream",
     "text": [
      "train Loss: 0.3846 Acc: 0.8543 F1: 0.85364131857178\n"
     ]
    },
    {
     "name": "stderr",
     "output_type": "stream",
     "text": [
      "100%|██████████| 74/74 [00:14<00:00,  5.23it/s]\n"
     ]
    },
    {
     "name": "stdout",
     "output_type": "stream",
     "text": [
      "valid Loss: 0.5002 Acc: 0.8214 F1: 0.770698027386916\n",
      "\n",
      "Epoch 11/30\n",
      "----------\n"
     ]
    },
    {
     "name": "stderr",
     "output_type": "stream",
     "text": [
      "100%|██████████| 110/110 [00:42<00:00,  2.61it/s]\n"
     ]
    },
    {
     "name": "stdout",
     "output_type": "stream",
     "text": [
      "train Loss: 0.3900 Acc: 0.8578 F1: 0.858058969022456\n"
     ]
    },
    {
     "name": "stderr",
     "output_type": "stream",
     "text": [
      "100%|██████████| 74/74 [00:14<00:00,  5.24it/s]\n"
     ]
    },
    {
     "name": "stdout",
     "output_type": "stream",
     "text": [
      "valid Loss: 0.5098 Acc: 0.8201 F1: 0.7742982950586732\n",
      "\n",
      "Epoch 12/30\n",
      "----------\n"
     ]
    },
    {
     "name": "stderr",
     "output_type": "stream",
     "text": [
      "100%|██████████| 110/110 [00:42<00:00,  2.60it/s]\n"
     ]
    },
    {
     "name": "stdout",
     "output_type": "stream",
     "text": [
      "train Loss: 0.3850 Acc: 0.8548 F1: 0.8544514774371431\n"
     ]
    },
    {
     "name": "stderr",
     "output_type": "stream",
     "text": [
      "100%|██████████| 74/74 [00:14<00:00,  5.25it/s]\n"
     ]
    },
    {
     "name": "stdout",
     "output_type": "stream",
     "text": [
      "valid Loss: 0.5060 Acc: 0.8188 F1: 0.7679278650135057\n",
      "\n",
      "Epoch 13/30\n",
      "----------\n"
     ]
    },
    {
     "name": "stderr",
     "output_type": "stream",
     "text": [
      "100%|██████████| 110/110 [00:43<00:00,  2.54it/s]\n"
     ]
    },
    {
     "name": "stdout",
     "output_type": "stream",
     "text": [
      "train Loss: 0.3740 Acc: 0.8670 F1: 0.8672674461384128\n"
     ]
    },
    {
     "name": "stderr",
     "output_type": "stream",
     "text": [
      "100%|██████████| 74/74 [00:14<00:00,  5.25it/s]\n"
     ]
    },
    {
     "name": "stdout",
     "output_type": "stream",
     "text": [
      "valid Loss: 0.5161 Acc: 0.8171 F1: 0.768061021557033\n",
      "\n",
      "Epoch 14/30\n",
      "----------\n"
     ]
    },
    {
     "name": "stderr",
     "output_type": "stream",
     "text": [
      "100%|██████████| 110/110 [00:42<00:00,  2.59it/s]\n"
     ]
    },
    {
     "name": "stdout",
     "output_type": "stream",
     "text": [
      "train Loss: 0.3702 Acc: 0.8611 F1: 0.8602233821796215\n"
     ]
    },
    {
     "name": "stderr",
     "output_type": "stream",
     "text": [
      "100%|██████████| 74/74 [00:14<00:00,  5.21it/s]\n"
     ]
    },
    {
     "name": "stdout",
     "output_type": "stream",
     "text": [
      "valid Loss: 0.5138 Acc: 0.8205 F1: 0.772389959323887\n",
      "\n",
      "Epoch 15/30\n",
      "----------\n"
     ]
    },
    {
     "name": "stderr",
     "output_type": "stream",
     "text": [
      "100%|██████████| 110/110 [00:42<00:00,  2.58it/s]\n"
     ]
    },
    {
     "name": "stdout",
     "output_type": "stream",
     "text": [
      "train Loss: 0.3757 Acc: 0.8602 F1: 0.8597263658772532\n"
     ]
    },
    {
     "name": "stderr",
     "output_type": "stream",
     "text": [
      "100%|██████████| 74/74 [00:14<00:00,  5.23it/s]\n"
     ]
    },
    {
     "name": "stdout",
     "output_type": "stream",
     "text": [
      "valid Loss: 0.5090 Acc: 0.8210 F1: 0.7678788180329553\n",
      "\n",
      "Epoch 16/30\n",
      "----------\n"
     ]
    },
    {
     "name": "stderr",
     "output_type": "stream",
     "text": [
      "100%|██████████| 110/110 [00:42<00:00,  2.58it/s]\n"
     ]
    },
    {
     "name": "stdout",
     "output_type": "stream",
     "text": [
      "train Loss: 0.3572 Acc: 0.8659 F1: 0.8660533608784221\n"
     ]
    },
    {
     "name": "stderr",
     "output_type": "stream",
     "text": [
      "100%|██████████| 74/74 [00:14<00:00,  5.25it/s]\n"
     ]
    },
    {
     "name": "stdout",
     "output_type": "stream",
     "text": [
      "valid Loss: 0.5128 Acc: 0.8207 F1: 0.7710473204453867\n",
      "\n",
      "Epoch 17/30\n",
      "----------\n"
     ]
    },
    {
     "name": "stderr",
     "output_type": "stream",
     "text": [
      "100%|██████████| 110/110 [00:42<00:00,  2.57it/s]\n"
     ]
    },
    {
     "name": "stdout",
     "output_type": "stream",
     "text": [
      "train Loss: 0.3610 Acc: 0.8659 F1: 0.8652056909820781\n"
     ]
    },
    {
     "name": "stderr",
     "output_type": "stream",
     "text": [
      "100%|██████████| 74/74 [00:14<00:00,  5.24it/s]\n"
     ]
    },
    {
     "name": "stdout",
     "output_type": "stream",
     "text": [
      "valid Loss: 0.5166 Acc: 0.8190 F1: 0.7707650253757227\n",
      "\n",
      "Epoch 18/30\n",
      "----------\n"
     ]
    },
    {
     "name": "stderr",
     "output_type": "stream",
     "text": [
      "100%|██████████| 110/110 [00:42<00:00,  2.57it/s]\n"
     ]
    },
    {
     "name": "stdout",
     "output_type": "stream",
     "text": [
      "train Loss: 0.3497 Acc: 0.8675 F1: 0.8661377105096344\n"
     ]
    },
    {
     "name": "stderr",
     "output_type": "stream",
     "text": [
      "100%|██████████| 74/74 [00:14<00:00,  5.26it/s]\n"
     ]
    },
    {
     "name": "stdout",
     "output_type": "stream",
     "text": [
      "valid Loss: 0.5145 Acc: 0.8216 F1: 0.7730658961754945\n",
      "\n",
      "Epoch 19/30\n",
      "----------\n"
     ]
    },
    {
     "name": "stderr",
     "output_type": "stream",
     "text": [
      "100%|██████████| 110/110 [00:42<00:00,  2.60it/s]\n"
     ]
    },
    {
     "name": "stdout",
     "output_type": "stream",
     "text": [
      "train Loss: 0.3605 Acc: 0.8656 F1: 0.864548777242042\n"
     ]
    },
    {
     "name": "stderr",
     "output_type": "stream",
     "text": [
      "100%|██████████| 74/74 [00:14<00:00,  5.21it/s]\n"
     ]
    },
    {
     "name": "stdout",
     "output_type": "stream",
     "text": [
      "valid Loss: 0.5124 Acc: 0.8218 F1: 0.7685135505377279\n",
      "\n",
      "Epoch 20/30\n",
      "----------\n"
     ]
    },
    {
     "name": "stderr",
     "output_type": "stream",
     "text": [
      "100%|██████████| 110/110 [00:42<00:00,  2.57it/s]\n"
     ]
    },
    {
     "name": "stdout",
     "output_type": "stream",
     "text": [
      "train Loss: 0.3372 Acc: 0.8750 F1: 0.8746488052845864\n"
     ]
    },
    {
     "name": "stderr",
     "output_type": "stream",
     "text": [
      "100%|██████████| 74/74 [00:14<00:00,  5.23it/s]\n"
     ]
    },
    {
     "name": "stdout",
     "output_type": "stream",
     "text": [
      "valid Loss: 0.5225 Acc: 0.8190 F1: 0.7704823762709768\n",
      "\n",
      "Epoch 21/30\n",
      "----------\n"
     ]
    },
    {
     "name": "stderr",
     "output_type": "stream",
     "text": [
      "100%|██████████| 110/110 [00:43<00:00,  2.54it/s]\n"
     ]
    },
    {
     "name": "stdout",
     "output_type": "stream",
     "text": [
      "train Loss: 0.3538 Acc: 0.8727 F1: 0.8732251111924532\n"
     ]
    },
    {
     "name": "stderr",
     "output_type": "stream",
     "text": [
      "100%|██████████| 74/74 [00:14<00:00,  5.25it/s]\n"
     ]
    },
    {
     "name": "stdout",
     "output_type": "stream",
     "text": [
      "valid Loss: 0.5250 Acc: 0.8203 F1: 0.7693932794924879\n",
      "\n",
      "Epoch 22/30\n",
      "----------\n"
     ]
    },
    {
     "name": "stderr",
     "output_type": "stream",
     "text": [
      "100%|██████████| 110/110 [00:42<00:00,  2.61it/s]\n"
     ]
    },
    {
     "name": "stdout",
     "output_type": "stream",
     "text": [
      "train Loss: 0.3381 Acc: 0.8767 F1: 0.8767713211488378\n"
     ]
    },
    {
     "name": "stderr",
     "output_type": "stream",
     "text": [
      "100%|██████████| 74/74 [00:14<00:00,  5.24it/s]\n"
     ]
    },
    {
     "name": "stdout",
     "output_type": "stream",
     "text": [
      "valid Loss: 0.5298 Acc: 0.8199 F1: 0.7711278239040711\n",
      "\n",
      "Epoch 23/30\n",
      "----------\n"
     ]
    },
    {
     "name": "stderr",
     "output_type": "stream",
     "text": [
      "100%|██████████| 110/110 [00:42<00:00,  2.57it/s]\n"
     ]
    },
    {
     "name": "stdout",
     "output_type": "stream",
     "text": [
      "train Loss: 0.3336 Acc: 0.8800 F1: 0.8801761691835563\n"
     ]
    },
    {
     "name": "stderr",
     "output_type": "stream",
     "text": [
      "100%|██████████| 74/74 [00:14<00:00,  5.25it/s]\n"
     ]
    },
    {
     "name": "stdout",
     "output_type": "stream",
     "text": [
      "valid Loss: 0.5226 Acc: 0.8239 F1: 0.7725116283140382\n",
      "\n",
      "Epoch 24/30\n",
      "----------\n"
     ]
    },
    {
     "name": "stderr",
     "output_type": "stream",
     "text": [
      "100%|██████████| 110/110 [00:42<00:00,  2.61it/s]\n"
     ]
    },
    {
     "name": "stdout",
     "output_type": "stream",
     "text": [
      "train Loss: 0.3351 Acc: 0.8776 F1: 0.8781903118757669\n"
     ]
    },
    {
     "name": "stderr",
     "output_type": "stream",
     "text": [
      "100%|██████████| 74/74 [00:14<00:00,  5.24it/s]\n"
     ]
    },
    {
     "name": "stdout",
     "output_type": "stream",
     "text": [
      "valid Loss: 0.5264 Acc: 0.8214 F1: 0.7727101025800074\n",
      "\n",
      "Epoch 25/30\n",
      "----------\n"
     ]
    },
    {
     "name": "stderr",
     "output_type": "stream",
     "text": [
      "100%|██████████| 110/110 [00:43<00:00,  2.53it/s]\n"
     ]
    },
    {
     "name": "stdout",
     "output_type": "stream",
     "text": [
      "train Loss: 0.3249 Acc: 0.8818 F1: 0.8807959728640239\n"
     ]
    },
    {
     "name": "stderr",
     "output_type": "stream",
     "text": [
      "100%|██████████| 74/74 [00:14<00:00,  5.25it/s]\n"
     ]
    },
    {
     "name": "stdout",
     "output_type": "stream",
     "text": [
      "valid Loss: 0.5272 Acc: 0.8258 F1: 0.7751788159348503\n",
      "\n",
      "Epoch 26/30\n",
      "----------\n"
     ]
    },
    {
     "name": "stderr",
     "output_type": "stream",
     "text": [
      "100%|██████████| 110/110 [00:42<00:00,  2.56it/s]\n"
     ]
    },
    {
     "name": "stdout",
     "output_type": "stream",
     "text": [
      "train Loss: 0.3340 Acc: 0.8770 F1: 0.8764444708043445\n"
     ]
    },
    {
     "name": "stderr",
     "output_type": "stream",
     "text": [
      "100%|██████████| 74/74 [00:14<00:00,  5.27it/s]\n"
     ]
    },
    {
     "name": "stdout",
     "output_type": "stream",
     "text": [
      "valid Loss: 0.5330 Acc: 0.8252 F1: 0.7723092624795432\n",
      "\n",
      "Epoch 27/30\n",
      "----------\n"
     ]
    },
    {
     "name": "stderr",
     "output_type": "stream",
     "text": [
      "100%|██████████| 110/110 [00:42<00:00,  2.57it/s]\n"
     ]
    },
    {
     "name": "stdout",
     "output_type": "stream",
     "text": [
      "train Loss: 0.3067 Acc: 0.8895 F1: 0.88901464525243\n"
     ]
    },
    {
     "name": "stderr",
     "output_type": "stream",
     "text": [
      "100%|██████████| 74/74 [00:14<00:00,  5.22it/s]\n"
     ]
    },
    {
     "name": "stdout",
     "output_type": "stream",
     "text": [
      "valid Loss: 0.5417 Acc: 0.8184 F1: 0.7674335499129049\n",
      "\n",
      "Epoch 28/30\n",
      "----------\n"
     ]
    },
    {
     "name": "stderr",
     "output_type": "stream",
     "text": [
      "100%|██████████| 110/110 [00:42<00:00,  2.57it/s]\n"
     ]
    },
    {
     "name": "stdout",
     "output_type": "stream",
     "text": [
      "train Loss: 0.3111 Acc: 0.8857 F1: 0.8855722647815895\n"
     ]
    },
    {
     "name": "stderr",
     "output_type": "stream",
     "text": [
      "100%|██████████| 74/74 [00:14<00:00,  5.27it/s]\n"
     ]
    },
    {
     "name": "stdout",
     "output_type": "stream",
     "text": [
      "valid Loss: 0.5358 Acc: 0.8229 F1: 0.7694593041154053\n",
      "\n",
      "Epoch 29/30\n",
      "----------\n"
     ]
    },
    {
     "name": "stderr",
     "output_type": "stream",
     "text": [
      "100%|██████████| 110/110 [00:42<00:00,  2.60it/s]\n"
     ]
    },
    {
     "name": "stdout",
     "output_type": "stream",
     "text": [
      "train Loss: 0.3211 Acc: 0.8837 F1: 0.8834393998838623\n"
     ]
    },
    {
     "name": "stderr",
     "output_type": "stream",
     "text": [
      "100%|██████████| 74/74 [00:14<00:00,  5.27it/s]\n"
     ]
    },
    {
     "name": "stdout",
     "output_type": "stream",
     "text": [
      "valid Loss: 0.5415 Acc: 0.8229 F1: 0.7709474456889102\n",
      "\n",
      "Epoch 30/30\n",
      "----------\n"
     ]
    },
    {
     "name": "stderr",
     "output_type": "stream",
     "text": [
      "100%|██████████| 110/110 [00:42<00:00,  2.59it/s]\n"
     ]
    },
    {
     "name": "stdout",
     "output_type": "stream",
     "text": [
      "train Loss: 0.3065 Acc: 0.8915 F1: 0.89146416219421\n"
     ]
    },
    {
     "name": "stderr",
     "output_type": "stream",
     "text": [
      "100%|██████████| 74/74 [00:14<00:00,  5.23it/s]\n"
     ]
    },
    {
     "name": "stdout",
     "output_type": "stream",
     "text": [
      "valid Loss: 0.5396 Acc: 0.8239 F1: 0.7665696535123461\n",
      "\n",
      "Training complete!\n"
     ]
    },
    {
     "ename": "NameError",
     "evalue": "name 'best_acc' is not defined",
     "output_type": "error",
     "traceback": [
      "\u001b[0;31m---------------------------------------------------------------------------\u001b[0m",
      "\u001b[0;31mNameError\u001b[0m                                 Traceback (most recent call last)",
      "\u001b[0;32m<ipython-input-12-787396020611>\u001b[0m in \u001b[0;36m<module>\u001b[0;34m\u001b[0m\n\u001b[0;32m----> 1\u001b[0;31m \u001b[0mtrainer\u001b[0m\u001b[0;34m.\u001b[0m\u001b[0mtrain\u001b[0m\u001b[0;34m(\u001b[0m\u001b[0mmodel\u001b[0m\u001b[0;34m,\u001b[0m \u001b[0mdataloaders\u001b[0m\u001b[0;34m,\u001b[0m \u001b[0mcriterion\u001b[0m\u001b[0;34m,\u001b[0m \u001b[0moptimizer\u001b[0m\u001b[0;34m,\u001b[0m \u001b[0mdevice\u001b[0m\u001b[0;34m,\u001b[0m \u001b[0mnum_epochs\u001b[0m\u001b[0;34m=\u001b[0m\u001b[0mnum_epoch\u001b[0m\u001b[0;34m,\u001b[0m \u001b[0mscheduler\u001b[0m\u001b[0;34m=\u001b[0m\u001b[0;32mNone\u001b[0m\u001b[0;34m,\u001b[0m \u001b[0msave_name\u001b[0m\u001b[0;34m=\u001b[0m\u001b[0;34m'effnet_test'\u001b[0m\u001b[0;34m,\u001b[0m \u001b[0msub_dir\u001b[0m\u001b[0;34m=\u001b[0m\u001b[0mtarget\u001b[0m\u001b[0;34m)\u001b[0m\u001b[0;34m\u001b[0m\u001b[0;34m\u001b[0m\u001b[0m\n\u001b[0m",
      "\u001b[0;32m~/code/trainer.py\u001b[0m in \u001b[0;36mtrain\u001b[0;34m(self, model, dataloaders, criterion, optimizer, device, num_epochs, scheduler, save_name, sub_dir)\u001b[0m\n\u001b[1;32m     64\u001b[0m \u001b[0;34m\u001b[0m\u001b[0m\n\u001b[1;32m     65\u001b[0m         \u001b[0mprint\u001b[0m\u001b[0;34m(\u001b[0m\u001b[0;34m'Training complete!'\u001b[0m\u001b[0;34m)\u001b[0m\u001b[0;34m\u001b[0m\u001b[0;34m\u001b[0m\u001b[0m\n\u001b[0;32m---> 66\u001b[0;31m         \u001b[0mprint\u001b[0m\u001b[0;34m(\u001b[0m\u001b[0;34m'Best val Acc: {:4f}'\u001b[0m\u001b[0;34m.\u001b[0m\u001b[0mformat\u001b[0m\u001b[0;34m(\u001b[0m\u001b[0mbest_acc\u001b[0m\u001b[0;34m)\u001b[0m\u001b[0;34m)\u001b[0m\u001b[0;34m\u001b[0m\u001b[0;34m\u001b[0m\u001b[0m\n\u001b[0m",
      "\u001b[0;31mNameError\u001b[0m: name 'best_acc' is not defined"
     ]
    }
   ],
   "source": [
    "trainer.train(model, dataloaders, criterion, optimizer, device, num_epochs=num_epoch, scheduler=None, save_name='effnet_test', sub_dir=target)"
   ]
  },
  {
   "cell_type": "code",
   "execution_count": 11,
   "id": "fd079ed1-90da-49f2-befe-cdde1ce57ddd",
   "metadata": {},
   "outputs": [
    {
     "name": "stderr",
     "output_type": "stream",
     "text": [
      "100%|██████████| 197/197 [00:37<00:00,  5.32it/s]"
     ]
    },
    {
     "name": "stdout",
     "output_type": "stream",
     "text": [
      "inference ans complete!\n"
     ]
    },
    {
     "name": "stderr",
     "output_type": "stream",
     "text": [
      "\n"
     ]
    }
   ],
   "source": [
    "## inference\n",
    "\n",
    "model.load_state_dict(torch.load('/opt/ml/code/save/label/resnet18_58_008.pt'))\n",
    "df_submit = create_label(model, test_dataloader, df_test.copy(), device)\n",
    "\n",
    "# model.load_state_dict(torch.load('/opt/ml/code/save/age/6e5_9110.pt'))\n",
    "# df_submit = create_label(model, test_dataloader, df_test.copy(), device, target='age')\n",
    "\n",
    "# model.load_state_dict(torch.load('/opt/ml/code/save/mask/6e5_9987.pt'))\n",
    "# df_submit = create_label(model, test_dataloader, df_submit, device, target='mask')\n",
    "\n",
    "# model.fc = nn.Linear(model.fc.in_features, 2).cuda()\n",
    "# model.load_state_dict(torch.load('/opt/ml/code/save/gender/6e5_9851.pt'))\n",
    "# df_submit = create_label(model, test_dataloader, df_submit, device, target='gender')\n",
    "\n",
    "# df_submit = sum_label(df_submit)\n",
    "\n",
    "df_submit.to_csv('test.csv', index=False)"
   ]
  },
  {
   "cell_type": "code",
   "execution_count": null,
   "id": "89d962f4-3729-4f70-b082-79c680e0f041",
   "metadata": {},
   "outputs": [],
   "source": []
  },
  {
   "cell_type": "code",
   "execution_count": null,
   "id": "56ec6b85-d8be-4b23-91a4-9db6abdeef08",
   "metadata": {},
   "outputs": [],
   "source": [
    "from utils import imshow\n",
    "batch = next(iter(dataloaders['train']))\n",
    "imshow(batch[0])\n",
    "print(batch[1])"
   ]
  },
  {
   "cell_type": "code",
   "execution_count": null,
   "id": "91cc3274-882a-4026-860d-d65c087798ec",
   "metadata": {},
   "outputs": [],
   "source": [
    "next(iter(dataloaders['train']))"
   ]
  },
  {
   "cell_type": "code",
   "execution_count": null,
   "id": "fb5030a4-82cb-404a-9db1-69db51493035",
   "metadata": {},
   "outputs": [],
   "source": [
    "from sklearn.metrics import plot_confusion_matrix\n",
    "from sklearn.metrics import confusion_matrix\n",
    "\n",
    "model.eval()\n",
    "y_true = []\n",
    "y_pred = []\n",
    "for inputs, labels in dataloaders['valid']:\n",
    "    inputs = inputs.to(device)\n",
    "    labels = labels.to(device)\n",
    "\n",
    "    with torch.no_grad():\n",
    "        outputs = model(inputs)\n",
    "        _, preds = torch.max(outputs, 1)\n",
    "        y_true.extend(labels.tolist())\n",
    "        y_pred.extend(preds.tolist())\n",
    "\n",
    "mtx = confusion_matrix(y_true, y_pred)\n",
    "print(mtx)\n"
   ]
  },
  {
   "cell_type": "code",
   "execution_count": null,
   "id": "1c54fc1a-7e17-4b8f-b089-f596baa71718",
   "metadata": {},
   "outputs": [],
   "source": [
    "import matplotlib.pyplot as plt\n",
    "\n",
    "label_ = list(range(18))\n",
    "\n",
    "fig, ax = plt.subplots(figsize=(8,8))\n",
    "im = ax.imshow(mtx, cmap='Blues', vmax=100, vmin=-20)\n",
    "\n",
    "ax.set_xticks(np.arange(len(label_)))\n",
    "ax.set_yticks(np.arange(len(label_)))\n",
    "# ... and label them with the respective list entries\n",
    "ax.set_xticklabels(label_)\n",
    "ax.set_yticklabels(label_)\n",
    "\n",
    "# Rotate the tick labels and set their alignment.\n",
    "plt.setp(ax.get_xticklabels(), rotation=45, ha=\"right\",\n",
    "         rotation_mode=\"anchor\")\n",
    "\n",
    "# Loop over data dimensions and create text annotations.\n",
    "for i in range(len(label_)):\n",
    "    for j in range(len(label_)):\n",
    "        if mtx[i, j]:\n",
    "            text = ax.text(j, i, mtx[i, j],\n",
    "                           ha=\"center\", va=\"center\", color=\"w\", size=10)\n",
    "ax.set_xlabel('Prediction')\n",
    "ax.set_ylabel('True Label')\n",
    "ax.set_title(\"Confusion mtx\")\n",
    "fig.tight_layout()\n",
    "plt.show()"
   ]
  }
 ],
 "metadata": {
  "kernelspec": {
   "display_name": "pytorch",
   "language": "python",
   "name": "pytorch"
  },
  "language_info": {
   "codemirror_mode": {
    "name": "ipython",
    "version": 3
   },
   "file_extension": ".py",
   "mimetype": "text/x-python",
   "name": "python",
   "nbconvert_exporter": "python",
   "pygments_lexer": "ipython3",
   "version": "3.9.6"
  }
 },
 "nbformat": 4,
 "nbformat_minor": 5
}

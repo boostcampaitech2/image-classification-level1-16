{
 "cells": [
  {
   "cell_type": "code",
   "execution_count": 24,
   "id": "f0919131-f486-42c7-b9f1-d057a47b976e",
   "metadata": {},
   "outputs": [],
   "source": [
    "import os\n",
    "import pandas as pd\n",
    "import numpy as np\n",
    "from torch.utils.data import Dataset\n",
    "from sklearn.model_selection import train_test_split\n",
    "from torchvision import transforms"
   ]
  },
  {
   "cell_type": "code",
   "execution_count": 25,
   "id": "cc305a77-9ab7-4f07-965c-c22e9e50e13c",
   "metadata": {},
   "outputs": [],
   "source": [
    "train_data_path = '/opt/ml/input/data/train'\n",
    "df = pd.read_csv(os.path.join(train_data_path, 'train.csv'))"
   ]
  },
  {
   "cell_type": "code",
   "execution_count": 26,
   "id": "38b95ed7-fcaa-411f-8f7b-9d4de8ff1595",
   "metadata": {},
   "outputs": [],
   "source": [
    "del df['race']\n",
    "del df['id']\n",
    "df['gender'] = df['gender'].map({'male':0, 'female':1})\n",
    "bins = [0, 29, 57, 100]\n",
    "labels = [0, 1, 2]\n",
    "df['age'] = pd.cut(df['age'], bins=bins, labels=labels)"
   ]
  },
  {
   "cell_type": "code",
   "execution_count": 28,
   "id": "56b727e8-e5e1-4f88-b42d-7c0df871900f",
   "metadata": {},
   "outputs": [
    {
     "data": {
      "text/plain": [
       "0    1281\n",
       "1     983\n",
       "2     436\n",
       "Name: age, dtype: int64"
      ]
     },
     "execution_count": 28,
     "metadata": {},
     "output_type": "execute_result"
    }
   ],
   "source": [
    "df['age'].value_counts()"
   ]
  },
  {
   "cell_type": "code",
   "execution_count": 29,
   "id": "0a81f480-a3b6-40d8-b24a-e0ca6587276c",
   "metadata": {},
   "outputs": [],
   "source": [
    "def label(row):\n",
    "    return row['age'] + 3*row['gender']\n",
    "\n",
    "df['label'] = df.apply(label, axis=1)\n",
    "df['mask'] = [['incorrect_mask', 'mask1', 'mask2', 'mask3', 'mask4', 'mask5', 'normal'] for _ in range(len(df))]"
   ]
  },
  {
   "cell_type": "code",
   "execution_count": 30,
   "id": "f2b1a7b0-6aeb-4d86-9193-eb67f585743f",
   "metadata": {},
   "outputs": [],
   "source": [
    "df_train, df_valid = train_test_split(df, test_size=0.25, random_state=42, stratify=df.label)"
   ]
  },
  {
   "cell_type": "code",
   "execution_count": 31,
   "id": "ea433087-f088-4b69-b859-b407be43595d",
   "metadata": {},
   "outputs": [],
   "source": [
    "def generate_mask_field(df):\n",
    "    \n",
    "    def _get_extension(row):\n",
    "        for f in os.listdir(os.path.join(train_data_path, 'images', row.path)):\n",
    "            if f.startswith(row['mask']):\n",
    "                return os.path.join(train_data_path, 'images', row.path, f)\n",
    "        raise FileNotFoundError\n",
    "\n",
    "    def _label(row):\n",
    "        return row['age'] + 3*row['gender'] + 6*row['mask']\n",
    "    \n",
    "    mask_map = {'incorrect_mask': 1, 'mask1': 0, 'mask2': 0, 'mask3': 0,\n",
    "                'mask4': 0, 'mask5': 0, 'normal': 2}    \n",
    "\n",
    "    df = df.explode('mask')\n",
    "    df['path'] = df.apply(_get_extension, axis=1)\n",
    "    df['mask'] = df['mask'].map(mask_map)\n",
    "    df['label'] = df.apply(_label, axis=1)\n",
    "\n",
    "    return df"
   ]
  },
  {
   "cell_type": "code",
   "execution_count": null,
   "id": "8b92aec5-38bb-401b-9c0b-34ad4e731a75",
   "metadata": {},
   "outputs": [],
   "source": [
    "df.to_csv('df_all.csv', index=False)"
   ]
  },
  {
   "cell_type": "code",
   "execution_count": 32,
   "id": "4dd5b0dc-2fff-4f4e-a5db-401665909b16",
   "metadata": {},
   "outputs": [],
   "source": [
    "df_train = generate_mask_field(df_train)\n",
    "df_valid = generate_mask_field(df_valid)"
   ]
  },
  {
   "cell_type": "code",
   "execution_count": 33,
   "id": "89822ef5-5f56-4e83-81c2-4b875592a9a2",
   "metadata": {},
   "outputs": [],
   "source": [
    "df_train.to_csv('df_train.csv', index=False)\n",
    "df_valid.to_csv('df_valid.csv', index=False)"
   ]
  }
 ],
 "metadata": {
  "kernelspec": {
   "display_name": "pytorch",
   "language": "python",
   "name": "pytorch"
  },
  "language_info": {
   "codemirror_mode": {
    "name": "ipython",
    "version": 3
   },
   "file_extension": ".py",
   "mimetype": "text/x-python",
   "name": "python",
   "nbconvert_exporter": "python",
   "pygments_lexer": "ipython3",
   "version": "3.9.6"
  }
 },
 "nbformat": 4,
 "nbformat_minor": 5
}

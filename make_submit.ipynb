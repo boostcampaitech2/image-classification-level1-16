{
 "cells": [
  {
   "cell_type": "code",
   "execution_count": 1,
   "id": "365ab4e1-1633-49c5-b046-c53a8558f898",
   "metadata": {},
   "outputs": [],
   "source": [
    "import sys\n",
    "sys.path.append('/opt/ml/code')\n",
    "\n",
    "import random\n",
    "\n",
    "import numpy as np\n",
    "import pandas as pd\n",
    "import matplotlib.pyplot as plt\n",
    "\n",
    "from my_modules.transform import get_transform\n",
    "from my_modules.dataset import TrainDataset, EvalDataset\n",
    "from my_modules.inference import create_label\n",
    "\n",
    "import torch\n",
    "from torch.utils.data import DataLoader"
   ]
  },
  {
   "cell_type": "code",
   "execution_count": 38,
   "id": "2759a6b0-24e8-4822-8a7b-1ae962f8afa6",
   "metadata": {},
   "outputs": [],
   "source": [
    "# df_train_path = f'df/df_labled_train.csv'\n",
    "# df_valid_path = f'df/df_labled_valid.csv'\n",
    "df_test_path = '/opt/ml/input/data/eval/info.csv'\n",
    "\n",
    "# df_train = pd.read_csv(df_train_path)\n",
    "# df_valid = pd.read_csv(df_valid_path)\n",
    "df_test = pd.read_csv(df_test_path)"
   ]
  },
  {
   "cell_type": "code",
   "execution_count": 39,
   "id": "a1d70c9a-33e8-4da3-b5a8-58a5ed897c2a",
   "metadata": {},
   "outputs": [],
   "source": [
    "def sum_label3(df):\n",
    "    \n",
    "    def _label(row):\n",
    "        return row['age'] + 3*row['gender'] + 6*row['mask']\n",
    "\n",
    "    df['ans'] = df.apply(_label, axis=1)\n",
    "    return df[['ImageID', 'ans']]"
   ]
  },
  {
   "cell_type": "code",
   "execution_count": 40,
   "id": "8b34147e-1427-4836-a812-b82b6e7c83c6",
   "metadata": {},
   "outputs": [],
   "source": [
    "device = 'cuda'"
   ]
  },
  {
   "cell_type": "code",
   "execution_count": 41,
   "id": "06421cf5-2003-46b1-ab71-5e27ece7422d",
   "metadata": {},
   "outputs": [],
   "source": [
    "df_submit = df_test.copy()"
   ]
  },
  {
   "cell_type": "code",
   "execution_count": 42,
   "id": "96776b73-5bd3-4e79-8820-fa7843fea643",
   "metadata": {},
   "outputs": [],
   "source": [
    "import pickle\n",
    "with open('pkl/gender_pseudo_ensemble_hard.pkl', 'rb') as f:\n",
    "    df_submit['gender'] = pickle.load(f)\n",
    "\n",
    "with open('pkl/final5.pkl', 'rb') as f:\n",
    "    df_submit['age'] = pickle.load(f) # df_submit['age'] = pickle.load(f)\n",
    "\n",
    "with open('pkl/mask_pseudo_ensemble.pkl', 'rb') as f:\n",
    "    df_submit['mask'] = pickle.load(f)"
   ]
  },
  {
   "cell_type": "code",
   "execution_count": 9,
   "id": "44b2a1f1-5167-44a0-b704-5534de50b48f",
   "metadata": {},
   "outputs": [
    {
     "data": {
      "text/plain": [
       "0    5355\n",
       "2    3729\n",
       "1    3516\n",
       "Name: age, dtype: int64"
      ]
     },
     "execution_count": 9,
     "metadata": {},
     "output_type": "execute_result"
    }
   ],
   "source": [
    "df_submit['age'].value_counts()"
   ]
  },
  {
   "cell_type": "code",
   "execution_count": 12,
   "id": "b959f64e-a8cd-4706-a1d9-bd1c25f8bbe8",
   "metadata": {},
   "outputs": [],
   "source": [
    "with open('pkl/ensembled_age5.pkl', 'rb') as f:\n",
    "    aaa = pickle.load(f) # df_submit['age'] = pickle.load(f)"
   ]
  },
  {
   "cell_type": "code",
   "execution_count": 20,
   "id": "6c12abf3-c70b-4537-90ff-dfa3d4c7bf2c",
   "metadata": {},
   "outputs": [
    {
     "ename": "NameError",
     "evalue": "name 'aaa' is not defined",
     "output_type": "error",
     "traceback": [
      "\u001b[0;31m---------------------------------------------------------------------------\u001b[0m",
      "\u001b[0;31mNameError\u001b[0m                                 Traceback (most recent call last)",
      "\u001b[0;32m<ipython-input-20-0f9117a6621b>\u001b[0m in \u001b[0;36m<module>\u001b[0;34m\u001b[0m\n\u001b[1;32m      1\u001b[0m \u001b[0;32mimport\u001b[0m \u001b[0mnumpy\u001b[0m \u001b[0;32mas\u001b[0m \u001b[0mnp\u001b[0m\u001b[0;34m\u001b[0m\u001b[0;34m\u001b[0m\u001b[0m\n\u001b[0;32m----> 2\u001b[0;31m \u001b[0mnp\u001b[0m\u001b[0;34m.\u001b[0m\u001b[0mbincount\u001b[0m\u001b[0;34m(\u001b[0m\u001b[0maaa\u001b[0m\u001b[0;34m)\u001b[0m\u001b[0;34m\u001b[0m\u001b[0;34m\u001b[0m\u001b[0m\n\u001b[0m",
      "\u001b[0;31mNameError\u001b[0m: name 'aaa' is not defined"
     ]
    }
   ],
   "source": [
    "import numpy as np\n",
    "np.bincount(aaa)"
   ]
  },
  {
   "cell_type": "code",
   "execution_count": 11,
   "id": "d6731977-43df-4024-bb4f-096a3f12e40c",
   "metadata": {},
   "outputs": [
    {
     "data": {
      "text/plain": [
       "array([5350, 3450, 3800])"
      ]
     },
     "execution_count": 11,
     "metadata": {},
     "output_type": "execute_result"
    }
   ],
   "source": [
    "import numpy as np\n",
    "np.bincount(age_pre)"
   ]
  },
  {
   "cell_type": "code",
   "execution_count": 6,
   "id": "289366ca-5b2c-42aa-bad6-f0e6cd15c7f4",
   "metadata": {},
   "outputs": [
    {
     "data": {
      "text/html": [
       "<div>\n",
       "<style scoped>\n",
       "    .dataframe tbody tr th:only-of-type {\n",
       "        vertical-align: middle;\n",
       "    }\n",
       "\n",
       "    .dataframe tbody tr th {\n",
       "        vertical-align: top;\n",
       "    }\n",
       "\n",
       "    .dataframe thead th {\n",
       "        text-align: right;\n",
       "    }\n",
       "</style>\n",
       "<table border=\"1\" class=\"dataframe\">\n",
       "  <thead>\n",
       "    <tr style=\"text-align: right;\">\n",
       "      <th></th>\n",
       "      <th>ans</th>\n",
       "      <th>gender</th>\n",
       "      <th>age</th>\n",
       "      <th>mask</th>\n",
       "    </tr>\n",
       "  </thead>\n",
       "  <tbody>\n",
       "    <tr>\n",
       "      <th>count</th>\n",
       "      <td>12600.0</td>\n",
       "      <td>12600.000000</td>\n",
       "      <td>12600.000000</td>\n",
       "      <td>12600.000000</td>\n",
       "    </tr>\n",
       "    <tr>\n",
       "      <th>mean</th>\n",
       "      <td>0.0</td>\n",
       "      <td>0.386746</td>\n",
       "      <td>0.941190</td>\n",
       "      <td>0.431508</td>\n",
       "    </tr>\n",
       "    <tr>\n",
       "      <th>std</th>\n",
       "      <td>0.0</td>\n",
       "      <td>0.487024</td>\n",
       "      <td>0.889365</td>\n",
       "      <td>0.728960</td>\n",
       "    </tr>\n",
       "    <tr>\n",
       "      <th>min</th>\n",
       "      <td>0.0</td>\n",
       "      <td>0.000000</td>\n",
       "      <td>0.000000</td>\n",
       "      <td>0.000000</td>\n",
       "    </tr>\n",
       "    <tr>\n",
       "      <th>25%</th>\n",
       "      <td>0.0</td>\n",
       "      <td>0.000000</td>\n",
       "      <td>0.000000</td>\n",
       "      <td>0.000000</td>\n",
       "    </tr>\n",
       "    <tr>\n",
       "      <th>50%</th>\n",
       "      <td>0.0</td>\n",
       "      <td>0.000000</td>\n",
       "      <td>1.000000</td>\n",
       "      <td>0.000000</td>\n",
       "    </tr>\n",
       "    <tr>\n",
       "      <th>75%</th>\n",
       "      <td>0.0</td>\n",
       "      <td>1.000000</td>\n",
       "      <td>2.000000</td>\n",
       "      <td>1.000000</td>\n",
       "    </tr>\n",
       "    <tr>\n",
       "      <th>max</th>\n",
       "      <td>0.0</td>\n",
       "      <td>1.000000</td>\n",
       "      <td>2.000000</td>\n",
       "      <td>2.000000</td>\n",
       "    </tr>\n",
       "  </tbody>\n",
       "</table>\n",
       "</div>"
      ],
      "text/plain": [
       "           ans        gender           age          mask\n",
       "count  12600.0  12600.000000  12600.000000  12600.000000\n",
       "mean       0.0      0.386746      0.941190      0.431508\n",
       "std        0.0      0.487024      0.889365      0.728960\n",
       "min        0.0      0.000000      0.000000      0.000000\n",
       "25%        0.0      0.000000      0.000000      0.000000\n",
       "50%        0.0      0.000000      1.000000      0.000000\n",
       "75%        0.0      1.000000      2.000000      1.000000\n",
       "max        0.0      1.000000      2.000000      2.000000"
      ]
     },
     "execution_count": 6,
     "metadata": {},
     "output_type": "execute_result"
    }
   ],
   "source": [
    "df_submit.describe()"
   ]
  },
  {
   "cell_type": "code",
   "execution_count": 16,
   "id": "a7be2079-19b9-4be2-ab56-43ba31080326",
   "metadata": {},
   "outputs": [
    {
     "data": {
      "text/plain": [
       "0    8946\n",
       "1    1851\n",
       "2    1803\n",
       "Name: mask, dtype: int64"
      ]
     },
     "execution_count": 16,
     "metadata": {},
     "output_type": "execute_result"
    }
   ],
   "source": [
    "df_submit['mask'].value_counts()"
   ]
  },
  {
   "cell_type": "code",
   "execution_count": 21,
   "id": "5b7878c1-f9ef-412d-a066-6a327f75dbe1",
   "metadata": {},
   "outputs": [
    {
     "data": {
      "text/plain": [
       "0    5349\n",
       "2    3870\n",
       "1    3381\n",
       "Name: age, dtype: int64"
      ]
     },
     "execution_count": 21,
     "metadata": {},
     "output_type": "execute_result"
    }
   ],
   "source": [
    "df_submit.age.value_counts()"
   ]
  },
  {
   "cell_type": "code",
   "execution_count": null,
   "id": "0480b6c0-57ac-48ac-ac67-eb913d26a6c4",
   "metadata": {},
   "outputs": [],
   "source": [
    "0    5334\n",
    "2    3659\n",
    "1    3607"
   ]
  },
  {
   "cell_type": "code",
   "execution_count": 43,
   "id": "d0116ce8-60c5-498e-889a-d15839e96e57",
   "metadata": {},
   "outputs": [
    {
     "data": {
      "text/html": [
       "<div>\n",
       "<style scoped>\n",
       "    .dataframe tbody tr th:only-of-type {\n",
       "        vertical-align: middle;\n",
       "    }\n",
       "\n",
       "    .dataframe tbody tr th {\n",
       "        vertical-align: top;\n",
       "    }\n",
       "\n",
       "    .dataframe thead th {\n",
       "        text-align: right;\n",
       "    }\n",
       "</style>\n",
       "<table border=\"1\" class=\"dataframe\">\n",
       "  <thead>\n",
       "    <tr style=\"text-align: right;\">\n",
       "      <th></th>\n",
       "      <th>ImageID</th>\n",
       "      <th>ans</th>\n",
       "      <th>gender</th>\n",
       "      <th>age</th>\n",
       "      <th>mask</th>\n",
       "    </tr>\n",
       "  </thead>\n",
       "  <tbody>\n",
       "    <tr>\n",
       "      <th>0</th>\n",
       "      <td>cbc5c6e168e63498590db46022617123f1fe1268.jpg</td>\n",
       "      <td>0</td>\n",
       "      <td>0</td>\n",
       "      <td>2</td>\n",
       "      <td>2</td>\n",
       "    </tr>\n",
       "    <tr>\n",
       "      <th>1</th>\n",
       "      <td>0e72482bf56b3581c081f7da2a6180b8792c7089.jpg</td>\n",
       "      <td>0</td>\n",
       "      <td>0</td>\n",
       "      <td>2</td>\n",
       "      <td>0</td>\n",
       "    </tr>\n",
       "    <tr>\n",
       "      <th>2</th>\n",
       "      <td>b549040c49190cedc41327748aeb197c1670f14d.jpg</td>\n",
       "      <td>0</td>\n",
       "      <td>0</td>\n",
       "      <td>2</td>\n",
       "      <td>2</td>\n",
       "    </tr>\n",
       "    <tr>\n",
       "      <th>3</th>\n",
       "      <td>4f9cb2a045c6d5b9e50ad3459ea7b791eb6e18bc.jpg</td>\n",
       "      <td>0</td>\n",
       "      <td>0</td>\n",
       "      <td>2</td>\n",
       "      <td>2</td>\n",
       "    </tr>\n",
       "    <tr>\n",
       "      <th>4</th>\n",
       "      <td>248428d9a4a5b6229a7081c32851b90cb8d38d0c.jpg</td>\n",
       "      <td>0</td>\n",
       "      <td>0</td>\n",
       "      <td>0</td>\n",
       "      <td>2</td>\n",
       "    </tr>\n",
       "    <tr>\n",
       "      <th>...</th>\n",
       "      <td>...</td>\n",
       "      <td>...</td>\n",
       "      <td>...</td>\n",
       "      <td>...</td>\n",
       "      <td>...</td>\n",
       "    </tr>\n",
       "    <tr>\n",
       "      <th>12595</th>\n",
       "      <td>d71d4570505d6af8f777690e63edfa8d85ea4476.jpg</td>\n",
       "      <td>0</td>\n",
       "      <td>0</td>\n",
       "      <td>2</td>\n",
       "      <td>0</td>\n",
       "    </tr>\n",
       "    <tr>\n",
       "      <th>12596</th>\n",
       "      <td>6cf1300e8e218716728d5820c0bab553306c2cfd.jpg</td>\n",
       "      <td>0</td>\n",
       "      <td>1</td>\n",
       "      <td>1</td>\n",
       "      <td>0</td>\n",
       "    </tr>\n",
       "    <tr>\n",
       "      <th>12597</th>\n",
       "      <td>8140edbba31c3a824e817e6d5fb95343199e2387.jpg</td>\n",
       "      <td>0</td>\n",
       "      <td>1</td>\n",
       "      <td>0</td>\n",
       "      <td>1</td>\n",
       "    </tr>\n",
       "    <tr>\n",
       "      <th>12598</th>\n",
       "      <td>030d439efe6fb5a7bafda45a393fc19f2bf57f54.jpg</td>\n",
       "      <td>0</td>\n",
       "      <td>0</td>\n",
       "      <td>1</td>\n",
       "      <td>0</td>\n",
       "    </tr>\n",
       "    <tr>\n",
       "      <th>12599</th>\n",
       "      <td>f1e0b9594ae9f72571f0a9dc67406ad41f2edab0.jpg</td>\n",
       "      <td>0</td>\n",
       "      <td>0</td>\n",
       "      <td>2</td>\n",
       "      <td>1</td>\n",
       "    </tr>\n",
       "  </tbody>\n",
       "</table>\n",
       "<p>12600 rows × 5 columns</p>\n",
       "</div>"
      ],
      "text/plain": [
       "                                            ImageID  ans  gender  age  mask\n",
       "0      cbc5c6e168e63498590db46022617123f1fe1268.jpg    0       0    2     2\n",
       "1      0e72482bf56b3581c081f7da2a6180b8792c7089.jpg    0       0    2     0\n",
       "2      b549040c49190cedc41327748aeb197c1670f14d.jpg    0       0    2     2\n",
       "3      4f9cb2a045c6d5b9e50ad3459ea7b791eb6e18bc.jpg    0       0    2     2\n",
       "4      248428d9a4a5b6229a7081c32851b90cb8d38d0c.jpg    0       0    0     2\n",
       "...                                             ...  ...     ...  ...   ...\n",
       "12595  d71d4570505d6af8f777690e63edfa8d85ea4476.jpg    0       0    2     0\n",
       "12596  6cf1300e8e218716728d5820c0bab553306c2cfd.jpg    0       1    1     0\n",
       "12597  8140edbba31c3a824e817e6d5fb95343199e2387.jpg    0       1    0     1\n",
       "12598  030d439efe6fb5a7bafda45a393fc19f2bf57f54.jpg    0       0    1     0\n",
       "12599  f1e0b9594ae9f72571f0a9dc67406ad41f2edab0.jpg    0       0    2     1\n",
       "\n",
       "[12600 rows x 5 columns]"
      ]
     },
     "execution_count": 43,
     "metadata": {},
     "output_type": "execute_result"
    }
   ],
   "source": [
    "df_submit"
   ]
  },
  {
   "cell_type": "code",
   "execution_count": 30,
   "id": "7756a7df-a5b0-40a1-8d3e-02ddc4a78423",
   "metadata": {},
   "outputs": [
    {
     "data": {
      "text/html": [
       "<div>\n",
       "<style scoped>\n",
       "    .dataframe tbody tr th:only-of-type {\n",
       "        vertical-align: middle;\n",
       "    }\n",
       "\n",
       "    .dataframe tbody tr th {\n",
       "        vertical-align: top;\n",
       "    }\n",
       "\n",
       "    .dataframe thead th {\n",
       "        text-align: right;\n",
       "    }\n",
       "</style>\n",
       "<table border=\"1\" class=\"dataframe\">\n",
       "  <thead>\n",
       "    <tr style=\"text-align: right;\">\n",
       "      <th></th>\n",
       "      <th>ImageID</th>\n",
       "      <th>ans</th>\n",
       "      <th>mask</th>\n",
       "      <th>gender</th>\n",
       "    </tr>\n",
       "  </thead>\n",
       "  <tbody>\n",
       "    <tr>\n",
       "      <th>0</th>\n",
       "      <td>cbc5c6e168e63498590db46022617123f1fe1268.jpg</td>\n",
       "      <td>0</td>\n",
       "      <td>2</td>\n",
       "      <td>0</td>\n",
       "    </tr>\n",
       "    <tr>\n",
       "      <th>1</th>\n",
       "      <td>0e72482bf56b3581c081f7da2a6180b8792c7089.jpg</td>\n",
       "      <td>0</td>\n",
       "      <td>0</td>\n",
       "      <td>0</td>\n",
       "    </tr>\n",
       "    <tr>\n",
       "      <th>2</th>\n",
       "      <td>b549040c49190cedc41327748aeb197c1670f14d.jpg</td>\n",
       "      <td>0</td>\n",
       "      <td>2</td>\n",
       "      <td>0</td>\n",
       "    </tr>\n",
       "    <tr>\n",
       "      <th>3</th>\n",
       "      <td>4f9cb2a045c6d5b9e50ad3459ea7b791eb6e18bc.jpg</td>\n",
       "      <td>0</td>\n",
       "      <td>2</td>\n",
       "      <td>0</td>\n",
       "    </tr>\n",
       "    <tr>\n",
       "      <th>4</th>\n",
       "      <td>248428d9a4a5b6229a7081c32851b90cb8d38d0c.jpg</td>\n",
       "      <td>0</td>\n",
       "      <td>2</td>\n",
       "      <td>0</td>\n",
       "    </tr>\n",
       "    <tr>\n",
       "      <th>...</th>\n",
       "      <td>...</td>\n",
       "      <td>...</td>\n",
       "      <td>...</td>\n",
       "      <td>...</td>\n",
       "    </tr>\n",
       "    <tr>\n",
       "      <th>12595</th>\n",
       "      <td>d71d4570505d6af8f777690e63edfa8d85ea4476.jpg</td>\n",
       "      <td>0</td>\n",
       "      <td>0</td>\n",
       "      <td>0</td>\n",
       "    </tr>\n",
       "    <tr>\n",
       "      <th>12596</th>\n",
       "      <td>6cf1300e8e218716728d5820c0bab553306c2cfd.jpg</td>\n",
       "      <td>0</td>\n",
       "      <td>0</td>\n",
       "      <td>1</td>\n",
       "    </tr>\n",
       "    <tr>\n",
       "      <th>12597</th>\n",
       "      <td>8140edbba31c3a824e817e6d5fb95343199e2387.jpg</td>\n",
       "      <td>0</td>\n",
       "      <td>1</td>\n",
       "      <td>1</td>\n",
       "    </tr>\n",
       "    <tr>\n",
       "      <th>12598</th>\n",
       "      <td>030d439efe6fb5a7bafda45a393fc19f2bf57f54.jpg</td>\n",
       "      <td>0</td>\n",
       "      <td>0</td>\n",
       "      <td>0</td>\n",
       "    </tr>\n",
       "    <tr>\n",
       "      <th>12599</th>\n",
       "      <td>f1e0b9594ae9f72571f0a9dc67406ad41f2edab0.jpg</td>\n",
       "      <td>0</td>\n",
       "      <td>1</td>\n",
       "      <td>0</td>\n",
       "    </tr>\n",
       "  </tbody>\n",
       "</table>\n",
       "<p>12600 rows × 4 columns</p>\n",
       "</div>"
      ],
      "text/plain": [
       "                                            ImageID  ans  mask  gender\n",
       "0      cbc5c6e168e63498590db46022617123f1fe1268.jpg    0     2       0\n",
       "1      0e72482bf56b3581c081f7da2a6180b8792c7089.jpg    0     0       0\n",
       "2      b549040c49190cedc41327748aeb197c1670f14d.jpg    0     2       0\n",
       "3      4f9cb2a045c6d5b9e50ad3459ea7b791eb6e18bc.jpg    0     2       0\n",
       "4      248428d9a4a5b6229a7081c32851b90cb8d38d0c.jpg    0     2       0\n",
       "...                                             ...  ...   ...     ...\n",
       "12595  d71d4570505d6af8f777690e63edfa8d85ea4476.jpg    0     0       0\n",
       "12596  6cf1300e8e218716728d5820c0bab553306c2cfd.jpg    0     0       1\n",
       "12597  8140edbba31c3a824e817e6d5fb95343199e2387.jpg    0     1       1\n",
       "12598  030d439efe6fb5a7bafda45a393fc19f2bf57f54.jpg    0     0       0\n",
       "12599  f1e0b9594ae9f72571f0a9dc67406ad41f2edab0.jpg    0     1       0\n",
       "\n",
       "[12600 rows x 4 columns]"
      ]
     },
     "execution_count": 30,
     "metadata": {},
     "output_type": "execute_result"
    }
   ],
   "source": [
    "df_submit"
   ]
  },
  {
   "cell_type": "code",
   "execution_count": 44,
   "id": "ddffcedb-f797-4569-812d-1770ca98a5d0",
   "metadata": {},
   "outputs": [],
   "source": [
    "## sumup labels\n",
    "\n",
    "df_submit = sum_label3(df_submit)"
   ]
  },
  {
   "cell_type": "code",
   "execution_count": 45,
   "id": "275618d2-81e1-4840-a8a3-b1112ee08b78",
   "metadata": {},
   "outputs": [],
   "source": [
    "df_submit.to_csv('submit_pseudos_ensemble_final.csv', index=False)"
   ]
  },
  {
   "cell_type": "code",
   "execution_count": 35,
   "id": "cc34c977-8743-4831-91e4-7e53f88fbe85",
   "metadata": {},
   "outputs": [
    {
     "data": {
      "text/html": [
       "<div>\n",
       "<style scoped>\n",
       "    .dataframe tbody tr th:only-of-type {\n",
       "        vertical-align: middle;\n",
       "    }\n",
       "\n",
       "    .dataframe tbody tr th {\n",
       "        vertical-align: top;\n",
       "    }\n",
       "\n",
       "    .dataframe thead th {\n",
       "        text-align: right;\n",
       "    }\n",
       "</style>\n",
       "<table border=\"1\" class=\"dataframe\">\n",
       "  <thead>\n",
       "    <tr style=\"text-align: right;\">\n",
       "      <th></th>\n",
       "      <th>ImageID</th>\n",
       "      <th>ans</th>\n",
       "      <th>gender</th>\n",
       "      <th>age</th>\n",
       "      <th>mask</th>\n",
       "    </tr>\n",
       "  </thead>\n",
       "  <tbody>\n",
       "    <tr>\n",
       "      <th>0</th>\n",
       "      <td>cbc5c6e168e63498590db46022617123f1fe1268.jpg</td>\n",
       "      <td>0</td>\n",
       "      <td>0</td>\n",
       "      <td>2</td>\n",
       "      <td>2</td>\n",
       "    </tr>\n",
       "    <tr>\n",
       "      <th>1</th>\n",
       "      <td>0e72482bf56b3581c081f7da2a6180b8792c7089.jpg</td>\n",
       "      <td>0</td>\n",
       "      <td>0</td>\n",
       "      <td>2</td>\n",
       "      <td>0</td>\n",
       "    </tr>\n",
       "    <tr>\n",
       "      <th>2</th>\n",
       "      <td>b549040c49190cedc41327748aeb197c1670f14d.jpg</td>\n",
       "      <td>0</td>\n",
       "      <td>0</td>\n",
       "      <td>2</td>\n",
       "      <td>2</td>\n",
       "    </tr>\n",
       "    <tr>\n",
       "      <th>3</th>\n",
       "      <td>4f9cb2a045c6d5b9e50ad3459ea7b791eb6e18bc.jpg</td>\n",
       "      <td>0</td>\n",
       "      <td>0</td>\n",
       "      <td>1</td>\n",
       "      <td>2</td>\n",
       "    </tr>\n",
       "    <tr>\n",
       "      <th>4</th>\n",
       "      <td>248428d9a4a5b6229a7081c32851b90cb8d38d0c.jpg</td>\n",
       "      <td>0</td>\n",
       "      <td>0</td>\n",
       "      <td>0</td>\n",
       "      <td>2</td>\n",
       "    </tr>\n",
       "    <tr>\n",
       "      <th>...</th>\n",
       "      <td>...</td>\n",
       "      <td>...</td>\n",
       "      <td>...</td>\n",
       "      <td>...</td>\n",
       "      <td>...</td>\n",
       "    </tr>\n",
       "    <tr>\n",
       "      <th>12595</th>\n",
       "      <td>d71d4570505d6af8f777690e63edfa8d85ea4476.jpg</td>\n",
       "      <td>0</td>\n",
       "      <td>0</td>\n",
       "      <td>2</td>\n",
       "      <td>0</td>\n",
       "    </tr>\n",
       "    <tr>\n",
       "      <th>12596</th>\n",
       "      <td>6cf1300e8e218716728d5820c0bab553306c2cfd.jpg</td>\n",
       "      <td>0</td>\n",
       "      <td>1</td>\n",
       "      <td>1</td>\n",
       "      <td>0</td>\n",
       "    </tr>\n",
       "    <tr>\n",
       "      <th>12597</th>\n",
       "      <td>8140edbba31c3a824e817e6d5fb95343199e2387.jpg</td>\n",
       "      <td>0</td>\n",
       "      <td>1</td>\n",
       "      <td>0</td>\n",
       "      <td>1</td>\n",
       "    </tr>\n",
       "    <tr>\n",
       "      <th>12598</th>\n",
       "      <td>030d439efe6fb5a7bafda45a393fc19f2bf57f54.jpg</td>\n",
       "      <td>0</td>\n",
       "      <td>0</td>\n",
       "      <td>1</td>\n",
       "      <td>0</td>\n",
       "    </tr>\n",
       "    <tr>\n",
       "      <th>12599</th>\n",
       "      <td>f1e0b9594ae9f72571f0a9dc67406ad41f2edab0.jpg</td>\n",
       "      <td>0</td>\n",
       "      <td>0</td>\n",
       "      <td>2</td>\n",
       "      <td>1</td>\n",
       "    </tr>\n",
       "  </tbody>\n",
       "</table>\n",
       "<p>12600 rows × 5 columns</p>\n",
       "</div>"
      ],
      "text/plain": [
       "                                            ImageID  ans  gender  age  mask\n",
       "0      cbc5c6e168e63498590db46022617123f1fe1268.jpg    0       0    2     2\n",
       "1      0e72482bf56b3581c081f7da2a6180b8792c7089.jpg    0       0    2     0\n",
       "2      b549040c49190cedc41327748aeb197c1670f14d.jpg    0       0    2     2\n",
       "3      4f9cb2a045c6d5b9e50ad3459ea7b791eb6e18bc.jpg    0       0    1     2\n",
       "4      248428d9a4a5b6229a7081c32851b90cb8d38d0c.jpg    0       0    0     2\n",
       "...                                             ...  ...     ...  ...   ...\n",
       "12595  d71d4570505d6af8f777690e63edfa8d85ea4476.jpg    0       0    2     0\n",
       "12596  6cf1300e8e218716728d5820c0bab553306c2cfd.jpg    0       1    1     0\n",
       "12597  8140edbba31c3a824e817e6d5fb95343199e2387.jpg    0       1    0     1\n",
       "12598  030d439efe6fb5a7bafda45a393fc19f2bf57f54.jpg    0       0    1     0\n",
       "12599  f1e0b9594ae9f72571f0a9dc67406ad41f2edab0.jpg    0       0    2     1\n",
       "\n",
       "[12600 rows x 5 columns]"
      ]
     },
     "execution_count": 35,
     "metadata": {},
     "output_type": "execute_result"
    }
   ],
   "source": [
    "df_submit"
   ]
  },
  {
   "cell_type": "code",
   "execution_count": 14,
   "id": "5c0a7ea0-b762-476e-8d1d-069fe29aed26",
   "metadata": {},
   "outputs": [],
   "source": [
    "df_best = pd.read_csv('output_best.csv')\n",
    "df_curr =pd.read_csv('submit_please.csv')"
   ]
  },
  {
   "cell_type": "code",
   "execution_count": 34,
   "id": "79b67b4a-a72a-42f1-9987-2e4631ff4875",
   "metadata": {},
   "outputs": [],
   "source": [
    "mask_gender =  df_best['ans'] // 3"
   ]
  },
  {
   "cell_type": "code",
   "execution_count": 40,
   "id": "8fd1549b-9c7c-412a-a8b7-02342fbeb83c",
   "metadata": {},
   "outputs": [
    {
     "data": {
      "text/plain": [
       "array([2, 0, 2, ..., 1, 0, 1])"
      ]
     },
     "execution_count": 40,
     "metadata": {},
     "output_type": "execute_result"
    }
   ],
   "source": [
    "(mask_gender//2).to_numpy()"
   ]
  },
  {
   "cell_type": "code",
   "execution_count": 41,
   "id": "90140b53-8009-4f04-a9b7-5488c1715a45",
   "metadata": {},
   "outputs": [],
   "source": [
    "mask_gender =  df_best['ans'] // 3\n",
    "m = (mask_gender // 2).to_numpy()\n",
    "g = (mask_gender % 2).to_numpy()\n",
    "\n",
    "import pickle\n",
    "\n",
    "with open('pkl/mask_pred_best.pkl', 'wb') as f:\n",
    "    pickle.dump(m, f)\n",
    "\n",
    "with open('pkl/gender_pred_best.pkl', 'wb') as f:\n",
    "    pickle.dump(g, f)"
   ]
  }
 ],
 "metadata": {
  "kernelspec": {
   "display_name": "pytorch",
   "language": "python",
   "name": "pytorch"
  },
  "language_info": {
   "codemirror_mode": {
    "name": "ipython",
    "version": 3
   },
   "file_extension": ".py",
   "mimetype": "text/x-python",
   "name": "python",
   "nbconvert_exporter": "python",
   "pygments_lexer": "ipython3",
   "version": "3.9.6"
  }
 },
 "nbformat": 4,
 "nbformat_minor": 5
}

{
 "cells": [
  {
   "cell_type": "code",
   "execution_count": 2,
   "id": "365ab4e1-1633-49c5-b046-c53a8558f898",
   "metadata": {},
   "outputs": [],
   "source": [
    "import sys\n",
    "sys.path.append('/opt/ml/code')\n",
    "\n",
    "import random\n",
    "\n",
    "import numpy as np\n",
    "import pandas as pd\n",
    "import matplotlib.pyplot as plt\n",
    "\n",
    "from my_modules.transform import get_transform\n",
    "from my_modules.dataset import TrainDataset, EvalDataset\n",
    "from my_modules.trainer import Trainer\n",
    "from my_modules.loss import LabelSmoothing\n",
    "from my_modules.inference import create_label\n",
    "\n",
    "import torch\n",
    "from torch.utils.data import DataLoader"
   ]
  },
  {
   "cell_type": "code",
   "execution_count": 3,
   "id": "2759a6b0-24e8-4822-8a7b-1ae962f8afa6",
   "metadata": {},
   "outputs": [],
   "source": [
    "df_train_path = f'df/df_labled_train.csv'\n",
    "df_valid_path = f'df/df_labled_valid.csv'\n",
    "df_test_path = '/opt/ml/input/data/eval/info.csv'\n",
    "\n",
    "df_train = pd.read_csv(df_train_path)\n",
    "df_valid = pd.read_csv(df_valid_path)\n",
    "df_test = pd.read_csv(df_test_path)"
   ]
  },
  {
   "cell_type": "code",
   "execution_count": 4,
   "id": "a1d70c9a-33e8-4da3-b5a8-58a5ed897c2a",
   "metadata": {},
   "outputs": [],
   "source": [
    "def sum_label3(df):\n",
    "    \n",
    "    def _label(row):\n",
    "        return row['age'] + 3*row['gender'] + 6*row['mask']\n",
    "\n",
    "    df['ans'] = df.apply(_label, axis=1)\n",
    "    return df[['ImageID', 'ans']]"
   ]
  },
  {
   "cell_type": "code",
   "execution_count": 5,
   "id": "8b34147e-1427-4836-a812-b82b6e7c83c6",
   "metadata": {},
   "outputs": [],
   "source": [
    "device = 'cuda'"
   ]
  },
  {
   "cell_type": "code",
   "execution_count": 18,
   "id": "d2cd31ab-759a-4a10-a999-4d094202caba",
   "metadata": {},
   "outputs": [
    {
     "name": "stdout",
     "output_type": "stream",
     "text": [
      "Loaded pretrained weights for efficientnet-b0\n"
     ]
    },
    {
     "name": "stderr",
     "output_type": "stream",
     "text": [
      "100%|██████████| 197/197 [00:24<00:00,  7.94it/s]"
     ]
    },
    {
     "name": "stdout",
     "output_type": "stream",
     "text": [
      "inference age complete!\n"
     ]
    },
    {
     "name": "stderr",
     "output_type": "stream",
     "text": [
      "\n"
     ]
    }
   ],
   "source": [
    "## add age label\n",
    "\n",
    "transform_test = get_transform(augment=False, crop=350, resize=224, cutout=None)\n",
    "test_dataset = EvalDataset(df=df_test, transform=transform_test)\n",
    "test_dataloader = DataLoader(test_dataset, batch_size=64, shuffle=False, num_workers=3, drop_last=False)\n",
    "\n",
    "model = EfficientNet.from_pretrained('efficientnet-b0', num_classes=3).to(device)\n",
    "model.load_state_dict(torch.load('/opt/ml/code/save/age/extended_far_best.pt'))\n",
    "df_submit = create_label(model, test_dataloader, df_test.copy(), device, target='age')"
   ]
  },
  {
   "cell_type": "code",
   "execution_count": 43,
   "id": "06421cf5-2003-46b1-ab71-5e27ece7422d",
   "metadata": {},
   "outputs": [],
   "source": [
    "df_submit = df_test.copy()"
   ]
  },
  {
   "cell_type": "code",
   "execution_count": 44,
   "id": "96776b73-5bd3-4e79-8820-fa7843fea643",
   "metadata": {},
   "outputs": [],
   "source": [
    "import pickle\n",
    "with open('pkl/ensembled_age5.pkl', 'rb') as f:\n",
    "    age_pred = pickle.load(f)\n",
    "\n",
    "df_submit['age'] = age_pred"
   ]
  },
  {
   "cell_type": "code",
   "execution_count": null,
   "id": "289366ca-5b2c-42aa-bad6-f0e6cd15c7f4",
   "metadata": {},
   "outputs": [],
   "source": [
    "age_pred"
   ]
  },
  {
   "cell_type": "code",
   "execution_count": 45,
   "id": "a7be2079-19b9-4be2-ab56-43ba31080326",
   "metadata": {},
   "outputs": [
    {
     "data": {
      "text/plain": [
       "0    5350\n",
       "2    3800\n",
       "1    3450\n",
       "Name: age, dtype: int64"
      ]
     },
     "execution_count": 45,
     "metadata": {},
     "output_type": "execute_result"
    }
   ],
   "source": [
    "df_submit.age.value_counts()"
   ]
  },
  {
   "cell_type": "code",
   "execution_count": 19,
   "id": "5b7878c1-f9ef-412d-a066-6a327f75dbe1",
   "metadata": {},
   "outputs": [
    {
     "data": {
      "text/plain": [
       "0    5334\n",
       "2    3659\n",
       "1    3607\n",
       "Name: age, dtype: int64"
      ]
     },
     "execution_count": 19,
     "metadata": {},
     "output_type": "execute_result"
    }
   ],
   "source": [
    "df_submit.age.value_counts()"
   ]
  },
  {
   "cell_type": "code",
   "execution_count": null,
   "id": "0480b6c0-57ac-48ac-ac67-eb913d26a6c4",
   "metadata": {},
   "outputs": [],
   "source": [
    "0    5334\n",
    "2    3659\n",
    "1    3607"
   ]
  },
  {
   "cell_type": "code",
   "execution_count": 36,
   "id": "042ca785-4b96-4ca7-b061-ee9d247e5fdf",
   "metadata": {},
   "outputs": [
    {
     "name": "stdout",
     "output_type": "stream",
     "text": [
      "Loaded pretrained weights for efficientnet-b0\n"
     ]
    },
    {
     "name": "stderr",
     "output_type": "stream",
     "text": [
      "100%|██████████| 197/197 [00:24<00:00,  7.98it/s]"
     ]
    },
    {
     "name": "stdout",
     "output_type": "stream",
     "text": [
      "inference mask complete!\n"
     ]
    },
    {
     "name": "stderr",
     "output_type": "stream",
     "text": [
      "\n"
     ]
    }
   ],
   "source": [
    "## add mask label\n",
    "\n",
    "transform_test = get_transform(augment=False, crop=350, resize=224, cutout=None)\n",
    "test_dataset = EvalDataset(df=df_test, transform=transform_test)\n",
    "test_dataloader = DataLoader(test_dataset, batch_size=64, shuffle=False, num_workers=3, drop_last=False)\n",
    "\n",
    "from efficientnet_pytorch import EfficientNet\n",
    "model = EfficientNet.from_pretrained('efficientnet-b0', num_classes=3).to(device)\n",
    "model.load_state_dict(torch.load('/opt/ml/code/save/mask/best_20_log1.pt'))\n",
    "df_submit = create_label(model, test_dataloader, df_submit, device, target='mask')"
   ]
  },
  {
   "cell_type": "code",
   "execution_count": 14,
   "id": "d0116ce8-60c5-498e-889a-d15839e96e57",
   "metadata": {},
   "outputs": [
    {
     "data": {
      "text/html": [
       "<div>\n",
       "<style scoped>\n",
       "    .dataframe tbody tr th:only-of-type {\n",
       "        vertical-align: middle;\n",
       "    }\n",
       "\n",
       "    .dataframe tbody tr th {\n",
       "        vertical-align: top;\n",
       "    }\n",
       "\n",
       "    .dataframe thead th {\n",
       "        text-align: right;\n",
       "    }\n",
       "</style>\n",
       "<table border=\"1\" class=\"dataframe\">\n",
       "  <thead>\n",
       "    <tr style=\"text-align: right;\">\n",
       "      <th></th>\n",
       "      <th>ImageID</th>\n",
       "      <th>ans</th>\n",
       "      <th>age</th>\n",
       "      <th>mask</th>\n",
       "    </tr>\n",
       "  </thead>\n",
       "  <tbody>\n",
       "    <tr>\n",
       "      <th>0</th>\n",
       "      <td>cbc5c6e168e63498590db46022617123f1fe1268.jpg</td>\n",
       "      <td>0</td>\n",
       "      <td>1</td>\n",
       "      <td>2</td>\n",
       "    </tr>\n",
       "    <tr>\n",
       "      <th>1</th>\n",
       "      <td>0e72482bf56b3581c081f7da2a6180b8792c7089.jpg</td>\n",
       "      <td>0</td>\n",
       "      <td>1</td>\n",
       "      <td>0</td>\n",
       "    </tr>\n",
       "    <tr>\n",
       "      <th>2</th>\n",
       "      <td>b549040c49190cedc41327748aeb197c1670f14d.jpg</td>\n",
       "      <td>0</td>\n",
       "      <td>1</td>\n",
       "      <td>2</td>\n",
       "    </tr>\n",
       "    <tr>\n",
       "      <th>3</th>\n",
       "      <td>4f9cb2a045c6d5b9e50ad3459ea7b791eb6e18bc.jpg</td>\n",
       "      <td>0</td>\n",
       "      <td>0</td>\n",
       "      <td>2</td>\n",
       "    </tr>\n",
       "    <tr>\n",
       "      <th>4</th>\n",
       "      <td>248428d9a4a5b6229a7081c32851b90cb8d38d0c.jpg</td>\n",
       "      <td>0</td>\n",
       "      <td>0</td>\n",
       "      <td>2</td>\n",
       "    </tr>\n",
       "    <tr>\n",
       "      <th>...</th>\n",
       "      <td>...</td>\n",
       "      <td>...</td>\n",
       "      <td>...</td>\n",
       "      <td>...</td>\n",
       "    </tr>\n",
       "    <tr>\n",
       "      <th>12595</th>\n",
       "      <td>d71d4570505d6af8f777690e63edfa8d85ea4476.jpg</td>\n",
       "      <td>0</td>\n",
       "      <td>1</td>\n",
       "      <td>0</td>\n",
       "    </tr>\n",
       "    <tr>\n",
       "      <th>12596</th>\n",
       "      <td>6cf1300e8e218716728d5820c0bab553306c2cfd.jpg</td>\n",
       "      <td>0</td>\n",
       "      <td>1</td>\n",
       "      <td>0</td>\n",
       "    </tr>\n",
       "    <tr>\n",
       "      <th>12597</th>\n",
       "      <td>8140edbba31c3a824e817e6d5fb95343199e2387.jpg</td>\n",
       "      <td>0</td>\n",
       "      <td>0</td>\n",
       "      <td>1</td>\n",
       "    </tr>\n",
       "    <tr>\n",
       "      <th>12598</th>\n",
       "      <td>030d439efe6fb5a7bafda45a393fc19f2bf57f54.jpg</td>\n",
       "      <td>0</td>\n",
       "      <td>0</td>\n",
       "      <td>0</td>\n",
       "    </tr>\n",
       "    <tr>\n",
       "      <th>12599</th>\n",
       "      <td>f1e0b9594ae9f72571f0a9dc67406ad41f2edab0.jpg</td>\n",
       "      <td>0</td>\n",
       "      <td>1</td>\n",
       "      <td>1</td>\n",
       "    </tr>\n",
       "  </tbody>\n",
       "</table>\n",
       "<p>12600 rows × 4 columns</p>\n",
       "</div>"
      ],
      "text/plain": [
       "                                            ImageID  ans  age  mask\n",
       "0      cbc5c6e168e63498590db46022617123f1fe1268.jpg    0    1     2\n",
       "1      0e72482bf56b3581c081f7da2a6180b8792c7089.jpg    0    1     0\n",
       "2      b549040c49190cedc41327748aeb197c1670f14d.jpg    0    1     2\n",
       "3      4f9cb2a045c6d5b9e50ad3459ea7b791eb6e18bc.jpg    0    0     2\n",
       "4      248428d9a4a5b6229a7081c32851b90cb8d38d0c.jpg    0    0     2\n",
       "...                                             ...  ...  ...   ...\n",
       "12595  d71d4570505d6af8f777690e63edfa8d85ea4476.jpg    0    1     0\n",
       "12596  6cf1300e8e218716728d5820c0bab553306c2cfd.jpg    0    1     0\n",
       "12597  8140edbba31c3a824e817e6d5fb95343199e2387.jpg    0    0     1\n",
       "12598  030d439efe6fb5a7bafda45a393fc19f2bf57f54.jpg    0    0     0\n",
       "12599  f1e0b9594ae9f72571f0a9dc67406ad41f2edab0.jpg    0    1     1\n",
       "\n",
       "[12600 rows x 4 columns]"
      ]
     },
     "execution_count": 14,
     "metadata": {},
     "output_type": "execute_result"
    }
   ],
   "source": [
    "df_submit"
   ]
  },
  {
   "cell_type": "code",
   "execution_count": 29,
   "id": "23f97d3b-6a36-4a86-a62b-45a9b3da44b6",
   "metadata": {},
   "outputs": [
    {
     "name": "stdout",
     "output_type": "stream",
     "text": [
      "Loaded pretrained weights for efficientnet-b3\n"
     ]
    },
    {
     "name": "stderr",
     "output_type": "stream",
     "text": [
      "100%|██████████| 197/197 [00:45<00:00,  4.31it/s]"
     ]
    },
    {
     "name": "stdout",
     "output_type": "stream",
     "text": [
      "inference gender complete!\n"
     ]
    },
    {
     "name": "stderr",
     "output_type": "stream",
     "text": [
      "\n"
     ]
    }
   ],
   "source": [
    "## add gender label\n",
    "\n",
    "transform_test = get_transform(augment=False, crop=350, resize=300, cutout=None)\n",
    "test_dataset = EvalDataset(df=df_test, transform=transform_test)\n",
    "test_dataloader = DataLoader(test_dataset, batch_size=64, shuffle=False, num_workers=3, drop_last=False)\n",
    "\n",
    "model = EfficientNet.from_pretrained('efficientnet-b3', num_classes=2).to(device)\n",
    "model.load_state_dict(torch.load('/opt/ml/code/save/gender_extened/log2.pt'))\n",
    "df_submit = create_label(model, test_dataloader, df_submit, device, target='gender')"
   ]
  },
  {
   "cell_type": "code",
   "execution_count": 30,
   "id": "7756a7df-a5b0-40a1-8d3e-02ddc4a78423",
   "metadata": {},
   "outputs": [
    {
     "data": {
      "text/html": [
       "<div>\n",
       "<style scoped>\n",
       "    .dataframe tbody tr th:only-of-type {\n",
       "        vertical-align: middle;\n",
       "    }\n",
       "\n",
       "    .dataframe tbody tr th {\n",
       "        vertical-align: top;\n",
       "    }\n",
       "\n",
       "    .dataframe thead th {\n",
       "        text-align: right;\n",
       "    }\n",
       "</style>\n",
       "<table border=\"1\" class=\"dataframe\">\n",
       "  <thead>\n",
       "    <tr style=\"text-align: right;\">\n",
       "      <th></th>\n",
       "      <th>ImageID</th>\n",
       "      <th>ans</th>\n",
       "      <th>mask</th>\n",
       "      <th>gender</th>\n",
       "    </tr>\n",
       "  </thead>\n",
       "  <tbody>\n",
       "    <tr>\n",
       "      <th>0</th>\n",
       "      <td>cbc5c6e168e63498590db46022617123f1fe1268.jpg</td>\n",
       "      <td>0</td>\n",
       "      <td>2</td>\n",
       "      <td>0</td>\n",
       "    </tr>\n",
       "    <tr>\n",
       "      <th>1</th>\n",
       "      <td>0e72482bf56b3581c081f7da2a6180b8792c7089.jpg</td>\n",
       "      <td>0</td>\n",
       "      <td>0</td>\n",
       "      <td>0</td>\n",
       "    </tr>\n",
       "    <tr>\n",
       "      <th>2</th>\n",
       "      <td>b549040c49190cedc41327748aeb197c1670f14d.jpg</td>\n",
       "      <td>0</td>\n",
       "      <td>2</td>\n",
       "      <td>0</td>\n",
       "    </tr>\n",
       "    <tr>\n",
       "      <th>3</th>\n",
       "      <td>4f9cb2a045c6d5b9e50ad3459ea7b791eb6e18bc.jpg</td>\n",
       "      <td>0</td>\n",
       "      <td>2</td>\n",
       "      <td>0</td>\n",
       "    </tr>\n",
       "    <tr>\n",
       "      <th>4</th>\n",
       "      <td>248428d9a4a5b6229a7081c32851b90cb8d38d0c.jpg</td>\n",
       "      <td>0</td>\n",
       "      <td>2</td>\n",
       "      <td>0</td>\n",
       "    </tr>\n",
       "    <tr>\n",
       "      <th>...</th>\n",
       "      <td>...</td>\n",
       "      <td>...</td>\n",
       "      <td>...</td>\n",
       "      <td>...</td>\n",
       "    </tr>\n",
       "    <tr>\n",
       "      <th>12595</th>\n",
       "      <td>d71d4570505d6af8f777690e63edfa8d85ea4476.jpg</td>\n",
       "      <td>0</td>\n",
       "      <td>0</td>\n",
       "      <td>0</td>\n",
       "    </tr>\n",
       "    <tr>\n",
       "      <th>12596</th>\n",
       "      <td>6cf1300e8e218716728d5820c0bab553306c2cfd.jpg</td>\n",
       "      <td>0</td>\n",
       "      <td>0</td>\n",
       "      <td>1</td>\n",
       "    </tr>\n",
       "    <tr>\n",
       "      <th>12597</th>\n",
       "      <td>8140edbba31c3a824e817e6d5fb95343199e2387.jpg</td>\n",
       "      <td>0</td>\n",
       "      <td>1</td>\n",
       "      <td>1</td>\n",
       "    </tr>\n",
       "    <tr>\n",
       "      <th>12598</th>\n",
       "      <td>030d439efe6fb5a7bafda45a393fc19f2bf57f54.jpg</td>\n",
       "      <td>0</td>\n",
       "      <td>0</td>\n",
       "      <td>0</td>\n",
       "    </tr>\n",
       "    <tr>\n",
       "      <th>12599</th>\n",
       "      <td>f1e0b9594ae9f72571f0a9dc67406ad41f2edab0.jpg</td>\n",
       "      <td>0</td>\n",
       "      <td>1</td>\n",
       "      <td>0</td>\n",
       "    </tr>\n",
       "  </tbody>\n",
       "</table>\n",
       "<p>12600 rows × 4 columns</p>\n",
       "</div>"
      ],
      "text/plain": [
       "                                            ImageID  ans  mask  gender\n",
       "0      cbc5c6e168e63498590db46022617123f1fe1268.jpg    0     2       0\n",
       "1      0e72482bf56b3581c081f7da2a6180b8792c7089.jpg    0     0       0\n",
       "2      b549040c49190cedc41327748aeb197c1670f14d.jpg    0     2       0\n",
       "3      4f9cb2a045c6d5b9e50ad3459ea7b791eb6e18bc.jpg    0     2       0\n",
       "4      248428d9a4a5b6229a7081c32851b90cb8d38d0c.jpg    0     2       0\n",
       "...                                             ...  ...   ...     ...\n",
       "12595  d71d4570505d6af8f777690e63edfa8d85ea4476.jpg    0     0       0\n",
       "12596  6cf1300e8e218716728d5820c0bab553306c2cfd.jpg    0     0       1\n",
       "12597  8140edbba31c3a824e817e6d5fb95343199e2387.jpg    0     1       1\n",
       "12598  030d439efe6fb5a7bafda45a393fc19f2bf57f54.jpg    0     0       0\n",
       "12599  f1e0b9594ae9f72571f0a9dc67406ad41f2edab0.jpg    0     1       0\n",
       "\n",
       "[12600 rows x 4 columns]"
      ]
     },
     "execution_count": 30,
     "metadata": {},
     "output_type": "execute_result"
    }
   ],
   "source": [
    "df_submit"
   ]
  },
  {
   "cell_type": "code",
   "execution_count": 32,
   "id": "ddffcedb-f797-4569-812d-1770ca98a5d0",
   "metadata": {},
   "outputs": [],
   "source": [
    "## sumup labels\n",
    "\n",
    "df_submit = sum_label3(df_submit)"
   ]
  },
  {
   "cell_type": "code",
   "execution_count": 33,
   "id": "275618d2-81e1-4840-a8a3-b1112ee08b78",
   "metadata": {},
   "outputs": [],
   "source": [
    "df_submit.to_csv('submit_ensemble_n5.csv', index=False)"
   ]
  },
  {
   "cell_type": "code",
   "execution_count": 23,
   "id": "cc34c977-8743-4831-91e4-7e53f88fbe85",
   "metadata": {},
   "outputs": [],
   "source": []
  },
  {
   "cell_type": "code",
   "execution_count": 14,
   "id": "5c0a7ea0-b762-476e-8d1d-069fe29aed26",
   "metadata": {},
   "outputs": [],
   "source": [
    "df_best = pd.read_csv('output_best.csv')\n",
    "df_curr =pd.read_csv('submit_please.csv')"
   ]
  },
  {
   "cell_type": "code",
   "execution_count": 34,
   "id": "79b67b4a-a72a-42f1-9987-2e4631ff4875",
   "metadata": {},
   "outputs": [],
   "source": [
    "mask_gender =  df_best['ans'] // 3"
   ]
  },
  {
   "cell_type": "code",
   "execution_count": 40,
   "id": "8fd1549b-9c7c-412a-a8b7-02342fbeb83c",
   "metadata": {},
   "outputs": [
    {
     "data": {
      "text/plain": [
       "array([2, 0, 2, ..., 1, 0, 1])"
      ]
     },
     "execution_count": 40,
     "metadata": {},
     "output_type": "execute_result"
    }
   ],
   "source": [
    "(mask_gender//2).to_numpy()"
   ]
  },
  {
   "cell_type": "code",
   "execution_count": 41,
   "id": "90140b53-8009-4f04-a9b7-5488c1715a45",
   "metadata": {},
   "outputs": [],
   "source": [
    "mask_gender =  df_best['ans'] // 3\n",
    "m = (mask_gender // 2).to_numpy()\n",
    "g = (mask_gender % 2).to_numpy()\n",
    "\n",
    "import pickle\n",
    "\n",
    "with open('pkl/mask_pred_best.pkl', 'wb') as f:\n",
    "    pickle.dump(m, f)\n",
    "\n",
    "with open('pkl/gender_pred_best.pkl', 'wb') as f:\n",
    "    pickle.dump(g, f)"
   ]
  }
 ],
 "metadata": {
  "kernelspec": {
   "display_name": "pytorch",
   "language": "python",
   "name": "pytorch"
  },
  "language_info": {
   "codemirror_mode": {
    "name": "ipython",
    "version": 3
   },
   "file_extension": ".py",
   "mimetype": "text/x-python",
   "name": "python",
   "nbconvert_exporter": "python",
   "pygments_lexer": "ipython3",
   "version": "3.9.6"
  }
 },
 "nbformat": 4,
 "nbformat_minor": 5
}

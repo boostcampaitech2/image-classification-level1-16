{
 "cells": [
  {
   "cell_type": "code",
   "execution_count": 1,
   "id": "365ab4e1-1633-49c5-b046-c53a8558f898",
   "metadata": {},
   "outputs": [],
   "source": [
    "import torch\n",
    "import pandas as pd\n",
    "from dataset import get_test_dataset\n",
    "from efficientnet_pytorch import EfficientNet\n",
    "from inference import create_label\n",
    "from torch.utils.data import DataLoader"
   ]
  },
  {
   "cell_type": "code",
   "execution_count": 2,
   "id": "1218f4e0-f016-4a10-b72e-a783035fd01d",
   "metadata": {},
   "outputs": [],
   "source": [
    "df_test_path = '/opt/ml/input/data/eval/info.csv'\n",
    "df_test = pd.read_csv(df_test_path)\n",
    "test_dataset = get_test_dataset(df_test)\n",
    "test_dataloader = DataLoader(test_dataset, batch_size=64, shuffle=False, num_workers=3, drop_last=False)"
   ]
  },
  {
   "cell_type": "code",
   "execution_count": 3,
   "id": "4c007205-7b6b-4000-9550-d2279a41d2e4",
   "metadata": {},
   "outputs": [],
   "source": [
    "def sum_label(df):\n",
    "    \n",
    "    def _label(row):\n",
    "        return row['age'] + 3*row['label']# + 6*row['mask']\n",
    "\n",
    "    df['ans'] = df.apply(_label, axis=1)\n",
    "    return df[['ImageID', 'ans']]"
   ]
  },
  {
   "cell_type": "code",
   "execution_count": 4,
   "id": "8b34147e-1427-4836-a812-b82b6e7c83c6",
   "metadata": {},
   "outputs": [],
   "source": [
    "device = 'cuda'"
   ]
  },
  {
   "cell_type": "code",
   "execution_count": 5,
   "id": "49c8ccc4-918e-46a9-9fe4-d076747e2df9",
   "metadata": {},
   "outputs": [
    {
     "name": "stdout",
     "output_type": "stream",
     "text": [
      "Loaded pretrained weights for efficientnet-b0\n"
     ]
    },
    {
     "name": "stderr",
     "output_type": "stream",
     "text": [
      "100%|██████████| 197/197 [00:24<00:00,  7.97it/s]"
     ]
    },
    {
     "name": "stdout",
     "output_type": "stream",
     "text": [
      "inference label complete!\n"
     ]
    },
    {
     "name": "stderr",
     "output_type": "stream",
     "text": [
      "\n"
     ]
    }
   ],
   "source": [
    "## add mask_and gender label\n",
    "\n",
    "model = EfficientNet.from_pretrained('efficientnet-b0', num_classes=6).to(device)\n",
    "model.load_state_dict(torch.load('/opt/ml/code/save/split_test/best_30_log7.pt'))\n",
    "df_submit = create_label(model, test_dataloader, df_test.copy(), device, target='label')"
   ]
  },
  {
   "cell_type": "code",
   "execution_count": 6,
   "id": "d2cd31ab-759a-4a10-a999-4d094202caba",
   "metadata": {},
   "outputs": [
    {
     "name": "stdout",
     "output_type": "stream",
     "text": [
      "Loaded pretrained weights for efficientnet-b0\n"
     ]
    },
    {
     "name": "stderr",
     "output_type": "stream",
     "text": [
      "100%|██████████| 197/197 [00:24<00:00,  7.99it/s]"
     ]
    },
    {
     "name": "stdout",
     "output_type": "stream",
     "text": [
      "inference age complete!\n"
     ]
    },
    {
     "name": "stderr",
     "output_type": "stream",
     "text": [
      "\n"
     ]
    }
   ],
   "source": [
    "## add age label\n",
    "\n",
    "model = EfficientNet.from_pretrained('efficientnet-b0', num_classes=3).to(device)\n",
    "model.load_state_dict(torch.load('/opt/ml/code/save/age/extended_far_best.pt'))\n",
    "df_submit = create_label(model, test_dataloader, df_submit, device, target='age')"
   ]
  },
  {
   "cell_type": "code",
   "execution_count": null,
   "id": "a47af39a-5b9e-4458-9e15-c116c26fc93a",
   "metadata": {},
   "outputs": [],
   "source": [
    "# model.load_state_dict(torch.load('/opt/ml/code/save/mask/6e5_9987.pt'))\n",
    "# df_submit = create_label(model, test_dataloader, df_submit, device, target='mask')\n",
    "\n",
    "# model.fc = nn.Linear(model.fc.in_features, 2).cuda()\n",
    "# model.load_state_dict(torch.load('/opt/ml/code/save/gender/6e5_9851.pt'))\n",
    "# df_submit = create_label(model, test_dataloader, df_submit, device, target='gender')"
   ]
  },
  {
   "cell_type": "code",
   "execution_count": 7,
   "id": "ddffcedb-f797-4569-812d-1770ca98a5d0",
   "metadata": {},
   "outputs": [],
   "source": [
    "## sumup labels\n",
    "\n",
    "df_submit = sum_label(df_submit)"
   ]
  },
  {
   "cell_type": "code",
   "execution_count": 8,
   "id": "275618d2-81e1-4840-a8a3-b1112ee08b78",
   "metadata": {},
   "outputs": [],
   "source": [
    "df_submit.to_csv('submit_30.csv', index=False)"
   ]
  },
  {
   "cell_type": "code",
   "execution_count": null,
   "id": "a5ed84c3-67d9-463a-9e46-447ab0920423",
   "metadata": {},
   "outputs": [],
   "source": []
  }
 ],
 "metadata": {
  "kernelspec": {
   "display_name": "pytorch",
   "language": "python",
   "name": "pytorch"
  },
  "language_info": {
   "codemirror_mode": {
    "name": "ipython",
    "version": 3
   },
   "file_extension": ".py",
   "mimetype": "text/x-python",
   "name": "python",
   "nbconvert_exporter": "python",
   "pygments_lexer": "ipython3",
   "version": "3.9.6"
  }
 },
 "nbformat": 4,
 "nbformat_minor": 5
}

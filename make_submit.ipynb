{
 "cells": [
  {
   "cell_type": "code",
   "execution_count": 1,
   "id": "365ab4e1-1633-49c5-b046-c53a8558f898",
   "metadata": {},
   "outputs": [],
   "source": [
    "import sys\n",
    "sys.path.append('/opt/ml/code')\n",
    "\n",
    "import random\n",
    "\n",
    "import numpy as np\n",
    "import pandas as pd\n",
    "import matplotlib.pyplot as plt\n",
    "\n",
    "from my_modules.transform import get_transform\n",
    "from my_modules.dataset import TrainDataset, EvalDataset\n",
    "from my_modules.trainer import Trainer\n",
    "from my_modules.loss import LabelSmoothing\n",
    "from my_modules.inference import create_label\n",
    "\n",
    "import torch\n",
    "from torch.utils.data import DataLoader"
   ]
  },
  {
   "cell_type": "code",
   "execution_count": 2,
   "id": "2759a6b0-24e8-4822-8a7b-1ae962f8afa6",
   "metadata": {},
   "outputs": [],
   "source": [
    "df_train_path = f'df/df_labled_train.csv'\n",
    "df_valid_path = f'df/df_labled_valid.csv'\n",
    "df_test_path = '/opt/ml/input/data/eval/info.csv'\n",
    "\n",
    "df_train = pd.read_csv(df_train_path)\n",
    "df_valid = pd.read_csv(df_valid_path)\n",
    "df_test = pd.read_csv(df_test_path)"
   ]
  },
  {
   "cell_type": "code",
   "execution_count": 3,
   "id": "a1d70c9a-33e8-4da3-b5a8-58a5ed897c2a",
   "metadata": {},
   "outputs": [],
   "source": [
    "def sum_label3(df):\n",
    "    \n",
    "    def _label(row):\n",
    "        return row['age'] + 3*row['gender'] + 6*row['mask']\n",
    "\n",
    "    df['ans'] = df.apply(_label, axis=1)\n",
    "    return df[['ImageID', 'ans']]"
   ]
  },
  {
   "cell_type": "code",
   "execution_count": 4,
   "id": "8b34147e-1427-4836-a812-b82b6e7c83c6",
   "metadata": {},
   "outputs": [],
   "source": [
    "device = 'cuda'"
   ]
  },
  {
   "cell_type": "code",
   "execution_count": 18,
   "id": "d2cd31ab-759a-4a10-a999-4d094202caba",
   "metadata": {},
   "outputs": [
    {
     "name": "stdout",
     "output_type": "stream",
     "text": [
      "Loaded pretrained weights for efficientnet-b0\n"
     ]
    },
    {
     "name": "stderr",
     "output_type": "stream",
     "text": [
      "100%|██████████| 197/197 [00:24<00:00,  7.94it/s]"
     ]
    },
    {
     "name": "stdout",
     "output_type": "stream",
     "text": [
      "inference age complete!\n"
     ]
    },
    {
     "name": "stderr",
     "output_type": "stream",
     "text": [
      "\n"
     ]
    }
   ],
   "source": [
    "## add age label\n",
    "\n",
    "transform_test = get_transform(augment=False, crop=350, resize=224, cutout=None)\n",
    "test_dataset = EvalDataset(df=df_test, transform=transform_test)\n",
    "test_dataloader = DataLoader(test_dataset, batch_size=64, shuffle=False, num_workers=3, drop_last=False)\n",
    "\n",
    "model = EfficientNet.from_pretrained('efficientnet-b0', num_classes=3).to(device)\n",
    "model.load_state_dict(torch.load('/opt/ml/code/save/age/extended_far_best.pt'))\n",
    "df_submit = create_label(model, test_dataloader, df_test.copy(), device, target='age')"
   ]
  },
  {
   "cell_type": "code",
   "execution_count": 19,
   "id": "5b7878c1-f9ef-412d-a066-6a327f75dbe1",
   "metadata": {},
   "outputs": [
    {
     "data": {
      "text/plain": [
       "0    5334\n",
       "2    3659\n",
       "1    3607\n",
       "Name: age, dtype: int64"
      ]
     },
     "execution_count": 19,
     "metadata": {},
     "output_type": "execute_result"
    }
   ],
   "source": [
    "df_submit.age.value_counts()"
   ]
  },
  {
   "cell_type": "code",
   "execution_count": 13,
   "id": "042ca785-4b96-4ca7-b061-ee9d247e5fdf",
   "metadata": {},
   "outputs": [
    {
     "name": "stdout",
     "output_type": "stream",
     "text": [
      "Loaded pretrained weights for efficientnet-b0\n"
     ]
    },
    {
     "name": "stderr",
     "output_type": "stream",
     "text": [
      "100%|██████████| 197/197 [00:24<00:00,  7.95it/s]"
     ]
    },
    {
     "name": "stdout",
     "output_type": "stream",
     "text": [
      "inference mask complete!\n"
     ]
    },
    {
     "name": "stderr",
     "output_type": "stream",
     "text": [
      "\n"
     ]
    }
   ],
   "source": [
    "## add mask label\n",
    "\n",
    "transform_test = get_transform(augment=False, crop=350, resize=224, cutout=None)\n",
    "test_dataset = EvalDataset(df=df_test, transform=transform_test)\n",
    "test_dataloader = DataLoader(test_dataset, batch_size=64, shuffle=False, num_workers=3, drop_last=False)\n",
    "\n",
    "from efficientnet_pytorch import EfficientNet\n",
    "model = EfficientNet.from_pretrained('efficientnet-b0', num_classes=3).to(device)\n",
    "model.load_state_dict(torch.load('/opt/ml/code/save/mask/best_20_log1.pt'))\n",
    "df_submit = create_label(model, test_dataloader, df_submit, device, target='mask')"
   ]
  },
  {
   "cell_type": "code",
   "execution_count": 14,
   "id": "23f97d3b-6a36-4a86-a62b-45a9b3da44b6",
   "metadata": {},
   "outputs": [
    {
     "name": "stdout",
     "output_type": "stream",
     "text": [
      "Loaded pretrained weights for efficientnet-b3\n"
     ]
    },
    {
     "name": "stderr",
     "output_type": "stream",
     "text": [
      "100%|██████████| 197/197 [00:30<00:00,  6.55it/s]"
     ]
    },
    {
     "name": "stdout",
     "output_type": "stream",
     "text": [
      "inference gender complete!\n"
     ]
    },
    {
     "name": "stderr",
     "output_type": "stream",
     "text": [
      "\n"
     ]
    }
   ],
   "source": [
    "## add gender label\n",
    "\n",
    "transform_test = get_transform(augment=False, crop=350, resize=300, cutout=None)\n",
    "test_dataset = EvalDataset(df=df_test, transform=transform_test)\n",
    "test_dataloader = DataLoader(test_dataset, batch_size=64, shuffle=False, num_workers=3, drop_last=False)\n",
    "\n",
    "model = EfficientNet.from_pretrained('efficientnet-b0', num_classes=2).to(device)\n",
    "model.load_state_dict(torch.load('/opt/ml/code/save/gender/log2.pt'))\n",
    "df_submit = create_label(model, test_dataloader, df_submit, device, target='gender')"
   ]
  },
  {
   "cell_type": "code",
   "execution_count": 17,
   "id": "7756a7df-a5b0-40a1-8d3e-02ddc4a78423",
   "metadata": {},
   "outputs": [
    {
     "data": {
      "text/plain": [
       "0    5363\n",
       "1    5042\n",
       "2    2195\n",
       "Name: age, dtype: int64"
      ]
     },
     "execution_count": 17,
     "metadata": {},
     "output_type": "execute_result"
    }
   ],
   "source": [
    "df_submit.age.value_counts()"
   ]
  },
  {
   "cell_type": "code",
   "execution_count": 10,
   "id": "ddffcedb-f797-4569-812d-1770ca98a5d0",
   "metadata": {},
   "outputs": [],
   "source": [
    "## sumup labels\n",
    "\n",
    "df_submit = sum_label3(df_submit)"
   ]
  },
  {
   "cell_type": "code",
   "execution_count": 11,
   "id": "275618d2-81e1-4840-a8a3-b1112ee08b78",
   "metadata": {},
   "outputs": [],
   "source": [
    "df_submit.to_csv('submit_please.csv', index=False)"
   ]
  },
  {
   "cell_type": "code",
   "execution_count": null,
   "id": "cc34c977-8743-4831-91e4-7e53f88fbe85",
   "metadata": {},
   "outputs": [],
   "source": []
  }
 ],
 "metadata": {
  "kernelspec": {
   "display_name": "pytorch",
   "language": "python",
   "name": "pytorch"
  },
  "language_info": {
   "codemirror_mode": {
    "name": "ipython",
    "version": 3
   },
   "file_extension": ".py",
   "mimetype": "text/x-python",
   "name": "python",
   "nbconvert_exporter": "python",
   "pygments_lexer": "ipython3",
   "version": "3.9.6"
  }
 },
 "nbformat": 4,
 "nbformat_minor": 5
}

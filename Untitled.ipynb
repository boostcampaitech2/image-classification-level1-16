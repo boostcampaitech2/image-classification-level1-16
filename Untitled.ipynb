{
 "cells": [
  {
   "cell_type": "code",
   "execution_count": 57,
   "id": "1f40c290-4b7c-4655-85fd-fef1fcb10574",
   "metadata": {},
   "outputs": [],
   "source": [
    "import  yaml"
   ]
  },
  {
   "cell_type": "code",
   "execution_count": 70,
   "id": "0c6361e8-6278-4f9c-a0a5-df83444fff00",
   "metadata": {},
   "outputs": [],
   "source": [
    "with open('configs/inference.yaml') as f:\n",
    "    config = yaml.load(f, Loader=yaml.FullLoader)"
   ]
  },
  {
   "cell_type": "code",
   "execution_count": 71,
   "id": "0b2b477c-f8d3-423a-9d94-47e52ab80c33",
   "metadata": {},
   "outputs": [
    {
     "data": {
      "text/plain": [
       "{'inferencer': {'eval_csv_path': '/opt/ml/input/data/eval/info.csv',\n",
       "  'eval_img_path': '/opt/ml/input/data/eval/images/'},\n",
       " 'pseudo_labeling_default': {'model': 'efficientnet-b0',\n",
       "  'transform': {'crop_size': 350},\n",
       "  'dataloader': {'batch_size': 64, 'num_workers': 2}},\n",
       " 'pseudo_labeling_gender': {'model': 'efficientnet-b0',\n",
       "  'transform': {'crop_size': 350},\n",
       "  'dataloader': {'batch_size': 64, 'num_workers': 2},\n",
       "  'threshold': [0.9, 0.9]},\n",
       " 'pseudo_labeling_age': {'model': 'efficientnet-b0',\n",
       "  'transform': {'crop_size': 350},\n",
       "  'dataloader': {'batch_size': 64, 'num_workers': 2},\n",
       "  'threshold': [0.95, 0.95]},\n",
       " 'pseudo_labeling_mask': {'model': 'efficientnet-b0',\n",
       "  'transform': {'crop_size': 350},\n",
       "  'dataloader': {'batch_size': 64, 'num_workers': 2},\n",
       "  'threshold': [0.5, 0.95, 0.95]}}"
      ]
     },
     "execution_count": 71,
     "metadata": {},
     "output_type": "execute_result"
    }
   ],
   "source": [
    "config"
   ]
  },
  {
   "cell_type": "code",
   "execution_count": 48,
   "id": "774b9a62-0166-4813-b12d-d4f662d8aeb9",
   "metadata": {},
   "outputs": [
    {
     "data": {
      "text/plain": [
       "['configs/age_ensemble.ini']"
      ]
     },
     "execution_count": 48,
     "metadata": {},
     "output_type": "execute_result"
    }
   ],
   "source": [
    "config = configparser.ConfigParser()\n",
    "config.read('configs/age_ensemble.ini')"
   ]
  },
  {
   "cell_type": "code",
   "execution_count": null,
   "id": "ace0a953-6b86-4169-9027-c86daaa89403",
   "metadata": {},
   "outputs": [],
   "source": [
    "def parser()"
   ]
  },
  {
   "cell_type": "code",
   "execution_count": 52,
   "id": "3d5fb860-04e9-49a2-9501-94f3df01d8da",
   "metadata": {},
   "outputs": [
    {
     "data": {
      "text/plain": [
       "{'name': \"'Adam'\", 'lr': '0.00006'}"
      ]
     },
     "execution_count": 52,
     "metadata": {},
     "output_type": "execute_result"
    }
   ],
   "source": [
    "dict(config['optimizer'])"
   ]
  },
  {
   "cell_type": "code",
   "execution_count": 36,
   "id": "ab3d8787-8039-457e-b78e-4ab18eefd090",
   "metadata": {},
   "outputs": [
    {
     "name": "stdout",
     "output_type": "stream",
     "text": [
      "name Adam\n",
      "lr 0.00006\n"
     ]
    }
   ],
   "source": [
    "for a , b in config['optimizer'].items():\n",
    "    print(a, b)"
   ]
  },
  {
   "cell_type": "code",
   "execution_count": 2,
   "id": "7c8dc258-caaf-4992-b9f5-44204ea0ef4f",
   "metadata": {},
   "outputs": [],
   "source": [
    "from efficientnet_pytorch import EfficientNet"
   ]
  },
  {
   "cell_type": "code",
   "execution_count": 30,
   "id": "8f340e9f-9233-4f87-a84e-b11069f3ad19",
   "metadata": {},
   "outputs": [],
   "source": [
    "def f(**kargs):\n",
    "    for x, v in kargs.items():\n",
    "        print(x, v)"
   ]
  },
  {
   "cell_type": "code",
   "execution_count": 32,
   "id": "92448b0c-16bb-4266-a40d-422efc668630",
   "metadata": {},
   "outputs": [
    {
     "name": "stdout",
     "output_type": "stream",
     "text": [
      "train_csv_path '/opt/ml/input/data/train/train.csv'\n",
      "train_img_path '/opt/ml/input/data/train/images/'\n",
      "eval_csv_path '/opt/ml/input/data/eval/info.csv'\n",
      "eval_img_path '/opt/ml/input/data/eval/images/'\n",
      "weight_save_path 'save/'\n"
     ]
    }
   ],
   "source": [
    "f(**config['path'])"
   ]
  },
  {
   "cell_type": "code",
   "execution_count": 31,
   "id": "e527c34b-6bd9-497e-a2e9-5de53aa7c98d",
   "metadata": {},
   "outputs": [
    {
     "name": "stdout",
     "output_type": "stream",
     "text": [
      "a 5\n",
      "b 3\n"
     ]
    }
   ],
   "source": [
    "f(a=5, b=3)"
   ]
  },
  {
   "cell_type": "code",
   "execution_count": 47,
   "id": "6b511be9-b65f-4a6e-a692-46afb35bbe93",
   "metadata": {},
   "outputs": [
    {
     "ename": "AttributeError",
     "evalue": "'str' object has no attribute 'isfloat'",
     "output_type": "error",
     "traceback": [
      "\u001b[0;31m---------------------------------------------------------------------------\u001b[0m",
      "\u001b[0;31mAttributeError\u001b[0m                            Traceback (most recent call last)",
      "\u001b[0;32m<ipython-input-47-d3ac5fe5530e>\u001b[0m in \u001b[0;36m<module>\u001b[0;34m\u001b[0m\n\u001b[0;32m----> 1\u001b[0;31m \u001b[0;34m'100.056'\u001b[0m\u001b[0;34m.\u001b[0m\u001b[0misfloat\u001b[0m\u001b[0;34m(\u001b[0m\u001b[0;34m)\u001b[0m\u001b[0;34m\u001b[0m\u001b[0;34m\u001b[0m\u001b[0m\n\u001b[0m",
      "\u001b[0;31mAttributeError\u001b[0m: 'str' object has no attribute 'isfloat'"
     ]
    }
   ],
   "source": [
    "'100.056'.isfloat()"
   ]
  },
  {
   "cell_type": "code",
   "execution_count": null,
   "id": "f45f366d-986d-4c84-89fd-e2736ef109ca",
   "metadata": {},
   "outputs": [],
   "source": []
  }
 ],
 "metadata": {
  "kernelspec": {
   "display_name": "pytorch",
   "language": "python",
   "name": "pytorch"
  },
  "language_info": {
   "codemirror_mode": {
    "name": "ipython",
    "version": 3
   },
   "file_extension": ".py",
   "mimetype": "text/x-python",
   "name": "python",
   "nbconvert_exporter": "python",
   "pygments_lexer": "ipython3",
   "version": "3.9.6"
  }
 },
 "nbformat": 4,
 "nbformat_minor": 5
}

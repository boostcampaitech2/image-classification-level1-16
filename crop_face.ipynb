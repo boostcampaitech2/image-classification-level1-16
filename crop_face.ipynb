{
 "cells": [
  {
   "cell_type": "code",
   "execution_count": 1,
   "id": "f248ff6f-0958-42a5-bc8b-141fefb15c3f",
   "metadata": {},
   "outputs": [],
   "source": [
    "import os\n",
    "import pandas as pd\n",
    "import numpy as np\n",
    "import dlib\n",
    "import os\n",
    "from pathlib import Path\n",
    "from tqdm import tqdm"
   ]
  },
  {
   "cell_type": "code",
   "execution_count": 2,
   "id": "bcf2edc3-815c-4ce2-90fb-a868f7b689bc",
   "metadata": {},
   "outputs": [],
   "source": [
    "df_train_path = 'df/df_labled_train.csv'\n",
    "df_valid_path = 'df/df_labled_valid.csv'\n",
    "#df_test_path = '/opt/ml/input/data/eval/info.csv'\n",
    "\n",
    "df_train = pd.read_csv(df_train_path)\n",
    "df_valid = pd.read_csv(df_valid_path)\n",
    "#df_test = pd.read_csv(df_test_path)\n",
    "\n",
    "df = pd.concat([df_train, df_valid])"
   ]
  },
  {
   "cell_type": "code",
   "execution_count": 3,
   "id": "9d24e2ee-0ca1-4a3f-aff5-7c2e3a6a728e",
   "metadata": {},
   "outputs": [],
   "source": [
    "default_max_size=800\n",
    "size = 300\n",
    "padding = 0.5\n",
    "cnn_face_detector = dlib.cnn_face_detection_model_v1('dlib_models/mmod_human_face_detector.dat')\n",
    "sp = dlib.shape_predictor('dlib_models/shape_predictor_5_face_landmarks.dat')"
   ]
  },
  {
   "cell_type": "code",
   "execution_count": 4,
   "id": "bc2a2bb7-ae6e-44ec-ae26-ec04d4544197",
   "metadata": {},
   "outputs": [
    {
     "name": "stderr",
     "output_type": "stream",
     "text": [
      "  0%|          | 1/18900 [00:50<267:25:43, 50.94s/it]\n"
     ]
    },
    {
     "ename": "KeyboardInterrupt",
     "evalue": "",
     "output_type": "error",
     "traceback": [
      "\u001b[0;31m---------------------------------------------------------------------------\u001b[0m",
      "\u001b[0;31mKeyboardInterrupt\u001b[0m                         Traceback (most recent call last)",
      "\u001b[0;32m<ipython-input-4-f571620bab3c>\u001b[0m in \u001b[0;36m<module>\u001b[0;34m\u001b[0m\n\u001b[1;32m     13\u001b[0m \u001b[0;34m\u001b[0m\u001b[0m\n\u001b[1;32m     14\u001b[0m     \u001b[0mimg\u001b[0m \u001b[0;34m=\u001b[0m \u001b[0mdlib\u001b[0m\u001b[0;34m.\u001b[0m\u001b[0mresize_image\u001b[0m\u001b[0;34m(\u001b[0m\u001b[0mimg\u001b[0m\u001b[0;34m,\u001b[0m \u001b[0mrows\u001b[0m\u001b[0;34m=\u001b[0m\u001b[0mnew_height\u001b[0m\u001b[0;34m,\u001b[0m \u001b[0mcols\u001b[0m\u001b[0;34m=\u001b[0m\u001b[0mnew_width\u001b[0m\u001b[0;34m)\u001b[0m\u001b[0;34m\u001b[0m\u001b[0;34m\u001b[0m\u001b[0m\n\u001b[0;32m---> 15\u001b[0;31m     \u001b[0mdets\u001b[0m \u001b[0;34m=\u001b[0m \u001b[0mcnn_face_detector\u001b[0m\u001b[0;34m(\u001b[0m\u001b[0mimg\u001b[0m\u001b[0;34m,\u001b[0m \u001b[0;36m1\u001b[0m\u001b[0;34m)\u001b[0m\u001b[0;34m\u001b[0m\u001b[0;34m\u001b[0m\u001b[0m\n\u001b[0m\u001b[1;32m     16\u001b[0m \u001b[0;34m\u001b[0m\u001b[0m\n\u001b[1;32m     17\u001b[0m     \u001b[0mnum_faces\u001b[0m \u001b[0;34m=\u001b[0m \u001b[0mlen\u001b[0m\u001b[0;34m(\u001b[0m\u001b[0mdets\u001b[0m\u001b[0;34m)\u001b[0m\u001b[0;34m\u001b[0m\u001b[0;34m\u001b[0m\u001b[0m\n",
      "\u001b[0;31mKeyboardInterrupt\u001b[0m: "
     ]
    }
   ],
   "source": [
    "outliers = []\n",
    "\n",
    "for image_path in tqdm(df['path']):\n",
    "\n",
    "    img = dlib.load_rgb_image(image_path)\n",
    "    \n",
    "    old_height, old_width, _ = img.shape\n",
    "    \n",
    "    if old_width > old_height:\n",
    "        new_width, new_height = default_max_size, int(default_max_size * old_height / old_width)\n",
    "    else:\n",
    "        new_width, new_height =  int(default_max_size * old_width / old_height), default_max_size\n",
    "    \n",
    "    img = dlib.resize_image(img, rows=new_height, cols=new_width)\n",
    "    dets = cnn_face_detector(img, 1)\n",
    "    \n",
    "    num_faces = len(dets)\n",
    "    if num_faces != 1:\n",
    "        outliers.append(image_path)\n",
    "        continue\n",
    "\n",
    "    faces = dlib.full_object_detections()\n",
    "\n",
    "    for detection in dets:\n",
    "        rect = detection.rect\n",
    "        faces.append(sp(img, rect))\n",
    "\n",
    "    images = dlib.get_face_chips(img, faces, size=size, padding = padding)\n",
    "\n",
    "    for idx, image in enumerate(images):\n",
    "        directory, name = image_path.rsplit('/', 1)\n",
    "        directory = directory.replace('train', 'train_cropped')\n",
    "        Path(directory).mkdir(parents=True, exist_ok=True)\n",
    "        dlib.save_image(image, os.path.join(directory, name))        "
   ]
  },
  {
   "cell_type": "code",
   "execution_count": 5,
   "id": "6f679045-aa10-4d1a-a578-7d200306d704",
   "metadata": {},
   "outputs": [
    {
     "ename": "AttributeError",
     "evalue": "module 'dlib' has no attribute 'USE_CUDA'",
     "output_type": "error",
     "traceback": [
      "\u001b[0;31m---------------------------------------------------------------------------\u001b[0m",
      "\u001b[0;31mAttributeError\u001b[0m                            Traceback (most recent call last)",
      "\u001b[0;32m<ipython-input-5-7583b8d024de>\u001b[0m in \u001b[0;36m<module>\u001b[0;34m\u001b[0m\n\u001b[0;32m----> 1\u001b[0;31m \u001b[0mdlib\u001b[0m\u001b[0;34m.\u001b[0m\u001b[0mUSE_CUDA\u001b[0m\u001b[0;34m\u001b[0m\u001b[0;34m\u001b[0m\u001b[0m\n\u001b[0m",
      "\u001b[0;31mAttributeError\u001b[0m: module 'dlib' has no attribute 'USE_CUDA'"
     ]
    }
   ],
   "source": [
    "dlib.USE_CUDA"
   ]
  },
  {
   "cell_type": "code",
   "execution_count": null,
   "id": "c436b2cd-56d0-48c0-b660-455344168f0e",
   "metadata": {},
   "outputs": [],
   "source": []
  }
 ],
 "metadata": {
  "kernelspec": {
   "display_name": "pytorch",
   "language": "python",
   "name": "pytorch"
  },
  "language_info": {
   "codemirror_mode": {
    "name": "ipython",
    "version": 3
   },
   "file_extension": ".py",
   "mimetype": "text/x-python",
   "name": "python",
   "nbconvert_exporter": "python",
   "pygments_lexer": "ipython3",
   "version": "3.9.6"
  }
 },
 "nbformat": 4,
 "nbformat_minor": 5
}

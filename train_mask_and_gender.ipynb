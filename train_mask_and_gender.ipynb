{
 "cells": [
  {
   "cell_type": "code",
   "execution_count": 1,
   "id": "7996b754-3951-46d9-ac17-2288a59718d3",
   "metadata": {},
   "outputs": [],
   "source": [
    "import random\n",
    "\n",
    "import numpy as np\n",
    "import pandas as pd\n",
    "\n",
    "from dataset import get_dataset\n",
    "from trainer import Trainer\n",
    "from inference import create_label, sum_label\n",
    "from loss import LabelSmoothing\n",
    "\n",
    "import torch\n",
    "import torch.nn as nn\n",
    "import torch.optim as optim\n",
    "from torch.utils.data import DataLoader\n",
    "from torchvision import models"
   ]
  },
  {
   "cell_type": "code",
   "execution_count": 2,
   "id": "4530c32d-f8a3-492c-bf37-9b1da4b70778",
   "metadata": {},
   "outputs": [],
   "source": [
    "## seeds\n",
    "\n",
    "random_seed = 42\n",
    "\n",
    "torch.manual_seed(random_seed)\n",
    "torch.backends.cudnn.deterministic = True\n",
    "torch.backends.cudnn.benchmark = False\n",
    "np.random.seed(random_seed)\n",
    "random.seed(random_seed)"
   ]
  },
  {
   "cell_type": "code",
   "execution_count": 3,
   "id": "dc4ce54d-ecc0-460a-b6b1-3b8107507726",
   "metadata": {},
   "outputs": [],
   "source": [
    "## hyperparameters\n",
    "\n",
    "model_name = 'efficientnet-b0'\n",
    "batch_size = 64\n",
    "lr = 0.00006\n",
    "num_epoch = 30\n",
    "target = 'label'\n",
    "split = 15\n",
    "\n",
    "df_train_path = f'df/df_mask_gender_train_{split}.csv'\n",
    "df_valid_path = f'df/df_mask_gender_valid_{split}.csv'\n",
    "df_test_path = '/opt/ml/input/data/eval/info.csv'"
   ]
  },
  {
   "cell_type": "code",
   "execution_count": 4,
   "id": "5fdc9923-a57c-4eb5-8f20-493ccea36164",
   "metadata": {},
   "outputs": [],
   "source": [
    "## prepare dataset\n",
    "\n",
    "df_train = pd.read_csv(df_train_path)\n",
    "df_valid = pd.read_csv(df_valid_path)\n",
    "df_test = pd.read_csv(df_test_path)\n",
    "\n",
    "train_dataset, valid_dataset, test_dataset = get_dataset(df_train, df_valid, df_test, target=target)"
   ]
  },
  {
   "cell_type": "code",
   "execution_count": 5,
   "id": "4bbd6554-31d9-44d5-9aea-e73fac2b3592",
   "metadata": {},
   "outputs": [
    {
     "name": "stdout",
     "output_type": "stream",
     "text": [
      "count : [4425 7050  885 1410  885 1410]\n"
     ]
    }
   ],
   "source": [
    "## prepare sampler\n",
    "\n",
    "from torch.utils.data.sampler import WeightedRandomSampler\n",
    "\n",
    "target = train_dataset.target\n",
    "weight = df_train[target].value_counts().sort_index().to_numpy()\n",
    "print('count :', weight)\n",
    "weight = 1. / weight\n",
    "samples_weight = np.array([weight[t] for t in df_train[target]])\n",
    "samples_weight = torch.from_numpy(samples_weight)\n",
    "sampler = WeightedRandomSampler(samples_weight.type('torch.DoubleTensor'), len(samples_weight)//2)"
   ]
  },
  {
   "cell_type": "code",
   "execution_count": 6,
   "id": "d31b51ae-c253-478d-a2a1-2c673a6ad4fe",
   "metadata": {},
   "outputs": [],
   "source": [
    "## prepare Dataloader\n",
    "\n",
    "dataloaders = {'train' : DataLoader(train_dataset, batch_size=batch_size, num_workers=3, drop_last=True, sampler=sampler),\n",
    "               'valid' : DataLoader(valid_dataset, batch_size=batch_size, shuffle=False, num_workers=3, drop_last=False)}\n",
    "test_dataloader = DataLoader(test_dataset, batch_size=batch_size, shuffle=False, num_workers=3, drop_last=False)"
   ]
  },
  {
   "cell_type": "code",
   "execution_count": null,
   "id": "56ec6b85-d8be-4b23-91a4-9db6abdeef08",
   "metadata": {},
   "outputs": [],
   "source": [
    "# check input train batch\n",
    "\n",
    "from utils import imshow\n",
    "batch = next(iter(dataloaders['train']))\n",
    "imshow(batch[0])\n",
    "print(batch[1])"
   ]
  },
  {
   "cell_type": "code",
   "execution_count": 7,
   "id": "f6d52762-416a-414b-b9df-65b1c55d84a9",
   "metadata": {},
   "outputs": [
    {
     "name": "stdout",
     "output_type": "stream",
     "text": [
      "Loaded pretrained weights for efficientnet-b0\n",
      "efficientnet-b0 ready\n"
     ]
    }
   ],
   "source": [
    "## prepare model\n",
    "\n",
    "device = 'cuda'\n",
    "\n",
    "if model_name.startswith('efficientnet'):\n",
    "    from efficientnet_pytorch import EfficientNet\n",
    "    model = EfficientNet.from_pretrained(model_name, num_classes=len(train_dataset.classes))\n",
    "else:\n",
    "    model = models.resnet18(pretrained=True)\n",
    "    model.fc = nn.Linear(model.fc.in_features, len(train_dataset.classes))\n",
    "    \n",
    "model.to(device)\n",
    "print(model_name, 'ready')"
   ]
  },
  {
   "cell_type": "code",
   "execution_count": 8,
   "id": "c059f364-7d17-4a16-ba17-79a2e387bce4",
   "metadata": {},
   "outputs": [],
   "source": [
    "criterion = LabelSmoothing(0.05)\n",
    "optimizer = optim.Adam(model.parameters(), lr=lr)\n",
    "lr_scheduler = None #optim.lr_scheduler.MultiStepLR(optimizer, milestones=[5, 10, 15], gamma = 0.2)"
   ]
  },
  {
   "cell_type": "markdown",
   "id": "7f72af9d-da9b-4ef9-b6cc-0d4ab85c685c",
   "metadata": {},
   "source": [
    "## Train"
   ]
  },
  {
   "cell_type": "code",
   "execution_count": 9,
   "id": "a51e00a5-6372-454e-bb6f-336cdba0a172",
   "metadata": {},
   "outputs": [],
   "source": [
    "trainer = Trainer('/opt/ml/code/save')"
   ]
  },
  {
   "cell_type": "code",
   "execution_count": 10,
   "id": "6ec43c8e-ec7d-4346-8a24-5d13ea71d958",
   "metadata": {},
   "outputs": [],
   "source": [
    "## resume\n",
    "# model.load_state_dict(torch.load('/opt/ml/code/save/label/effnet_test018.pt'))\n",
    "\n",
    "# # change lr manually:\n",
    "# for g in optimizer.param_groups:\n",
    "#     g['lr'] = 0.00001"
   ]
  },
  {
   "cell_type": "code",
   "execution_count": 11,
   "id": "b17cd26e-04c3-47af-ab0b-7b20a22ea6d6",
   "metadata": {},
   "outputs": [
    {
     "name": "stdout",
     "output_type": "stream",
     "text": [
      "Epoch 1/30\n",
      "----------\n"
     ]
    },
    {
     "name": "stderr",
     "output_type": "stream",
     "text": [
      "100%|██████████| 125/125 [00:34<00:00,  3.61it/s]\n"
     ]
    },
    {
     "name": "stdout",
     "output_type": "stream",
     "text": [
      "train Loss: 1.3105 Acc: 0.5857 F1: 0.5825711212364947\n"
     ]
    },
    {
     "name": "stderr",
     "output_type": "stream",
     "text": [
      "100%|██████████| 45/45 [00:05<00:00,  7.63it/s]\n"
     ]
    },
    {
     "name": "stdout",
     "output_type": "stream",
     "text": [
      "valid Loss: 0.6565 Acc: 0.8215 F1: 0.83917591053998\n",
      "\n",
      "Epoch 2/30\n",
      "----------\n"
     ]
    },
    {
     "name": "stderr",
     "output_type": "stream",
     "text": [
      "100%|██████████| 125/125 [00:34<00:00,  3.62it/s]\n"
     ]
    },
    {
     "name": "stdout",
     "output_type": "stream",
     "text": [
      "train Loss: 0.6224 Acc: 0.8608 F1: 0.8611768738375652\n"
     ]
    },
    {
     "name": "stderr",
     "output_type": "stream",
     "text": [
      "100%|██████████| 45/45 [00:05<00:00,  7.62it/s]\n"
     ]
    },
    {
     "name": "stdout",
     "output_type": "stream",
     "text": [
      "valid Loss: 0.3931 Acc: 0.9545 F1: 0.9490895942149078\n",
      "\n",
      "Epoch 3/30\n",
      "----------\n"
     ]
    },
    {
     "name": "stderr",
     "output_type": "stream",
     "text": [
      "100%|██████████| 125/125 [00:35<00:00,  3.57it/s]\n"
     ]
    },
    {
     "name": "stdout",
     "output_type": "stream",
     "text": [
      "train Loss: 0.4914 Acc: 0.8994 F1: 0.8990163593963194\n"
     ]
    },
    {
     "name": "stderr",
     "output_type": "stream",
     "text": [
      "100%|██████████| 45/45 [00:05<00:00,  7.62it/s]\n"
     ]
    },
    {
     "name": "stdout",
     "output_type": "stream",
     "text": [
      "valid Loss: 0.3652 Acc: 0.9612 F1: 0.9519991712701286\n",
      "\n",
      "Epoch 4/30\n",
      "----------\n"
     ]
    },
    {
     "name": "stderr",
     "output_type": "stream",
     "text": [
      "100%|██████████| 125/125 [00:35<00:00,  3.56it/s]\n"
     ]
    },
    {
     "name": "stdout",
     "output_type": "stream",
     "text": [
      "train Loss: 0.4475 Acc: 0.9226 F1: 0.9224592492266162\n"
     ]
    },
    {
     "name": "stderr",
     "output_type": "stream",
     "text": [
      "100%|██████████| 45/45 [00:05<00:00,  7.59it/s]\n"
     ]
    },
    {
     "name": "stdout",
     "output_type": "stream",
     "text": [
      "valid Loss: 0.3535 Acc: 0.9623 F1: 0.9556551077786626\n",
      "\n",
      "Epoch 5/30\n",
      "----------\n"
     ]
    },
    {
     "name": "stderr",
     "output_type": "stream",
     "text": [
      "100%|██████████| 125/125 [00:34<00:00,  3.59it/s]\n"
     ]
    },
    {
     "name": "stdout",
     "output_type": "stream",
     "text": [
      "train Loss: 0.4310 Acc: 0.9270 F1: 0.9268591059514958\n"
     ]
    },
    {
     "name": "stderr",
     "output_type": "stream",
     "text": [
      "100%|██████████| 45/45 [00:05<00:00,  7.58it/s]\n"
     ]
    },
    {
     "name": "stdout",
     "output_type": "stream",
     "text": [
      "valid Loss: 0.3431 Acc: 0.9665 F1: 0.9631668416221201\n",
      "\n",
      "Epoch 6/30\n",
      "----------\n"
     ]
    },
    {
     "name": "stderr",
     "output_type": "stream",
     "text": [
      "100%|██████████| 125/125 [00:34<00:00,  3.64it/s]\n"
     ]
    },
    {
     "name": "stdout",
     "output_type": "stream",
     "text": [
      "train Loss: 0.4100 Acc: 0.9333 F1: 0.9334974767463692\n"
     ]
    },
    {
     "name": "stderr",
     "output_type": "stream",
     "text": [
      "100%|██████████| 45/45 [00:05<00:00,  7.62it/s]\n"
     ]
    },
    {
     "name": "stdout",
     "output_type": "stream",
     "text": [
      "valid Loss: 0.3184 Acc: 0.9767 F1: 0.9707457423727722\n",
      "\n",
      "Epoch 7/30\n",
      "----------\n"
     ]
    },
    {
     "name": "stderr",
     "output_type": "stream",
     "text": [
      "100%|██████████| 125/125 [00:34<00:00,  3.61it/s]\n"
     ]
    },
    {
     "name": "stdout",
     "output_type": "stream",
     "text": [
      "train Loss: 0.4005 Acc: 0.9363 F1: 0.9362194099365162\n"
     ]
    },
    {
     "name": "stderr",
     "output_type": "stream",
     "text": [
      "100%|██████████| 45/45 [00:05<00:00,  7.64it/s]\n"
     ]
    },
    {
     "name": "stdout",
     "output_type": "stream",
     "text": [
      "valid Loss: 0.3199 Acc: 0.9746 F1: 0.9687023312415871\n",
      "\n",
      "Epoch 8/30\n",
      "----------\n"
     ]
    },
    {
     "name": "stderr",
     "output_type": "stream",
     "text": [
      "100%|██████████| 125/125 [00:35<00:00,  3.57it/s]\n"
     ]
    },
    {
     "name": "stdout",
     "output_type": "stream",
     "text": [
      "train Loss: 0.3893 Acc: 0.9406 F1: 0.9406499505483862\n"
     ]
    },
    {
     "name": "stderr",
     "output_type": "stream",
     "text": [
      "100%|██████████| 45/45 [00:05<00:00,  7.64it/s]\n"
     ]
    },
    {
     "name": "stdout",
     "output_type": "stream",
     "text": [
      "valid Loss: 0.3130 Acc: 0.9771 F1: 0.972797647279529\n",
      "\n",
      "Epoch 9/30\n",
      "----------\n"
     ]
    },
    {
     "name": "stderr",
     "output_type": "stream",
     "text": [
      "100%|██████████| 125/125 [00:34<00:00,  3.62it/s]\n"
     ]
    },
    {
     "name": "stdout",
     "output_type": "stream",
     "text": [
      "train Loss: 0.3765 Acc: 0.9457 F1: 0.9458041084760048\n"
     ]
    },
    {
     "name": "stderr",
     "output_type": "stream",
     "text": [
      "100%|██████████| 45/45 [00:05<00:00,  7.54it/s]\n"
     ]
    },
    {
     "name": "stdout",
     "output_type": "stream",
     "text": [
      "valid Loss: 0.3067 Acc: 0.9802 F1: 0.976456777540106\n",
      "\n",
      "Epoch 10/30\n",
      "----------\n"
     ]
    },
    {
     "name": "stderr",
     "output_type": "stream",
     "text": [
      "100%|██████████| 125/125 [00:34<00:00,  3.64it/s]\n"
     ]
    },
    {
     "name": "stdout",
     "output_type": "stream",
     "text": [
      "train Loss: 0.3749 Acc: 0.9490 F1: 0.9490458358928547\n"
     ]
    },
    {
     "name": "stderr",
     "output_type": "stream",
     "text": [
      "100%|██████████| 45/45 [00:05<00:00,  7.56it/s]\n"
     ]
    },
    {
     "name": "stdout",
     "output_type": "stream",
     "text": [
      "valid Loss: 0.3059 Acc: 0.9827 F1: 0.9788689923555141\n",
      "\n",
      "Epoch 11/30\n",
      "----------\n"
     ]
    },
    {
     "name": "stderr",
     "output_type": "stream",
     "text": [
      "100%|██████████| 125/125 [00:35<00:00,  3.57it/s]\n"
     ]
    },
    {
     "name": "stdout",
     "output_type": "stream",
     "text": [
      "train Loss: 0.3652 Acc: 0.9521 F1: 0.952084744379495\n"
     ]
    },
    {
     "name": "stderr",
     "output_type": "stream",
     "text": [
      "100%|██████████| 45/45 [00:05<00:00,  7.53it/s]\n"
     ]
    },
    {
     "name": "stdout",
     "output_type": "stream",
     "text": [
      "valid Loss: 0.3107 Acc: 0.9785 F1: 0.974121309087176\n",
      "\n",
      "Epoch 12/30\n",
      "----------\n"
     ]
    },
    {
     "name": "stderr",
     "output_type": "stream",
     "text": [
      "100%|██████████| 125/125 [00:34<00:00,  3.58it/s]\n"
     ]
    },
    {
     "name": "stdout",
     "output_type": "stream",
     "text": [
      "train Loss: 0.3722 Acc: 0.9469 F1: 0.947055205185385\n"
     ]
    },
    {
     "name": "stderr",
     "output_type": "stream",
     "text": [
      "100%|██████████| 45/45 [00:05<00:00,  7.63it/s]\n"
     ]
    },
    {
     "name": "stdout",
     "output_type": "stream",
     "text": [
      "valid Loss: 0.2997 Acc: 0.9838 F1: 0.9819107077305599\n",
      "\n",
      "Epoch 13/30\n",
      "----------\n"
     ]
    },
    {
     "name": "stderr",
     "output_type": "stream",
     "text": [
      "100%|██████████| 125/125 [00:35<00:00,  3.57it/s]\n"
     ]
    },
    {
     "name": "stdout",
     "output_type": "stream",
     "text": [
      "train Loss: 0.3541 Acc: 0.9524 F1: 0.9523839233085805\n"
     ]
    },
    {
     "name": "stderr",
     "output_type": "stream",
     "text": [
      "100%|██████████| 45/45 [00:05<00:00,  7.61it/s]\n"
     ]
    },
    {
     "name": "stdout",
     "output_type": "stream",
     "text": [
      "valid Loss: 0.3035 Acc: 0.9795 F1: 0.9769912064534529\n",
      "\n",
      "Epoch 14/30\n",
      "----------\n"
     ]
    },
    {
     "name": "stderr",
     "output_type": "stream",
     "text": [
      "100%|██████████| 125/125 [00:35<00:00,  3.57it/s]\n"
     ]
    },
    {
     "name": "stdout",
     "output_type": "stream",
     "text": [
      "train Loss: 0.3588 Acc: 0.9525 F1: 0.9523927070320192\n"
     ]
    },
    {
     "name": "stderr",
     "output_type": "stream",
     "text": [
      "100%|██████████| 45/45 [00:05<00:00,  7.60it/s]\n"
     ]
    },
    {
     "name": "stdout",
     "output_type": "stream",
     "text": [
      "valid Loss: 0.3062 Acc: 0.9781 F1: 0.9739856618834503\n",
      "\n",
      "Epoch 15/30\n",
      "----------\n"
     ]
    },
    {
     "name": "stderr",
     "output_type": "stream",
     "text": [
      "100%|██████████| 125/125 [00:34<00:00,  3.59it/s]\n"
     ]
    },
    {
     "name": "stdout",
     "output_type": "stream",
     "text": [
      "train Loss: 0.3485 Acc: 0.9545 F1: 0.9544761311988702\n"
     ]
    },
    {
     "name": "stderr",
     "output_type": "stream",
     "text": [
      "100%|██████████| 45/45 [00:05<00:00,  7.55it/s]\n"
     ]
    },
    {
     "name": "stdout",
     "output_type": "stream",
     "text": [
      "valid Loss: 0.2982 Acc: 0.9838 F1: 0.9818877496259352\n",
      "\n",
      "Epoch 16/30\n",
      "----------\n"
     ]
    },
    {
     "name": "stderr",
     "output_type": "stream",
     "text": [
      "100%|██████████| 125/125 [00:35<00:00,  3.53it/s]\n"
     ]
    },
    {
     "name": "stdout",
     "output_type": "stream",
     "text": [
      "train Loss: 0.3548 Acc: 0.9529 F1: 0.9530225337051976\n"
     ]
    },
    {
     "name": "stderr",
     "output_type": "stream",
     "text": [
      "100%|██████████| 45/45 [00:05<00:00,  7.54it/s]\n"
     ]
    },
    {
     "name": "stdout",
     "output_type": "stream",
     "text": [
      "valid Loss: 0.2954 Acc: 0.9831 F1: 0.9787457994301373\n",
      "\n",
      "Epoch 17/30\n",
      "----------\n"
     ]
    },
    {
     "name": "stderr",
     "output_type": "stream",
     "text": [
      "100%|██████████| 125/125 [00:34<00:00,  3.62it/s]\n"
     ]
    },
    {
     "name": "stdout",
     "output_type": "stream",
     "text": [
      "train Loss: 0.3521 Acc: 0.9550 F1: 0.954903307653962\n"
     ]
    },
    {
     "name": "stderr",
     "output_type": "stream",
     "text": [
      "100%|██████████| 45/45 [00:05<00:00,  7.50it/s]\n"
     ]
    },
    {
     "name": "stdout",
     "output_type": "stream",
     "text": [
      "valid Loss: 0.2963 Acc: 0.9820 F1: 0.9817070109016037\n",
      "\n",
      "Epoch 18/30\n",
      "----------\n"
     ]
    },
    {
     "name": "stderr",
     "output_type": "stream",
     "text": [
      "100%|██████████| 125/125 [00:35<00:00,  3.57it/s]\n"
     ]
    },
    {
     "name": "stdout",
     "output_type": "stream",
     "text": [
      "train Loss: 0.3429 Acc: 0.9556 F1: 0.9556220707742663\n"
     ]
    },
    {
     "name": "stderr",
     "output_type": "stream",
     "text": [
      "100%|██████████| 45/45 [00:05<00:00,  7.52it/s]\n"
     ]
    },
    {
     "name": "stdout",
     "output_type": "stream",
     "text": [
      "valid Loss: 0.3007 Acc: 0.9824 F1: 0.9786675559553827\n",
      "\n",
      "Epoch 19/30\n",
      "----------\n"
     ]
    },
    {
     "name": "stderr",
     "output_type": "stream",
     "text": [
      "100%|██████████| 125/125 [00:34<00:00,  3.60it/s]\n"
     ]
    },
    {
     "name": "stdout",
     "output_type": "stream",
     "text": [
      "train Loss: 0.3418 Acc: 0.9580 F1: 0.9578665295051055\n"
     ]
    },
    {
     "name": "stderr",
     "output_type": "stream",
     "text": [
      "100%|██████████| 45/45 [00:06<00:00,  7.42it/s]\n"
     ]
    },
    {
     "name": "stdout",
     "output_type": "stream",
     "text": [
      "valid Loss: 0.2972 Acc: 0.9834 F1: 0.9805739852261741\n",
      "\n",
      "Epoch 20/30\n",
      "----------\n"
     ]
    },
    {
     "name": "stderr",
     "output_type": "stream",
     "text": [
      "100%|██████████| 125/125 [00:34<00:00,  3.62it/s]\n"
     ]
    },
    {
     "name": "stdout",
     "output_type": "stream",
     "text": [
      "train Loss: 0.3335 Acc: 0.9616 F1: 0.9616562752735982\n"
     ]
    },
    {
     "name": "stderr",
     "output_type": "stream",
     "text": [
      "100%|██████████| 45/45 [00:06<00:00,  7.46it/s]\n"
     ]
    },
    {
     "name": "stdout",
     "output_type": "stream",
     "text": [
      "valid Loss: 0.3070 Acc: 0.9764 F1: 0.9730394172852238\n",
      "\n",
      "Epoch 21/30\n",
      "----------\n"
     ]
    },
    {
     "name": "stderr",
     "output_type": "stream",
     "text": [
      "100%|██████████| 125/125 [00:34<00:00,  3.57it/s]\n"
     ]
    },
    {
     "name": "stdout",
     "output_type": "stream",
     "text": [
      "train Loss: 0.3381 Acc: 0.9597 F1: 0.9597144587078792\n"
     ]
    },
    {
     "name": "stderr",
     "output_type": "stream",
     "text": [
      "100%|██████████| 45/45 [00:06<00:00,  7.43it/s]\n"
     ]
    },
    {
     "name": "stdout",
     "output_type": "stream",
     "text": [
      "valid Loss: 0.2948 Acc: 0.9852 F1: 0.982564296238198\n",
      "\n",
      "Epoch 22/30\n",
      "----------\n"
     ]
    },
    {
     "name": "stderr",
     "output_type": "stream",
     "text": [
      "100%|██████████| 125/125 [00:34<00:00,  3.61it/s]\n"
     ]
    },
    {
     "name": "stdout",
     "output_type": "stream",
     "text": [
      "train Loss: 0.3335 Acc: 0.9630 F1: 0.9629124877000375\n"
     ]
    },
    {
     "name": "stderr",
     "output_type": "stream",
     "text": [
      "100%|██████████| 45/45 [00:06<00:00,  7.46it/s]\n"
     ]
    },
    {
     "name": "stdout",
     "output_type": "stream",
     "text": [
      "valid Loss: 0.2911 Acc: 0.9845 F1: 0.9808732113125781\n",
      "\n",
      "Epoch 23/30\n",
      "----------\n"
     ]
    },
    {
     "name": "stderr",
     "output_type": "stream",
     "text": [
      "100%|██████████| 125/125 [00:34<00:00,  3.60it/s]\n"
     ]
    },
    {
     "name": "stdout",
     "output_type": "stream",
     "text": [
      "train Loss: 0.3341 Acc: 0.9609 F1: 0.9608478768249036\n"
     ]
    },
    {
     "name": "stderr",
     "output_type": "stream",
     "text": [
      "100%|██████████| 45/45 [00:06<00:00,  7.42it/s]\n"
     ]
    },
    {
     "name": "stdout",
     "output_type": "stream",
     "text": [
      "valid Loss: 0.2945 Acc: 0.9831 F1: 0.9801522684364495\n",
      "\n",
      "Epoch 24/30\n",
      "----------\n"
     ]
    },
    {
     "name": "stderr",
     "output_type": "stream",
     "text": [
      "100%|██████████| 125/125 [00:35<00:00,  3.55it/s]\n"
     ]
    },
    {
     "name": "stdout",
     "output_type": "stream",
     "text": [
      "train Loss: 0.3317 Acc: 0.9624 F1: 0.962416578297299\n"
     ]
    },
    {
     "name": "stderr",
     "output_type": "stream",
     "text": [
      "100%|██████████| 45/45 [00:05<00:00,  7.54it/s]\n"
     ]
    },
    {
     "name": "stdout",
     "output_type": "stream",
     "text": [
      "valid Loss: 0.2945 Acc: 0.9848 F1: 0.9819895522151333\n",
      "\n",
      "Epoch 25/30\n",
      "----------\n"
     ]
    },
    {
     "name": "stderr",
     "output_type": "stream",
     "text": [
      "100%|██████████| 125/125 [00:35<00:00,  3.54it/s]\n"
     ]
    },
    {
     "name": "stdout",
     "output_type": "stream",
     "text": [
      "train Loss: 0.3231 Acc: 0.9649 F1: 0.964914200792443\n"
     ]
    },
    {
     "name": "stderr",
     "output_type": "stream",
     "text": [
      "100%|██████████| 45/45 [00:05<00:00,  7.60it/s]\n"
     ]
    },
    {
     "name": "stdout",
     "output_type": "stream",
     "text": [
      "valid Loss: 0.2964 Acc: 0.9831 F1: 0.9804038875225043\n",
      "\n",
      "Epoch 26/30\n",
      "----------\n"
     ]
    },
    {
     "name": "stderr",
     "output_type": "stream",
     "text": [
      "100%|██████████| 125/125 [00:34<00:00,  3.66it/s]\n"
     ]
    },
    {
     "name": "stdout",
     "output_type": "stream",
     "text": [
      "train Loss: 0.3267 Acc: 0.9639 F1: 0.9637749063843398\n"
     ]
    },
    {
     "name": "stderr",
     "output_type": "stream",
     "text": [
      "100%|██████████| 45/45 [00:06<00:00,  7.43it/s]\n"
     ]
    },
    {
     "name": "stdout",
     "output_type": "stream",
     "text": [
      "valid Loss: 0.2947 Acc: 0.9855 F1: 0.9821182650798721\n",
      "\n",
      "Epoch 27/30\n",
      "----------\n"
     ]
    },
    {
     "name": "stderr",
     "output_type": "stream",
     "text": [
      "100%|██████████| 125/125 [00:35<00:00,  3.53it/s]\n"
     ]
    },
    {
     "name": "stdout",
     "output_type": "stream",
     "text": [
      "train Loss: 0.3199 Acc: 0.9665 F1: 0.966454352370023\n"
     ]
    },
    {
     "name": "stderr",
     "output_type": "stream",
     "text": [
      "100%|██████████| 45/45 [00:05<00:00,  7.56it/s]\n"
     ]
    },
    {
     "name": "stdout",
     "output_type": "stream",
     "text": [
      "valid Loss: 0.2939 Acc: 0.9827 F1: 0.9800125839237454\n",
      "\n",
      "Epoch 28/30\n",
      "----------\n"
     ]
    },
    {
     "name": "stderr",
     "output_type": "stream",
     "text": [
      "100%|██████████| 125/125 [00:34<00:00,  3.62it/s]\n"
     ]
    },
    {
     "name": "stdout",
     "output_type": "stream",
     "text": [
      "train Loss: 0.3224 Acc: 0.9640 F1: 0.9640432250008754\n"
     ]
    },
    {
     "name": "stderr",
     "output_type": "stream",
     "text": [
      "100%|██████████| 45/45 [00:05<00:00,  7.57it/s]\n"
     ]
    },
    {
     "name": "stdout",
     "output_type": "stream",
     "text": [
      "valid Loss: 0.2996 Acc: 0.9820 F1: 0.9794033544416553\n",
      "\n",
      "Epoch 29/30\n",
      "----------\n"
     ]
    },
    {
     "name": "stderr",
     "output_type": "stream",
     "text": [
      "100%|██████████| 125/125 [00:34<00:00,  3.63it/s]\n"
     ]
    },
    {
     "name": "stdout",
     "output_type": "stream",
     "text": [
      "train Loss: 0.3208 Acc: 0.9669 F1: 0.9669093403630177\n"
     ]
    },
    {
     "name": "stderr",
     "output_type": "stream",
     "text": [
      "100%|██████████| 45/45 [00:05<00:00,  7.57it/s]\n"
     ]
    },
    {
     "name": "stdout",
     "output_type": "stream",
     "text": [
      "valid Loss: 0.2933 Acc: 0.9831 F1: 0.9796454527111501\n",
      "\n",
      "Epoch 30/30\n",
      "----------\n"
     ]
    },
    {
     "name": "stderr",
     "output_type": "stream",
     "text": [
      "100%|██████████| 125/125 [00:34<00:00,  3.60it/s]\n"
     ]
    },
    {
     "name": "stdout",
     "output_type": "stream",
     "text": [
      "train Loss: 0.3203 Acc: 0.9684 F1: 0.968373966308382\n"
     ]
    },
    {
     "name": "stderr",
     "output_type": "stream",
     "text": [
      "100%|██████████| 45/45 [00:05<00:00,  7.60it/s]\n"
     ]
    },
    {
     "name": "stdout",
     "output_type": "stream",
     "text": [
      "valid Loss: 0.2922 Acc: 0.9838 F1: 0.9807173925586662\n",
      "\n",
      "Training complete!\n"
     ]
    },
    {
     "ename": "NameError",
     "evalue": "name 'best_acc' is not defined",
     "output_type": "error",
     "traceback": [
      "\u001b[0;31m---------------------------------------------------------------------------\u001b[0m",
      "\u001b[0;31mNameError\u001b[0m                                 Traceback (most recent call last)",
      "\u001b[0;32m<ipython-input-11-4dc7ee2623b9>\u001b[0m in \u001b[0;36m<module>\u001b[0;34m\u001b[0m\n\u001b[0;32m----> 1\u001b[0;31m trainer.train(model, dataloaders, criterion, optimizer, device, num_epochs=num_epoch, scheduler=lr_scheduler,\n\u001b[0m\u001b[1;32m      2\u001b[0m               sub_dir='split_test', save_name='split_ratio_15_')\n",
      "\u001b[0;32m~/code/trainer.py\u001b[0m in \u001b[0;36mtrain\u001b[0;34m(self, model, dataloaders, criterion, optimizer, device, num_epochs, scheduler, save_name, sub_dir)\u001b[0m\n\u001b[1;32m     65\u001b[0m \u001b[0;34m\u001b[0m\u001b[0m\n\u001b[1;32m     66\u001b[0m         \u001b[0mprint\u001b[0m\u001b[0;34m(\u001b[0m\u001b[0;34m'Training complete!'\u001b[0m\u001b[0;34m)\u001b[0m\u001b[0;34m\u001b[0m\u001b[0;34m\u001b[0m\u001b[0m\n\u001b[0;32m---> 67\u001b[0;31m         \u001b[0mprint\u001b[0m\u001b[0;34m(\u001b[0m\u001b[0;34m'Best val Acc: {:4f}'\u001b[0m\u001b[0;34m.\u001b[0m\u001b[0mformat\u001b[0m\u001b[0;34m(\u001b[0m\u001b[0mbest_acc\u001b[0m\u001b[0;34m)\u001b[0m\u001b[0;34m)\u001b[0m\u001b[0;34m\u001b[0m\u001b[0;34m\u001b[0m\u001b[0m\n\u001b[0m",
      "\u001b[0;31mNameError\u001b[0m: name 'best_acc' is not defined"
     ]
    }
   ],
   "source": [
    "trainer.train(model, dataloaders, criterion, optimizer, device, num_epochs=num_epoch, scheduler=lr_scheduler,\n",
    "              sub_dir='split_test', save_name='split_ratio_15_')"
   ]
  },
  {
   "cell_type": "markdown",
   "id": "3b96fd83-6ed3-425b-a166-1767d9ef8a6b",
   "metadata": {},
   "source": [
    "## Experiment Logs\n",
    "\n",
    "---\n",
    "\n",
    "### loss function test\n",
    "\n",
    "---\n",
    "\n",
    "1. eff b0, lr=0.00006, bs=64, randaug+cutout, inputsize=224, loss_fn=CE, WeightedSampler, split 25%, optimizer=Adam\n",
    "   * epoch 18)\n",
    "     - train Loss: 0.0991 Acc: 0.9655 F1: 0.9654261306812848\n",
    "     - valid Loss: 0.0980 Acc: 0.9778 F1: 0.9772288369633227  \n",
    "  * before first patience\n",
    "\n",
    "---\n",
    "\n",
    "2. eff b0, lr=0.00006, bs=64, randaug+cutout, inputsize=224, loss_fn=LS(0.05), WeightedSampler, split 25%, optimizer=Adam\n",
    "    * epoch 21)\n",
    "     - train Loss: 0.3310 Acc: 0.9638 F1: 0.963728513759618\n",
    "     - valid Loss: 0.3071 Acc: 0.9786 F1: 0.9791634664746235 \n",
    "\n",
    "---\n",
    "\n",
    "3. eff b0, lr=0.00006, bs=64, randaug+cutout, inputsize=224, loss_fn=F1_Loss, split 25%, optimizer=Adam\n",
    "   * epoch 13)\n",
    "     - train Loss: 0.0710 Acc: 0.9584 F1: 0.9476713834498373\n",
    "     - valid Loss: 0.0403 Acc: 0.9765 F1: 0.9748789208889367\n",
    "   * epoch 3)\n",
    "     - train Loss: 0.0594 Acc: 0.9655 F1: 0.9555452013464937\n",
    "     - valid Loss: 0.0369 Acc: 0.9782 F1: 0.9776768545260203\n",
    "\n",
    "---\n",
    "\n",
    "### split ratio test\n",
    "\n",
    "---\n",
    "\n",
    "4. model=eff b0, optimizer=Adam, lr=0.00006, bs=64, augment=randaug+cutout, inputsize=224, loss_fn=LS(0.05), split 15%\n",
    "    * epoch 21)\n",
    "      - train Loss: 0.3381 Acc: 0.9597 F1: 0.9597144587078792\n",
    "      - valid Loss: 0.2948 Acc: 0.9852 F1: 0.982564296238198\n",
    "      \n",
    "---\n",
    "\n",
    "5. model=eff b0, optimizer=Adam, lr=0.00006, bs=64, augment=randaug+cutout, inputsize=224, loss_fn=LS(0.05), split 20%\n",
    "    * epoch 27)\n",
    "      - train Loss: 0.3211 Acc: 0.9668 F1: 0.9668728849468181\n",
    "      - valid Loss: 0.2878 Acc: 0.9854 F1: 0.9842203787970396\n",
    "      \n",
    "---\n",
    "\n",
    "6. model=eff b0, optimizer=Adam, lr=0.00006, bs=64, augment=randaug+cutout, inputsize=224, loss_fn=LS(0.05), split 25%\n",
    "    * epoch 22)\n",
    "      - train Loss: 0.3321 Acc: 0.9639 F1: 0.9638739223128628\n",
    "      - valid Loss: 0.2910 Acc: 0.9829 F1: 0.9792575649184908\n",
    "      \n",
    "---\n",
    "\n",
    "7. model=eff b0, optimizer=Adam, lr=0.00006, bs=64, augment=randaug+cutout, inputsize=224, loss_fn=LS(0.05), split 30%\n",
    "    * epoch 29)\n",
    "      - train Loss: 0.3171 Acc: 0.9686 F1: 0.9685813478405522\n",
    "      - valid Loss: 0.3047 Acc: 0.9772 F1: 0.9764751322879572"
   ]
  },
  {
   "cell_type": "markdown",
   "id": "a295c4fc-4288-4144-93e9-21e291038455",
   "metadata": {},
   "source": [
    "## Debug"
   ]
  },
  {
   "cell_type": "code",
   "execution_count": null,
   "id": "fb5030a4-82cb-404a-9db1-69db51493035",
   "metadata": {},
   "outputs": [],
   "source": [
    "from sklearn.metrics import plot_confusion_matrix\n",
    "from sklearn.metrics import confusion_matrix\n",
    "\n",
    "model.eval()\n",
    "y_true = []\n",
    "y_pred = []\n",
    "wrong = []\n",
    "for inputs, labels in dataloaders['valid']:\n",
    "    inputs = inputs.to(device)\n",
    "    labels = labels.to(device)\n",
    "\n",
    "    with torch.no_grad():\n",
    "        outputs = model(inputs)\n",
    "        _, preds = torch.max(outputs, 1)\n",
    "        y_true.extend(labels.tolist())\n",
    "        y_pred.extend(preds.tolist())\n",
    "        \n",
    "        for p, t, inp in zip(preds, labels, inputs):\n",
    "            if p.item() != t.item():\n",
    "                wrong.append((inp.cpu().numpy(), p.item(), t.item()))\n",
    "\n",
    "mtx = confusion_matrix(y_true, y_pred)\n",
    "print(mtx)\n"
   ]
  },
  {
   "cell_type": "code",
   "execution_count": null,
   "id": "1c54fc1a-7e17-4b8f-b089-f596baa71718",
   "metadata": {},
   "outputs": [],
   "source": [
    "import matplotlib.pyplot as plt\n",
    "\n",
    "label_ = list(range(6))\n",
    "\n",
    "fig, ax = plt.subplots(figsize=(8,8))\n",
    "im = ax.imshow(mtx, cmap='Blues', vmax=100, vmin=-20)\n",
    "\n",
    "ax.set_xticks(np.arange(len(label_)))\n",
    "ax.set_yticks(np.arange(len(label_)))\n",
    "# ... and label them with the respective list entries\n",
    "ax.set_xticklabels(label_)\n",
    "ax.set_yticklabels(label_)\n",
    "\n",
    "# Rotate the tick labels and set their alignment.\n",
    "plt.setp(ax.get_xticklabels(), rotation=45, ha=\"right\",\n",
    "         rotation_mode=\"anchor\")\n",
    "\n",
    "# Loop over data dimensions and create text annotations.\n",
    "for i in range(len(label_)):\n",
    "    for j in range(len(label_)):\n",
    "        if mtx[i, j]:\n",
    "            text = ax.text(j, i, mtx[i, j],\n",
    "                           ha=\"center\", va=\"center\", color=\"w\", size=10)\n",
    "ax.set_xlabel('Prediction')\n",
    "ax.set_ylabel('True Label')\n",
    "ax.set_title(\"Confusion mtx\")\n",
    "fig.tight_layout()\n",
    "plt.show()"
   ]
  },
  {
   "cell_type": "code",
   "execution_count": null,
   "id": "e029d90d-cb67-4e77-9484-091c7e35a3c1",
   "metadata": {},
   "outputs": [],
   "source": [
    "import matplotlib.pyplot as plt\n",
    "iterator = iter(wrong)\n",
    "\n",
    "label = [\"Male with mask\", \"Female with Mask\", \"Male incorrect mask\", \"Female no mask\", \"Male incorrect mask\", \"Female no mask\"]\n",
    "mean = np.array([0.485, 0.456, 0.406])\n",
    "std = np.array([0.229, 0.224, 0.225])"
   ]
  },
  {
   "cell_type": "code",
   "execution_count": null,
   "id": "f075c3d9-0b2c-4b47-87c7-fe9ae73ed049",
   "metadata": {},
   "outputs": [],
   "source": [
    "fig, axes = plt.subplots(2, 2, figsize=(10,10))\n",
    "for ax in axes.flatten():\n",
    "    img, p, t = next(iterator)\n",
    "    img = img.transpose((1, 2, 0))\n",
    "    img = std * img + mean\n",
    "    img = np.clip(img, 0, 1)\n",
    "    ax.imshow(img)\n",
    "    ax.axis('off')\n",
    "    ax.set_title(f't : {label[t]}\\np : {label[p]}')\n",
    "plt.show()"
   ]
  },
  {
   "cell_type": "markdown",
   "id": "c1eaf34c-187e-4ec4-b138-7e7175aec242",
   "metadata": {},
   "source": [
    "## Inference"
   ]
  },
  {
   "cell_type": "code",
   "execution_count": null,
   "id": "f4adaff3-e3c4-4276-83eb-4bed95f1c35c",
   "metadata": {},
   "outputs": [],
   "source": [
    "def sum_label(df):\n",
    "    \n",
    "    def _label(row):\n",
    "        return row['age'] + 3*row['label']# + 6*row['mask']\n",
    "\n",
    "    df['ans'] = df.apply(_label, axis=1)\n",
    "    return df[['ImageID', 'ans']]"
   ]
  },
  {
   "cell_type": "code",
   "execution_count": null,
   "id": "fd079ed1-90da-49f2-befe-cdde1ce57ddd",
   "metadata": {},
   "outputs": [],
   "source": [
    "## inference\n",
    "\n",
    "# model.load_state_dict(torch.load('/opt/ml/code/save/best_log2.pt'))\n",
    "# df_submit = create_label(model, test_dataloader, df_test.copy(), device, target='label')\n",
    "\n",
    "# model = EfficientNet.from_pretrained(model_name, num_classes=3).to(device)\n",
    "# model.load_state_dict(torch.load('/opt/ml/code/save/age/extended_far_best.pt'))\n",
    "# df_submit = create_label(model, test_dataloader, df_submit, device, target='age')\n",
    "\n",
    "# model.load_state_dict(torch.load('/opt/ml/code/save/mask/6e5_9987.pt'))\n",
    "# df_submit = create_label(model, test_dataloader, df_submit, device, target='mask')\n",
    "\n",
    "# model.fc = nn.Linear(model.fc.in_features, 2).cuda()\n",
    "# model.load_state_dict(torch.load('/opt/ml/code/save/gender/6e5_9851.pt'))\n",
    "# df_submit = create_label(model, test_dataloader, df_submit, device, target='gender')\n",
    "\n",
    "\n",
    "# df_submit = sum_label(df_submit)\n",
    "# df_submit\n",
    "\n",
    "\n",
    "df_submit.to_csv('submit.csv', index=False)"
   ]
  },
  {
   "cell_type": "code",
   "execution_count": null,
   "id": "18999aea-a13b-45e3-bcd6-8973cb9aabfe",
   "metadata": {},
   "outputs": [],
   "source": []
  }
 ],
 "metadata": {
  "kernelspec": {
   "display_name": "pytorch",
   "language": "python",
   "name": "pytorch"
  },
  "language_info": {
   "codemirror_mode": {
    "name": "ipython",
    "version": 3
   },
   "file_extension": ".py",
   "mimetype": "text/x-python",
   "name": "python",
   "nbconvert_exporter": "python",
   "pygments_lexer": "ipython3",
   "version": "3.9.6"
  }
 },
 "nbformat": 4,
 "nbformat_minor": 5
}

{
 "cells": [
  {
   "cell_type": "code",
   "execution_count": 1,
   "id": "7996b754-3951-46d9-ac17-2288a59718d3",
   "metadata": {},
   "outputs": [],
   "source": [
    "import sys\n",
    "sys.path.append('/opt/ml/code')\n",
    "\n",
    "import random\n",
    "\n",
    "import numpy as np\n",
    "import pandas as pd\n",
    "import matplotlib.pyplot as plt\n",
    "\n",
    "from my_modules.transform import get_transform\n",
    "from my_modules.dataset import TrainDataset, EvalDataset\n",
    "from my_modules.trainer import Trainer\n",
    "from my_modules.loss import LabelSmoothing\n",
    "\n",
    "import torch\n",
    "import torch.nn as nn\n",
    "import torch.optim as optim\n",
    "from torch.utils.data import DataLoader , ConcatDataset\n",
    "from torchvision import models\n",
    "\n",
    "from efficientnet_pytorch import EfficientNet"
   ]
  },
  {
   "cell_type": "code",
   "execution_count": 2,
   "id": "4530c32d-f8a3-492c-bf37-9b1da4b70778",
   "metadata": {},
   "outputs": [],
   "source": [
    "## seeds\n",
    "\n",
    "random_seed = 42\n",
    "\n",
    "torch.manual_seed(random_seed)\n",
    "torch.backends.cudnn.deterministic = True\n",
    "torch.backends.cudnn.benchmark = False\n",
    "np.random.seed(random_seed)\n",
    "random.seed(random_seed)"
   ]
  },
  {
   "cell_type": "code",
   "execution_count": 3,
   "id": "dc4ce54d-ecc0-460a-b6b1-3b8107507726",
   "metadata": {},
   "outputs": [],
   "source": [
    "## hyperparameters\n",
    "\n",
    "model_name = 'efficientnet-b3'\n",
    "device = 'cuda'\n",
    "batch_size = 64\n",
    "lr = 0.0003\n",
    "num_epoch = 40\n",
    "target = 'gender'\n",
    "fold = 5\n",
    "\n",
    "df_train_path = f'df/fold/df_train_fold{fold}.csv'\n",
    "df_valid_path = f'df/fold/df_valid_fold{fold}.csv'\n",
    "#df_test_path = '/opt/ml/input/data/eval/info.csv'\n",
    "\n",
    "df_train = pd.read_csv(df_train_path)\n",
    "df_valid = pd.read_csv(df_valid_path)\n",
    "#df_test = pd.read_csv(df_test_path)"
   ]
  },
  {
   "cell_type": "code",
   "execution_count": 4,
   "id": "59102896-5704-431e-a7e8-3f73de492de2",
   "metadata": {},
   "outputs": [
    {
     "name": "stdout",
     "output_type": "stream",
     "text": [
      "300\n"
     ]
    }
   ],
   "source": [
    "input_size = EfficientNet.get_image_size(model_name)\n",
    "print(input_size)"
   ]
  },
  {
   "cell_type": "code",
   "execution_count": 5,
   "id": "f9030df0-9fcd-4d12-8306-4b828952a56b",
   "metadata": {},
   "outputs": [],
   "source": [
    "## transform\n",
    "\n",
    "transform_train = get_transform(augment=True, crop=350, resize=input_size, cutout=100)\n",
    "transform_valid = get_transform(augment=False, crop=350, resize=input_size, cutout=None)"
   ]
  },
  {
   "cell_type": "code",
   "execution_count": 6,
   "id": "5fdc9923-a57c-4eb5-8f20-493ccea36164",
   "metadata": {},
   "outputs": [],
   "source": [
    "## prepare dataset\n",
    "\n",
    "train_dataset = TrainDataset(df=df_train, transform=transform_train, target=target)\n",
    "valid_dataset = TrainDataset(df=df_valid, transform=transform_valid, target=target)"
   ]
  },
  {
   "cell_type": "code",
   "execution_count": 7,
   "id": "c609bbc9-d94e-486a-b1d4-8af4eefa82c4",
   "metadata": {},
   "outputs": [],
   "source": [
    "# if using external dataset\n",
    "\n",
    "df_ff_path = f'df/fold/df_ff{fold}.csv'\n",
    "df_ff = pd.read_csv(df_ff_path)\n",
    "transform_ff = get_transform(augment=True, crop=400, resize=input_size, cutout=100)\n",
    "ff_dataset = TrainDataset(df=df_ff, transform=transform_ff, target=target)\n",
    "\n",
    "# df_mega_path = 'df/df_megaasian_2000.csv'\n",
    "# df_mega = pd.read_csv(df_mega_path)\n",
    "# transform_mega = get_transform(augment=True, crop=224, resize=224, cutout=100)\n",
    "# mega_dataset = TrainDataset(df=df_mega, transform=transform_ff, target=target)\n",
    "\n",
    "df_train = pd.concat([df_ff, df_train])\n",
    "train_dataset = ConcatDataset([ff_dataset, train_dataset])"
   ]
  },
  {
   "cell_type": "code",
   "execution_count": 8,
   "id": "4bbd6554-31d9-44d5-9aea-e73fac2b3592",
   "metadata": {},
   "outputs": [
    {
     "name": "stdout",
     "output_type": "stream",
     "text": [
      "count : [10200 14060]\n"
     ]
    }
   ],
   "source": [
    "## prepare sampler\n",
    "\n",
    "from torch.utils.data.sampler import WeightedRandomSampler\n",
    "\n",
    "weight = df_train[target].value_counts().sort_index().to_numpy()\n",
    "print('count :', weight)\n",
    "weight = 1. / weight\n",
    "samples_weight = np.array([weight[t] for t in df_train[target]])\n",
    "samples_weight = torch.from_numpy(samples_weight)\n",
    "sampler = WeightedRandomSampler(samples_weight.type('torch.DoubleTensor'), len(samples_weight)//4)"
   ]
  },
  {
   "cell_type": "code",
   "execution_count": 9,
   "id": "d31b51ae-c253-478d-a2a1-2c673a6ad4fe",
   "metadata": {},
   "outputs": [],
   "source": [
    "## prepare dataloader\n",
    "\n",
    "dataloaders = {\n",
    "                'train' : DataLoader(train_dataset, batch_size=batch_size, num_workers=3, drop_last=True, sampler=sampler),\n",
    "                'valid' : DataLoader(valid_dataset, batch_size=batch_size, num_workers=3, drop_last=False, shuffle=False),\n",
    "              }"
   ]
  },
  {
   "cell_type": "code",
   "execution_count": null,
   "id": "56ec6b85-d8be-4b23-91a4-9db6abdeef08",
   "metadata": {},
   "outputs": [],
   "source": [
    "# check input train batch\n",
    "\n",
    "from my_modules.utils import imshow\n",
    "batch = next(iter(dataloaders['train']))\n",
    "imshow(batch[0])\n",
    "print(batch[1])"
   ]
  },
  {
   "cell_type": "code",
   "execution_count": 10,
   "id": "f6d52762-416a-414b-b9df-65b1c55d84a9",
   "metadata": {},
   "outputs": [
    {
     "name": "stdout",
     "output_type": "stream",
     "text": [
      "Loaded pretrained weights for efficientnet-b3\n",
      "efficientnet-b3 ready\n"
     ]
    }
   ],
   "source": [
    "## prepare model\n",
    "\n",
    "if model_name.startswith('efficientnet'):\n",
    "    model = EfficientNet.from_pretrained(model_name, num_classes=2 if target=='gender' else 3)\n",
    "elif model_name.startswith('tf'):\n",
    "    import timm\n",
    "    model = timm.create_model('tf_efficientnetv2_b3', pretrained=True, num_classes=2 if target=='gender' else 3)\n",
    "else:\n",
    "    model = models.resnet18(pretrained=True)\n",
    "    model.fc = nn.Linear(model.fc.in_features, len(train_dataset.classes))\n",
    "    \n",
    "model.to(device)\n",
    "print(model_name, 'ready')"
   ]
  },
  {
   "cell_type": "code",
   "execution_count": 11,
   "id": "c059f364-7d17-4a16-ba17-79a2e387bce4",
   "metadata": {},
   "outputs": [],
   "source": [
    "criterion = LabelSmoothing(0.05)\n",
    "optimizer = optim.Adam(model.parameters(), lr=lr)\n",
    "lr_scheduler = None #optim.lr_scheduler.MultiStepLR(optimizer, milestones=[5, 10, 15], gamma = 0.2)"
   ]
  },
  {
   "cell_type": "markdown",
   "id": "7f72af9d-da9b-4ef9-b6cc-0d4ab85c685c",
   "metadata": {},
   "source": [
    "## Train"
   ]
  },
  {
   "cell_type": "code",
   "execution_count": 12,
   "id": "a51e00a5-6372-454e-bb6f-336cdba0a172",
   "metadata": {},
   "outputs": [],
   "source": [
    "trainer = Trainer('/opt/ml/code/save')"
   ]
  },
  {
   "cell_type": "code",
   "execution_count": 14,
   "id": "6ec43c8e-ec7d-4346-8a24-5d13ea71d958",
   "metadata": {},
   "outputs": [],
   "source": [
    "## resume\n",
    "# model.load_state_dict(torch.load('/opt/ml/code/save/label/effnet_test018.pt'))\n",
    "\n",
    "# change lr manually:\n",
    "for g in optimizer.param_groups:\n",
    "    g['lr'] = 0.00006"
   ]
  },
  {
   "cell_type": "code",
   "execution_count": 15,
   "id": "b17cd26e-04c3-47af-ab0b-7b20a22ea6d6",
   "metadata": {},
   "outputs": [
    {
     "name": "stdout",
     "output_type": "stream",
     "text": [
      "Epoch 1/40\n",
      "----------\n"
     ]
    },
    {
     "name": "stderr",
     "output_type": "stream",
     "text": [
      "100%|██████████| 94/94 [00:52<00:00,  1.80it/s]\n"
     ]
    },
    {
     "name": "stdout",
     "output_type": "stream",
     "text": [
      "train Epoch: 1 Loss: 0.1487 Acc: 0.9839 F1: 0.9838684454744131\n"
     ]
    },
    {
     "name": "stderr",
     "output_type": "stream",
     "text": [
      "100%|██████████| 60/60 [00:09<00:00,  6.23it/s]\n"
     ]
    },
    {
     "name": "stdout",
     "output_type": "stream",
     "text": [
      "valid Epoch: 1 Loss: 0.1368 Acc: 0.9926 F1: 0.9922135500120505\n",
      "\n",
      "Epoch 2/40\n",
      "----------\n"
     ]
    },
    {
     "name": "stderr",
     "output_type": "stream",
     "text": [
      "100%|██████████| 94/94 [00:52<00:00,  1.79it/s]\n"
     ]
    },
    {
     "name": "stdout",
     "output_type": "stream",
     "text": [
      "train Epoch: 2 Loss: 0.1436 Acc: 0.9867 F1: 0.9866994096425964\n"
     ]
    },
    {
     "name": "stderr",
     "output_type": "stream",
     "text": [
      "100%|██████████| 60/60 [00:09<00:00,  6.24it/s]\n"
     ]
    },
    {
     "name": "stdout",
     "output_type": "stream",
     "text": [
      "valid Epoch: 2 Loss: 0.1382 Acc: 0.9907 F1: 0.9902585346612456\n",
      "\n",
      "Epoch 3/40\n",
      "----------\n"
     ]
    },
    {
     "name": "stderr",
     "output_type": "stream",
     "text": [
      "100%|██████████| 94/94 [00:52<00:00,  1.80it/s]\n"
     ]
    },
    {
     "name": "stdout",
     "output_type": "stream",
     "text": [
      "train Epoch: 3 Loss: 0.1448 Acc: 0.9869 F1: 0.9868661994902108\n"
     ]
    },
    {
     "name": "stderr",
     "output_type": "stream",
     "text": [
      "100%|██████████| 60/60 [00:09<00:00,  6.20it/s]\n"
     ]
    },
    {
     "name": "stdout",
     "output_type": "stream",
     "text": [
      "valid Epoch: 3 Loss: 0.1389 Acc: 0.9907 F1: 0.9902512646276165\n",
      "\n",
      "Epoch 4/40\n",
      "----------\n"
     ]
    },
    {
     "name": "stderr",
     "output_type": "stream",
     "text": [
      "100%|██████████| 94/94 [00:52<00:00,  1.80it/s]\n"
     ]
    },
    {
     "name": "stdout",
     "output_type": "stream",
     "text": [
      "train Epoch: 4 Loss: 0.1417 Acc: 0.9872 F1: 0.9871998779761786\n"
     ]
    },
    {
     "name": "stderr",
     "output_type": "stream",
     "text": [
      "100%|██████████| 60/60 [00:09<00:00,  6.18it/s]\n"
     ]
    },
    {
     "name": "stdout",
     "output_type": "stream",
     "text": [
      "valid Epoch: 4 Loss: 0.1453 Acc: 0.9854 F1: 0.9846417641626537\n",
      "\n",
      "Epoch 5/40\n",
      "----------\n"
     ]
    },
    {
     "name": "stderr",
     "output_type": "stream",
     "text": [
      "100%|██████████| 94/94 [00:52<00:00,  1.80it/s]\n"
     ]
    },
    {
     "name": "stdout",
     "output_type": "stream",
     "text": [
      "train Epoch: 5 Loss: 0.1378 Acc: 0.9894 F1: 0.9893570335119215\n"
     ]
    },
    {
     "name": "stderr",
     "output_type": "stream",
     "text": [
      "100%|██████████| 60/60 [00:09<00:00,  6.21it/s]\n"
     ]
    },
    {
     "name": "stdout",
     "output_type": "stream",
     "text": [
      "valid Epoch: 5 Loss: 0.1388 Acc: 0.9907 F1: 0.9902536949214973\n",
      "\n",
      "Epoch 6/40\n",
      "----------\n"
     ]
    },
    {
     "name": "stderr",
     "output_type": "stream",
     "text": [
      "100%|██████████| 94/94 [00:52<00:00,  1.80it/s]\n"
     ]
    },
    {
     "name": "stdout",
     "output_type": "stream",
     "text": [
      "train Epoch: 6 Loss: 0.1355 Acc: 0.9904 F1: 0.9903589136226875\n"
     ]
    },
    {
     "name": "stderr",
     "output_type": "stream",
     "text": [
      "100%|██████████| 60/60 [00:09<00:00,  6.24it/s]\n"
     ]
    },
    {
     "name": "stdout",
     "output_type": "stream",
     "text": [
      "valid Epoch: 6 Loss: 0.1432 Acc: 0.9894 F1: 0.9888544070058012\n",
      "\n",
      "Epoch 7/40\n",
      "----------\n"
     ]
    },
    {
     "name": "stderr",
     "output_type": "stream",
     "text": [
      "100%|██████████| 94/94 [00:52<00:00,  1.80it/s]\n"
     ]
    },
    {
     "name": "stdout",
     "output_type": "stream",
     "text": [
      "train Epoch: 7 Loss: 0.1375 Acc: 0.9912 F1: 0.991190052225897\n"
     ]
    },
    {
     "name": "stderr",
     "output_type": "stream",
     "text": [
      "100%|██████████| 60/60 [00:09<00:00,  6.24it/s]\n"
     ]
    },
    {
     "name": "stdout",
     "output_type": "stream",
     "text": [
      "valid Epoch: 7 Loss: 0.1376 Acc: 0.9918 F1: 0.9913739790830403\n",
      "\n",
      "Epoch 8/40\n",
      "----------\n"
     ]
    },
    {
     "name": "stderr",
     "output_type": "stream",
     "text": [
      "100%|██████████| 94/94 [00:52<00:00,  1.79it/s]\n"
     ]
    },
    {
     "name": "stdout",
     "output_type": "stream",
     "text": [
      "train Epoch: 8 Loss: 0.1365 Acc: 0.9915 F1: 0.9915226061487465\n"
     ]
    },
    {
     "name": "stderr",
     "output_type": "stream",
     "text": [
      "100%|██████████| 60/60 [00:09<00:00,  6.21it/s]\n"
     ]
    },
    {
     "name": "stdout",
     "output_type": "stream",
     "text": [
      "valid Epoch: 8 Loss: 0.1372 Acc: 0.9926 F1: 0.9922116362745838\n",
      "\n",
      "Epoch 9/40\n",
      "----------\n"
     ]
    },
    {
     "name": "stderr",
     "output_type": "stream",
     "text": [
      "100%|██████████| 94/94 [00:52<00:00,  1.80it/s]\n"
     ]
    },
    {
     "name": "stdout",
     "output_type": "stream",
     "text": [
      "train Epoch: 9 Loss: 0.1352 Acc: 0.9915 F1: 0.9915212173924146\n"
     ]
    },
    {
     "name": "stderr",
     "output_type": "stream",
     "text": [
      "100%|██████████| 60/60 [00:09<00:00,  6.20it/s]\n"
     ]
    },
    {
     "name": "stdout",
     "output_type": "stream",
     "text": [
      "valid Epoch: 9 Loss: 0.1371 Acc: 0.9929 F1: 0.9924925582097068\n",
      "\n",
      "Epoch 10/40\n",
      "----------\n"
     ]
    },
    {
     "name": "stderr",
     "output_type": "stream",
     "text": [
      "100%|██████████| 94/94 [00:52<00:00,  1.79it/s]\n"
     ]
    },
    {
     "name": "stdout",
     "output_type": "stream",
     "text": [
      "train Epoch: 10 Loss: 0.1307 Acc: 0.9935 F1: 0.9935172569628272\n"
     ]
    },
    {
     "name": "stderr",
     "output_type": "stream",
     "text": [
      "100%|██████████| 60/60 [00:09<00:00,  6.20it/s]\n"
     ]
    },
    {
     "name": "stdout",
     "output_type": "stream",
     "text": [
      "valid Epoch: 10 Loss: 0.1388 Acc: 0.9923 F1: 0.9919304965615539\n",
      "\n",
      "Epoch 11/40\n",
      "----------\n"
     ]
    },
    {
     "name": "stderr",
     "output_type": "stream",
     "text": [
      "100%|██████████| 94/94 [00:52<00:00,  1.79it/s]\n"
     ]
    },
    {
     "name": "stdout",
     "output_type": "stream",
     "text": [
      "train Epoch: 11 Loss: 0.1378 Acc: 0.9900 F1: 0.9900264623682975\n"
     ]
    },
    {
     "name": "stderr",
     "output_type": "stream",
     "text": [
      "100%|██████████| 60/60 [00:09<00:00,  6.22it/s]\n"
     ]
    },
    {
     "name": "stdout",
     "output_type": "stream",
     "text": [
      "valid Epoch: 11 Loss: 0.1396 Acc: 0.9905 F1: 0.9899739800911891\n",
      "\n",
      "Epoch 12/40\n",
      "----------\n"
     ]
    },
    {
     "name": "stderr",
     "output_type": "stream",
     "text": [
      "100%|██████████| 94/94 [00:52<00:00,  1.79it/s]\n"
     ]
    },
    {
     "name": "stdout",
     "output_type": "stream",
     "text": [
      "train Epoch: 12 Loss: 0.1307 Acc: 0.9940 F1: 0.994015665772104\n"
     ]
    },
    {
     "name": "stderr",
     "output_type": "stream",
     "text": [
      "100%|██████████| 60/60 [00:09<00:00,  6.14it/s]\n"
     ]
    },
    {
     "name": "stdout",
     "output_type": "stream",
     "text": [
      "valid Epoch: 12 Loss: 0.1403 Acc: 0.9915 F1: 0.991101200013772\n",
      "\n",
      "Epoch 13/40\n",
      "----------\n"
     ]
    },
    {
     "name": "stderr",
     "output_type": "stream",
     "text": [
      "100%|██████████| 94/94 [00:52<00:00,  1.80it/s]\n"
     ]
    },
    {
     "name": "stdout",
     "output_type": "stream",
     "text": [
      "train Epoch: 13 Loss: 0.1356 Acc: 0.9912 F1: 0.9911900074356969\n"
     ]
    },
    {
     "name": "stderr",
     "output_type": "stream",
     "text": [
      "100%|██████████| 60/60 [00:09<00:00,  6.22it/s]\n"
     ]
    },
    {
     "name": "stdout",
     "output_type": "stream",
     "text": [
      "valid Epoch: 13 Loss: 0.1393 Acc: 0.9915 F1: 0.9911077235772358\n",
      "\n",
      "Epoch 14/40\n",
      "----------\n"
     ]
    },
    {
     "name": "stderr",
     "output_type": "stream",
     "text": [
      "100%|██████████| 94/94 [00:52<00:00,  1.80it/s]\n"
     ]
    },
    {
     "name": "stdout",
     "output_type": "stream",
     "text": [
      "train Epoch: 14 Loss: 0.1330 Acc: 0.9925 F1: 0.9925197481880657\n"
     ]
    },
    {
     "name": "stderr",
     "output_type": "stream",
     "text": [
      "100%|██████████| 60/60 [00:09<00:00,  6.20it/s]\n"
     ]
    },
    {
     "name": "stdout",
     "output_type": "stream",
     "text": [
      "valid Epoch: 14 Loss: 0.1416 Acc: 0.9899 F1: 0.9894196138144311\n",
      "\n",
      "Epoch 15/40\n",
      "----------\n"
     ]
    },
    {
     "name": "stderr",
     "output_type": "stream",
     "text": [
      "100%|██████████| 94/94 [00:52<00:00,  1.79it/s]\n"
     ]
    },
    {
     "name": "stdout",
     "output_type": "stream",
     "text": [
      "train Epoch: 15 Loss: 0.1300 Acc: 0.9942 F1: 0.9941821729744196\n"
     ]
    },
    {
     "name": "stderr",
     "output_type": "stream",
     "text": [
      "100%|██████████| 60/60 [00:09<00:00,  6.13it/s]\n"
     ]
    },
    {
     "name": "stdout",
     "output_type": "stream",
     "text": [
      "valid Epoch: 15 Loss: 0.1393 Acc: 0.9907 F1: 0.9902657422923331\n",
      "\n",
      "Epoch 16/40\n",
      "----------\n"
     ]
    },
    {
     "name": "stderr",
     "output_type": "stream",
     "text": [
      "100%|██████████| 94/94 [00:52<00:00,  1.80it/s]\n"
     ]
    },
    {
     "name": "stdout",
     "output_type": "stream",
     "text": [
      "train Epoch: 16 Loss: 0.1310 Acc: 0.9935 F1: 0.9935149992591106\n"
     ]
    },
    {
     "name": "stderr",
     "output_type": "stream",
     "text": [
      "100%|██████████| 60/60 [00:09<00:00,  6.21it/s]\n"
     ]
    },
    {
     "name": "stdout",
     "output_type": "stream",
     "text": [
      "valid Epoch: 16 Loss: 0.1382 Acc: 0.9926 F1: 0.9922116362745838\n",
      "\n",
      "Epoch 17/40\n",
      "----------\n"
     ]
    },
    {
     "name": "stderr",
     "output_type": "stream",
     "text": [
      "100%|██████████| 94/94 [00:52<00:00,  1.80it/s]\n"
     ]
    },
    {
     "name": "stdout",
     "output_type": "stream",
     "text": [
      "train Epoch: 17 Loss: 0.1335 Acc: 0.9925 F1: 0.992515478089181\n"
     ]
    },
    {
     "name": "stderr",
     "output_type": "stream",
     "text": [
      " 90%|█████████ | 54/60 [00:08<00:00,  6.00it/s]\n"
     ]
    },
    {
     "ename": "KeyboardInterrupt",
     "evalue": "",
     "output_type": "error",
     "traceback": [
      "\u001b[0;31m---------------------------------------------------------------------------\u001b[0m",
      "\u001b[0;31mKeyboardInterrupt\u001b[0m                         Traceback (most recent call last)",
      "\u001b[0;32m<ipython-input-15-042a490bc394>\u001b[0m in \u001b[0;36m<module>\u001b[0;34m\u001b[0m\n\u001b[0;32m----> 1\u001b[0;31m trainer.train(model, dataloaders, criterion, optimizer, device, num_epochs=num_epoch, scheduler=lr_scheduler,\n\u001b[0m\u001b[1;32m      2\u001b[0m               sub_dir='gender_folded', save_name='epoch_')\n",
      "\u001b[0;32m~/code/my_modules/trainer.py\u001b[0m in \u001b[0;36mtrain\u001b[0;34m(self, model, dataloaders, criterion, optimizer, device, num_epochs, scheduler, save_name, sub_dir)\u001b[0m\n\u001b[1;32m     42\u001b[0m                         \u001b[0mloss\u001b[0m \u001b[0;34m=\u001b[0m \u001b[0mcriterion\u001b[0m\u001b[0;34m(\u001b[0m\u001b[0moutputs\u001b[0m\u001b[0;34m,\u001b[0m \u001b[0mlabels\u001b[0m\u001b[0;34m)\u001b[0m\u001b[0;34m\u001b[0m\u001b[0;34m\u001b[0m\u001b[0m\n\u001b[1;32m     43\u001b[0m \u001b[0;34m\u001b[0m\u001b[0m\n\u001b[0;32m---> 44\u001b[0;31m                         \u001b[0my_true\u001b[0m\u001b[0;34m.\u001b[0m\u001b[0mextend\u001b[0m\u001b[0;34m(\u001b[0m\u001b[0mlabels\u001b[0m\u001b[0;34m.\u001b[0m\u001b[0mtolist\u001b[0m\u001b[0;34m(\u001b[0m\u001b[0;34m)\u001b[0m\u001b[0;34m)\u001b[0m\u001b[0;34m\u001b[0m\u001b[0;34m\u001b[0m\u001b[0m\n\u001b[0m\u001b[1;32m     45\u001b[0m                         \u001b[0my_pred\u001b[0m\u001b[0;34m.\u001b[0m\u001b[0mextend\u001b[0m\u001b[0;34m(\u001b[0m\u001b[0mpreds\u001b[0m\u001b[0;34m.\u001b[0m\u001b[0mtolist\u001b[0m\u001b[0;34m(\u001b[0m\u001b[0;34m)\u001b[0m\u001b[0;34m)\u001b[0m\u001b[0;34m\u001b[0m\u001b[0;34m\u001b[0m\u001b[0m\n\u001b[1;32m     46\u001b[0m \u001b[0;34m\u001b[0m\u001b[0m\n",
      "\u001b[0;31mKeyboardInterrupt\u001b[0m: "
     ]
    }
   ],
   "source": [
    "trainer.train(model, dataloaders, criterion, optimizer, device, num_epochs=num_epoch, scheduler=lr_scheduler,\n",
    "              sub_dir='gender_folded', save_name='epoch_')"
   ]
  },
  {
   "cell_type": "markdown",
   "id": "fe922df6-52a1-423e-99ee-d16d396b5d65",
   "metadata": {},
   "source": [
    "## Logs"
   ]
  },
  {
   "cell_type": "markdown",
   "id": "c6d21b83-0cbc-4799-bdd7-d0b008e6071b",
   "metadata": {},
   "source": [
    "기본 설정\n",
    "\n",
    "```\n",
    "model_name = 'efficientnet-b0'\n",
    "batch_size = 64\n",
    "lr = 0.00006\n",
    "split = 20\n",
    "transform_train = get_transform(augment=True, crop=350, resize=224, cutout=100)\n",
    "transform_valid = get_transform(augment=False, crop=350, resize=224, cutout=None)\n",
    "sampler size = 1/4\n",
    "```"
   ]
  },
  {
   "cell_type": "markdown",
   "id": "f9451dcb-b3d3-4883-a49a-94e4363a6dd5",
   "metadata": {},
   "source": [
    "## Gender folds\n",
    "```python\n",
    "model_name = 'efficientnet-b3'\n",
    "batch_size = 64\n",
    "optimizer = Adam\n",
    "lr = 0.00006\n",
    "transform_train = get_transform(augment=True, crop=350, resize=300, cutout=100)\n",
    "transform_valid = get_transform(augment=False, crop=350, resize=300, cutout=None)\n",
    "```\n",
    "\n",
    "|Fold|Epoch|valid Loss|Acc|F1|비고|\n",
    "|----|-----|----------|---|--|--|\n",
    "|1|23|0.1251|0.9979|0.9978||\n",
    "|2|21|0.1265|0.9976|0.9975||\n",
    "|3|14|0.1366|0.9934|0.9930||\n",
    "\n",
    "valid Epoch: 13 Loss: 0.1392 Acc: 0.9918 F1: 0.9913675583590404\n",
    "valid Epoch: 9 Loss: 0.1371 Acc: 0.9929 F1: 0.9924925582097068"
   ]
  },
  {
   "cell_type": "markdown",
   "id": "ad0df665-1dc8-4708-a21b-43d890fcd6de",
   "metadata": {
    "jp-MarkdownHeadingCollapsed": true,
    "tags": []
   },
   "source": [
    "## Age Log\n",
    "\n",
    "1. tf_eff b3 + ff:  \n",
    "    - epoch23)  \n",
    "      - train Loss: 0.2512 Acc: 0.9638 F1: 0.963731509280305\n",
    "      - valid Loss: 0.4652 Acc: 0.9042 F1: 0.7983025945957932\n",
    "\n",
    "2. tf_eff b3 + mega:  \n",
    "    - epoch14)  \n",
    "      - train Loss: 0.2475 Acc: 0.9683 F1: 0.9683685312363205\n",
    "      - valid Loss: 0.4115 Acc: 0.9106 F1: 0.8063435215039828"
   ]
  },
  {
   "cell_type": "markdown",
   "id": "4d7af387-2de6-47cb-89ad-2cf8eac7c831",
   "metadata": {
    "tags": []
   },
   "source": [
    "## Gender Experiment Logs"
   ]
  },
  {
   "cell_type": "markdown",
   "id": "19eb2b1d-9d0f-4704-8893-34e7c951a019",
   "metadata": {},
   "source": [
    "2. tf effb3 0.0003->0.00006\n",
    "   epoch 17)\n",
    "      - train Loss: 0.1367 Acc: 0.9912 F1: 0.9911960535284283\n",
    "      - valid Loss: 0.1314 Acc: 0.9944 F1: 0.9941665702144545\n",
    "\n",
    "2. ff, AdamW(wd=0.0001) lr 0.00006 --> 0.00001\n",
    "   epoch ?)\n",
    "      - train Loss: 0.1550 Acc: 0.9821 F1: 0.9821238701547585\n",
    "      - valid Loss: 0.1367 Acc: 0.9913 F1: 0.9908242378118639\n",
    "\n",
    "valid Loss: 0.1367 Acc: 0.9913 F1: 0.9908242378118639\n",
    "    \n"
   ]
  },
  {
   "cell_type": "markdown",
   "id": "f710171e-db05-4e5b-8fc2-2e5230a02c9f",
   "metadata": {
    "tags": []
   },
   "source": [
    "## Mask Experiment Logs\n",
    "\n",
    "---\n",
    "\n",
    "1. model=eff b0, optimizer=Adam, lr=0.00006, bs=64, augment=randaug+cutout, inputsize=224, loss_fn=LS(0.05), split 20%\n",
    "    * epoch 21)\n",
    "      - train Loss: 0.2192 Acc: 0.9767 F1: 0.9766713917541754\n",
    "      - valid Loss: 0.1739 Acc: 0.9989 F1: 0.9985207090460696\n",
    "        "
   ]
  },
  {
   "cell_type": "markdown",
   "id": "3b96fd83-6ed3-425b-a166-1767d9ef8a6b",
   "metadata": {
    "jp-MarkdownHeadingCollapsed": true,
    "tags": []
   },
   "source": [
    "## Age & Gender Experiment Logs\n",
    "\n",
    "---\n",
    "\n",
    "### loss function test\n",
    "\n",
    "---\n",
    "\n",
    "1. eff b0, lr=0.00006, bs=64, randaug+cutout, inputsize=224, loss_fn=CE, WeightedSampler, split 25%, optimizer=Adam\n",
    "   * epoch 18)\n",
    "     - train Loss: 0.0991 Acc: 0.9655 F1: 0.9654261306812848\n",
    "     - valid Loss: 0.0980 Acc: 0.9778 F1: 0.9772288369633227  \n",
    "  * before first patience\n",
    "\n",
    "---\n",
    "\n",
    "2. eff b0, lr=0.00006, bs=64, randaug+cutout, inputsize=224, loss_fn=LS(0.05), WeightedSampler, split 25%, optimizer=Adam\n",
    "    * epoch 21)\n",
    "     - train Loss: 0.3310 Acc: 0.9638 F1: 0.963728513759618\n",
    "     - valid Loss: 0.3071 Acc: 0.9786 F1: 0.9791634664746235 \n",
    "\n",
    "---\n",
    "\n",
    "3. eff b0, lr=0.00006, bs=64, randaug+cutout, inputsize=224, loss_fn=F1_Loss, split 25%, optimizer=Adam\n",
    "   * epoch 13)\n",
    "     - train Loss: 0.0710 Acc: 0.9584 F1: 0.9476713834498373\n",
    "     - valid Loss: 0.0403 Acc: 0.9765 F1: 0.9748789208889367\n",
    "   * epoch 3)\n",
    "     - train Loss: 0.0594 Acc: 0.9655 F1: 0.9555452013464937\n",
    "     - valid Loss: 0.0369 Acc: 0.9782 F1: 0.9776768545260203\n",
    "\n",
    "---\n",
    "\n",
    "### split ratio test\n",
    "\n",
    "---\n",
    "\n",
    "4. model=eff b0, optimizer=Adam, lr=0.00006, bs=64, augment=randaug+cutout, inputsize=224, loss_fn=LS(0.05), split 15%\n",
    "    * epoch 21)\n",
    "      - train Loss: 0.3381 Acc: 0.9597 F1: 0.9597144587078792\n",
    "      - valid Loss: 0.2948 Acc: 0.9852 F1: 0.982564296238198\n",
    "      \n",
    "---\n",
    "\n",
    "5. model=eff b0, optimizer=Adam, lr=0.00006, bs=64, augment=randaug+cutout, inputsize=224, loss_fn=LS(0.05), split 20%\n",
    "    * epoch 27)\n",
    "      - train Loss: 0.3211 Acc: 0.9668 F1: 0.9668728849468181\n",
    "      - valid Loss: 0.2878 Acc: 0.9854 F1: 0.9842203787970396\n",
    "      \n",
    "---\n",
    "\n",
    "6. model=eff b0, optimizer=Adam, lr=0.00006, bs=64, augment=randaug+cutout, inputsize=224, loss_fn=LS(0.05), split 25%\n",
    "    * epoch 22)\n",
    "      - train Loss: 0.3321 Acc: 0.9639 F1: 0.9638739223128628\n",
    "      - valid Loss: 0.2910 Acc: 0.9829 F1: 0.9792575649184908\n",
    "      \n",
    "---\n",
    "\n",
    "7. model=eff b0, optimizer=Adam, lr=0.00006, bs=64, augment=randaug+cutout, inputsize=224, loss_fn=LS(0.05), split 30%\n",
    "    * epoch 29)\n",
    "      - train Loss: 0.3171 Acc: 0.9686 F1: 0.9685813478405522\n",
    "      - valid Loss: 0.3047 Acc: 0.9772 F1: 0.9764751322879572"
   ]
  },
  {
   "cell_type": "markdown",
   "id": "a295c4fc-4288-4144-93e9-21e291038455",
   "metadata": {},
   "source": [
    "## Debug"
   ]
  },
  {
   "cell_type": "code",
   "execution_count": null,
   "id": "eaf284b6-4a53-4583-a28c-3b75a0acfd19",
   "metadata": {},
   "outputs": [],
   "source": [
    "model.load_state_dict(torch.load('/opt/ml/code/save/gender/best_20_log2.pt'))\n",
    "model.eval()\n",
    "print('ready')"
   ]
  },
  {
   "cell_type": "code",
   "execution_count": null,
   "id": "fb5030a4-82cb-404a-9db1-69db51493035",
   "metadata": {},
   "outputs": [],
   "source": [
    "from sklearn.metrics import plot_confusion_matrix\n",
    "from sklearn.metrics import confusion_matrix\n",
    "\n",
    "model.eval()\n",
    "y_true = []\n",
    "y_pred = []\n",
    "wrong = []\n",
    "for inputs, labels in dataloaders['valid']:\n",
    "    inputs = inputs.to(device)\n",
    "    labels = labels.to(device)\n",
    "\n",
    "    with torch.no_grad():\n",
    "        outputs = model(inputs)\n",
    "        _, preds = torch.max(outputs, 1)\n",
    "        y_true.extend(labels.tolist())\n",
    "        y_pred.extend(preds.tolist())\n",
    "        \n",
    "        for p, t, inp in zip(preds, labels, inputs):\n",
    "            if p.item() != t.item():\n",
    "                wrong.append((inp.cpu().numpy(), p.item(), t.item()))\n",
    "\n",
    "mtx = confusion_matrix(y_true, y_pred)\n",
    "print(mtx)\n"
   ]
  },
  {
   "cell_type": "code",
   "execution_count": null,
   "id": "ca672df0-c82b-4a07-913f-74801dfb292e",
   "metadata": {},
   "outputs": [],
   "source": [
    "d = {y_true:y_true, 'y_pred'\n",
    "\n",
    "with open('pred.pkl', 'wb') as f:\n",
    "    pickle.dump(list, f)"
   ]
  },
  {
   "cell_type": "code",
   "execution_count": null,
   "id": "1c54fc1a-7e17-4b8f-b089-f596baa71718",
   "metadata": {},
   "outputs": [],
   "source": [
    "label_ = list(range(6))\n",
    "\n",
    "fig, ax = plt.subplots(figsize=(8,8))\n",
    "im = ax.imshow(mtx, cmap='Blues', vmax=100, vmin=-20)\n",
    "\n",
    "ax.set_xticks(np.arange(len(label_)))\n",
    "ax.set_yticks(np.arange(len(label_)))\n",
    "# ... and label them with the respective list entries\n",
    "ax.set_xticklabels(label_)\n",
    "ax.set_yticklabels(label_)\n",
    "\n",
    "# Rotate the tick labels and set their alignment.\n",
    "plt.setp(ax.get_xticklabels(), rotation=45, ha=\"right\",\n",
    "         rotation_mode=\"anchor\")\n",
    "\n",
    "# Loop over data dimensions and create text annotations.\n",
    "for i in range(len(label_)):\n",
    "    for j in range(len(label_)):\n",
    "        if mtx[i, j]:\n",
    "            text = ax.text(j, i, mtx[i, j],\n",
    "                           ha=\"center\", va=\"center\", color=\"w\", size=10)\n",
    "ax.set_xlabel('Prediction')\n",
    "ax.set_ylabel('True Label')\n",
    "ax.set_title(\"Confusion mtx\")\n",
    "fig.tight_layout()\n",
    "plt.show()"
   ]
  },
  {
   "cell_type": "code",
   "execution_count": null,
   "id": "e029d90d-cb67-4e77-9484-091c7e35a3c1",
   "metadata": {},
   "outputs": [],
   "source": [
    "iterator = iter(wrong)\n",
    "\n",
    "label = [\"Male with mask\", \"Female with Mask\", \"Male incorrect mask\", \"Female no mask\", \"Male incorrect mask\", \"Female no mask\"]\n",
    "mean = np.array([0.485, 0.456, 0.406])\n",
    "std = np.array([0.229, 0.224, 0.225])"
   ]
  },
  {
   "cell_type": "code",
   "execution_count": null,
   "id": "f075c3d9-0b2c-4b47-87c7-fe9ae73ed049",
   "metadata": {},
   "outputs": [],
   "source": [
    "fig, axes = plt.subplots(2, 2, figsize=(10,10))\n",
    "for ax in axes.flatten():\n",
    "    img, p, t = next(iterator)\n",
    "    img = img.transpose((1, 2, 0))\n",
    "    img = std * img + mean\n",
    "    img = np.clip(img, 0, 1)\n",
    "    ax.imshow(img)\n",
    "    ax.axis('off')\n",
    "    ax.set_title(f't : {label[t]}\\np : {label[p]}')\n",
    "plt.show()"
   ]
  }
 ],
 "metadata": {
  "kernelspec": {
   "display_name": "pytorch",
   "language": "python",
   "name": "pytorch"
  },
  "language_info": {
   "codemirror_mode": {
    "name": "ipython",
    "version": 3
   },
   "file_extension": ".py",
   "mimetype": "text/x-python",
   "name": "python",
   "nbconvert_exporter": "python",
   "pygments_lexer": "ipython3",
   "version": "3.9.6"
  }
 },
 "nbformat": 4,
 "nbformat_minor": 5
}

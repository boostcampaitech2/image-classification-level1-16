{
 "cells": [
  {
   "cell_type": "markdown",
   "id": "d6d79137-e1db-452b-958f-848b050586cc",
   "metadata": {
    "tags": []
   },
   "source": [
    "## basic info"
   ]
  },
  {
   "cell_type": "markdown",
   "id": "684b90c8-5075-44bb-9063-9e0e6c575b81",
   "metadata": {},
   "source": [
    "* 모든 데이터셋은 아시아인 남녀로 구성되어 있고 나이는 20대부터 70대까지 다양하게 분포\n",
    "* 전체 사람 명 수 : 4,500 (train+eval)\n",
    "    - 전체 데이터셋 중에서 60%는 학습 데이터셋. (2700)\n",
    "* 한 사람당 사진의 개수: 7 - 마스크 착용 5장, 이상하게 착용(코스크, 턱스크) 1장, 미착용 1장\n",
    "* 이미지 크기: (384, 512)\n",
    "* 마스크 착용여부, 성별, 나이를 기준으로 총 18개의 클래스가 있다. 결과값으로 0~17에 해당되는 숫자가 각 이미지 당 하나씩 나와야 한다.\n",
    "    - [클래스 및 추가 정보 확인](https://stages.ai/competitions/74/data/training)"
   ]
  },
  {
   "cell_type": "markdown",
   "id": "fc1f05bf-b95e-4d45-8398-a62f25899ee6",
   "metadata": {
    "tags": []
   },
   "source": [
    "## load data"
   ]
  },
  {
   "cell_type": "markdown",
   "id": "e1457980-1f03-402a-a194-25a42448c78f",
   "metadata": {},
   "source": [
    "### pandas dataframe 으로 데이터를 로드"
   ]
  },
  {
   "cell_type": "code",
   "execution_count": 16,
   "id": "f73e6a06-4282-4225-b932-3433a76b453b",
   "metadata": {},
   "outputs": [],
   "source": [
    "import pandas as pd"
   ]
  },
  {
   "cell_type": "code",
   "execution_count": 21,
   "id": "cdfacd9f-e52a-4ba6-9faf-eabeafa0874b",
   "metadata": {},
   "outputs": [
    {
     "data": {
      "text/html": [
       "<div>\n",
       "<style scoped>\n",
       "    .dataframe tbody tr th:only-of-type {\n",
       "        vertical-align: middle;\n",
       "    }\n",
       "\n",
       "    .dataframe tbody tr th {\n",
       "        vertical-align: top;\n",
       "    }\n",
       "\n",
       "    .dataframe thead th {\n",
       "        text-align: right;\n",
       "    }\n",
       "</style>\n",
       "<table border=\"1\" class=\"dataframe\">\n",
       "  <thead>\n",
       "    <tr style=\"text-align: right;\">\n",
       "      <th></th>\n",
       "      <th>id</th>\n",
       "      <th>gender</th>\n",
       "      <th>race</th>\n",
       "      <th>age</th>\n",
       "      <th>path</th>\n",
       "    </tr>\n",
       "  </thead>\n",
       "  <tbody>\n",
       "    <tr>\n",
       "      <th>0</th>\n",
       "      <td>000001</td>\n",
       "      <td>female</td>\n",
       "      <td>Asian</td>\n",
       "      <td>45</td>\n",
       "      <td>000001_female_Asian_45</td>\n",
       "    </tr>\n",
       "    <tr>\n",
       "      <th>1</th>\n",
       "      <td>000002</td>\n",
       "      <td>female</td>\n",
       "      <td>Asian</td>\n",
       "      <td>52</td>\n",
       "      <td>000002_female_Asian_52</td>\n",
       "    </tr>\n",
       "    <tr>\n",
       "      <th>2</th>\n",
       "      <td>000004</td>\n",
       "      <td>male</td>\n",
       "      <td>Asian</td>\n",
       "      <td>54</td>\n",
       "      <td>000004_male_Asian_54</td>\n",
       "    </tr>\n",
       "    <tr>\n",
       "      <th>3</th>\n",
       "      <td>000005</td>\n",
       "      <td>female</td>\n",
       "      <td>Asian</td>\n",
       "      <td>58</td>\n",
       "      <td>000005_female_Asian_58</td>\n",
       "    </tr>\n",
       "    <tr>\n",
       "      <th>4</th>\n",
       "      <td>000006</td>\n",
       "      <td>female</td>\n",
       "      <td>Asian</td>\n",
       "      <td>59</td>\n",
       "      <td>000006_female_Asian_59</td>\n",
       "    </tr>\n",
       "    <tr>\n",
       "      <th>5</th>\n",
       "      <td>000007</td>\n",
       "      <td>female</td>\n",
       "      <td>Asian</td>\n",
       "      <td>58</td>\n",
       "      <td>000007_female_Asian_58</td>\n",
       "    </tr>\n",
       "  </tbody>\n",
       "</table>\n",
       "</div>"
      ],
      "text/plain": [
       "       id  gender   race  age                    path\n",
       "0  000001  female  Asian   45  000001_female_Asian_45\n",
       "1  000002  female  Asian   52  000002_female_Asian_52\n",
       "2  000004    male  Asian   54    000004_male_Asian_54\n",
       "3  000005  female  Asian   58  000005_female_Asian_58\n",
       "4  000006  female  Asian   59  000006_female_Asian_59\n",
       "5  000007  female  Asian   58  000007_female_Asian_58"
      ]
     },
     "execution_count": 21,
     "metadata": {},
     "output_type": "execute_result"
    }
   ],
   "source": [
    "train_path = '/opt/ml/input/data/train/'\n",
    "data = pd.read_csv (train_path+\"train.csv\")\n",
    "data.head(6)"
   ]
  },
  {
   "cell_type": "markdown",
   "id": "059a1581-cd6d-47d2-8d2d-5388b7a0ae93",
   "metadata": {},
   "source": [
    "### 학습 데이터는 2700개"
   ]
  },
  {
   "cell_type": "code",
   "execution_count": 52,
   "id": "3a074f22-136a-4d56-abe5-105c61396f9b",
   "metadata": {},
   "outputs": [
    {
     "data": {
      "text/plain": [
       "2700"
      ]
     },
     "execution_count": 52,
     "metadata": {},
     "output_type": "execute_result"
    }
   ],
   "source": [
    "len(data)"
   ]
  },
  {
   "cell_type": "markdown",
   "id": "63eb904e-592e-411f-a457-0318090c14f6",
   "metadata": {
    "tags": []
   },
   "source": [
    "## data preprocessing"
   ]
  },
  {
   "cell_type": "markdown",
   "id": "791cea32-0cdb-453b-aefc-600d0cace24d",
   "metadata": {},
   "source": [
    "### age 를 3개의 범위로 카테고리화 \n",
    "새로운 age_category 라는 column 을 생성함\n",
    "* low: <30 \n",
    "* mid: >=30 and <60\n",
    "* high: >=60"
   ]
  },
  {
   "cell_type": "code",
   "execution_count": 29,
   "id": "fd5b9e6f-3540-4f4c-b38f-3cb25f844034",
   "metadata": {},
   "outputs": [
    {
     "name": "stdout",
     "output_type": "stream",
     "text": [
      "60 18\n"
     ]
    }
   ],
   "source": [
    "print(data['age'].max(),data['age'].min())"
   ]
  },
  {
   "cell_type": "code",
   "execution_count": 68,
   "id": "a5753c9f-a5a3-48b8-9922-ff48d3f443f9",
   "metadata": {},
   "outputs": [
    {
     "data": {
      "text/html": [
       "<div>\n",
       "<style scoped>\n",
       "    .dataframe tbody tr th:only-of-type {\n",
       "        vertical-align: middle;\n",
       "    }\n",
       "\n",
       "    .dataframe tbody tr th {\n",
       "        vertical-align: top;\n",
       "    }\n",
       "\n",
       "    .dataframe thead th {\n",
       "        text-align: right;\n",
       "    }\n",
       "</style>\n",
       "<table border=\"1\" class=\"dataframe\">\n",
       "  <thead>\n",
       "    <tr style=\"text-align: right;\">\n",
       "      <th></th>\n",
       "      <th>id</th>\n",
       "      <th>gender</th>\n",
       "      <th>race</th>\n",
       "      <th>age</th>\n",
       "      <th>path</th>\n",
       "      <th>age_category</th>\n",
       "    </tr>\n",
       "  </thead>\n",
       "  <tbody>\n",
       "    <tr>\n",
       "      <th>0</th>\n",
       "      <td>000001</td>\n",
       "      <td>female</td>\n",
       "      <td>Asian</td>\n",
       "      <td>45</td>\n",
       "      <td>000001_female_Asian_45</td>\n",
       "      <td>mid</td>\n",
       "    </tr>\n",
       "    <tr>\n",
       "      <th>1</th>\n",
       "      <td>000002</td>\n",
       "      <td>female</td>\n",
       "      <td>Asian</td>\n",
       "      <td>52</td>\n",
       "      <td>000002_female_Asian_52</td>\n",
       "      <td>mid</td>\n",
       "    </tr>\n",
       "    <tr>\n",
       "      <th>2</th>\n",
       "      <td>000004</td>\n",
       "      <td>male</td>\n",
       "      <td>Asian</td>\n",
       "      <td>54</td>\n",
       "      <td>000004_male_Asian_54</td>\n",
       "      <td>mid</td>\n",
       "    </tr>\n",
       "  </tbody>\n",
       "</table>\n",
       "</div>"
      ],
      "text/plain": [
       "       id  gender   race  age                    path age_category\n",
       "0  000001  female  Asian   45  000001_female_Asian_45          mid\n",
       "1  000002  female  Asian   52  000002_female_Asian_52          mid\n",
       "2  000004    male  Asian   54    000004_male_Asian_54          mid"
      ]
     },
     "execution_count": 68,
     "metadata": {},
     "output_type": "execute_result"
    }
   ],
   "source": [
    "data['age_category'] = pd.cut(data['age'], bins=[0, 29, 59, 100], include_lowest=False, labels=['low', 'mid', 'high'])\n",
    "data.head(3)"
   ]
  },
  {
   "cell_type": "code",
   "execution_count": 69,
   "id": "82175fc3-f428-4a9f-bc3c-7d05ec6050a4",
   "metadata": {},
   "outputs": [
    {
     "data": {
      "text/html": [
       "<div>\n",
       "<style scoped>\n",
       "    .dataframe tbody tr th:only-of-type {\n",
       "        vertical-align: middle;\n",
       "    }\n",
       "\n",
       "    .dataframe tbody tr th {\n",
       "        vertical-align: top;\n",
       "    }\n",
       "\n",
       "    .dataframe thead th {\n",
       "        text-align: right;\n",
       "    }\n",
       "</style>\n",
       "<table border=\"1\" class=\"dataframe\">\n",
       "  <thead>\n",
       "    <tr style=\"text-align: right;\">\n",
       "      <th></th>\n",
       "      <th>id</th>\n",
       "      <th>gender</th>\n",
       "      <th>race</th>\n",
       "      <th>age</th>\n",
       "      <th>path</th>\n",
       "      <th>age_category</th>\n",
       "    </tr>\n",
       "  </thead>\n",
       "  <tbody>\n",
       "    <tr>\n",
       "      <th>2697</th>\n",
       "      <td>006956</td>\n",
       "      <td>male</td>\n",
       "      <td>Asian</td>\n",
       "      <td>19</td>\n",
       "      <td>006956_male_Asian_19</td>\n",
       "      <td>low</td>\n",
       "    </tr>\n",
       "    <tr>\n",
       "      <th>2698</th>\n",
       "      <td>006957</td>\n",
       "      <td>male</td>\n",
       "      <td>Asian</td>\n",
       "      <td>20</td>\n",
       "      <td>006957_male_Asian_20</td>\n",
       "      <td>low</td>\n",
       "    </tr>\n",
       "    <tr>\n",
       "      <th>2699</th>\n",
       "      <td>006959</td>\n",
       "      <td>male</td>\n",
       "      <td>Asian</td>\n",
       "      <td>19</td>\n",
       "      <td>006959_male_Asian_19</td>\n",
       "      <td>low</td>\n",
       "    </tr>\n",
       "  </tbody>\n",
       "</table>\n",
       "</div>"
      ],
      "text/plain": [
       "          id gender   race  age                  path age_category\n",
       "2697  006956   male  Asian   19  006956_male_Asian_19          low\n",
       "2698  006957   male  Asian   20  006957_male_Asian_20          low\n",
       "2699  006959   male  Asian   19  006959_male_Asian_19          low"
      ]
     },
     "execution_count": 69,
     "metadata": {},
     "output_type": "execute_result"
    }
   ],
   "source": [
    "data.tail(3)"
   ]
  },
  {
   "cell_type": "code",
   "execution_count": 70,
   "id": "1bc5904b-acb5-4db0-b76c-f919a5481764",
   "metadata": {},
   "outputs": [],
   "source": [
    "data2 = data[['id','gender','race','path','age_category']]"
   ]
  },
  {
   "cell_type": "markdown",
   "id": "5e806bea-7fb9-4eb4-8ee7-1db0914ca03a",
   "metadata": {
    "tags": []
   },
   "source": [
    "## EDA"
   ]
  },
  {
   "cell_type": "markdown",
   "id": "108b1e64-c716-4cde-a239-a92502855bc0",
   "metadata": {},
   "source": [
    "### 성별에 따라 그룹화. \n",
    "- 여성이 남성보다 1.5배 많음"
   ]
  },
  {
   "cell_type": "code",
   "execution_count": 143,
   "id": "9fc0177f-3aad-4b38-b705-968bcc13082c",
   "metadata": {},
   "outputs": [
    {
     "data": {
      "text/plain": [
       "gender\n",
       "female    1658\n",
       "male      1042\n",
       "Name: id, dtype: int64"
      ]
     },
     "execution_count": 143,
     "metadata": {},
     "output_type": "execute_result"
    }
   ],
   "source": [
    "data2.groupby(['gender']).id.count()"
   ]
  },
  {
   "cell_type": "markdown",
   "id": "4b66c1cc-3554-4f1a-bbcf-10e48708b19b",
   "metadata": {},
   "source": [
    "### 나이 카테고리에 따라 그룹화. \n",
    "- 'high' 카테고리는 오직 60세로만 이루어짐. 또한 매우 적음.\n",
    "- 'low' 와 'middle' 은 서로 비슷함."
   ]
  },
  {
   "cell_type": "code",
   "execution_count": 115,
   "id": "d624c41c-4c0f-4595-908c-cb368fd28049",
   "metadata": {},
   "outputs": [
    {
     "data": {
      "text/plain": [
       "age_category\n",
       "low     1281\n",
       "mid     1227\n",
       "high     192\n",
       "Name: id, dtype: int64"
      ]
     },
     "execution_count": 115,
     "metadata": {},
     "output_type": "execute_result"
    }
   ],
   "source": [
    "data2.groupby(['age_category']).id.count()"
   ]
  },
  {
   "cell_type": "code",
   "execution_count": 105,
   "id": "a442467f-d048-444b-9fe1-54b086e673a9",
   "metadata": {},
   "outputs": [
    {
     "data": {
      "text/plain": [
       "192"
      ]
     },
     "execution_count": 105,
     "metadata": {},
     "output_type": "execute_result"
    }
   ],
   "source": [
    "data.loc[data['age']==60]['id'].count()"
   ]
  },
  {
   "cell_type": "markdown",
   "id": "3d7047d2-69a4-4819-be95-1c52c3531913",
   "metadata": {
    "tags": []
   },
   "source": [
    "### 18개의 각 클래스별로 이미지 개수를 확인.\n",
    "\n",
    "- Gender: Male / Female\n",
    "- Age: <30 / >=30 and <60 / >=60\n",
    "- Mask: Wear / Incorrect / Not Wear\n",
    "\n",
    "각 path별로 마스크 착용(Wear) 5장, 이상하게 착용(Incorrect) 1장, 미착용 (Not Wear) 1장의 사진 존재."
   ]
  },
  {
   "cell_type": "code",
   "execution_count": 99,
   "id": "6dc3fb4d-23c2-413a-89cd-0fd8d55c1167",
   "metadata": {},
   "outputs": [
    {
     "data": {
      "text/html": [
       "<div>\n",
       "<style scoped>\n",
       "    .dataframe tbody tr th:only-of-type {\n",
       "        vertical-align: middle;\n",
       "    }\n",
       "\n",
       "    .dataframe tbody tr th {\n",
       "        vertical-align: top;\n",
       "    }\n",
       "\n",
       "    .dataframe thead th {\n",
       "        text-align: right;\n",
       "    }\n",
       "</style>\n",
       "<table border=\"1\" class=\"dataframe\">\n",
       "  <thead>\n",
       "    <tr style=\"text-align: right;\">\n",
       "      <th></th>\n",
       "      <th></th>\n",
       "      <th>id</th>\n",
       "      <th>race</th>\n",
       "      <th>path</th>\n",
       "    </tr>\n",
       "    <tr>\n",
       "      <th>age_category</th>\n",
       "      <th>gender</th>\n",
       "      <th></th>\n",
       "      <th></th>\n",
       "      <th></th>\n",
       "    </tr>\n",
       "  </thead>\n",
       "  <tbody>\n",
       "    <tr>\n",
       "      <th rowspan=\"2\" valign=\"top\">low</th>\n",
       "      <th>female</th>\n",
       "      <td>732</td>\n",
       "      <td>732</td>\n",
       "      <td>732</td>\n",
       "    </tr>\n",
       "    <tr>\n",
       "      <th>male</th>\n",
       "      <td>549</td>\n",
       "      <td>549</td>\n",
       "      <td>549</td>\n",
       "    </tr>\n",
       "    <tr>\n",
       "      <th rowspan=\"2\" valign=\"top\">mid</th>\n",
       "      <th>female</th>\n",
       "      <td>817</td>\n",
       "      <td>817</td>\n",
       "      <td>817</td>\n",
       "    </tr>\n",
       "    <tr>\n",
       "      <th>male</th>\n",
       "      <td>410</td>\n",
       "      <td>410</td>\n",
       "      <td>410</td>\n",
       "    </tr>\n",
       "    <tr>\n",
       "      <th rowspan=\"2\" valign=\"top\">high</th>\n",
       "      <th>female</th>\n",
       "      <td>109</td>\n",
       "      <td>109</td>\n",
       "      <td>109</td>\n",
       "    </tr>\n",
       "    <tr>\n",
       "      <th>male</th>\n",
       "      <td>83</td>\n",
       "      <td>83</td>\n",
       "      <td>83</td>\n",
       "    </tr>\n",
       "  </tbody>\n",
       "</table>\n",
       "</div>"
      ],
      "text/plain": [
       "                      id  race  path\n",
       "age_category gender                 \n",
       "low          female  732   732   732\n",
       "             male    549   549   549\n",
       "mid          female  817   817   817\n",
       "             male    410   410   410\n",
       "high         female  109   109   109\n",
       "             male     83    83    83"
      ]
     },
     "execution_count": 99,
     "metadata": {},
     "output_type": "execute_result"
    }
   ],
   "source": [
    "data_group = data2.groupby(['age_category','gender']).count()\n",
    "data_group"
   ]
  },
  {
   "cell_type": "code",
   "execution_count": 132,
   "id": "1fcb8ba6-6438-44fa-a235-09aa17395da0",
   "metadata": {},
   "outputs": [],
   "source": [
    "data_group2 = data_group\n",
    "data_group2['wear'] = data_group2['id']*5\n",
    "data_group2['incorrect'] = data_group2['id']\n",
    "data_group2['notwear'] = data_group2['id']"
   ]
  },
  {
   "cell_type": "markdown",
   "id": "308333c8-86f4-4a4b-beda-3f9b8ea1f73f",
   "metadata": {
    "tags": []
   },
   "source": [
    "### 아래는 최종 그룹화 결과\n",
    "* 청년,중년 > 마스크 쓴 >여성 순으로 영향력 있다.\n",
    "    * 청년,중년 > 노년\n",
    "    * 마스크 쓴거 > 잘못쓴거=안쓴거\n",
    "    * 여성 > 남성"
   ]
  },
  {
   "cell_type": "code",
   "execution_count": 133,
   "id": "a57db303-6ed2-42dc-ab85-05a6ebe0173e",
   "metadata": {},
   "outputs": [
    {
     "data": {
      "text/html": [
       "<div>\n",
       "<style scoped>\n",
       "    .dataframe tbody tr th:only-of-type {\n",
       "        vertical-align: middle;\n",
       "    }\n",
       "\n",
       "    .dataframe tbody tr th {\n",
       "        vertical-align: top;\n",
       "    }\n",
       "\n",
       "    .dataframe thead th {\n",
       "        text-align: right;\n",
       "    }\n",
       "</style>\n",
       "<table border=\"1\" class=\"dataframe\">\n",
       "  <thead>\n",
       "    <tr style=\"text-align: right;\">\n",
       "      <th></th>\n",
       "      <th></th>\n",
       "      <th>wear</th>\n",
       "      <th>incorrect</th>\n",
       "      <th>notwear</th>\n",
       "    </tr>\n",
       "    <tr>\n",
       "      <th>age_category</th>\n",
       "      <th>gender</th>\n",
       "      <th></th>\n",
       "      <th></th>\n",
       "      <th></th>\n",
       "    </tr>\n",
       "  </thead>\n",
       "  <tbody>\n",
       "    <tr>\n",
       "      <th rowspan=\"2\" valign=\"top\">low</th>\n",
       "      <th>female</th>\n",
       "      <td>3660</td>\n",
       "      <td>732</td>\n",
       "      <td>732</td>\n",
       "    </tr>\n",
       "    <tr>\n",
       "      <th>male</th>\n",
       "      <td>2745</td>\n",
       "      <td>549</td>\n",
       "      <td>549</td>\n",
       "    </tr>\n",
       "    <tr>\n",
       "      <th rowspan=\"2\" valign=\"top\">mid</th>\n",
       "      <th>female</th>\n",
       "      <td>4085</td>\n",
       "      <td>817</td>\n",
       "      <td>817</td>\n",
       "    </tr>\n",
       "    <tr>\n",
       "      <th>male</th>\n",
       "      <td>2050</td>\n",
       "      <td>410</td>\n",
       "      <td>410</td>\n",
       "    </tr>\n",
       "    <tr>\n",
       "      <th rowspan=\"2\" valign=\"top\">high</th>\n",
       "      <th>female</th>\n",
       "      <td>545</td>\n",
       "      <td>109</td>\n",
       "      <td>109</td>\n",
       "    </tr>\n",
       "    <tr>\n",
       "      <th>male</th>\n",
       "      <td>415</td>\n",
       "      <td>83</td>\n",
       "      <td>83</td>\n",
       "    </tr>\n",
       "  </tbody>\n",
       "</table>\n",
       "</div>"
      ],
      "text/plain": [
       "                     wear  incorrect  notwear\n",
       "age_category gender                          \n",
       "low          female  3660        732      732\n",
       "             male    2745        549      549\n",
       "mid          female  4085        817      817\n",
       "             male    2050        410      410\n",
       "high         female   545        109      109\n",
       "             male     415         83       83"
      ]
     },
     "execution_count": 133,
     "metadata": {},
     "output_type": "execute_result"
    }
   ],
   "source": [
    "data_group2 = data_group2[['wear','incorrect','notwear']]\n",
    "data_group2"
   ]
  },
  {
   "cell_type": "markdown",
   "id": "38e792d4-5d43-4578-a9e2-165a0025e850",
   "metadata": {},
   "source": [
    "* 위 결과를 그래프로 그려본다"
   ]
  },
  {
   "cell_type": "code",
   "execution_count": 140,
   "id": "485aeb0c-a5f2-4404-91ba-fae08370921f",
   "metadata": {},
   "outputs": [
    {
     "data": {
      "text/plain": [
       "<matplotlib.axes._subplots.AxesSubplot at 0x7f9b1f8adee0>"
      ]
     },
     "execution_count": 140,
     "metadata": {},
     "output_type": "execute_result"
    },
    {
     "data": {
      "image/png": "[encoded data removed]",
      "text/plain": [
       "<Figure size 432x288 with 1 Axes>"
      ]
     },
     "metadata": {
      "needs_background": "light"
     },
     "output_type": "display_data"
    }
   ],
   "source": [
    "data_group2.plot(kind='bar',title='data count per category ')"
   ]
  }
 ],
 "metadata": {
  "kernelspec": {
   "display_name": "Python 3 (ipykernel)",
   "language": "python",
   "name": "python3"
  },
  "language_info": {
   "codemirror_mode": {
    "name": "ipython",
    "version": 3
   },
   "file_extension": ".py",
   "mimetype": "text/x-python",
   "name": "python",
   "nbconvert_exporter": "python",
   "pygments_lexer": "ipython3",
   "version": "3.8.5"
  },
  "toc-showmarkdowntxt": false
 },
 "nbformat": 4,
 "nbformat_minor": 5
}

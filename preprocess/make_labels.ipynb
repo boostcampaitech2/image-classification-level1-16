{
 "cells": [
  {
   "cell_type": "markdown",
   "id": "d6d79137-e1db-452b-958f-848b050586cc",
   "metadata": {
    "tags": []
   },
   "source": [
    "## basic info"
   ]
  },
  {
   "cell_type": "markdown",
   "id": "684b90c8-5075-44bb-9063-9e0e6c575b81",
   "metadata": {},
   "source": [
    "* 모든 데이터셋은 아시아인 남녀로 구성되어 있고 나이는 20대부터 70대까지 다양하게 분포\n",
    "* 전체 사람 명 수 : 4,500 (train+eval)\n",
    "    - 전체 데이터셋 중에서 60%는 학습 데이터셋. (2700)\n",
    "* 한 사람당 사진의 개수: 7 - 마스크 착용 5장, 이상하게 착용(코스크, 턱스크) 1장, 미착용 1장\n",
    "* 이미지 크기: (384, 512)\n",
    "* 마스크 착용여부, 성별, 나이를 기준으로 총 18개의 클래스가 있다. 결과값으로 0~17에 해당되는 숫자가 각 이미지 당 하나씩 나와야 한다.\n",
    "    - [클래스 및 추가 정보 확인](https://stages.ai/competitions/74/data/training)"
   ]
  },
  {
   "cell_type": "markdown",
   "id": "fc1f05bf-b95e-4d45-8398-a62f25899ee6",
   "metadata": {
    "tags": []
   },
   "source": [
    "## load data"
   ]
  },
  {
   "cell_type": "markdown",
   "id": "e1457980-1f03-402a-a194-25a42448c78f",
   "metadata": {},
   "source": [
    "### pandas dataframe 으로 데이터를 로드"
   ]
  },
  {
   "cell_type": "code",
   "execution_count": 4,
   "id": "f73e6a06-4282-4225-b932-3433a76b453b",
   "metadata": {},
   "outputs": [],
   "source": [
    "import pandas as pd"
   ]
  },
  {
   "cell_type": "code",
   "execution_count": 15,
   "id": "cdfacd9f-e52a-4ba6-9faf-eabeafa0874b",
   "metadata": {},
   "outputs": [
    {
     "data": {
      "text/html": [
       "<div>\n",
       "<style scoped>\n",
       "    .dataframe tbody tr th:only-of-type {\n",
       "        vertical-align: middle;\n",
       "    }\n",
       "\n",
       "    .dataframe tbody tr th {\n",
       "        vertical-align: top;\n",
       "    }\n",
       "\n",
       "    .dataframe thead th {\n",
       "        text-align: right;\n",
       "    }\n",
       "</style>\n",
       "<table border=\"1\" class=\"dataframe\">\n",
       "  <thead>\n",
       "    <tr style=\"text-align: right;\">\n",
       "      <th></th>\n",
       "      <th>id</th>\n",
       "      <th>gender</th>\n",
       "      <th>race</th>\n",
       "      <th>age</th>\n",
       "      <th>path</th>\n",
       "    </tr>\n",
       "  </thead>\n",
       "  <tbody>\n",
       "    <tr>\n",
       "      <th>0</th>\n",
       "      <td>001301</td>\n",
       "      <td>female</td>\n",
       "      <td>Asian</td>\n",
       "      <td>21</td>\n",
       "      <td>001301_female_Asian_21</td>\n",
       "    </tr>\n",
       "    <tr>\n",
       "      <th>1</th>\n",
       "      <td>001032</td>\n",
       "      <td>female</td>\n",
       "      <td>Asian</td>\n",
       "      <td>25</td>\n",
       "      <td>001032_female_Asian_25</td>\n",
       "    </tr>\n",
       "    <tr>\n",
       "      <th>2</th>\n",
       "      <td>000219</td>\n",
       "      <td>female</td>\n",
       "      <td>Asian</td>\n",
       "      <td>53</td>\n",
       "      <td>000219_female_Asian_53</td>\n",
       "    </tr>\n",
       "    <tr>\n",
       "      <th>3</th>\n",
       "      <td>003573</td>\n",
       "      <td>male</td>\n",
       "      <td>Asian</td>\n",
       "      <td>58</td>\n",
       "      <td>003573_male_Asian_58</td>\n",
       "    </tr>\n",
       "    <tr>\n",
       "      <th>4</th>\n",
       "      <td>001803</td>\n",
       "      <td>female</td>\n",
       "      <td>Asian</td>\n",
       "      <td>27</td>\n",
       "      <td>001803_female_Asian_27</td>\n",
       "    </tr>\n",
       "    <tr>\n",
       "      <th>5</th>\n",
       "      <td>006221</td>\n",
       "      <td>male</td>\n",
       "      <td>Asian</td>\n",
       "      <td>20</td>\n",
       "      <td>006221_male_Asian_20</td>\n",
       "    </tr>\n",
       "  </tbody>\n",
       "</table>\n",
       "</div>"
      ],
      "text/plain": [
       "       id  gender   race  age                    path\n",
       "0  001301  female  Asian   21  001301_female_Asian_21\n",
       "1  001032  female  Asian   25  001032_female_Asian_25\n",
       "2  000219  female  Asian   53  000219_female_Asian_53\n",
       "3  003573    male  Asian   58    003573_male_Asian_58\n",
       "4  001803  female  Asian   27  001803_female_Asian_27\n",
       "5  006221    male  Asian   20    006221_male_Asian_20"
      ]
     },
     "execution_count": 15,
     "metadata": {},
     "output_type": "execute_result"
    }
   ],
   "source": [
    "train_path = '/opt/ml/input/data/train/'\n",
    "data = pd.read_csv (train_path+\"df_valid_15.csv\")\n",
    "data.head(6)"
   ]
  },
  {
   "cell_type": "markdown",
   "id": "63eb904e-592e-411f-a457-0318090c14f6",
   "metadata": {
    "tags": []
   },
   "source": [
    "## data preprocessing"
   ]
  },
  {
   "cell_type": "markdown",
   "id": "791cea32-0cdb-453b-aefc-600d0cace24d",
   "metadata": {},
   "source": [
    "### age 를 3개의 범위로 카테고리화 \n",
    "새로운 age_category 라는 column 을 생성함\n",
    "* low: <30 \n",
    "* mid: >=30 and <60\n",
    "* high: >=60"
   ]
  },
  {
   "cell_type": "code",
   "execution_count": 16,
   "id": "a5753c9f-a5a3-48b8-9922-ff48d3f443f9",
   "metadata": {},
   "outputs": [
    {
     "data": {
      "text/html": [
       "<div>\n",
       "<style scoped>\n",
       "    .dataframe tbody tr th:only-of-type {\n",
       "        vertical-align: middle;\n",
       "    }\n",
       "\n",
       "    .dataframe tbody tr th {\n",
       "        vertical-align: top;\n",
       "    }\n",
       "\n",
       "    .dataframe thead th {\n",
       "        text-align: right;\n",
       "    }\n",
       "</style>\n",
       "<table border=\"1\" class=\"dataframe\">\n",
       "  <thead>\n",
       "    <tr style=\"text-align: right;\">\n",
       "      <th></th>\n",
       "      <th>id</th>\n",
       "      <th>gender</th>\n",
       "      <th>race</th>\n",
       "      <th>age</th>\n",
       "      <th>path</th>\n",
       "      <th>age_category</th>\n",
       "    </tr>\n",
       "  </thead>\n",
       "  <tbody>\n",
       "    <tr>\n",
       "      <th>0</th>\n",
       "      <td>001301</td>\n",
       "      <td>female</td>\n",
       "      <td>Asian</td>\n",
       "      <td>21</td>\n",
       "      <td>001301_female_Asian_21</td>\n",
       "      <td>0</td>\n",
       "    </tr>\n",
       "    <tr>\n",
       "      <th>1</th>\n",
       "      <td>001032</td>\n",
       "      <td>female</td>\n",
       "      <td>Asian</td>\n",
       "      <td>25</td>\n",
       "      <td>001032_female_Asian_25</td>\n",
       "      <td>0</td>\n",
       "    </tr>\n",
       "    <tr>\n",
       "      <th>2</th>\n",
       "      <td>000219</td>\n",
       "      <td>female</td>\n",
       "      <td>Asian</td>\n",
       "      <td>53</td>\n",
       "      <td>000219_female_Asian_53</td>\n",
       "      <td>1</td>\n",
       "    </tr>\n",
       "  </tbody>\n",
       "</table>\n",
       "</div>"
      ],
      "text/plain": [
       "       id  gender   race  age                    path age_category\n",
       "0  001301  female  Asian   21  001301_female_Asian_21            0\n",
       "1  001032  female  Asian   25  001032_female_Asian_25            0\n",
       "2  000219  female  Asian   53  000219_female_Asian_53            1"
      ]
     },
     "execution_count": 16,
     "metadata": {},
     "output_type": "execute_result"
    }
   ],
   "source": [
    "data['age_category'] = pd.cut(data['age'], bins=[0, 29, 59, 100], include_lowest=False, labels=[0,1,2])\n",
    "data.head(3)"
   ]
  },
  {
   "cell_type": "code",
   "execution_count": 17,
   "id": "82175fc3-f428-4a9f-bc3c-7d05ec6050a4",
   "metadata": {},
   "outputs": [
    {
     "data": {
      "text/html": [
       "<div>\n",
       "<style scoped>\n",
       "    .dataframe tbody tr th:only-of-type {\n",
       "        vertical-align: middle;\n",
       "    }\n",
       "\n",
       "    .dataframe tbody tr th {\n",
       "        vertical-align: top;\n",
       "    }\n",
       "\n",
       "    .dataframe thead th {\n",
       "        text-align: right;\n",
       "    }\n",
       "</style>\n",
       "<table border=\"1\" class=\"dataframe\">\n",
       "  <thead>\n",
       "    <tr style=\"text-align: right;\">\n",
       "      <th></th>\n",
       "      <th>id</th>\n",
       "      <th>gender</th>\n",
       "      <th>race</th>\n",
       "      <th>age</th>\n",
       "      <th>path</th>\n",
       "      <th>age_category</th>\n",
       "    </tr>\n",
       "  </thead>\n",
       "  <tbody>\n",
       "    <tr>\n",
       "      <th>402</th>\n",
       "      <td>000621</td>\n",
       "      <td>female</td>\n",
       "      <td>Asian</td>\n",
       "      <td>57</td>\n",
       "      <td>000621_female_Asian_57</td>\n",
       "      <td>1</td>\n",
       "    </tr>\n",
       "    <tr>\n",
       "      <th>403</th>\n",
       "      <td>000575</td>\n",
       "      <td>male</td>\n",
       "      <td>Asian</td>\n",
       "      <td>55</td>\n",
       "      <td>000575_male_Asian_55</td>\n",
       "      <td>1</td>\n",
       "    </tr>\n",
       "    <tr>\n",
       "      <th>404</th>\n",
       "      <td>003044</td>\n",
       "      <td>female</td>\n",
       "      <td>Asian</td>\n",
       "      <td>20</td>\n",
       "      <td>003044_female_Asian_20</td>\n",
       "      <td>0</td>\n",
       "    </tr>\n",
       "  </tbody>\n",
       "</table>\n",
       "</div>"
      ],
      "text/plain": [
       "         id  gender   race  age                    path age_category\n",
       "402  000621  female  Asian   57  000621_female_Asian_57            1\n",
       "403  000575    male  Asian   55    000575_male_Asian_55            1\n",
       "404  003044  female  Asian   20  003044_female_Asian_20            0"
      ]
     },
     "execution_count": 17,
     "metadata": {},
     "output_type": "execute_result"
    }
   ],
   "source": [
    "data.tail(3)"
   ]
  },
  {
   "cell_type": "code",
   "execution_count": 18,
   "id": "1bc5904b-acb5-4db0-b76c-f919a5481764",
   "metadata": {},
   "outputs": [
    {
     "data": {
      "text/html": [
       "<div>\n",
       "<style scoped>\n",
       "    .dataframe tbody tr th:only-of-type {\n",
       "        vertical-align: middle;\n",
       "    }\n",
       "\n",
       "    .dataframe tbody tr th {\n",
       "        vertical-align: top;\n",
       "    }\n",
       "\n",
       "    .dataframe thead th {\n",
       "        text-align: right;\n",
       "    }\n",
       "</style>\n",
       "<table border=\"1\" class=\"dataframe\">\n",
       "  <thead>\n",
       "    <tr style=\"text-align: right;\">\n",
       "      <th></th>\n",
       "      <th>id</th>\n",
       "      <th>gender</th>\n",
       "      <th>age_category</th>\n",
       "      <th>path</th>\n",
       "    </tr>\n",
       "  </thead>\n",
       "  <tbody>\n",
       "    <tr>\n",
       "      <th>400</th>\n",
       "      <td>006362</td>\n",
       "      <td>female</td>\n",
       "      <td>0</td>\n",
       "      <td>006362_female_Asian_18</td>\n",
       "    </tr>\n",
       "    <tr>\n",
       "      <th>401</th>\n",
       "      <td>000654</td>\n",
       "      <td>female</td>\n",
       "      <td>1</td>\n",
       "      <td>000654_female_Asian_53</td>\n",
       "    </tr>\n",
       "    <tr>\n",
       "      <th>402</th>\n",
       "      <td>000621</td>\n",
       "      <td>female</td>\n",
       "      <td>1</td>\n",
       "      <td>000621_female_Asian_57</td>\n",
       "    </tr>\n",
       "    <tr>\n",
       "      <th>403</th>\n",
       "      <td>000575</td>\n",
       "      <td>male</td>\n",
       "      <td>1</td>\n",
       "      <td>000575_male_Asian_55</td>\n",
       "    </tr>\n",
       "    <tr>\n",
       "      <th>404</th>\n",
       "      <td>003044</td>\n",
       "      <td>female</td>\n",
       "      <td>0</td>\n",
       "      <td>003044_female_Asian_20</td>\n",
       "    </tr>\n",
       "  </tbody>\n",
       "</table>\n",
       "</div>"
      ],
      "text/plain": [
       "         id  gender age_category                    path\n",
       "400  006362  female            0  006362_female_Asian_18\n",
       "401  000654  female            1  000654_female_Asian_53\n",
       "402  000621  female            1  000621_female_Asian_57\n",
       "403  000575    male            1    000575_male_Asian_55\n",
       "404  003044  female            0  003044_female_Asian_20"
      ]
     },
     "execution_count": 18,
     "metadata": {},
     "output_type": "execute_result"
    }
   ],
   "source": [
    "data2 = data[['id','gender','age_category','path']]\n",
    "data2.head()\n",
    "data2.tail()"
   ]
  },
  {
   "cell_type": "markdown",
   "id": "50f15b9e-27d7-4186-b42c-d99ea2c3c096",
   "metadata": {
    "tags": []
   },
   "source": [
    "## 18개 class 생성, mask 속성 추가 및 path 수정\n",
    "ex) 기존 1개의 path를 000001_female_Asian_45 에서 000001_female_Asian_45/incorrect_mask.jpg, mask1.jpg, ...  mask5.jpg, normal.jpg 7개 path로 변경 "
   ]
  },
  {
   "cell_type": "code",
   "execution_count": 19,
   "id": "b9e98a9c-3001-447d-a25c-50ad1fb59312",
   "metadata": {},
   "outputs": [
    {
     "data": {
      "text/html": [
       "<div>\n",
       "<style scoped>\n",
       "    .dataframe tbody tr th:only-of-type {\n",
       "        vertical-align: middle;\n",
       "    }\n",
       "\n",
       "    .dataframe tbody tr th {\n",
       "        vertical-align: top;\n",
       "    }\n",
       "\n",
       "    .dataframe thead th {\n",
       "        text-align: right;\n",
       "    }\n",
       "</style>\n",
       "<table border=\"1\" class=\"dataframe\">\n",
       "  <thead>\n",
       "    <tr style=\"text-align: right;\">\n",
       "      <th></th>\n",
       "      <th>id</th>\n",
       "      <th>path</th>\n",
       "      <th>gender</th>\n",
       "      <th>age</th>\n",
       "      <th>category</th>\n",
       "    </tr>\n",
       "  </thead>\n",
       "  <tbody>\n",
       "    <tr>\n",
       "      <th>0</th>\n",
       "      <td>000000</td>\n",
       "      <td>/opt/ml/input/data/train/images/001301_female_...</td>\n",
       "      <td>1</td>\n",
       "      <td>0</td>\n",
       "      <td>3</td>\n",
       "    </tr>\n",
       "    <tr>\n",
       "      <th>1</th>\n",
       "      <td>000001</td>\n",
       "      <td>/opt/ml/input/data/train/images/001301_female_...</td>\n",
       "      <td>1</td>\n",
       "      <td>0</td>\n",
       "      <td>3</td>\n",
       "    </tr>\n",
       "    <tr>\n",
       "      <th>2</th>\n",
       "      <td>000002</td>\n",
       "      <td>/opt/ml/input/data/train/images/001301_female_...</td>\n",
       "      <td>1</td>\n",
       "      <td>0</td>\n",
       "      <td>9</td>\n",
       "    </tr>\n",
       "    <tr>\n",
       "      <th>3</th>\n",
       "      <td>000003</td>\n",
       "      <td>/opt/ml/input/data/train/images/001301_female_...</td>\n",
       "      <td>1</td>\n",
       "      <td>0</td>\n",
       "      <td>15</td>\n",
       "    </tr>\n",
       "    <tr>\n",
       "      <th>4</th>\n",
       "      <td>000004</td>\n",
       "      <td>/opt/ml/input/data/train/images/001301_female_...</td>\n",
       "      <td>1</td>\n",
       "      <td>0</td>\n",
       "      <td>3</td>\n",
       "    </tr>\n",
       "    <tr>\n",
       "      <th>5</th>\n",
       "      <td>000005</td>\n",
       "      <td>/opt/ml/input/data/train/images/001301_female_...</td>\n",
       "      <td>1</td>\n",
       "      <td>0</td>\n",
       "      <td>3</td>\n",
       "    </tr>\n",
       "    <tr>\n",
       "      <th>6</th>\n",
       "      <td>000006</td>\n",
       "      <td>/opt/ml/input/data/train/images/001301_female_...</td>\n",
       "      <td>1</td>\n",
       "      <td>0</td>\n",
       "      <td>3</td>\n",
       "    </tr>\n",
       "    <tr>\n",
       "      <th>7</th>\n",
       "      <td>000007</td>\n",
       "      <td>/opt/ml/input/data/train/images/001032_female_...</td>\n",
       "      <td>1</td>\n",
       "      <td>0</td>\n",
       "      <td>3</td>\n",
       "    </tr>\n",
       "    <tr>\n",
       "      <th>8</th>\n",
       "      <td>000008</td>\n",
       "      <td>/opt/ml/input/data/train/images/001032_female_...</td>\n",
       "      <td>1</td>\n",
       "      <td>0</td>\n",
       "      <td>3</td>\n",
       "    </tr>\n",
       "    <tr>\n",
       "      <th>9</th>\n",
       "      <td>000009</td>\n",
       "      <td>/opt/ml/input/data/train/images/001032_female_...</td>\n",
       "      <td>1</td>\n",
       "      <td>0</td>\n",
       "      <td>9</td>\n",
       "    </tr>\n",
       "  </tbody>\n",
       "</table>\n",
       "</div>"
      ],
      "text/plain": [
       "       id                                               path  gender  age  \\\n",
       "0  000000  /opt/ml/input/data/train/images/001301_female_...       1    0   \n",
       "1  000001  /opt/ml/input/data/train/images/001301_female_...       1    0   \n",
       "2  000002  /opt/ml/input/data/train/images/001301_female_...       1    0   \n",
       "3  000003  /opt/ml/input/data/train/images/001301_female_...       1    0   \n",
       "4  000004  /opt/ml/input/data/train/images/001301_female_...       1    0   \n",
       "5  000005  /opt/ml/input/data/train/images/001301_female_...       1    0   \n",
       "6  000006  /opt/ml/input/data/train/images/001301_female_...       1    0   \n",
       "7  000007  /opt/ml/input/data/train/images/001032_female_...       1    0   \n",
       "8  000008  /opt/ml/input/data/train/images/001032_female_...       1    0   \n",
       "9  000009  /opt/ml/input/data/train/images/001032_female_...       1    0   \n",
       "\n",
       "   category  \n",
       "0         3  \n",
       "1         3  \n",
       "2         9  \n",
       "3        15  \n",
       "4         3  \n",
       "5         3  \n",
       "6         3  \n",
       "7         3  \n",
       "8         3  \n",
       "9         9  "
      ]
     },
     "execution_count": 19,
     "metadata": {},
     "output_type": "execute_result"
    }
   ],
   "source": [
    "def find_category(gender,age,mask):\n",
    "    category = -1\n",
    "    if mask==1:\n",
    "        if gender==\"male\": #correct,male\n",
    "            category = age\n",
    "        else: #correct,female\n",
    "            category = age+3\n",
    "    elif mask==0:\n",
    "        if gender==\"male\": #incorrect,male\n",
    "            category = age+6\n",
    "        else: #incorrect,female\n",
    "            category = age+9\n",
    "    else:\n",
    "        if gender==\"male\": #notwear,male\n",
    "            category = age+12\n",
    "        else: #notwear,female\n",
    "            category = age+15\n",
    "    return category\n",
    "\n",
    "\n",
    "import os\n",
    "data3 = []\n",
    "for i in range(len(data2)): #2700\n",
    "    gender = data2['gender'][i]\n",
    "    age = data2['age_category'][i]\n",
    "    file_list = os.listdir(train_path+\"images/\"+data2['path'][i])\n",
    "    j=0\n",
    "    for filename in file_list:\n",
    "        if \"incorrect_mask\" in filename : mask=0\n",
    "        elif \"mask\" in filename: mask=1\n",
    "        else: mask=2\n",
    "        category = find_category(gender,age,mask)\n",
    "        gender_num = 0 if gender==\"male\" else 1\n",
    "        if \"._\" not in filename and \"ipynb\" not in filename:\n",
    "            path = train_path+\"images/\"+data2['path'][i]+\"/\"+filename\n",
    "            data3.append([format(i*7+j, '06d'),path,gender_num,age,category])\n",
    "            j+=1\n",
    "\n",
    "data4 = pd.DataFrame(data3, columns = ['id','path','gender','age','category'])\n",
    "data4.head(10) #18900 rows × 3 columns"
   ]
  },
  {
   "cell_type": "markdown",
   "id": "a0c69d35-f1ae-404c-bdea-d8b22900f689",
   "metadata": {},
   "source": [
    "각 class 의미는 아래와 같다."
   ]
  },
  {
   "cell_type": "markdown",
   "id": "3f1c01ed-f71a-41cf-9636-830cb594a549",
   "metadata": {},
   "source": [
    "![클래스 종류](./class.JPG)"
   ]
  },
  {
   "cell_type": "markdown",
   "id": "e2df495b-9d8b-48cd-a8ca-6da6c78ad704",
   "metadata": {},
   "source": [
    "class 별 데이터 불균형을 확인할 수 있다."
   ]
  },
  {
   "cell_type": "code",
   "execution_count": 20,
   "id": "aafaacf1-3020-423d-9351-4098917055c3",
   "metadata": {},
   "outputs": [
    {
     "data": {
      "text/plain": [
       "<matplotlib.axes._subplots.AxesSubplot at 0x7fc9376d0c10>"
      ]
     },
     "execution_count": 20,
     "metadata": {},
     "output_type": "execute_result"
    },
    {
     "data": {
      "image/png": "[encoded data removed]",
      "text/plain": [
       "<Figure size 432x288 with 1 Axes>"
      ]
     },
     "metadata": {
      "needs_background": "light"
     },
     "output_type": "display_data"
    }
   ],
   "source": [
    "data4.groupby('category').count().id.plot(kind='bar')"
   ]
  },
  {
   "cell_type": "markdown",
   "id": "9387691d-c9ca-447c-86c4-a58a9b32dd8c",
   "metadata": {},
   "source": [
    "## 결과 파일로 저장\n",
    "전처리 결과를 csv 파일로 저장한다."
   ]
  },
  {
   "cell_type": "code",
   "execution_count": 21,
   "id": "1d95f362-b1b5-4937-93b4-82210bce994e",
   "metadata": {},
   "outputs": [],
   "source": [
    "data4.to_csv(train_path+\"valid_15.csv\",index=False)"
   ]
  },
  {
   "cell_type": "markdown",
   "id": "18e77498-f155-4452-88fe-011fb1226934",
   "metadata": {},
   "source": [
    "잘 저장된것을 확인할 수 있다."
   ]
  },
  {
   "cell_type": "markdown",
   "id": "ad208008-ee9d-4491-8941-622b47430fe6",
   "metadata": {},
   "source": [
    "![저장된 결과파일](./캡처.JPG)"
   ]
  }
 ],
 "metadata": {
  "kernelspec": {
   "display_name": "Python 3 (ipykernel)",
   "language": "python",
   "name": "python3"
  },
  "language_info": {
   "codemirror_mode": {
    "name": "ipython",
    "version": 3
   },
   "file_extension": ".py",
   "mimetype": "text/x-python",
   "name": "python",
   "nbconvert_exporter": "python",
   "pygments_lexer": "ipython3",
   "version": "3.8.5"
  },
  "toc-showmarkdowntxt": false
 },
 "nbformat": 4,
 "nbformat_minor": 5
}

{
 "cells": [
  {
   "cell_type": "code",
   "execution_count": 1,
   "id": "f0919131-f486-42c7-b9f1-d057a47b976e",
   "metadata": {},
   "outputs": [],
   "source": [
    "import os\n",
    "import pandas as pd\n",
    "import numpy as np\n",
    "from sklearn.model_selection import StratifiedKFold"
   ]
  },
  {
   "cell_type": "code",
   "execution_count": 2,
   "id": "9fc281a2-3756-4ac5-ba5b-06e1ceabed6c",
   "metadata": {},
   "outputs": [],
   "source": [
    "# read csv and remove irrelevant columns"
   ]
  },
  {
   "cell_type": "code",
   "execution_count": 3,
   "id": "4d5ac8f6-f097-4f6f-b85b-3eea7eaa8198",
   "metadata": {},
   "outputs": [],
   "source": [
    "train_data_path = '/opt/ml/input/data/train'\n",
    "df_original = pd.read_csv(os.path.join(train_data_path, 'train.csv'))\n",
    "del df_original['race']\n",
    "del df_original['id']"
   ]
  },
  {
   "cell_type": "code",
   "execution_count": 4,
   "id": "2402344f-f309-48ad-a8af-3f11daecc8de",
   "metadata": {},
   "outputs": [],
   "source": [
    "## label correction (male -> female)"
   ]
  },
  {
   "cell_type": "code",
   "execution_count": 5,
   "id": "7e908f2a-5a47-481e-85a6-937ddb85292a",
   "metadata": {},
   "outputs": [
    {
     "name": "stdout",
     "output_type": "stream",
     "text": [
      "[1658 1042]\n",
      "[1661 1039]\n"
     ]
    }
   ],
   "source": [
    "print(df_original.gender.value_counts().sort_index().to_numpy())\n",
    "\n",
    "correction_female = ['001498-1_male_Asian_23', '004432_male_Asian_43', '005223_male_Asian_22']\n",
    "idxs = df_original['path'].isin(correction_female)\n",
    "df_original.loc[idxs, 'gender'] = 'female'\n",
    "\n",
    "print(df_original.gender.value_counts().sort_index().to_numpy())"
   ]
  },
  {
   "cell_type": "code",
   "execution_count": 6,
   "id": "54677a39-cfce-4e0c-8f43-c6293e248729",
   "metadata": {},
   "outputs": [],
   "source": [
    "## label correction (female -> male)"
   ]
  },
  {
   "cell_type": "code",
   "execution_count": 7,
   "id": "d1c38bbe-7913-419c-bd9a-92abb0e4405e",
   "metadata": {},
   "outputs": [
    {
     "name": "stdout",
     "output_type": "stream",
     "text": [
      "[1661 1039]\n",
      "[1654 1046]\n"
     ]
    }
   ],
   "source": [
    "print(df_original.gender.value_counts().sort_index().to_numpy())\n",
    "\n",
    "correction_male = ['001720_female_Asian_18',\n",
    "            '006359_female_Asian_18',\n",
    "            '006360_female_Asian_18',\n",
    "            '006361_female_Asian_18',\n",
    "            '006362_female_Asian_18',\n",
    "            '006363_female_Asian_18',\n",
    "            '006364_female_Asian_18']\n",
    "\n",
    "idxs = df_original['path'].isin(correction_male)\n",
    "df_original.loc[idxs, 'gender'] = 'male'\n",
    "\n",
    "print(df_original.gender.value_counts().sort_index().to_numpy())"
   ]
  },
  {
   "cell_type": "code",
   "execution_count": 8,
   "id": "96e4feb1-32d4-45d5-98fa-347232389b78",
   "metadata": {},
   "outputs": [],
   "source": [
    "# label data for stratifing"
   ]
  },
  {
   "cell_type": "code",
   "execution_count": 9,
   "id": "d71c858b-fe40-496e-8ab4-f884bb070a7f",
   "metadata": {},
   "outputs": [],
   "source": [
    "df = df_original.copy()\n",
    "\n",
    "df['gender'] = df['gender'].map({'male':0, 'female':1})\n",
    "\n",
    "bins = [0, 20, 29, 56, 59, 200]\n",
    "labels = [0, 1, 2, 3, 4]\n",
    "df['age'] = pd.cut(df['age'], bins=bins, labels=labels)\n",
    "\n",
    "def label(row):\n",
    "    return row['age'] + 5*row['gender']\n",
    "\n",
    "df['label'] = df.apply(label, axis=1)"
   ]
  },
  {
   "cell_type": "code",
   "execution_count": 10,
   "id": "cacc4f29-329f-4148-a526-5cefc9602271",
   "metadata": {},
   "outputs": [],
   "source": [
    "# Kfold"
   ]
  },
  {
   "cell_type": "code",
   "execution_count": 11,
   "id": "12e63532-07b9-469d-9e16-718691908071",
   "metadata": {},
   "outputs": [],
   "source": [
    "t = df['label']\n",
    "\n",
    "skf = StratifiedKFold(n_splits=5, shuffle=True, random_state=24)\n",
    "\n",
    "train_dfs, valid_dfs = [], []\n",
    "\n",
    "for i, (train_index, test_index) in enumerate(skf.split(np.zeros(len(t)), t)):\n",
    "    df_train = df_original.loc[train_index]\n",
    "    df_valid = df_original.loc[test_index]\n",
    "    train_dfs.append(df_train)\n",
    "    valid_dfs.append(df_valid)"
   ]
  },
  {
   "cell_type": "code",
   "execution_count": 12,
   "id": "e8b4af34-461e-4f4c-90a4-cfb09a9a8384",
   "metadata": {},
   "outputs": [],
   "source": [
    "# further preprocesses for each fold"
   ]
  },
  {
   "cell_type": "code",
   "execution_count": 13,
   "id": "16bde338-79ff-42d0-a154-b9c4505801cf",
   "metadata": {},
   "outputs": [],
   "source": [
    "image_path = '/opt/ml/input/data/train/images'\n",
    "\n",
    "def generate_mask_field(df):\n",
    "\n",
    "    def _get_extension(row):\n",
    "        for f in os.listdir(os.path.join(image_path, row.path)):\n",
    "            if f.startswith(row['mask']):\n",
    "                return os.path.join(image_path, row.path, f)\n",
    "        raise FileNotFoundError\n",
    "\n",
    "\n",
    "    mask_map = {'incorrect_mask': 1, 'mask1': 0, 'mask2': 0, 'mask3': 0,\n",
    "                'mask4': 0, 'mask5': 0, 'normal': 2}    \n",
    "    \n",
    "    df = df.explode('mask')\n",
    "    df['path'] = df.apply(_get_extension, axis=1)\n",
    "    df['mask'] = df['mask'].map(mask_map)\n",
    "\n",
    "    return df\n",
    "\n",
    "def preprocess(df, cut_age=59):\n",
    "\n",
    "    df['age_real'] = df['age'].copy()\n",
    "    \n",
    "    bins = [0, 29, cut_age, 100]\n",
    "    labels = [0, 1, 2]\n",
    "    df['age'] = pd.cut(df['age'], bins=bins, labels=labels)\n",
    "    \n",
    "    df['gender'] = df['gender'].map({'male':0, 'female':1})\n",
    "    \n",
    "    df['mask'] = [['incorrect_mask', 'mask1', 'mask2', 'mask3', 'mask4', 'mask5', 'normal'] for _ in range(len(df))]\n",
    "    df = generate_mask_field(df)\n",
    "    \n",
    "    return df"
   ]
  },
  {
   "cell_type": "code",
   "execution_count": 14,
   "id": "ea433087-f088-4b69-b859-b407be43595d",
   "metadata": {},
   "outputs": [],
   "source": [
    "train_dfs = [preprocess(df_train) for df_train in train_dfs]\n",
    "valid_dfs = [preprocess(df_valid) for df_valid in valid_dfs]"
   ]
  },
  {
   "cell_type": "code",
   "execution_count": 15,
   "id": "0e09f504-6ba7-47bb-b446-636859b04af3",
   "metadata": {},
   "outputs": [],
   "source": [
    "# save"
   ]
  },
  {
   "cell_type": "code",
   "execution_count": 16,
   "id": "255fa9a9-131c-42e6-93cb-fc86a623884e",
   "metadata": {},
   "outputs": [],
   "source": [
    "for i, (tdf, vdf) in enumerate(zip(train_dfs, valid_dfs)):\n",
    "    tdf.to_csv(f'fold/df_train_fold{i+1}.csv', index=False)\n",
    "    vdf.to_csv(f'fold/df_valid_fold{i+1}.csv', index=False)"
   ]
  }
 ],
 "metadata": {
  "kernelspec": {
   "display_name": "pytorch",
   "language": "python",
   "name": "pytorch"
  },
  "language_info": {
   "codemirror_mode": {
    "name": "ipython",
    "version": 3
   },
   "file_extension": ".py",
   "mimetype": "text/x-python",
   "name": "python",
   "nbconvert_exporter": "python",
   "pygments_lexer": "ipython3",
   "version": "3.9.6"
  }
 },
 "nbformat": 4,
 "nbformat_minor": 5
}

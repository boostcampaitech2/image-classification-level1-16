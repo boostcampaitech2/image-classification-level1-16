{
 "cells": [
  {
   "cell_type": "code",
   "execution_count": 90,
   "id": "3c5b5019-c1b1-4d7d-ab00-1d076929b28a",
   "metadata": {},
   "outputs": [],
   "source": [
    "import numpy as np\n",
    "import pandas as pd\n",
    "from sklearn.model_selection import StratifiedKFold"
   ]
  },
  {
   "cell_type": "code",
   "execution_count": 91,
   "id": "64f7233c-eb40-484a-8c1a-9526b3cd1809",
   "metadata": {},
   "outputs": [],
   "source": [
    "df_train = pd.read_csv('fairface_label_train.csv')\n",
    "df_valid = pd.read_csv('fairface_label_val.csv')\n",
    "df = pd.concat([df_train, df_valid])"
   ]
  },
  {
   "cell_type": "code",
   "execution_count": 92,
   "id": "1ca7dda0-272f-4bfa-916a-05453c24108d",
   "metadata": {},
   "outputs": [],
   "source": [
    "df = df[df['race'] == 'East Asian']\n",
    "df = df[df.age.isin(['50-59', '20-29', '10-19', '60-69', '30-39', 'more than 70', '40-49'])]\n",
    "\n",
    "del df['race']\n",
    "del df['service_test']"
   ]
  },
  {
   "cell_type": "code",
   "execution_count": 93,
   "id": "04eea905-8b12-4be3-9d58-1679ac5abddc",
   "metadata": {},
   "outputs": [],
   "source": [
    "df_labeled = df.copy()\n",
    "\n",
    "df_labeled['gender'] = df_labeled['gender'].map({'Male':0, 'Female':1})\n",
    "df_labeled['age'] = df_labeled['age'].map({'50-59':0, '20-29':1, '10-19':2, '60-69':3, '30-39':4, 'more than 70':5, '40-49':6})\n",
    "\n",
    "def label_(row):\n",
    "    return row['gender'] + 2*row['age']\n",
    "\n",
    "df_labeled['label'] = df_labeled.apply(label_, axis=1)"
   ]
  },
  {
   "cell_type": "code",
   "execution_count": 95,
   "id": "f255248c-3bd2-446d-aa9e-843aeef1f53e",
   "metadata": {},
   "outputs": [],
   "source": [
    "t = df_labeled['label']\n",
    "\n",
    "skf = StratifiedKFold(n_splits=5, shuffle=True, random_state=24)\n",
    "\n",
    "train_dfs = []\n",
    "\n",
    "for i, (train_index, test_index) in enumerate(skf.split(np.zeros(len(t)), t)):\n",
    "    df_train = df.iloc[train_index].copy()\n",
    "    train_dfs.append(df_train)"
   ]
  },
  {
   "cell_type": "code",
   "execution_count": 97,
   "id": "40ada800-8951-4ede-bf86-993586b2bc41",
   "metadata": {},
   "outputs": [],
   "source": [
    "def label(df):\n",
    "    df['gender'] = df['gender'].map({'Male':0, 'Female':1})\n",
    "    df['age'] = df['age'].map({'50-59':1, '20-29':0, '10-19':0, '60-69':2, '30-39':1, 'more than 70':2, '40-49':1})\n",
    "    df['path'] = df['file'].apply(lambda s : '/opt/ml/input/ext_data/fairface/' + s)\n",
    "    del df['file']\n",
    "\n",
    "for df_ in train_dfs:\n",
    "    label(df_)"
   ]
  },
  {
   "cell_type": "code",
   "execution_count": 99,
   "id": "22ea1fea-7f0e-4bc3-86bc-5dbfdf34a497",
   "metadata": {},
   "outputs": [],
   "source": [
    "for i, df_ in enumerate(train_dfs):\n",
    "    df_.to_csv(f'fold/df_ff{i+1}.csv', index=False)"
   ]
  }
 ],
 "metadata": {
  "kernelspec": {
   "display_name": "pytorch",
   "language": "python",
   "name": "pytorch"
  },
  "language_info": {
   "codemirror_mode": {
    "name": "ipython",
    "version": 3
   },
   "file_extension": ".py",
   "mimetype": "text/x-python",
   "name": "python",
   "nbconvert_exporter": "python",
   "pygments_lexer": "ipython3",
   "version": "3.9.6"
  }
 },
 "nbformat": 4,
 "nbformat_minor": 5
}

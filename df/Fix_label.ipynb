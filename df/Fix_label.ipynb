{
 "cells": [
  {
   "cell_type": "code",
   "execution_count": 1,
   "id": "242b1c18-c54b-41c8-b3db-9fc49408ce7c",
   "metadata": {},
   "outputs": [],
   "source": [
    "import pandas as pd"
   ]
  },
  {
   "cell_type": "code",
   "execution_count": 11,
   "id": "39c16c90-7e20-4a16-a196-e9e497d2dbf2",
   "metadata": {},
   "outputs": [],
   "source": [
    "df_valid = pd.read_csv('valid/df_valid_20.csv')"
   ]
  },
  {
   "cell_type": "code",
   "execution_count": 12,
   "id": "caceef37-b55c-4641-85d7-0052518de317",
   "metadata": {},
   "outputs": [
    {
     "data": {
      "text/plain": [
       "array([1654, 1046])"
      ]
     },
     "execution_count": 12,
     "metadata": {},
     "output_type": "execute_result"
    }
   ],
   "source": [
    "df_valid.gender.value_counts().sort_index().to_numpy() + df_train.gender.value_counts().sort_index().to_numpy()"
   ]
  },
  {
   "cell_type": "code",
   "execution_count": 4,
   "id": "63a5ee42-8cd1-41f0-a829-acc5942dd632",
   "metadata": {},
   "outputs": [],
   "source": [
    "## male to female"
   ]
  },
  {
   "cell_type": "code",
   "execution_count": 5,
   "id": "edf3abf6-d777-4f88-bbb7-d3cd25a8bf95",
   "metadata": {},
   "outputs": [],
   "source": [
    "correction = ['001498-1_male_Asian_23', '004432_male_Asian_43', '005223_male_Asian_22']\n",
    "\n",
    "for df in [df_train, df_valid]:\n",
    "    idxs = df['path'].isin(correction)\n",
    "    df.loc[idxs, 'gender'] = 'female'"
   ]
  },
  {
   "cell_type": "code",
   "execution_count": 6,
   "id": "7434c3aa-7135-4034-af7e-a53170e8c7a8",
   "metadata": {},
   "outputs": [
    {
     "data": {
      "text/plain": [
       "array([1660, 1040])"
      ]
     },
     "execution_count": 6,
     "metadata": {},
     "output_type": "execute_result"
    }
   ],
   "source": [
    "df_valid.gender.value_counts().sort_index().to_numpy() + df_train.gender.value_counts().sort_index().to_numpy()"
   ]
  },
  {
   "cell_type": "code",
   "execution_count": null,
   "id": "98bb48cd-3fad-4006-925e-ff5f2bdd3146",
   "metadata": {},
   "outputs": [],
   "source": [
    "## female to male"
   ]
  },
  {
   "cell_type": "code",
   "execution_count": 7,
   "id": "84263f1a-929f-4399-bfe2-cb7eb9308f11",
   "metadata": {},
   "outputs": [],
   "source": [
    "correction = ['001720_female_Asian_18',\n",
    "            '006359_female_Asian_18',\n",
    "            '006360_female_Asian_18',\n",
    "            '006361_female_Asian_18',\n",
    "            '006362_female_Asian_18',\n",
    "            '006363_female_Asian_18',\n",
    "            '006364_female_Asian_18']"
   ]
  },
  {
   "cell_type": "code",
   "execution_count": 8,
   "id": "f423d3da-73c2-42e7-8b3a-e5f5531a8d68",
   "metadata": {},
   "outputs": [],
   "source": [
    "for df in [df_train, df_valid]:\n",
    "    idxs = df['path'].isin(correction)\n",
    "    df.loc[idxs, 'gender'] = 'male'"
   ]
  },
  {
   "cell_type": "code",
   "execution_count": 9,
   "id": "763a1fb6-f6c4-481a-bf56-77a8ce8f7be4",
   "metadata": {},
   "outputs": [
    {
     "data": {
      "text/plain": [
       "array([1654, 1046])"
      ]
     },
     "execution_count": 9,
     "metadata": {},
     "output_type": "execute_result"
    }
   ],
   "source": [
    "df_valid.gender.value_counts().sort_index().to_numpy() + df_train.gender.value_counts().sort_index().to_numpy()"
   ]
  },
  {
   "cell_type": "code",
   "execution_count": 10,
   "id": "039ea78b-b418-4b20-98ae-b3b4720d37b9",
   "metadata": {},
   "outputs": [],
   "source": [
    "df_valid.to_csv('valid/df_valid_20.csv', index=False)\n",
    "df_train.to_csv('train/df_train_20.csv', index=False)"
   ]
  },
  {
   "cell_type": "code",
   "execution_count": null,
   "id": "7d491986-d146-4d7c-9276-ee6cc9fb7e14",
   "metadata": {},
   "outputs": [],
   "source": []
  }
 ],
 "metadata": {
  "kernelspec": {
   "display_name": "pytorch",
   "language": "python",
   "name": "pytorch"
  },
  "language_info": {
   "codemirror_mode": {
    "name": "ipython",
    "version": 3
   },
   "file_extension": ".py",
   "mimetype": "text/x-python",
   "name": "python",
   "nbconvert_exporter": "python",
   "pygments_lexer": "ipython3",
   "version": "3.9.6"
  }
 },
 "nbformat": 4,
 "nbformat_minor": 5
}

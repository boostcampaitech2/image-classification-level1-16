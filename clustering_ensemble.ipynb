{
 "cells": [
  {
   "cell_type": "code",
   "execution_count": 9,
   "id": "23479b88-1fae-429b-938a-070a5110b27d",
   "metadata": {},
   "outputs": [],
   "source": [
    "import pandas as pd\n",
    "import numpy as np\n",
    "\n",
    "from my_modules.transform import get_transform\n",
    "from my_modules.model import MyModel\n",
    "from my_modules.dataset import ClusterTestDataset, EvalDataset\n",
    "\n",
    "import torch\n",
    "from torch.utils.data import DataLoader\n",
    "\n",
    "from sklearn.metrics import f1_score, accuracy_score\n",
    "from tqdm import tqdm\n",
    "from PIL import Image"
   ]
  },
  {
   "cell_type": "code",
   "execution_count": 17,
   "id": "f9d3d6ae-e35e-4bd9-a5f1-cae5eaaab1a7",
   "metadata": {},
   "outputs": [],
   "source": [
    "import pickle\n",
    "with open('pkl/age_pred_best.pkl', 'rb') as f:\n",
    "    age_pred_best = pickle.load(f)"
   ]
  },
  {
   "cell_type": "code",
   "execution_count": 3,
   "id": "e79788d8-f083-4b26-8bc4-bbb71003a312",
   "metadata": {},
   "outputs": [
    {
     "name": "stdout",
     "output_type": "stream",
     "text": [
      "Loaded pretrained weights for efficientnet-b0\n",
      "model ready\n"
     ]
    }
   ],
   "source": [
    "device='cuda'\n",
    "model = MyModel('efficientnet-b0').to(device)\n",
    "model.load_state_dict(torch.load('/opt/ml/code/save/cluster/log9_3.pt'))\n",
    "model.eval()\n",
    "print('model ready')"
   ]
  },
  {
   "cell_type": "code",
   "execution_count": 4,
   "id": "b2e45771-dd60-49bf-83f5-cc16e6dbe4b0",
   "metadata": {},
   "outputs": [],
   "source": [
    "# get transform\n",
    "\n",
    "transform = get_transform(augment=False, crop=350, resize=224, cutout=None)"
   ]
  },
  {
   "cell_type": "code",
   "execution_count": 5,
   "id": "217f44f9-b8e9-4066-8829-972acfa1c2ce",
   "metadata": {},
   "outputs": [],
   "source": [
    "# get datafraame\n",
    "\n",
    "df_key = pd.read_csv('/opt/ml/input/data/eval/info.csv')\n",
    "df_query = pd.read_csv('df/df_labled_valid.csv')"
   ]
  },
  {
   "cell_type": "code",
   "execution_count": 10,
   "id": "1e11625e-7038-48e8-a799-9312d51ae813",
   "metadata": {},
   "outputs": [],
   "source": [
    "# get dataset\n",
    "\n",
    "ds_key = EvalDataset(df_key, transform)\n",
    "ds_query = ClusterTestDataset(df_query, transform)"
   ]
  },
  {
   "cell_type": "code",
   "execution_count": 11,
   "id": "c900680f-537b-4249-8013-794213ac1b8c",
   "metadata": {},
   "outputs": [],
   "source": [
    "# get dataloader\n",
    "\n",
    "dataloader_key = DataLoader(ds_key, batch_size=64, shuffle=False, num_workers=3)\n",
    "dataloader_query = DataLoader(ds_query, batch_size=64, shuffle=False, num_workers=3)"
   ]
  },
  {
   "cell_type": "code",
   "execution_count": 12,
   "id": "9984d19d-d111-48bd-b7d5-010227d6aa86",
   "metadata": {},
   "outputs": [
    {
     "name": "stderr",
     "output_type": "stream",
     "text": [
      "100%|██████████| 197/197 [00:24<00:00,  8.01it/s]\n"
     ]
    }
   ],
   "source": [
    "# create keys\n",
    "\n",
    "model.create_keys(dataloader_key, device)"
   ]
  },
  {
   "cell_type": "code",
   "execution_count": 21,
   "id": "140fae3d-c62d-41d1-af6b-4f8568c15747",
   "metadata": {},
   "outputs": [
    {
     "name": "stderr",
     "output_type": "stream",
     "text": [
      "100%|██████████| 12600/12600 [07:55<00:00, 26.52it/s]\n"
     ]
    }
   ],
   "source": [
    "import os\n",
    "# ensemble prediction\n",
    "\n",
    "df = df_key\n",
    "n_neighbors = 5\n",
    "y_pred = age_pred_best\n",
    "# y_true = result['y_true']\n",
    "ensembled_y_pred = []\n",
    "\n",
    "img_path_ = '/opt/ml/input/data/eval/images'\n",
    "\n",
    "for i in tqdm(range(len(df))):\n",
    "    \n",
    "    #y_true.append(df.iloc[i]['age'])\n",
    "    \n",
    "    a = [0, 0, 0]\n",
    "    \n",
    "    image_path = os.path.join(img_path_, df['ImageID'].iloc[i])\n",
    "    img = Image.open(image_path)\n",
    "    #img = Image.open(df.iloc[i]['path'])\n",
    "    img = transform(img).unsqueeze(0).to(device)\n",
    "\n",
    "    with torch.no_grad():\n",
    "        queries = model.eff(img).cpu().numpy()\n",
    "\n",
    "    groups_idx = model.query(queries, n_neighbors)[0]\n",
    "\n",
    "    for idx in groups_idx:\n",
    "        a[y_pred[idx]] += 1\n",
    "    \n",
    "    ensembled_y_pred.append(np.argmax(a))\n",
    "\n",
    "# f1 = f1_score(y_true, ensembled_y_pred, average='macro')\n",
    "# acc = accuracy_score(y_true, ensembled_y_pred)\n",
    "\n",
    "# print(f'acc:{acc:.4f}, f1:{f1:.4f}')"
   ]
  },
  {
   "cell_type": "code",
   "execution_count": 8,
   "id": "78e76e93-cb64-4c7f-8142-cf3ae5c63697",
   "metadata": {},
   "outputs": [],
   "source": [
    "# Key / Query"
   ]
  },
  {
   "cell_type": "code",
   "execution_count": 22,
   "id": "58384baf-ef0d-4e84-af0d-c2f035042a7f",
   "metadata": {},
   "outputs": [],
   "source": [
    "with open('pkl/ensembled_age5.pkl', 'wb') as f:\n",
    "    pickle.dump(ensembled_y_pred, f)"
   ]
  },
  {
   "cell_type": "code",
   "execution_count": 27,
   "id": "f3abf4a1-1115-41eb-bc25-309b1a34f7fb",
   "metadata": {},
   "outputs": [
    {
     "name": "stderr",
     "output_type": "stream",
     "text": [
      "100%|██████████| 15120/15120 [04:53<00:00, 51.57it/s]"
     ]
    },
    {
     "name": "stdout",
     "output_type": "stream",
     "text": [
      "acc:0.4329, f1:0.3266\n"
     ]
    },
    {
     "name": "stderr",
     "output_type": "stream",
     "text": [
      "\n"
     ]
    }
   ],
   "source": [
    "# ensemble prediction\n",
    "\n",
    "df = df_key\n",
    "n_neighbors = 5\n",
    "weights = 1.0 / (df_key.age.value_counts().sort_index().to_numpy())**0.25\n",
    "y_pred = []\n",
    "y_true = []\n",
    "\n",
    "for i in tqdm(range(len(df))):\n",
    "    \n",
    "    y_true.append(df.iloc[i]['age'])\n",
    "    \n",
    "    a = [0, 0, 0]\n",
    "    \n",
    "    img = Image.open(df.iloc[i]['path'])\n",
    "    img = transform(img).unsqueeze(0).to(device)\n",
    "\n",
    "    with torch.no_grad():\n",
    "        queries = model.eff(img).cpu().numpy()\n",
    "\n",
    "    groups_idx = model.query(queries, n_neighbors)[0]\n",
    "\n",
    "    for idx in groups_idx:\n",
    "        pred_idx = df_key['age'].iloc[idx]\n",
    "        a[pred_idx] += 1\n",
    "\n",
    "    y_pred.append(np.argmax(a))\n",
    "\n",
    "f1 = f1_score(y_true, y_pred, average='macro')\n",
    "acc = accuracy_score(y_true, y_pred)\n",
    "\n",
    "print(f'acc:{acc:.4f}, f1:{f1:.4f}')"
   ]
  },
  {
   "cell_type": "code",
   "execution_count": null,
   "id": "a34f302a-02e3-4349-a06d-e627c13a458d",
   "metadata": {},
   "outputs": [],
   "source": [
    "# fig, axes = plt.subplots(1, n + 1, figsize=(15, 5))\n",
    "# axes[0].imshow(img_pil)\n",
    "# axes[0].axis('off')\n",
    "# axes[0].set_title('query')\n",
    "\n",
    "# for ax, i in zip(axes[1:], groups_idx):\n",
    "#     img = Image.open(df_key.iloc[i]['path'])\n",
    "#     ax.imshow(img)\n",
    "#     ax.axis('off')\n",
    "#     ax.set_title(df_key.iloc[i]['gender'])\n",
    "\n",
    "# plt.show()"
   ]
  }
 ],
 "metadata": {
  "kernelspec": {
   "display_name": "pytorch",
   "language": "python",
   "name": "pytorch"
  },
  "language_info": {
   "codemirror_mode": {
    "name": "ipython",
    "version": 3
   },
   "file_extension": ".py",
   "mimetype": "text/x-python",
   "name": "python",
   "nbconvert_exporter": "python",
   "pygments_lexer": "ipython3",
   "version": "3.9.6"
  }
 },
 "nbformat": 4,
 "nbformat_minor": 5
}

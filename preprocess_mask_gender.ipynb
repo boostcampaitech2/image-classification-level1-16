{
 "cells": [
  {
   "cell_type": "code",
   "execution_count": 1,
   "id": "f0919131-f486-42c7-b9f1-d057a47b976e",
   "metadata": {},
   "outputs": [],
   "source": [
    "import os\n",
    "import pandas as pd\n",
    "import numpy as np\n",
    "from torch.utils.data import Dataset\n",
    "from sklearn.model_selection import train_test_split\n",
    "from torchvision import transforms"
   ]
  },
  {
   "cell_type": "code",
   "execution_count": 2,
   "id": "9cd822d1-18bd-4243-bb41-b25b78cf6e0f",
   "metadata": {},
   "outputs": [],
   "source": [
    "train_data_path = '/opt/ml/code/df/train/df_train_15.csv'\n",
    "valid_data_path = '/opt/ml/code/df/valid/df_valid_15.csv'"
   ]
  },
  {
   "cell_type": "code",
   "execution_count": 3,
   "id": "605f01a3-ce58-471e-a2e8-32b04bed932b",
   "metadata": {},
   "outputs": [],
   "source": [
    "df_train = pd.read_csv(train_data_path)\n",
    "df_valid = pd.read_csv(valid_data_path)"
   ]
  },
  {
   "cell_type": "code",
   "execution_count": null,
   "id": "d84bb47d-e080-41b9-bbf3-460a544cae1e",
   "metadata": {},
   "outputs": [],
   "source": [
    "def preprocess(df):\n",
    "    "
   ]
  },
  {
   "cell_type": "code",
   "execution_count": 6,
   "id": "38b95ed7-fcaa-411f-8f7b-9d4de8ff1595",
   "metadata": {},
   "outputs": [],
   "source": [
    "del df['race']\n",
    "del df['id']\n",
    "del df['age']\n",
    "df['gender'] = df['gender'].map({'male':0, 'female':1})"
   ]
  },
  {
   "cell_type": "code",
   "execution_count": 7,
   "id": "56b727e8-e5e1-4f88-b42d-7c0df871900f",
   "metadata": {},
   "outputs": [
    {
     "data": {
      "text/html": [
       "<div>\n",
       "<style scoped>\n",
       "    .dataframe tbody tr th:only-of-type {\n",
       "        vertical-align: middle;\n",
       "    }\n",
       "\n",
       "    .dataframe tbody tr th {\n",
       "        vertical-align: top;\n",
       "    }\n",
       "\n",
       "    .dataframe thead th {\n",
       "        text-align: right;\n",
       "    }\n",
       "</style>\n",
       "<table border=\"1\" class=\"dataframe\">\n",
       "  <thead>\n",
       "    <tr style=\"text-align: right;\">\n",
       "      <th></th>\n",
       "      <th>gender</th>\n",
       "      <th>path</th>\n",
       "    </tr>\n",
       "  </thead>\n",
       "  <tbody>\n",
       "    <tr>\n",
       "      <th>0</th>\n",
       "      <td>1</td>\n",
       "      <td>000001_female_Asian_45</td>\n",
       "    </tr>\n",
       "    <tr>\n",
       "      <th>1</th>\n",
       "      <td>1</td>\n",
       "      <td>000002_female_Asian_52</td>\n",
       "    </tr>\n",
       "    <tr>\n",
       "      <th>2</th>\n",
       "      <td>0</td>\n",
       "      <td>000004_male_Asian_54</td>\n",
       "    </tr>\n",
       "    <tr>\n",
       "      <th>3</th>\n",
       "      <td>1</td>\n",
       "      <td>000005_female_Asian_58</td>\n",
       "    </tr>\n",
       "    <tr>\n",
       "      <th>4</th>\n",
       "      <td>1</td>\n",
       "      <td>000006_female_Asian_59</td>\n",
       "    </tr>\n",
       "    <tr>\n",
       "      <th>...</th>\n",
       "      <td>...</td>\n",
       "      <td>...</td>\n",
       "    </tr>\n",
       "    <tr>\n",
       "      <th>2695</th>\n",
       "      <td>0</td>\n",
       "      <td>006954_male_Asian_19</td>\n",
       "    </tr>\n",
       "    <tr>\n",
       "      <th>2696</th>\n",
       "      <td>0</td>\n",
       "      <td>006955_male_Asian_19</td>\n",
       "    </tr>\n",
       "    <tr>\n",
       "      <th>2697</th>\n",
       "      <td>0</td>\n",
       "      <td>006956_male_Asian_19</td>\n",
       "    </tr>\n",
       "    <tr>\n",
       "      <th>2698</th>\n",
       "      <td>0</td>\n",
       "      <td>006957_male_Asian_20</td>\n",
       "    </tr>\n",
       "    <tr>\n",
       "      <th>2699</th>\n",
       "      <td>0</td>\n",
       "      <td>006959_male_Asian_19</td>\n",
       "    </tr>\n",
       "  </tbody>\n",
       "</table>\n",
       "<p>2700 rows × 2 columns</p>\n",
       "</div>"
      ],
      "text/plain": [
       "      gender                    path\n",
       "0          1  000001_female_Asian_45\n",
       "1          1  000002_female_Asian_52\n",
       "2          0    000004_male_Asian_54\n",
       "3          1  000005_female_Asian_58\n",
       "4          1  000006_female_Asian_59\n",
       "...      ...                     ...\n",
       "2695       0    006954_male_Asian_19\n",
       "2696       0    006955_male_Asian_19\n",
       "2697       0    006956_male_Asian_19\n",
       "2698       0    006957_male_Asian_20\n",
       "2699       0    006959_male_Asian_19\n",
       "\n",
       "[2700 rows x 2 columns]"
      ]
     },
     "execution_count": 7,
     "metadata": {},
     "output_type": "execute_result"
    }
   ],
   "source": [
    "df"
   ]
  },
  {
   "cell_type": "code",
   "execution_count": 8,
   "id": "0a81f480-a3b6-40d8-b24a-e0ca6587276c",
   "metadata": {},
   "outputs": [],
   "source": [
    "df['mask'] = [['incorrect_mask', 'mask1', 'mask2', 'mask3', 'mask4', 'mask5', 'normal'] for _ in range(len(df))]"
   ]
  },
  {
   "cell_type": "code",
   "execution_count": 9,
   "id": "f2b1a7b0-6aeb-4d86-9193-eb67f585743f",
   "metadata": {},
   "outputs": [],
   "source": [
    "df_train, df_valid = train_test_split(df, test_size=0.25, random_state=42, stratify=df.gender)"
   ]
  },
  {
   "cell_type": "code",
   "execution_count": 10,
   "id": "ea433087-f088-4b69-b859-b407be43595d",
   "metadata": {},
   "outputs": [],
   "source": [
    "def generate_mask_field(df):\n",
    "    \n",
    "    def _get_extension(row):\n",
    "        for f in os.listdir(os.path.join(train_data_path, 'images', row.path)):\n",
    "            if f.startswith(row['mask']):\n",
    "                return os.path.join(train_data_path, 'images', row.path, f)\n",
    "        raise FileNotFoundError\n",
    "\n",
    "    def _label(row):\n",
    "        return row['gender'] + 2*row['mask']\n",
    "    \n",
    "    mask_map = {'incorrect_mask': 1, 'mask1': 0, 'mask2': 0, 'mask3': 0,\n",
    "                'mask4': 0, 'mask5': 0, 'normal': 2}    \n",
    "\n",
    "    df = df.explode('mask')\n",
    "    df['path'] = df.apply(_get_extension, axis=1)\n",
    "    df['mask'] = df['mask'].map(mask_map)\n",
    "    df['label'] = df.apply(_label, axis=1)\n",
    "\n",
    "    return df"
   ]
  },
  {
   "cell_type": "code",
   "execution_count": 48,
   "id": "8b92aec5-38bb-401b-9c0b-34ad4e731a75",
   "metadata": {},
   "outputs": [],
   "source": [
    "df.to_csv('df_all.csv', index=False)"
   ]
  },
  {
   "cell_type": "code",
   "execution_count": 11,
   "id": "4dd5b0dc-2fff-4f4e-a5db-401665909b16",
   "metadata": {},
   "outputs": [],
   "source": [
    "df_train = generate_mask_field(df_train)\n",
    "df_valid = generate_mask_field(df_valid)"
   ]
  },
  {
   "cell_type": "code",
   "execution_count": 13,
   "id": "89822ef5-5f56-4e83-81c2-4b875592a9a2",
   "metadata": {},
   "outputs": [],
   "source": [
    "df_train.to_csv('df/df_mask_gender_train.csv', index=False)\n",
    "df_valid.to_csv('df/df_mask_gender_valid.csv', index=False)"
   ]
  }
 ],
 "metadata": {
  "kernelspec": {
   "display_name": "pytorch",
   "language": "python",
   "name": "pytorch"
  },
  "language_info": {
   "codemirror_mode": {
    "name": "ipython",
    "version": 3
   },
   "file_extension": ".py",
   "mimetype": "text/x-python",
   "name": "python",
   "nbconvert_exporter": "python",
   "pygments_lexer": "ipython3",
   "version": "3.9.6"
  }
 },
 "nbformat": 4,
 "nbformat_minor": 5
}

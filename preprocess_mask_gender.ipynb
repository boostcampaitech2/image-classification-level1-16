{
 "cells": [
  {
   "cell_type": "code",
   "execution_count": 18,
   "id": "f0919131-f486-42c7-b9f1-d057a47b976e",
   "metadata": {},
   "outputs": [],
   "source": [
    "import os\n",
    "import pandas as pd\n",
    "import numpy as np\n",
    "from torch.utils.data import Dataset\n",
    "from sklearn.model_selection import train_test_split\n",
    "from torchvision import transforms"
   ]
  },
  {
   "cell_type": "code",
   "execution_count": 38,
   "id": "9cd822d1-18bd-4243-bb41-b25b78cf6e0f",
   "metadata": {},
   "outputs": [],
   "source": [
    "split_ratio = 30\n",
    "\n",
    "train_data_path = f'/opt/ml/code/df/train/df_train_{split_ratio}.csv'\n",
    "valid_data_path = f'/opt/ml/code/df/valid/df_valid_{split_ratio}.csv'\n",
    "image_path = '/opt/ml/input/data/train/images'"
   ]
  },
  {
   "cell_type": "code",
   "execution_count": 39,
   "id": "605f01a3-ce58-471e-a2e8-32b04bed932b",
   "metadata": {},
   "outputs": [],
   "source": [
    "df_train = pd.read_csv(train_data_path)\n",
    "df_valid = pd.read_csv(valid_data_path)"
   ]
  },
  {
   "cell_type": "code",
   "execution_count": 40,
   "id": "16bde338-79ff-42d0-a154-b9c4505801cf",
   "metadata": {},
   "outputs": [],
   "source": [
    "def generate_mask_field(df):\n",
    "\n",
    "    def _get_extension(row):\n",
    "        for f in os.listdir(os.path.join(image_path, row.path)):\n",
    "            if f.startswith(row['mask']):\n",
    "                return os.path.join(image_path, row.path, f)\n",
    "        raise FileNotFoundError\n",
    "\n",
    "    def _label(row):\n",
    "        return row['gender'] + 2*row['mask']\n",
    "\n",
    "    mask_map = {'incorrect_mask': 1, 'mask1': 0, 'mask2': 0, 'mask3': 0,\n",
    "                'mask4': 0, 'mask5': 0, 'normal': 2}    \n",
    "\n",
    "    df = df.explode('mask')\n",
    "    df['path'] = df.apply(_get_extension, axis=1)\n",
    "    df['mask'] = df['mask'].map(mask_map)\n",
    "    df['label'] = df.apply(_label, axis=1)\n",
    "\n",
    "    return df\n",
    "\n",
    "def preprocess(df):\n",
    "    del df['race']\n",
    "    del df['id']\n",
    "    del df['age']\n",
    "    df['gender'] = df['gender'].map({'male':0, 'female':1})\n",
    "    df['mask'] = [['incorrect_mask', 'mask1', 'mask2', 'mask3', 'mask4', 'mask5', 'normal'] for _ in range(len(df))]\n",
    "    df = generate_mask_field(df)\n",
    "    return df"
   ]
  },
  {
   "cell_type": "code",
   "execution_count": 41,
   "id": "ea433087-f088-4b69-b859-b407be43595d",
   "metadata": {},
   "outputs": [],
   "source": [
    "df_train = preprocess(df_train)\n",
    "df_valid = preprocess(df_valid)"
   ]
  },
  {
   "cell_type": "code",
   "execution_count": 43,
   "id": "89822ef5-5f56-4e83-81c2-4b875592a9a2",
   "metadata": {},
   "outputs": [],
   "source": [
    "df_train.to_csv(f'df/df_mask_gender_train_{split_ratio}.csv', index=False)\n",
    "df_valid.to_csv(f'df/df_mask_gender_valid_{split_ratio}.csv', index=False)"
   ]
  }
 ],
 "metadata": {
  "kernelspec": {
   "display_name": "pytorch",
   "language": "python",
   "name": "pytorch"
  },
  "language_info": {
   "codemirror_mode": {
    "name": "ipython",
    "version": 3
   },
   "file_extension": ".py",
   "mimetype": "text/x-python",
   "name": "python",
   "nbconvert_exporter": "python",
   "pygments_lexer": "ipython3",
   "version": "3.9.6"
  }
 },
 "nbformat": 4,
 "nbformat_minor": 5
}

{
 "cells": [
  {
   "cell_type": "code",
   "execution_count": 1,
   "id": "32f18d99-4809-4623-a935-af91586c177b",
   "metadata": {},
   "outputs": [],
   "source": [
    "import pandas as pd"
   ]
  },
  {
   "cell_type": "code",
   "execution_count": 5,
   "id": "d3d7f237-567b-46b5-aedd-5d98a704af9d",
   "metadata": {},
   "outputs": [],
   "source": [
    "df_ff_path = '/opt/ml/code/df/df_ff.csv'\n",
    "df_train_path = '/opt/ml/code/df/df_age_train_20.csv'\n",
    "df_valid_path = '/opt/ml/code/df/df_age_valid_20.csv'"
   ]
  },
  {
   "cell_type": "code",
   "execution_count": 6,
   "id": "497c79b2-a756-4ad6-8ba5-1eb0cf2d40c7",
   "metadata": {},
   "outputs": [],
   "source": [
    "df_ff = pd.read_csv(df_ff_path)\n",
    "df_train = pd.read_csv(df_train_path)\n",
    "df_valid = pd.read_csv(df_valid_path)"
   ]
  },
  {
   "cell_type": "code",
   "execution_count": 8,
   "id": "1455f356-8a9e-4b3c-8b30-cbed7601a254",
   "metadata": {},
   "outputs": [],
   "source": [
    "def label(row):\n",
    "    return row['age'] + 3*row['gender']"
   ]
  },
  {
   "cell_type": "code",
   "execution_count": 9,
   "id": "64112a24-2624-4819-8eff-2275d5aa4781",
   "metadata": {},
   "outputs": [],
   "source": [
    "df_ff['label'] = df_ff.apply(label, axis=1)\n",
    "df_train['label'] = df_train.apply(label, axis=1)\n",
    "df_valid['label'] = df_valid.apply(label, axis=1)"
   ]
  },
  {
   "cell_type": "code",
   "execution_count": 11,
   "id": "ae772181-6e4a-48bd-87ee-918ecd0b6dfb",
   "metadata": {},
   "outputs": [],
   "source": [
    "df_ff.to_csv('df_age_gender_train_ff.csv', index=False)\n",
    "df_train.to_csv('df_age_gender_train.csv', index=False)\n",
    "df_valid.to_csv('df_age_gender_valid.csv', index=False)"
   ]
  }
 ],
 "metadata": {
  "kernelspec": {
   "display_name": "pytorch",
   "language": "python",
   "name": "pytorch"
  },
  "language_info": {
   "codemirror_mode": {
    "name": "ipython",
    "version": 3
   },
   "file_extension": ".py",
   "mimetype": "text/x-python",
   "name": "python",
   "nbconvert_exporter": "python",
   "pygments_lexer": "ipython3",
   "version": "3.9.6"
  }
 },
 "nbformat": 4,
 "nbformat_minor": 5
}

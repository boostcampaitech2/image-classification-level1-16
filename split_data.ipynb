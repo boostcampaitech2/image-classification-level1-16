{
 "cells": [
  {
   "cell_type": "code",
   "execution_count": 1,
   "id": "f0919131-f486-42c7-b9f1-d057a47b976e",
   "metadata": {},
   "outputs": [],
   "source": [
    "import os\n",
    "import pandas as pd\n",
    "import numpy as np\n",
    "from torch.utils.data import Dataset\n",
    "from sklearn.model_selection import train_test_split\n",
    "from torchvision import transforms"
   ]
  },
  {
   "cell_type": "code",
   "execution_count": 2,
   "id": "cc305a77-9ab7-4f07-965c-c22e9e50e13c",
   "metadata": {},
   "outputs": [],
   "source": [
    "train_data_path = '/opt/ml/input/data/train'\n",
    "df_original = pd.read_csv(os.path.join(train_data_path, 'train.csv'))\n",
    "df = df_original.copy()"
   ]
  },
  {
   "cell_type": "code",
   "execution_count": 3,
   "id": "38b95ed7-fcaa-411f-8f7b-9d4de8ff1595",
   "metadata": {},
   "outputs": [],
   "source": [
    "del df['race']\n",
    "del df['id']\n",
    "df['gender'] = df['gender'].map({'male':0, 'female':1})\n",
    "bins = [0, 29, 57, 59, 100]\n",
    "labels = [0, 1, 2, 3]\n",
    "df['age'] = pd.cut(df['age'], bins=bins, labels=labels)"
   ]
  },
  {
   "cell_type": "code",
   "execution_count": 4,
   "id": "0a81f480-a3b6-40d8-b24a-e0ca6587276c",
   "metadata": {},
   "outputs": [],
   "source": [
    "def label(row):\n",
    "    return row['age'] + 4*row['gender']\n",
    "\n",
    "df['label'] = df.apply(label, axis=1)"
   ]
  },
  {
   "cell_type": "code",
   "execution_count": 5,
   "id": "f2b1a7b0-6aeb-4d86-9193-eb67f585743f",
   "metadata": {},
   "outputs": [],
   "source": [
    "df_train, df_valid = train_test_split(df_original, test_size=0.30, random_state=42, stratify=df.label)"
   ]
  },
  {
   "cell_type": "code",
   "execution_count": 6,
   "id": "08d1d6ef-7b53-430b-b937-0ff99e267013",
   "metadata": {},
   "outputs": [],
   "source": [
    "df_train.to_csv('df/train/df_train_30.csv', index=False)\n",
    "df_valid.to_csv('df/valid/df_valid_30.csv', index=False)"
   ]
  }
 ],
 "metadata": {
  "kernelspec": {
   "display_name": "pytorch",
   "language": "python",
   "name": "pytorch"
  },
  "language_info": {
   "codemirror_mode": {
    "name": "ipython",
    "version": 3
   },
   "file_extension": ".py",
   "mimetype": "text/x-python",
   "name": "python",
   "nbconvert_exporter": "python",
   "pygments_lexer": "ipython3",
   "version": "3.9.6"
  }
 },
 "nbformat": 4,
 "nbformat_minor": 5
}
